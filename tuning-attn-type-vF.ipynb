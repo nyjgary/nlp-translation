{
 "cells": [
  {
   "cell_type": "code",
   "execution_count": 1,
   "metadata": {},
   "outputs": [],
   "source": [
    "import numpy as np \n",
    "import pandas as pd \n",
    "from data_processing import generate_vocab, process_data, create_dataloaders\n",
    "from model import get_pretrained_emb, EncoderRNN, DecoderRNN, DecoderAttnRNN, EncoderDecoder, EncoderDecoderAttn\n",
    "from train_eval import train_and_eval, count_parameters, summarize_results, load_experiment_log, \\\n",
    "    plot_single_learning_curve, plot_multiple_learning_curves\n",
    "import pickle as pkl \n",
    "import torch\n",
    "device = torch.device(\"cuda\" if torch.cuda.is_available() else \"cpu\")"
   ]
  },
  {
   "cell_type": "code",
   "execution_count": 2,
   "metadata": {},
   "outputs": [],
   "source": [
    "# params required for generating data loaders \n",
    "\n",
    "SRC_LANG = 'vi'\n",
    "TARG_LANG = 'en'\n",
    "\n",
    "SRC_MAX_SENTENCE_LEN = 10\n",
    "TARG_MAX_SENTENCE_LEN = 10\n",
    "SRC_VOCAB_SIZE = 30000 \n",
    "TARG_VOCAB_SIZE = 30000 \n",
    "\n",
    "BATCH_SIZE = 64 "
   ]
  },
  {
   "cell_type": "code",
   "execution_count": 3,
   "metadata": {},
   "outputs": [],
   "source": [
    "# takes a long time to process, save to pickle for reimport in future \n",
    "# vocab = generate_vocab(SRC_LANG, TARG_LANG, SRC_VOCAB_SIZE, TARG_VOCAB_SIZE)\n",
    "# vocab_filename = \"{}-{}-vocab.p\".format(SRC_LANG, TARG_LANG)\n",
    "# pkl.dump(vocab, open(vocab_filename, \"wb\"))"
   ]
  },
  {
   "cell_type": "code",
   "execution_count": 4,
   "metadata": {},
   "outputs": [],
   "source": [
    "# reload from pickle \n",
    "vocab_filename = \"{}-{}-vocab.p\".format(SRC_LANG, TARG_LANG)\n",
    "vocab = pkl.load(open(vocab_filename, \"rb\"))\n",
    "data = process_data(SRC_LANG, TARG_LANG, SRC_MAX_SENTENCE_LEN, TARG_MAX_SENTENCE_LEN, vocab, filter_long=False)\n",
    "data_minibatch = process_data(SRC_LANG, TARG_LANG, SRC_MAX_SENTENCE_LEN, TARG_MAX_SENTENCE_LEN, vocab, sample_limit=BATCH_SIZE, filter_long=False) \n",
    "data_minitrain = process_data(SRC_LANG, TARG_LANG, SRC_MAX_SENTENCE_LEN, TARG_MAX_SENTENCE_LEN, vocab, sample_limit=1000, filter_long=False)"
   ]
  },
  {
   "cell_type": "code",
   "execution_count": 5,
   "metadata": {},
   "outputs": [],
   "source": [
    "# create dataloaders \n",
    "loaders_full = create_dataloaders(data, SRC_MAX_SENTENCE_LEN, TARG_MAX_SENTENCE_LEN, BATCH_SIZE)\n",
    "loaders_minibatch = create_dataloaders(data_minibatch, SRC_MAX_SENTENCE_LEN, TARG_MAX_SENTENCE_LEN, BATCH_SIZE)\n",
    "loaders_minitrain = create_dataloaders(data_minitrain, SRC_MAX_SENTENCE_LEN, TARG_MAX_SENTENCE_LEN, BATCH_SIZE)"
   ]
  },
  {
   "cell_type": "code",
   "execution_count": 6,
   "metadata": {},
   "outputs": [],
   "source": [
    "# model architecture params \n",
    "NETWORK_TYPE = 'rnn'\n",
    "RNN_CELL_TYPE = 'gru'\n",
    "NUM_LAYERS = 2 \n",
    "ENC_HIDDEN_DIM = 512\n",
    "DEC_HIDDEN_DIM = 2 * ENC_HIDDEN_DIM \n",
    "TEACHER_FORCING_RATIO = 1\n",
    "CLIP_GRAD_MAX_NORM = 1\n",
    "ENC_DROPOUT = 0\n",
    "DEC_DROPOUT = 0\n",
    "ATTENTION_TYPE = 'additive'\n",
    "\n",
    "# training params  \n",
    "NUM_EPOCHS = 5\n",
    "LR = 0.0003 # 0.0005\n",
    "OPTIMIZER = 'Adam'\n",
    "LAZY_TRAIN = False\n",
    "\n",
    "# name the model and experiment \n",
    "EXPERIMENT_NAME = 'hyperparameter_tuning_attention_type'\n",
    "if NETWORK_TYPE == 'rnn': \n",
    "    MODEL_NAME = '{}-rnn-{}-attn'.format(SRC_LANG, ATTENTION_TYPE)\n",
    "elif NETWORK_TYPE == 'cnn': \n",
    "    MODEL_NAME = '{}-cnn'.format(SRC_LANG)"
   ]
  },
  {
   "cell_type": "code",
   "execution_count": 7,
   "metadata": {},
   "outputs": [],
   "source": [
    "# store as dict to save to results later \n",
    "params = {'experiment_name': EXPERIMENT_NAME,'model_name': MODEL_NAME, 'src_lang': SRC_LANG, 'targ_lang': TARG_LANG, \n",
    "          'rnn_cell_type': RNN_CELL_TYPE, 'src_max_sentence_len': SRC_MAX_SENTENCE_LEN, \n",
    "          'targ_max_sentence_len': TARG_MAX_SENTENCE_LEN, 'src_vocab_size': SRC_VOCAB_SIZE, \n",
    "          'targ_vocab_size': TARG_VOCAB_SIZE, 'num_layers': NUM_LAYERS, 'enc_hidden_dim': ENC_HIDDEN_DIM, \n",
    "          'dec_hidden_dim': DEC_HIDDEN_DIM, 'teacher_forcing_ratio': TEACHER_FORCING_RATIO, \n",
    "          'clip_grad_max_norm': CLIP_GRAD_MAX_NORM, 'enc_dropout': ENC_DROPOUT, 'dec_dropout': DEC_DROPOUT, \n",
    "          'attention_type': ATTENTION_TYPE, 'batch_size': BATCH_SIZE, 'num_epochs': NUM_EPOCHS, \n",
    "          'learning_rate': LR, 'optimizer': OPTIMIZER, 'lazy_train': LAZY_TRAIN} "
   ]
  },
  {
   "cell_type": "code",
   "execution_count": 12,
   "metadata": {},
   "outputs": [
    {
     "name": "stdout",
     "output_type": "stream",
     "text": [
      "Training with attention_type = additive\n",
      "Epoch: 0.00, Train Loss: 0.00, Val Loss: 10.25, Train BLEU: 0.00, Val BLEU: 0.06, Minutes Elapsed: 0.10\n",
      "Sampling from val predictions...\n",
      "Source: và câu trả_lời đầu_tiên của tôi là : \" chị\n",
      "Reference: and the first answer is , &quot; i don\n",
      "Model: <SOS> and and of the the the the the the\n",
      "\n",
      "Source: những chúng mang hai_nghĩa khác_biệt . <EOS> <PAD> <PAD> <PAD>\n",
      "Reference: but they mean two different things . <EOS> <PAD>\n",
      "Model: <SOS> and and a the the the the the the\n",
      "\n",
      "Source: và thật_sự , kết_luận đưa ra từ nghiên_cứu này là\n",
      "Reference: so actually , the conclusion from this research is\n",
      "Model: <SOS> and and the the the the the the the\n",
      "\n"
     ]
    },
    {
     "name": "stderr",
     "output_type": "stream",
     "text": [
      "WARNING:root:That's 100 lines that end in a tokenized period ('.')\n",
      "WARNING:root:It looks like you forgot to detokenize your test data, which may hurt your score.\n",
      "WARNING:root:If you insist your data is detokenized, or don't care, you can suppress this message with '--force'.\n"
     ]
    },
    {
     "name": "stdout",
     "output_type": "stream",
     "text": [
      "Epoch: 0.24, Train Loss: 0.00, Val Loss: 6.01, Train BLEU: 0.00, Val BLEU: 1.75, Minutes Elapsed: 8.69\n",
      "Sampling from val predictions...\n",
      "Source: đó có nghĩa_là nó có_thể tự thực_hiện được . <EOS>\n",
      "Reference: that means they can be <UNK> . <EOS> <PAD>\n",
      "Model: <SOS> it &apos;s is a a . . . .\n",
      "\n",
      "Source: cho đến tháng ba , 2011 , tôi làm thợ\n",
      "Reference: before march , 2011 , i was a photographic\n",
      "Model: <SOS> but , , , , , , , ,\n",
      "\n",
      "Source: đứa trẻ này 8 tuổi . <EOS> <PAD> <PAD> <PAD>\n",
      "Reference: this young child is eight years old . <EOS>\n",
      "Model: <SOS> it &apos;s . . . . . <EOS> <EOS>\n",
      "\n"
     ]
    },
    {
     "name": "stderr",
     "output_type": "stream",
     "text": [
      "WARNING:root:That's 100 lines that end in a tokenized period ('.')\n",
      "WARNING:root:It looks like you forgot to detokenize your test data, which may hurt your score.\n",
      "WARNING:root:If you insist your data is detokenized, or don't care, you can suppress this message with '--force'.\n"
     ]
    },
    {
     "name": "stdout",
     "output_type": "stream",
     "text": [
      "Epoch: 0.48, Train Loss: 0.00, Val Loss: 5.36, Train BLEU: 0.00, Val BLEU: 4.93, Minutes Elapsed: 17.48\n",
      "Sampling from val predictions...\n",
      "Source: vậy_là chúng_ta có nhựa_đường trộn với những vụn thép rất\n",
      "Reference: so then you have asphalt with very small pieces\n",
      "Model: <SOS> we we we we to the the of the\n",
      "\n",
      "Source: một_số nơi tôi coi_như nhà mình . <EOS> <PAD> <PAD>\n",
      "Reference: some i even considered like my second home .\n",
      "Model: <SOS> my , i me . . . . .\n",
      "\n",
      "Source: nhiếp_ảnh là niềm đam_mê của tôi kể từ khi tôi\n",
      "Reference: photography has been my passion ever since i was\n",
      "Model: <SOS> the is is my my i i i i\n",
      "\n"
     ]
    },
    {
     "name": "stderr",
     "output_type": "stream",
     "text": [
      "WARNING:root:That's 100 lines that end in a tokenized period ('.')\n",
      "WARNING:root:It looks like you forgot to detokenize your test data, which may hurt your score.\n",
      "WARNING:root:If you insist your data is detokenized, or don't care, you can suppress this message with '--force'.\n"
     ]
    },
    {
     "name": "stdout",
     "output_type": "stream",
     "text": [
      "Epoch: 0.72, Train Loss: 0.00, Val Loss: 4.97, Train BLEU: 0.00, Val BLEU: 8.10, Minutes Elapsed: 26.53\n",
      "Sampling from val predictions...\n",
      "Source: cuối_cùng thì sáng_kiến của chúng_tôi cũng đã được tiếp_nhận và\n",
      "Reference: eventually , our initiative was adopted and successful .\n",
      "Model: <SOS> the the the the is the and and are\n",
      "\n",
      "Source: <UNK> tin_tưởng tôi , như một nhà_văn và một phụ_nữ\n",
      "Reference: <UNK> believed in me , as a writer and\n",
      "Model: <SOS> my <UNK> , , , a a a ,\n",
      "\n",
      "Source: bấy_giờ , tất_cả những hình_ảnh này đã bị nước làm\n",
      "Reference: now , all these photos had been damaged by\n",
      "Model: <SOS> now , the are all are the to to\n",
      "\n"
     ]
    },
    {
     "name": "stderr",
     "output_type": "stream",
     "text": [
      "WARNING:root:That's 100 lines that end in a tokenized period ('.')\n",
      "WARNING:root:It looks like you forgot to detokenize your test data, which may hurt your score.\n",
      "WARNING:root:If you insist your data is detokenized, or don't care, you can suppress this message with '--force'.\n"
     ]
    },
    {
     "name": "stdout",
     "output_type": "stream",
     "text": [
      "Epoch: 0.96, Train Loss: 0.00, Val Loss: 4.74, Train BLEU: 0.00, Val BLEU: 8.58, Minutes Elapsed: 35.59\n",
      "Sampling from val predictions...\n",
      "Source: câu_chuyện bắt_đầu khi tôi đến thành_phố new_york để tham_gia vào\n",
      "Reference: my story begins when i was in new york\n",
      "Model: <SOS> i i i i i was to to to\n",
      "\n",
      "Source: một slide như thế này , không_những nhàm_chán mà_còn phụ_thuộc\n",
      "Reference: a slide like this is not only boring ,\n",
      "Model: <SOS> a a of , , , , , ,\n",
      "\n",
      "Source: các chiến_binh masai người bảo_vệ cộng_đồng chúng_tôi và gia_súc ,\n",
      "Reference: the <UNK> are the warriors who protect our community\n",
      "Model: <SOS> the are , , in and and and and\n",
      "\n"
     ]
    },
    {
     "name": "stderr",
     "output_type": "stream",
     "text": [
      "WARNING:root:That's 100 lines that end in a tokenized period ('.')\n",
      "WARNING:root:It looks like you forgot to detokenize your test data, which may hurt your score.\n",
      "WARNING:root:If you insist your data is detokenized, or don't care, you can suppress this message with '--force'.\n"
     ]
    },
    {
     "name": "stdout",
     "output_type": "stream",
     "text": [
      "Epoch: 1.00, Train Loss: 0.00, Val Loss: 4.74, Train BLEU: 0.00, Val BLEU: 8.76, Minutes Elapsed: 37.17\n",
      "Sampling from val predictions...\n",
      "Source: tôi sống ở vùng trung nam . <EOS> <PAD> <PAD>\n",
      "Reference: i live in south central . <EOS> <PAD> <PAD>\n",
      "Model: <SOS> i &apos;m in in in the . <EOS> <EOS>\n",
      "\n",
      "Source: không_ai khởi_đầu một công_ty một_mình . không_ai cả . <EOS>\n",
      "Reference: nobody started a company alone . no one .\n",
      "Model: <SOS> not &apos;s not a . . . . .\n",
      "\n",
      "Source: không_ai khởi_đầu một công_ty một_mình . không_ai cả . <EOS>\n",
      "Reference: nobody started a company alone . no one .\n",
      "Model: <SOS> not &apos;s not a . . . . .\n",
      "\n"
     ]
    },
    {
     "name": "stderr",
     "output_type": "stream",
     "text": [
      "WARNING:root:That's 100 lines that end in a tokenized period ('.')\n",
      "WARNING:root:It looks like you forgot to detokenize your test data, which may hurt your score.\n",
      "WARNING:root:If you insist your data is detokenized, or don't care, you can suppress this message with '--force'.\n"
     ]
    },
    {
     "name": "stdout",
     "output_type": "stream",
     "text": [
      "Epoch: 1.24, Train Loss: 0.00, Val Loss: 4.57, Train BLEU: 0.00, Val BLEU: 10.85, Minutes Elapsed: 46.10\n",
      "Sampling from val predictions...\n",
      "Source: bảo_hộ , là tôi đối_xử với bất_cứ người nào đến\n",
      "Reference: <UNK> , i treat anybody from a different culture\n",
      "Model: <SOS> so , i i to some all . .\n",
      "\n",
      "Source: khi mà những quả cà_chua bắt_đầu đạt , chín ,\n",
      "Reference: when the tomatoes were nice and ripe and red\n",
      "Model: <SOS> when you &apos;re was the , , , ,\n",
      "\n",
      "Source: họ là những luật_sư , nhà_báo và cả những <UNK>\n",
      "Reference: they were lawyers , journalists , priests , they\n",
      "Model: <SOS> they are the , and and and and and\n",
      "\n"
     ]
    },
    {
     "name": "stderr",
     "output_type": "stream",
     "text": [
      "WARNING:root:That's 100 lines that end in a tokenized period ('.')\n",
      "WARNING:root:It looks like you forgot to detokenize your test data, which may hurt your score.\n",
      "WARNING:root:If you insist your data is detokenized, or don't care, you can suppress this message with '--force'.\n"
     ]
    },
    {
     "name": "stdout",
     "output_type": "stream",
     "text": [
      "Epoch: 1.48, Train Loss: 0.00, Val Loss: 4.44, Train BLEU: 0.00, Val BLEU: 11.15, Minutes Elapsed: 55.02\n",
      "Sampling from val predictions...\n",
      "Source: tôi là một đứa trẻ của năm 1984 , và\n",
      "Reference: i &apos;m a child of 1984 , and i\n",
      "Model: <SOS> i was a of of , , , ,\n",
      "\n",
      "Source: chà , tôi không_thể phủ_nhận rằng đã có một_vài khoảnh_khắc\n",
      "Reference: now , i cannot deny that there have been\n",
      "Model: <SOS> well , i can &apos;t that that was a\n",
      "\n",
      "Source: tôi đã nghĩ chỉ có mỗi người ý là khờ_khạo\n",
      "Reference: i thought it was only us italians <UNK> around\n",
      "Model: <SOS> i thought there have only to to the the\n",
      "\n"
     ]
    },
    {
     "name": "stderr",
     "output_type": "stream",
     "text": [
      "WARNING:root:That's 100 lines that end in a tokenized period ('.')\n",
      "WARNING:root:It looks like you forgot to detokenize your test data, which may hurt your score.\n",
      "WARNING:root:If you insist your data is detokenized, or don't care, you can suppress this message with '--force'.\n"
     ]
    },
    {
     "name": "stdout",
     "output_type": "stream",
     "text": [
      "Epoch: 1.72, Train Loss: 0.00, Val Loss: 4.33, Train BLEU: 0.00, Val BLEU: 11.88, Minutes Elapsed: 63.95\n",
      "Sampling from val predictions...\n",
      "Source: và làm thế_nào chúng_ta chia_sẻ nhiều hơn những hy_vọng của\n",
      "Reference: and how can we share more of our hopes\n",
      "Model: <SOS> and how do we to more more of of\n",
      "\n",
      "Source: tôi hi_vọng những tấm hình sẽ đánh_thức một nguồn sức_mạnh\n",
      "Reference: i hope that these images awaken a force in\n",
      "Model: <SOS> i decided the to will will a a of\n",
      "\n",
      "Source: và trong năm 1860 , nhóm người ngày tụ_họp lại\n",
      "Reference: and in <UNK> , this group of people came\n",
      "Model: <SOS> and in , , , people of the of\n",
      "\n"
     ]
    },
    {
     "name": "stderr",
     "output_type": "stream",
     "text": [
      "WARNING:root:That's 100 lines that end in a tokenized period ('.')\n",
      "WARNING:root:It looks like you forgot to detokenize your test data, which may hurt your score.\n",
      "WARNING:root:If you insist your data is detokenized, or don't care, you can suppress this message with '--force'.\n"
     ]
    },
    {
     "name": "stdout",
     "output_type": "stream",
     "text": [
      "Epoch: 1.96, Train Loss: 0.00, Val Loss: 4.25, Train BLEU: 0.00, Val BLEU: 12.89, Minutes Elapsed: 72.80\n",
      "Sampling from val predictions...\n",
      "Source: \" vừa kịp lúc để cứu người zambia khỏi nạn\n",
      "Reference: &quot; just in the nick of time to save\n",
      "Model: <SOS> &quot; it , to to to to in the\n",
      "\n",
      "Source: vì_thế tôi đã có một ý_tưởng . <EOS> <PAD> <PAD>\n",
      "Reference: so i had an idea . <EOS> <PAD> <PAD>\n",
      "Model: <SOS> so i had a idea . <EOS> . <EOS>\n",
      "\n",
      "Source: đừng hiểu_lầm tôi . <EOS> <PAD> <PAD> <PAD> <PAD> <PAD>\n",
      "Reference: now don &apos;t get me wrong . <EOS> <PAD>\n",
      "Model: <SOS> don don my &apos;t me . <EOS> <EOS> <EOS>\n",
      "\n"
     ]
    },
    {
     "name": "stderr",
     "output_type": "stream",
     "text": [
      "WARNING:root:That's 100 lines that end in a tokenized period ('.')\n",
      "WARNING:root:It looks like you forgot to detokenize your test data, which may hurt your score.\n",
      "WARNING:root:If you insist your data is detokenized, or don't care, you can suppress this message with '--force'.\n"
     ]
    },
    {
     "name": "stdout",
     "output_type": "stream",
     "text": [
      "Epoch: 2.00, Train Loss: 0.00, Val Loss: 4.28, Train BLEU: 0.00, Val BLEU: 12.31, Minutes Elapsed: 74.36\n",
      "Sampling from val predictions...\n",
      "Source: nhưng không có ai giúp họ , bởi_vì tất_cả đều\n",
      "Reference: but nobody helped them , because they were so\n",
      "Model: <SOS> but no people &apos;t , them , , all\n",
      "\n",
      "Source: khi một bức ảnh như thế_này được đem trả_lại ,\n",
      "Reference: when a photo like this can be returned to\n",
      "Model: <SOS> when a was of a world a a of\n",
      "\n",
      "Source: bởi_vì dù chúng_tôi chụp cùng một bức ảnh , nhưng\n",
      "Reference: because while we take the same photo , our\n",
      "Model: <SOS> because we we we to a of , a\n",
      "\n"
     ]
    },
    {
     "name": "stderr",
     "output_type": "stream",
     "text": [
      "WARNING:root:That's 100 lines that end in a tokenized period ('.')\n",
      "WARNING:root:It looks like you forgot to detokenize your test data, which may hurt your score.\n",
      "WARNING:root:If you insist your data is detokenized, or don't care, you can suppress this message with '--force'.\n"
     ]
    },
    {
     "name": "stdout",
     "output_type": "stream",
     "text": [
      "Epoch: 2.24, Train Loss: 0.00, Val Loss: 4.21, Train BLEU: 0.00, Val BLEU: 13.35, Minutes Elapsed: 83.15\n",
      "Sampling from val predictions...\n",
      "Source: tôi đã từng ghét sư_tử , nhưng bây_giờ bởi_vì phát_minh\n",
      "Reference: i used to hate lions , but now because\n",
      "Model: <SOS> i was been , , but but i was\n",
      "\n",
      "Source: nhựa_đường xốp là vật_liệu chúng_tôi hiện đang dùng để xây_dựng\n",
      "Reference: porous asphalt , a material that we use now\n",
      "Model: <SOS> the are the the we are we &apos;re working\n",
      "\n",
      "Source: chúng cũng đã bị liên_kết với disney - - bị\n",
      "Reference: they &apos;ve also be associated with disney — —\n",
      "Model: <SOS> they also also been with with with -- --\n",
      "\n"
     ]
    },
    {
     "name": "stderr",
     "output_type": "stream",
     "text": [
      "WARNING:root:That's 100 lines that end in a tokenized period ('.')\n",
      "WARNING:root:It looks like you forgot to detokenize your test data, which may hurt your score.\n",
      "WARNING:root:If you insist your data is detokenized, or don't care, you can suppress this message with '--force'.\n"
     ]
    },
    {
     "name": "stdout",
     "output_type": "stream",
     "text": [
      "Epoch: 2.48, Train Loss: 0.00, Val Loss: 4.14, Train BLEU: 0.00, Val BLEU: 13.94, Minutes Elapsed: 92.01\n",
      "Sampling from val predictions...\n",
      "Source: đúng vậy đấy , gần như_là tất_cả các tấm ảnh\n",
      "Reference: and yeah , they pretty much <UNK> all the\n",
      "Model: <SOS> right , , all all all the the <EOS>\n",
      "\n",
      "Source: tại_sao xã_hội chúng_tôi tiếp_tục là một xã_hội phân_cực và thống_trị\n",
      "Reference: why does our society continue to be polarized and\n",
      "Model: <SOS> why do we we is a a social opportunity\n",
      "\n",
      "Source: bởi_vì hoà_bình như thuật giả kim , nó cần đến\n",
      "Reference: for peace has an alchemy , and this alchemy\n",
      "Model: <SOS> because it , or , , it it it\n",
      "\n"
     ]
    },
    {
     "name": "stderr",
     "output_type": "stream",
     "text": [
      "WARNING:root:That's 100 lines that end in a tokenized period ('.')\n",
      "WARNING:root:It looks like you forgot to detokenize your test data, which may hurt your score.\n",
      "WARNING:root:If you insist your data is detokenized, or don't care, you can suppress this message with '--force'.\n"
     ]
    },
    {
     "name": "stdout",
     "output_type": "stream",
     "text": [
      "Epoch: 2.72, Train Loss: 0.00, Val Loss: 4.10, Train BLEU: 0.00, Val BLEU: 13.90, Minutes Elapsed: 100.87\n",
      "Sampling from val predictions...\n",
      "Source: nhưng tôi không từ_bỏ . tôi tiếp_tục suy_nghĩ . <EOS>\n",
      "Reference: so i didn &apos;t give up . i continued\n",
      "Model: <SOS> but i &apos;m &apos;t . . . i &apos;m\n",
      "\n",
      "Source: bởi sự_thật tôi là một nạn_nhân điển_hình của bạo_lực gia_đình\n",
      "Reference: because it turns out that i &apos;m actually a\n",
      "Model: <SOS> because i i a a a a a of\n",
      "\n",
      "Source: tôi luôn là người chụp ảnh . <EOS> <PAD> <PAD>\n",
      "Reference: i &apos;m always the one taking the picture .\n",
      "Model: <SOS> i &apos;m always the the . . . .\n",
      "\n"
     ]
    },
    {
     "name": "stderr",
     "output_type": "stream",
     "text": [
      "WARNING:root:That's 100 lines that end in a tokenized period ('.')\n",
      "WARNING:root:It looks like you forgot to detokenize your test data, which may hurt your score.\n",
      "WARNING:root:If you insist your data is detokenized, or don't care, you can suppress this message with '--force'.\n"
     ]
    },
    {
     "name": "stdout",
     "output_type": "stream",
     "text": [
      "Epoch: 2.96, Train Loss: 0.00, Val Loss: 4.09, Train BLEU: 0.00, Val BLEU: 14.12, Minutes Elapsed: 109.70\n",
      "Sampling from val predictions...\n",
      "Source: ước_mơ lớn nhất của tôi là trở_thành một kỹ_sư máy_bay\n",
      "Reference: so my big dream is to become an aircraft\n",
      "Model: <SOS> my first my is is a a a a\n",
      "\n",
      "Source: nhiều phụ_nữ địu con trên lưng trong_khi đãi vàng ,\n",
      "Reference: many women had children strapped to their backs while\n",
      "Model: <SOS> many of women in in their the , ,\n",
      "\n",
      "Source: tôi thực_sự tin , nếu ta coi người khác như\n",
      "Reference: i truly believe , if we can see one\n",
      "Model: <SOS> i i believe if if we look somebody other\n",
      "\n"
     ]
    },
    {
     "name": "stderr",
     "output_type": "stream",
     "text": [
      "WARNING:root:That's 100 lines that end in a tokenized period ('.')\n",
      "WARNING:root:It looks like you forgot to detokenize your test data, which may hurt your score.\n",
      "WARNING:root:If you insist your data is detokenized, or don't care, you can suppress this message with '--force'.\n"
     ]
    },
    {
     "name": "stdout",
     "output_type": "stream",
     "text": [
      "Epoch: 3.00, Train Loss: 0.00, Val Loss: 4.12, Train BLEU: 0.00, Val BLEU: 13.54, Minutes Elapsed: 111.27\n",
      "Sampling from val predictions...\n",
      "Source: với một cộng_đồng 10,000 người , chúng_ta có_thể có khoảng\n",
      "Reference: in a community of 10,000 people , we get\n",
      "Model: <SOS> with a community community , , , we can\n",
      "\n",
      "Source: thay vào đó , như anh - <UNK> đã nói\n",
      "Reference: instead , as einstein said , make everything as\n",
      "Model: <SOS> instead , , he , , he said ,\n",
      "\n",
      "Source: tôi là một đứa trẻ của năm 1984 , và\n",
      "Reference: i &apos;m a child of 1984 , and i\n",
      "Model: <SOS> i &apos;m a of of , , and and\n",
      "\n"
     ]
    },
    {
     "name": "stderr",
     "output_type": "stream",
     "text": [
      "WARNING:root:That's 100 lines that end in a tokenized period ('.')\n",
      "WARNING:root:It looks like you forgot to detokenize your test data, which may hurt your score.\n",
      "WARNING:root:If you insist your data is detokenized, or don't care, you can suppress this message with '--force'.\n"
     ]
    },
    {
     "name": "stdout",
     "output_type": "stream",
     "text": [
      "Epoch: 3.24, Train Loss: 0.00, Val Loss: 4.09, Train BLEU: 0.00, Val BLEU: 14.03, Minutes Elapsed: 120.07\n",
      "Sampling from val predictions...\n",
      "Source: và một_vài người thậm_chí đã nói , nó giống_như <UNK>\n",
      "Reference: and some even said , this would be <UNK>\n",
      "Model: <SOS> and some people people say , , like like\n",
      "\n",
      "Source: cảm_ơn các bạn . <EOS> <PAD> <PAD> <PAD> <PAD> <PAD>\n",
      "Reference: thank you . <EOS> <PAD> <PAD> <PAD> <PAD> <PAD>\n",
      "Model: <SOS> thank you . <EOS> you <EOS> <EOS> <EOS> <EOS>\n",
      "\n",
      "Source: phụ_nữ thắng <UNK> phần_trăm trong quốc_hội nhà_nước ở những cuộc\n",
      "Reference: women won <UNK> percent of the national congress in\n",
      "Model: <SOS> women women the the in the in in in\n",
      "\n"
     ]
    },
    {
     "name": "stderr",
     "output_type": "stream",
     "text": [
      "WARNING:root:That's 100 lines that end in a tokenized period ('.')\n",
      "WARNING:root:It looks like you forgot to detokenize your test data, which may hurt your score.\n",
      "WARNING:root:If you insist your data is detokenized, or don't care, you can suppress this message with '--force'.\n"
     ]
    },
    {
     "name": "stdout",
     "output_type": "stream",
     "text": [
      "Epoch: 3.48, Train Loss: 0.00, Val Loss: 4.04, Train BLEU: 0.00, Val BLEU: 14.61, Minutes Elapsed: 128.88\n",
      "Sampling from val predictions...\n",
      "Source: điều đó giải_thích tại sao bằng_cấp tại <UNK> <UNK> và\n",
      "Reference: which is why that ivy league degree and the\n",
      "Model: <SOS> it &apos;s that why the is at at <UNK>\n",
      "\n",
      "Source: thế nên ngay bây_giờ bạn đang tái dựng lại christchurch\n",
      "Reference: so now you &apos;re rebuilding christchurch without knowing what\n",
      "Model: <SOS> so , you you going the the <EOS> .\n",
      "\n",
      "Source: họ muốn có được khả_năng theo sát cuộc_sống của chúng_ta\n",
      "Reference: they want to have the possibility to track our\n",
      "Model: <SOS> they want to have the lives of our lives\n",
      "\n"
     ]
    },
    {
     "name": "stderr",
     "output_type": "stream",
     "text": [
      "WARNING:root:That's 100 lines that end in a tokenized period ('.')\n",
      "WARNING:root:It looks like you forgot to detokenize your test data, which may hurt your score.\n",
      "WARNING:root:If you insist your data is detokenized, or don't care, you can suppress this message with '--force'.\n"
     ]
    },
    {
     "name": "stdout",
     "output_type": "stream",
     "text": [
      "Epoch: 3.72, Train Loss: 0.00, Val Loss: 4.05, Train BLEU: 0.00, Val BLEU: 14.91, Minutes Elapsed: 137.74\n",
      "Sampling from val predictions...\n",
      "Source: giây thanh_quản này khoẻ_mạnh và ai đó đang nói ,\n",
      "Reference: now , this is healthy and this is somebody\n",
      "Model: <SOS> this theory and and and and and is is\n",
      "\n",
      "Source: vậy bạn làm_gì - - bạn im miệng . <EOS>\n",
      "Reference: so what you do -- you shut up .\n",
      "Model: <SOS> so you do you -- you you . .\n",
      "\n",
      "Source: khoảng thời_gian mà chúng_tôi tập_trung dành cho nhau này là\n",
      "Reference: this very focused time we get to spend together\n",
      "Model: <SOS> and the time time we we focused for is\n",
      "\n"
     ]
    },
    {
     "name": "stderr",
     "output_type": "stream",
     "text": [
      "WARNING:root:That's 100 lines that end in a tokenized period ('.')\n",
      "WARNING:root:It looks like you forgot to detokenize your test data, which may hurt your score.\n",
      "WARNING:root:If you insist your data is detokenized, or don't care, you can suppress this message with '--force'.\n"
     ]
    },
    {
     "name": "stdout",
     "output_type": "stream",
     "text": [
      "Epoch: 3.96, Train Loss: 0.00, Val Loss: 4.05, Train BLEU: 0.00, Val BLEU: 14.02, Minutes Elapsed: 146.59\n",
      "Sampling from val predictions...\n",
      "Source: nhờ phát_minh này , tôi đã may_mắn nhận được học_bổng\n",
      "Reference: because of this invention , i was lucky to\n",
      "Model: <SOS> so these these , , i &apos;ve lucky to\n",
      "\n",
      "Source: tên bà là joan , và bà là một người\n",
      "Reference: her name was joan , and she was a\n",
      "Model: <SOS> his name is henry , and she she a\n",
      "\n",
      "Source: họ đã thu_thập và bàn_giao chúng để bảo_quản ở những\n",
      "Reference: they were collecting them up , and handing them\n",
      "Model: <SOS> they they been and and and them they they\n",
      "\n"
     ]
    },
    {
     "name": "stderr",
     "output_type": "stream",
     "text": [
      "WARNING:root:That's 100 lines that end in a tokenized period ('.')\n",
      "WARNING:root:It looks like you forgot to detokenize your test data, which may hurt your score.\n",
      "WARNING:root:If you insist your data is detokenized, or don't care, you can suppress this message with '--force'.\n"
     ]
    },
    {
     "name": "stdout",
     "output_type": "stream",
     "text": [
      "Epoch: 4.00, Train Loss: 0.00, Val Loss: 4.09, Train BLEU: 0.00, Val BLEU: 14.01, Minutes Elapsed: 148.13\n",
      "Sampling from val predictions...\n",
      "Source: có hai loại kền_kền trên hành_tinh này . <EOS> <PAD>\n",
      "Reference: so there &apos;s two types of vultures in this\n",
      "Model: <SOS> there are are two two of on on on\n",
      "\n",
      "Source: bằng vốn tiếng anh ít_ỏi của mình và một quyển\n",
      "Reference: in my broken english , and with a dictionary\n",
      "Model: <SOS> he &apos;s english english your and a a and\n",
      "\n",
      "Source: việc ổn_định cuộc_sống ở đây khó_khăn hơn nhiều so với\n",
      "Reference: settling down in south korea was a lot more\n",
      "Model: <SOS> the &apos;s the life life is more than than\n",
      "\n"
     ]
    },
    {
     "name": "stderr",
     "output_type": "stream",
     "text": [
      "WARNING:root:That's 100 lines that end in a tokenized period ('.')\n",
      "WARNING:root:It looks like you forgot to detokenize your test data, which may hurt your score.\n",
      "WARNING:root:If you insist your data is detokenized, or don't care, you can suppress this message with '--force'.\n"
     ]
    },
    {
     "name": "stdout",
     "output_type": "stream",
     "text": [
      "Epoch: 4.24, Train Loss: 0.00, Val Loss: 4.08, Train BLEU: 0.00, Val BLEU: 14.31, Minutes Elapsed: 156.91\n",
      "Sampling from val predictions...\n",
      "Source: chúng_tôi đang hợp_tác với những cộng_đồng địa_phương <EOS> <PAD> <PAD>\n",
      "Reference: we &apos;re working with local communities . <EOS> <PAD>\n",
      "Model: <SOS> we &apos;re looking to with very . <EOS> <EOS>\n",
      "\n",
      "Source: cái mà chúng_ta phải nhìn đến đó là chúng_ta làm\n",
      "Reference: what we have to look at is at how\n",
      "Model: <SOS> what we have to look is that is we\n",
      "\n",
      "Source: kofi được cứu từ 1 làng chài . <EOS> <PAD>\n",
      "Reference: kofi was rescued from a fishing village . <EOS>\n",
      "Model: <SOS> evan was was from a village . . <EOS>\n",
      "\n"
     ]
    },
    {
     "name": "stderr",
     "output_type": "stream",
     "text": [
      "WARNING:root:That's 100 lines that end in a tokenized period ('.')\n",
      "WARNING:root:It looks like you forgot to detokenize your test data, which may hurt your score.\n",
      "WARNING:root:If you insist your data is detokenized, or don't care, you can suppress this message with '--force'.\n"
     ]
    },
    {
     "name": "stdout",
     "output_type": "stream",
     "text": [
      "Epoch: 4.48, Train Loss: 0.00, Val Loss: 4.03, Train BLEU: 0.00, Val BLEU: 14.46, Minutes Elapsed: 165.53\n",
      "Sampling from val predictions...\n",
      "Source: xin - - đừng nói rằng tôi bình_thường . <EOS>\n",
      "Reference: please -- don &apos;t tell me i &apos;m normal\n",
      "Model: <SOS> please . &apos;t me say me . <EOS> .\n",
      "\n",
      "Source: khi bạn thấy một con kền <UNK> như thế này\n",
      "Reference: when you see a <UNK> like this , the\n",
      "Model: <SOS> when you see a <UNK> <UNK> , like ,\n",
      "\n",
      "Source: làm_sao chúng_ta có_thể tạo ra_điều quỷ_quyệt này , lại còn\n",
      "Reference: how can we affect something so insidious , yet\n",
      "Model: <SOS> how do we make this this , , but\n",
      "\n"
     ]
    },
    {
     "name": "stderr",
     "output_type": "stream",
     "text": [
      "WARNING:root:That's 100 lines that end in a tokenized period ('.')\n",
      "WARNING:root:It looks like you forgot to detokenize your test data, which may hurt your score.\n",
      "WARNING:root:If you insist your data is detokenized, or don't care, you can suppress this message with '--force'.\n"
     ]
    },
    {
     "name": "stdout",
     "output_type": "stream",
     "text": [
      "Epoch: 4.72, Train Loss: 0.00, Val Loss: 4.09, Train BLEU: 0.00, Val BLEU: 14.96, Minutes Elapsed: 174.09\n",
      "Sampling from val predictions...\n",
      "Source: mỗi khi chúng_ta sử_dụng điện_thoại_di_động của mình ? <EOS> <PAD>\n",
      "Reference: every time i use my mobile phone ? <EOS>\n",
      "Model: <SOS> what when we we our phone ? <EOS> <EOS>\n",
      "\n",
      "Source: vậy là cháu đã có học_bổng này . vâng .\n",
      "Reference: so you got this scholarship . yep . <EOS>\n",
      "Model: <SOS> so , &apos;s this . . yes . <EOS>\n",
      "\n",
      "Source: đây có_thể là câu_chuyện của bạn . <EOS> <PAD> <PAD>\n",
      "Reference: it may even be your story . <EOS> <PAD>\n",
      "Model: <SOS> this is be your your . . <EOS> .\n",
      "\n"
     ]
    },
    {
     "name": "stderr",
     "output_type": "stream",
     "text": [
      "WARNING:root:That's 100 lines that end in a tokenized period ('.')\n",
      "WARNING:root:It looks like you forgot to detokenize your test data, which may hurt your score.\n",
      "WARNING:root:If you insist your data is detokenized, or don't care, you can suppress this message with '--force'.\n"
     ]
    },
    {
     "name": "stdout",
     "output_type": "stream",
     "text": [
      "Epoch: 4.96, Train Loss: 0.00, Val Loss: 4.06, Train BLEU: 0.00, Val BLEU: 14.24, Minutes Elapsed: 182.83\n",
      "Sampling from val predictions...\n",
      "Source: trong_suốt những năm_qua đã có sự tiến_bộ to_lớn trong quá_trình\n",
      "Reference: so great progress and treatment has been made over\n",
      "Model: <SOS> while the past have have have the in in\n",
      "\n",
      "Source: tôi đã được lớn_lên ở một quốc_gia đã bị tiêu_huỷ\n",
      "Reference: i was raised in a country that has been\n",
      "Model: <SOS> i i been in a country where has been\n",
      "\n",
      "Source: có_thể sự thiếu_sót không chỉ là về mặt bình_quyền của\n",
      "Reference: maybe what was missing was not the women only\n",
      "Model: <SOS> it the body is is not just the of\n",
      "\n"
     ]
    },
    {
     "name": "stderr",
     "output_type": "stream",
     "text": [
      "WARNING:root:That's 100 lines that end in a tokenized period ('.')\n",
      "WARNING:root:It looks like you forgot to detokenize your test data, which may hurt your score.\n",
      "WARNING:root:If you insist your data is detokenized, or don't care, you can suppress this message with '--force'.\n"
     ]
    },
    {
     "name": "stdout",
     "output_type": "stream",
     "text": [
      "Epoch: 5.00, Train Loss: 0.00, Val Loss: 4.15, Train BLEU: 0.00, Val BLEU: 13.69, Minutes Elapsed: 184.32\n",
      "Sampling from val predictions...\n",
      "Source: tôi giúp dọn suối_nước_nóng suối_nước_nóng công_cộng , chiếc bồn_tắm khổng_lồ\n",
      "Reference: i was helping clean the <UNK> , the communal\n",
      "Model: <SOS> i &apos;ve the of the the of the ,\n",
      "\n",
      "Source: sau đó , tổ_chức tình_nguyện tôi tham_gia all <UNK> <UNK>\n",
      "Reference: soon after , an organization i volunteer with ,\n",
      "Model: <SOS> and , my , my of my at my\n",
      "\n",
      "Source: rất nhiều . ngày_nay , phần_lớn chúng_ta đều có một\n",
      "Reference: that &apos;s a lot . almost everybody today has\n",
      "Model: <SOS> a lot many . of today , us of\n",
      "\n",
      "Model training completed in 184 minutes with 4.03 best validation loss and 14.96 best validation BLEU.\n"
     ]
    }
   ],
   "source": [
    "# for candidate in ['multiplicative', 'additive']: \n",
    "\n",
    "for candidate in ['additive']: \n",
    "    \n",
    "    print(\"Training with attention_type = {}\".format(candidate))\n",
    "    \n",
    "    # overwrite relevant key-value in params \n",
    "    params['attention_type'] = candidate \n",
    "    params['model_name'] = '{}-rnn-{}-attn-tuning'.format(SRC_LANG, candidate)\n",
    "    \n",
    "    # instantiate model \n",
    "    encoder = EncoderRNN(rnn_cell_type=RNN_CELL_TYPE, enc_hidden_dim=ENC_HIDDEN_DIM, num_layers=NUM_LAYERS, \n",
    "                         src_max_sentence_len=SRC_MAX_SENTENCE_LEN, enc_dropout=ENC_DROPOUT, \n",
    "                         pretrained_word2vec=get_pretrained_emb(vocab[SRC_LANG]['word2vec'], vocab[SRC_LANG]['token2id']))\n",
    "    decoder = DecoderAttnRNN(rnn_cell_type=RNN_CELL_TYPE, dec_hidden_dim=DEC_HIDDEN_DIM, enc_hidden_dim=ENC_HIDDEN_DIM, \n",
    "                             num_layers=NUM_LAYERS, targ_vocab_size=TARG_VOCAB_SIZE, \n",
    "                             src_max_sentence_len=SRC_MAX_SENTENCE_LEN, targ_max_sentence_len=TARG_MAX_SENTENCE_LEN, \n",
    "                             dec_dropout=DEC_DROPOUT, attention_type=candidate,\n",
    "                             pretrained_word2vec=get_pretrained_emb(vocab[TARG_LANG]['word2vec'], \n",
    "                                                                    vocab[TARG_LANG]['token2id']))\n",
    "    model = EncoderDecoderAttn(encoder, decoder, vocab[TARG_LANG]['token2id']).to(device) \n",
    "    \n",
    "    # train and eval \n",
    "    model, results = train_and_eval(\n",
    "        model=model, loaders_full=loaders_full, loaders_minibatch=loaders_minibatch, loaders_minitrain=loaders_minitrain, \n",
    "        params=params, vocab=vocab, print_intermediate=500, save_checkpoint=True, save_to_log=True, \n",
    "        lazy_eval=True, print_attn=False, inspect_samples=3)"
   ]
  },
  {
   "cell_type": "code",
   "execution_count": 13,
   "metadata": {},
   "outputs": [],
   "source": [
    "experiment_results = summarize_results(load_experiment_log(experiment_name=EXPERIMENT_NAME))"
   ]
  },
  {
   "cell_type": "code",
   "execution_count": 14,
   "metadata": {},
   "outputs": [
    {
     "data": {
      "text/html": [
       "<div>\n",
       "<style scoped>\n",
       "    .dataframe tbody tr th:only-of-type {\n",
       "        vertical-align: middle;\n",
       "    }\n",
       "\n",
       "    .dataframe tbody tr th {\n",
       "        vertical-align: top;\n",
       "    }\n",
       "\n",
       "    .dataframe thead th {\n",
       "        text-align: right;\n",
       "    }\n",
       "</style>\n",
       "<table border=\"1\" class=\"dataframe\">\n",
       "  <thead>\n",
       "    <tr style=\"text-align: right;\">\n",
       "      <th></th>\n",
       "      <th>experiment_name</th>\n",
       "      <th>model_name</th>\n",
       "      <th>attention_type</th>\n",
       "      <th>best_val_loss</th>\n",
       "      <th>best_val_bleu</th>\n",
       "      <th>total_params</th>\n",
       "      <th>trainable_params</th>\n",
       "      <th>runtime</th>\n",
       "    </tr>\n",
       "  </thead>\n",
       "  <tbody>\n",
       "    <tr>\n",
       "      <th>0</th>\n",
       "      <td>hyperparameter_tuning_attention_type</td>\n",
       "      <td>vi-rnn-additive-attn-tuning</td>\n",
       "      <td>additive</td>\n",
       "      <td>4.028012</td>\n",
       "      <td>14.961330</td>\n",
       "      <td>71591344</td>\n",
       "      <td>53591344</td>\n",
       "      <td>184.324699</td>\n",
       "    </tr>\n",
       "    <tr>\n",
       "      <th>1</th>\n",
       "      <td>hyperparameter_tuning_attention_type</td>\n",
       "      <td>vi-rnn-multiplicative-attn-tuning</td>\n",
       "      <td>multiplicative</td>\n",
       "      <td>4.169867</td>\n",
       "      <td>13.605394</td>\n",
       "      <td>69492144</td>\n",
       "      <td>51492144</td>\n",
       "      <td>176.599944</td>\n",
       "    </tr>\n",
       "  </tbody>\n",
       "</table>\n",
       "</div>"
      ],
      "text/plain": [
       "                        experiment_name                         model_name  \\\n",
       "0  hyperparameter_tuning_attention_type        vi-rnn-additive-attn-tuning   \n",
       "1  hyperparameter_tuning_attention_type  vi-rnn-multiplicative-attn-tuning   \n",
       "\n",
       "   attention_type  best_val_loss  best_val_bleu  total_params  \\\n",
       "0        additive       4.028012      14.961330      71591344   \n",
       "1  multiplicative       4.169867      13.605394      69492144   \n",
       "\n",
       "   trainable_params     runtime  \n",
       "0          53591344  184.324699  \n",
       "1          51492144  176.599944  "
      ]
     },
     "execution_count": 14,
     "metadata": {},
     "output_type": "execute_result"
    }
   ],
   "source": [
    "experiment_results[['experiment_name', 'model_name', 'attention_type', 'best_val_loss', 'best_val_bleu', \n",
    "                    'total_params', 'trainable_params', 'runtime']]"
   ]
  },
  {
   "cell_type": "code",
   "execution_count": 15,
   "metadata": {},
   "outputs": [
    {
     "data": {
      "image/png": "[encoded data removed]",
      "text/plain": [
       "<Figure size 1008x360 with 2 Axes>"
      ]
     },
     "metadata": {},
     "output_type": "display_data"
    }
   ],
   "source": [
    "plot_multiple_learning_curves(experiment_results, 'attention_type', 'Attention Type')"
   ]
  }
 ],
 "metadata": {
  "kernelspec": {
   "display_name": "Python 3",
   "language": "python",
   "name": "python3"
  },
  "language_info": {
   "codemirror_mode": {
    "name": "ipython",
    "version": 3
   },
   "file_extension": ".py",
   "mimetype": "text/x-python",
   "name": "python",
   "nbconvert_exporter": "python",
   "pygments_lexer": "ipython3",
   "version": "3.5.3"
  }
 },
 "nbformat": 4,
 "nbformat_minor": 2
}
