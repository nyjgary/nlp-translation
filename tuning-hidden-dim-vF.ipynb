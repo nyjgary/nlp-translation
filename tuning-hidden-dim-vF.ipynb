{
 "cells": [
  {
   "cell_type": "code",
   "execution_count": 1,
   "metadata": {},
   "outputs": [],
   "source": [
    "import numpy as np \n",
    "import pandas as pd \n",
    "from data_processing import generate_vocab, process_data, create_dataloaders\n",
    "from model import get_pretrained_emb, EncoderRNN, DecoderRNN, DecoderAttnRNN, EncoderDecoder, EncoderDecoderAttn\n",
    "from train_eval import train_and_eval, count_parameters, summarize_results, load_experiment_log, \\\n",
    "    plot_single_learning_curve, plot_multiple_learning_curves\n",
    "import pickle as pkl \n",
    "import torch\n",
    "device = torch.device(\"cuda\" if torch.cuda.is_available() else \"cpu\")"
   ]
  },
  {
   "cell_type": "code",
   "execution_count": 2,
   "metadata": {},
   "outputs": [],
   "source": [
    "# params required for generating data loaders \n",
    "\n",
    "SRC_LANG = 'vi'\n",
    "TARG_LANG = 'en'\n",
    "\n",
    "SRC_MAX_SENTENCE_LEN = 10\n",
    "TARG_MAX_SENTENCE_LEN = 10\n",
    "SRC_VOCAB_SIZE = 30000 \n",
    "TARG_VOCAB_SIZE = 30000 \n",
    "\n",
    "BATCH_SIZE = 64 "
   ]
  },
  {
   "cell_type": "code",
   "execution_count": 3,
   "metadata": {},
   "outputs": [],
   "source": [
    "# takes a long time to process, save to pickle for reimport in future \n",
    "# vocab = generate_vocab(SRC_LANG, TARG_LANG, SRC_VOCAB_SIZE, TARG_VOCAB_SIZE)\n",
    "# vocab_filename = \"{}-{}-vocab.p\".format(SRC_LANG, TARG_LANG)\n",
    "# pkl.dump(vocab, open(vocab_filename, \"wb\"))"
   ]
  },
  {
   "cell_type": "code",
   "execution_count": 4,
   "metadata": {},
   "outputs": [],
   "source": [
    "# reload from pickle \n",
    "vocab_filename = \"{}-{}-vocab.p\".format(SRC_LANG, TARG_LANG)\n",
    "vocab = pkl.load(open(vocab_filename, \"rb\"))\n",
    "data = process_data(SRC_LANG, TARG_LANG, SRC_MAX_SENTENCE_LEN, TARG_MAX_SENTENCE_LEN, vocab, filter_long=False)\n",
    "data_minibatch = process_data(SRC_LANG, TARG_LANG, SRC_MAX_SENTENCE_LEN, TARG_MAX_SENTENCE_LEN, vocab, sample_limit=BATCH_SIZE, filter_long=False) \n",
    "data_minitrain = process_data(SRC_LANG, TARG_LANG, SRC_MAX_SENTENCE_LEN, TARG_MAX_SENTENCE_LEN, vocab, sample_limit=1000, filter_long=False)"
   ]
  },
  {
   "cell_type": "code",
   "execution_count": 5,
   "metadata": {},
   "outputs": [],
   "source": [
    "# create dataloaders \n",
    "loaders_full = create_dataloaders(data, SRC_MAX_SENTENCE_LEN, TARG_MAX_SENTENCE_LEN, BATCH_SIZE)\n",
    "loaders_minibatch = create_dataloaders(data_minibatch, SRC_MAX_SENTENCE_LEN, TARG_MAX_SENTENCE_LEN, BATCH_SIZE)\n",
    "loaders_minitrain = create_dataloaders(data_minitrain, SRC_MAX_SENTENCE_LEN, TARG_MAX_SENTENCE_LEN, BATCH_SIZE)"
   ]
  },
  {
   "cell_type": "code",
   "execution_count": 6,
   "metadata": {},
   "outputs": [],
   "source": [
    "# model architecture params \n",
    "NETWORK_TYPE = 'rnn'\n",
    "RNN_CELL_TYPE = 'gru'\n",
    "NUM_LAYERS = 2 \n",
    "ENC_HIDDEN_DIM = 512\n",
    "DEC_HIDDEN_DIM = 2 * ENC_HIDDEN_DIM \n",
    "TEACHER_FORCING_RATIO = 1\n",
    "CLIP_GRAD_MAX_NORM = 1\n",
    "ENC_DROPOUT = 0\n",
    "DEC_DROPOUT = 0\n",
    "ATTENTION_TYPE = 'additive'\n",
    "\n",
    "# training params  \n",
    "NUM_EPOCHS = 5\n",
    "LR = 0.0003 # 0.0005\n",
    "OPTIMIZER = 'Adam'\n",
    "LAZY_TRAIN = False\n",
    "\n",
    "# name the model and experiment \n",
    "EXPERIMENT_NAME = 'hyperparameter_tuning_num_layers'\n",
    "if NETWORK_TYPE == 'rnn': \n",
    "    MODEL_NAME = '{}-rnn-{}-attn'.format(SRC_LANG, ATTENTION_TYPE)\n",
    "elif NETWORK_TYPE == 'cnn': \n",
    "    MODEL_NAME = '{}-cnn'.format(SRC_LANG)"
   ]
  },
  {
   "cell_type": "code",
   "execution_count": 7,
   "metadata": {},
   "outputs": [],
   "source": [
    "# store as dict to save to results later \n",
    "params = {'experiment_name': EXPERIMENT_NAME,'model_name': MODEL_NAME, 'src_lang': SRC_LANG, 'targ_lang': TARG_LANG, \n",
    "          'rnn_cell_type': RNN_CELL_TYPE, 'src_max_sentence_len': SRC_MAX_SENTENCE_LEN, \n",
    "          'targ_max_sentence_len': TARG_MAX_SENTENCE_LEN, 'src_vocab_size': SRC_VOCAB_SIZE, \n",
    "          'targ_vocab_size': TARG_VOCAB_SIZE, 'num_layers': NUM_LAYERS, 'enc_hidden_dim': ENC_HIDDEN_DIM, \n",
    "          'dec_hidden_dim': DEC_HIDDEN_DIM, 'teacher_forcing_ratio': TEACHER_FORCING_RATIO, \n",
    "          'clip_grad_max_norm': CLIP_GRAD_MAX_NORM, 'enc_dropout': ENC_DROPOUT, 'dec_dropout': DEC_DROPOUT, \n",
    "          'attention_type': ATTENTION_TYPE, 'batch_size': BATCH_SIZE, 'num_epochs': NUM_EPOCHS, \n",
    "          'learning_rate': LR, 'optimizer': OPTIMIZER, 'lazy_train': LAZY_TRAIN} "
   ]
  },
  {
   "cell_type": "code",
   "execution_count": 9,
   "metadata": {},
   "outputs": [
    {
     "name": "stdout",
     "output_type": "stream",
     "text": [
      "Training with enc_dim = 1024 and dec_dim = 2048\n",
      "Epoch: 0.00, Train Loss: 0.00, Val Loss: 10.18, Train BLEU: 0.00, Val BLEU: 0.06, Minutes Elapsed: 0.13\n",
      "Sampling from val predictions...\n",
      "Source: hai đứa con_trai nhỏ , giờ không còn nhỏ nữa\n",
      "Reference: her two little boys , not so little anymore\n",
      "Model: <SOS> and and the the the the the the the\n",
      "\n",
      "Source: chúng dọn_sạch những xác_chết đến tận xương . <EOS> <PAD>\n",
      "Reference: they clean up carcasses right to the bone .\n",
      "Model: <SOS> and and the the the the the the the\n",
      "\n",
      "Source: chúng_tôi đã gặp_may với việc lau ảnh bằng tay .\n",
      "Reference: now , we were lucky with our <UNK> .\n",
      "Model: <SOS> and and the the the the the the the\n",
      "\n"
     ]
    },
    {
     "name": "stderr",
     "output_type": "stream",
     "text": [
      "WARNING:root:That's 100 lines that end in a tokenized period ('.')\n",
      "WARNING:root:It looks like you forgot to detokenize your test data, which may hurt your score.\n",
      "WARNING:root:If you insist your data is detokenized, or don't care, you can suppress this message with '--force'.\n"
     ]
    },
    {
     "name": "stdout",
     "output_type": "stream",
     "text": [
      "Epoch: 0.24, Train Loss: 0.00, Val Loss: 5.82, Train BLEU: 0.00, Val BLEU: 1.99, Minutes Elapsed: 10.57\n",
      "Sampling from val predictions...\n",
      "Source: chắc_chắn có_thể nói \" <UNK> and <UNK> \" nhưng sao_không\n",
      "Reference: sure , you can say &quot; spatial and temporal\n",
      "Model: <SOS> &quot; said &quot; &quot; &quot; &quot; &quot; &quot; &quot;\n",
      "\n",
      "Source: khi người cảnh_sát trung_quốc đến gần họ , tôi đã\n",
      "Reference: as the chinese officer approached my family , i\n",
      "Model: <SOS> and the , , , , , , ,\n",
      "\n",
      "Source: nhưng từ khi xuất_bản \" <UNK> love \" tôi đã\n",
      "Reference: but since publishing &quot; crazy love , &quot; i\n",
      "Model: <SOS> but &quot; &quot; &quot; &quot; &quot; &quot; &quot; &quot;\n",
      "\n"
     ]
    },
    {
     "name": "stderr",
     "output_type": "stream",
     "text": [
      "WARNING:root:That's 100 lines that end in a tokenized period ('.')\n",
      "WARNING:root:It looks like you forgot to detokenize your test data, which may hurt your score.\n",
      "WARNING:root:If you insist your data is detokenized, or don't care, you can suppress this message with '--force'.\n"
     ]
    },
    {
     "name": "stdout",
     "output_type": "stream",
     "text": [
      "Epoch: 0.48, Train Loss: 0.00, Val Loss: 5.20, Train BLEU: 0.00, Val BLEU: 5.63, Minutes Elapsed: 20.98\n",
      "Sampling from val predictions...\n",
      "Source: và mẹo ở đây là sử_dụng những câu đơn và\n",
      "Reference: and the trick here is to use a single\n",
      "Model: <SOS> and the is is the the , and and\n",
      "\n",
      "Source: tôi thấy cảnh giống_như 1 gia_đình đang đánh_cá trên thuyền\n",
      "Reference: i saw what seemed to be a family fishing\n",
      "Model: <SOS> i i to the the a the the of\n",
      "\n",
      "Source: chúng_tôi gặp_gỡ tại quán cà_phê . quán_rượu . <EOS> <PAD>\n",
      "Reference: we meet at the cafe . we meet at\n",
      "Model: <SOS> we have have . . . . . <EOS>\n",
      "\n"
     ]
    },
    {
     "name": "stderr",
     "output_type": "stream",
     "text": [
      "WARNING:root:That's 100 lines that end in a tokenized period ('.')\n",
      "WARNING:root:It looks like you forgot to detokenize your test data, which may hurt your score.\n",
      "WARNING:root:If you insist your data is detokenized, or don't care, you can suppress this message with '--force'.\n"
     ]
    },
    {
     "name": "stdout",
     "output_type": "stream",
     "text": [
      "Epoch: 0.72, Train Loss: 0.00, Val Loss: 4.84, Train BLEU: 0.00, Val BLEU: 8.61, Minutes Elapsed: 31.38\n",
      "Sampling from val predictions...\n",
      "Source: chúng_tôi đã không ưu_tiên quyền công_dân . <EOS> <PAD> <PAD>\n",
      "Reference: we did not prioritize right . <EOS> <PAD> <PAD>\n",
      "Model: <SOS> we have not have the . <EOS> <EOS> <EOS>\n",
      "\n",
      "Source: nó xảy_ra mọi nơi . <EOS> <PAD> <PAD> <PAD> <PAD>\n",
      "Reference: it &apos;s everywhere . <EOS> <PAD> <PAD> <PAD> <PAD>\n",
      "Model: <SOS> it &apos;s it . <EOS> <EOS> <EOS> . .\n",
      "\n",
      "Source: tôi chuyển đến thành_phố new_york khi làm công_việc đầu_tiên viết\n",
      "Reference: i had moved to new york city for my\n",
      "Model: <SOS> i i to the the the the the the\n",
      "\n"
     ]
    },
    {
     "name": "stderr",
     "output_type": "stream",
     "text": [
      "WARNING:root:That's 100 lines that end in a tokenized period ('.')\n",
      "WARNING:root:It looks like you forgot to detokenize your test data, which may hurt your score.\n",
      "WARNING:root:If you insist your data is detokenized, or don't care, you can suppress this message with '--force'.\n"
     ]
    },
    {
     "name": "stdout",
     "output_type": "stream",
     "text": [
      "Epoch: 0.96, Train Loss: 0.00, Val Loss: 4.63, Train BLEU: 0.00, Val BLEU: 9.80, Minutes Elapsed: 41.79\n",
      "Sampling from val predictions...\n",
      "Source: tôi đã có cơ_hội đi đến đây bằng máy_bay lần\n",
      "Reference: i got a chance to come by plane for\n",
      "Model: <SOS> i &apos;ve a opportunity that that that that that\n",
      "\n",
      "Source: và tôi giúp những người đánh_cá này biết cách làm_việc\n",
      "Reference: and i helped these five fishermen to work together\n",
      "Model: <SOS> and i asked the people people who what what\n",
      "\n",
      "Source: khi nhận lại các bức ảnh từ chúng_tôi , cô\n",
      "Reference: when she collected the photos from us , she\n",
      "Model: <SOS> when when &apos;re the the , the , the\n",
      "\n"
     ]
    },
    {
     "name": "stderr",
     "output_type": "stream",
     "text": [
      "WARNING:root:That's 100 lines that end in a tokenized period ('.')\n",
      "WARNING:root:It looks like you forgot to detokenize your test data, which may hurt your score.\n",
      "WARNING:root:If you insist your data is detokenized, or don't care, you can suppress this message with '--force'.\n"
     ]
    },
    {
     "name": "stdout",
     "output_type": "stream",
     "text": [
      "Epoch: 1.00, Train Loss: 0.00, Val Loss: 4.62, Train BLEU: 0.00, Val BLEU: 8.93, Minutes Elapsed: 43.61\n",
      "Sampling from val predictions...\n",
      "Source: hiện_tại , tôi sống ở new orleans , và tôi\n",
      "Reference: now , i live in new orleans , and\n",
      "Model: <SOS> i , i i in in , , and\n",
      "\n",
      "Source: không lâu sau đó , khi tôi đi qua một\n",
      "Reference: soon after , when i was walking past a\n",
      "Model: <SOS> not , when , i i back to a\n",
      "\n",
      "Source: bạn thậm_chí có thể biết được tôi tới <UNK> bằng\n",
      "Reference: and you can even see how i go from\n",
      "Model: <SOS> you can you &apos;t know a i i to\n",
      "\n"
     ]
    },
    {
     "name": "stderr",
     "output_type": "stream",
     "text": [
      "WARNING:root:That's 100 lines that end in a tokenized period ('.')\n",
      "WARNING:root:It looks like you forgot to detokenize your test data, which may hurt your score.\n",
      "WARNING:root:If you insist your data is detokenized, or don't care, you can suppress this message with '--force'.\n"
     ]
    },
    {
     "name": "stdout",
     "output_type": "stream",
     "text": [
      "Epoch: 1.24, Train Loss: 0.00, Val Loss: 4.49, Train BLEU: 0.00, Val BLEU: 10.72, Minutes Elapsed: 53.97\n",
      "Sampling from val predictions...\n",
      "Source: \" khi làm_việc , tôi không_thể không nghĩ đến mỗi\n",
      "Reference: &quot; as i worked , i couldn &apos;t help\n",
      "Model: <SOS> &quot; i i i &apos;t not i &apos;t &apos;t\n",
      "\n",
      "Source: chúng_tôi đã làm thế tại 300 cộng_đồng trên khắp thế_giới\n",
      "Reference: we &apos;ve done it in 300 communities around the\n",
      "Model: <SOS> we &apos;ve been working 300 300 of of the\n",
      "\n",
      "Source: điều mà bạn nên làm là đấu_tranh cho sự tự_chủ\n",
      "Reference: but you have to fight for your <UNK> today\n",
      "Model: <SOS> what what you is is is the is ,\n",
      "\n"
     ]
    },
    {
     "name": "stderr",
     "output_type": "stream",
     "text": [
      "WARNING:root:That's 100 lines that end in a tokenized period ('.')\n",
      "WARNING:root:It looks like you forgot to detokenize your test data, which may hurt your score.\n",
      "WARNING:root:If you insist your data is detokenized, or don't care, you can suppress this message with '--force'.\n"
     ]
    },
    {
     "name": "stdout",
     "output_type": "stream",
     "text": [
      "Epoch: 1.48, Train Loss: 0.00, Val Loss: 4.38, Train BLEU: 0.00, Val BLEU: 11.10, Minutes Elapsed: 64.33\n",
      "Sampling from val predictions...\n",
      "Source: những doanh_nhân chẳng bao_giờ đến dự , và họ chẳng\n",
      "Reference: entrepreneurs never come , and they never tell you\n",
      "Model: <SOS> these are are , , they are to ,\n",
      "\n",
      "Source: múa ba_lê đòi_hỏi một trình_độ chuyên_môn đặc_biệt và trình_độ kỹ_thuật\n",
      "Reference: now , ballet requires an extraordinary level of expertise\n",
      "Model: <SOS> because , a a a a and and and\n",
      "\n",
      "Source: à , để đúc_kết lại , tôi có_thể nói rằng\n",
      "Reference: well , to conclude , i can say that\n",
      "Model: <SOS> well , , can , i can say that\n",
      "\n"
     ]
    },
    {
     "name": "stderr",
     "output_type": "stream",
     "text": [
      "WARNING:root:That's 100 lines that end in a tokenized period ('.')\n",
      "WARNING:root:It looks like you forgot to detokenize your test data, which may hurt your score.\n",
      "WARNING:root:If you insist your data is detokenized, or don't care, you can suppress this message with '--force'.\n"
     ]
    },
    {
     "name": "stdout",
     "output_type": "stream",
     "text": [
      "Epoch: 1.72, Train Loss: 0.00, Val Loss: 4.28, Train BLEU: 0.00, Val BLEU: 11.91, Minutes Elapsed: 74.76\n",
      "Sampling from val predictions...\n",
      "Source: và tôi đã nghĩ về cái chết rất nhiều ,\n",
      "Reference: and i thought about death a lot , and\n",
      "Model: <SOS> and i thought thinking a lot a , ,\n",
      "\n",
      "Source: tôi nhận ra rằng vấn_đề chính là giải_pháp . <EOS>\n",
      "Reference: so i figured that the problem is the solution\n",
      "Model: <SOS> i realized realized that the is is the .\n",
      "\n",
      "Source: <UNK> đã tấn_công vào tôi năm ngày_trước đám_cưới của chúng_tôi\n",
      "Reference: <UNK> first physically attacked me five days before our\n",
      "Model: <SOS> <UNK> was been in in the in of we\n",
      "\n"
     ]
    },
    {
     "name": "stderr",
     "output_type": "stream",
     "text": [
      "WARNING:root:That's 100 lines that end in a tokenized period ('.')\n",
      "WARNING:root:It looks like you forgot to detokenize your test data, which may hurt your score.\n",
      "WARNING:root:If you insist your data is detokenized, or don't care, you can suppress this message with '--force'.\n"
     ]
    },
    {
     "name": "stdout",
     "output_type": "stream",
     "text": [
      "Epoch: 1.96, Train Loss: 0.00, Val Loss: 4.24, Train BLEU: 0.00, Val BLEU: 12.38, Minutes Elapsed: 85.22\n",
      "Sampling from val predictions...\n",
      "Source: tôi đứng trên sân_khấu này bởi_vì tôi xinh_đẹp , một\n",
      "Reference: i am on this stage because i am a\n",
      "Model: <SOS> i i this on because because i i ,\n",
      "\n",
      "Source: cùng_nhau chúng_ta có_thể làm_cho giường ngủ của chúng_ta bàn_ăn và\n",
      "Reference: together we can make our beds , our dinner\n",
      "Model: <SOS> we we us our our our of our the\n",
      "\n",
      "Source: nhưng những cuộc trao_đổi hiệu_quả không_thể diễn ra nếu các\n",
      "Reference: but these great conversations can &apos;t occur if our\n",
      "Model: <SOS> but the the the &apos;t &apos;t if if if\n",
      "\n"
     ]
    },
    {
     "name": "stderr",
     "output_type": "stream",
     "text": [
      "WARNING:root:That's 100 lines that end in a tokenized period ('.')\n",
      "WARNING:root:It looks like you forgot to detokenize your test data, which may hurt your score.\n",
      "WARNING:root:If you insist your data is detokenized, or don't care, you can suppress this message with '--force'.\n"
     ]
    },
    {
     "name": "stdout",
     "output_type": "stream",
     "text": [
      "Epoch: 2.00, Train Loss: 0.00, Val Loss: 4.26, Train BLEU: 0.00, Val BLEU: 11.57, Minutes Elapsed: 87.06\n",
      "Sampling from val predictions...\n",
      "Source: khoảng thời_gian mà chúng_tôi tập_trung dành cho nhau này là\n",
      "Reference: this very focused time we get to spend together\n",
      "Model: <SOS> the the time time we we working this this\n",
      "\n",
      "Source: và người dân đáp rằng , \" vâng , đó\n",
      "Reference: and the <UNK> said , &quot; yes , that\n",
      "Model: <SOS> and people said said , &quot; well , it\n",
      "\n",
      "Source: tôi tin rằng chìa_khoá mở cánh_cửa đến thế_giới đó chính\n",
      "Reference: and i believe the key to opening that door\n",
      "Model: <SOS> i believe believe that the of the the of\n",
      "\n"
     ]
    },
    {
     "name": "stderr",
     "output_type": "stream",
     "text": [
      "WARNING:root:That's 100 lines that end in a tokenized period ('.')\n",
      "WARNING:root:It looks like you forgot to detokenize your test data, which may hurt your score.\n",
      "WARNING:root:If you insist your data is detokenized, or don't care, you can suppress this message with '--force'.\n"
     ]
    },
    {
     "name": "stdout",
     "output_type": "stream",
     "text": [
      "Epoch: 2.24, Train Loss: 0.00, Val Loss: 4.25, Train BLEU: 0.00, Val BLEU: 12.31, Minutes Elapsed: 97.48\n",
      "Sampling from val predictions...\n",
      "Source: và tiếng_ồn cũng biến mất qua lỗ thấm . <EOS>\n",
      "Reference: also the noise will disappear in these pores .\n",
      "Model: <SOS> and the the is the the the . .\n",
      "\n",
      "Source: tôi có rất nhiều đôi giầy cao gót <UNK> mà\n",
      "Reference: i do have too many <UNK> heels which i\n",
      "Model: <SOS> i have a lot lot <UNK> in and and\n",
      "\n",
      "Source: tom <UNK> : vậy max , bằng cách lấy tất_cả\n",
      "Reference: so max , by taking all these samples of\n",
      "Model: <SOS> tom tom : tom tom , the the the\n",
      "\n"
     ]
    },
    {
     "name": "stderr",
     "output_type": "stream",
     "text": [
      "WARNING:root:That's 100 lines that end in a tokenized period ('.')\n",
      "WARNING:root:It looks like you forgot to detokenize your test data, which may hurt your score.\n",
      "WARNING:root:If you insist your data is detokenized, or don't care, you can suppress this message with '--force'.\n"
     ]
    },
    {
     "name": "stdout",
     "output_type": "stream",
     "text": [
      "Epoch: 2.48, Train Loss: 0.00, Val Loss: 4.21, Train BLEU: 0.00, Val BLEU: 12.20, Minutes Elapsed: 107.90\n",
      "Sampling from val predictions...\n",
      "Source: nhiều em chết_đuối . <EOS> <PAD> <PAD> <PAD> <PAD> <PAD>\n",
      "Reference: many of them drown . <EOS> <PAD> <PAD> <PAD>\n",
      "Model: <SOS> thank you . . <EOS> . <EOS> <EOS> <EOS>\n",
      "\n",
      "Source: câu_hỏi đầu_tiên là : gì cơ ? <EOS> <PAD> <PAD>\n",
      "Reference: first question to answer for us : so what\n",
      "Model: <SOS> the first question : : what ? <EOS> ?\n",
      "\n",
      "Source: việc người bắc triều_tiên phải che dấu danh_tính của mình\n",
      "Reference: it &apos;s tragic that north koreans have to hide\n",
      "Model: <SOS> people first the to to to to to their\n",
      "\n"
     ]
    },
    {
     "name": "stderr",
     "output_type": "stream",
     "text": [
      "WARNING:root:That's 100 lines that end in a tokenized period ('.')\n",
      "WARNING:root:It looks like you forgot to detokenize your test data, which may hurt your score.\n",
      "WARNING:root:If you insist your data is detokenized, or don't care, you can suppress this message with '--force'.\n"
     ]
    },
    {
     "name": "stdout",
     "output_type": "stream",
     "text": [
      "Epoch: 2.72, Train Loss: 0.00, Val Loss: 4.18, Train BLEU: 0.00, Val BLEU: 12.86, Minutes Elapsed: 118.32\n",
      "Sampling from val predictions...\n",
      "Source: chúng_tôi <UNK> , nhưng ai cũng vui . <EOS> <PAD>\n",
      "Reference: we got dirty , and we loved it .\n",
      "Model: <SOS> we poked , , , , . . <EOS>\n",
      "\n",
      "Source: tôi chỉ là một người phụ_nữ muốn chia_sẻ câu_chuyện của\n",
      "Reference: i &apos;m just one woman with a story to\n",
      "Model: <SOS> i &apos;m a a a who a sharing of\n",
      "\n",
      "Source: trên hết , <UNK> bị bệnh lao , nhưng vẫn\n",
      "Reference: on top of that , <UNK> has tuberculosis ,\n",
      "Model: <SOS> on the , , , the are are ,\n",
      "\n"
     ]
    },
    {
     "name": "stderr",
     "output_type": "stream",
     "text": [
      "WARNING:root:That's 100 lines that end in a tokenized period ('.')\n",
      "WARNING:root:It looks like you forgot to detokenize your test data, which may hurt your score.\n",
      "WARNING:root:If you insist your data is detokenized, or don't care, you can suppress this message with '--force'.\n"
     ]
    },
    {
     "name": "stdout",
     "output_type": "stream",
     "text": [
      "Epoch: 2.96, Train Loss: 0.00, Val Loss: 4.19, Train BLEU: 0.00, Val BLEU: 13.00, Minutes Elapsed: 128.79\n",
      "Sampling from val predictions...\n",
      "Source: tôi không phải công_dân nước đó . <EOS> <PAD> <PAD>\n",
      "Reference: i wasn &apos;t a citizen of that country .\n",
      "Model: <SOS> i i not have to . . . <EOS>\n",
      "\n",
      "Source: anh ta đã thật_sự rất căng_thẳng vì đám_cưới và việc\n",
      "Reference: he had just been really stressed out by the\n",
      "Model: <SOS> he was really amazing , , , and and\n",
      "\n",
      "Source: bức này được chụp vài tuần sau sự_kiện 11/9 ,\n",
      "Reference: this one was taken just weeks after 9 /\n",
      "Model: <SOS> this this was taken taken after weeks after 9\n",
      "\n"
     ]
    },
    {
     "name": "stderr",
     "output_type": "stream",
     "text": [
      "WARNING:root:That's 100 lines that end in a tokenized period ('.')\n",
      "WARNING:root:It looks like you forgot to detokenize your test data, which may hurt your score.\n",
      "WARNING:root:If you insist your data is detokenized, or don't care, you can suppress this message with '--force'.\n"
     ]
    },
    {
     "name": "stdout",
     "output_type": "stream",
     "text": [
      "Epoch: 3.00, Train Loss: 0.00, Val Loss: 4.22, Train BLEU: 0.00, Val BLEU: 12.43, Minutes Elapsed: 130.62\n",
      "Sampling from val predictions...\n",
      "Source: trong kỉ_nguyên gia_tăng sự phân_tán của chúng_ta , điều này\n",
      "Reference: in our age of increasing distractions , it &apos;s\n",
      "Model: <SOS> in our business , our , , this is\n",
      "\n",
      "Source: vì_thế chúng_tôi có_thể nhận sự trợ_giúp từ cộng_đồng quốc_tế cho\n",
      "Reference: so we can benefit from the international community for\n",
      "Model: <SOS> so we can start the the combination of of\n",
      "\n",
      "Source: tôi được leo ra khỏi cái hố đó , và\n",
      "Reference: i got to climb out of that hole ,\n",
      "Model: <SOS> i was out out out out the of ,\n",
      "\n"
     ]
    },
    {
     "name": "stderr",
     "output_type": "stream",
     "text": [
      "WARNING:root:That's 100 lines that end in a tokenized period ('.')\n",
      "WARNING:root:It looks like you forgot to detokenize your test data, which may hurt your score.\n",
      "WARNING:root:If you insist your data is detokenized, or don't care, you can suppress this message with '--force'.\n"
     ]
    },
    {
     "name": "stdout",
     "output_type": "stream",
     "text": [
      "Epoch: 3.24, Train Loss: 0.00, Val Loss: 4.24, Train BLEU: 0.00, Val BLEU: 12.78, Minutes Elapsed: 141.06\n",
      "Sampling from val predictions...\n",
      "Source: tôi đã nghĩ chỉ có mỗi người ý là khờ_khạo\n",
      "Reference: i thought it was only us italians <UNK> around\n",
      "Model: <SOS> i thought it was only to person this <EOS>\n",
      "\n",
      "Source: với_lại tôi cũng cảm_thấy mệt_mỏi với việc phải lái_xe 45\n",
      "Reference: plus i got tired of driving 45 minutes round\n",
      "Model: <SOS> i i i to with a bit 45 45\n",
      "\n",
      "Source: gần đây , trong một chuyến đi , chúng_tôi đang\n",
      "Reference: recently , on one trip , we were walking\n",
      "Model: <SOS> so , , in , , we &apos;re doing\n",
      "\n"
     ]
    },
    {
     "name": "stderr",
     "output_type": "stream",
     "text": [
      "WARNING:root:That's 100 lines that end in a tokenized period ('.')\n",
      "WARNING:root:It looks like you forgot to detokenize your test data, which may hurt your score.\n",
      "WARNING:root:If you insist your data is detokenized, or don't care, you can suppress this message with '--force'.\n"
     ]
    },
    {
     "name": "stdout",
     "output_type": "stream",
     "text": [
      "Epoch: 3.48, Train Loss: 0.00, Val Loss: 4.22, Train BLEU: 0.00, Val BLEU: 13.18, Minutes Elapsed: 151.50\n",
      "Sampling from val predictions...\n",
      "Source: cùng nhau , chúng_ta đã chỉ ra những không_gian công_cộng\n",
      "Reference: together , we &apos;ve shown how powerful our public\n",
      "Model: <SOS> together , we &apos;ve out a spaces . .\n",
      "\n",
      "Source: một ngày , cơn ác_mộng đó đã thành sự_thật ,\n",
      "Reference: one day , my worst nightmare came true ,\n",
      "Model: <SOS> one day , the light , , , ,\n",
      "\n",
      "Source: với một chiếc điện_thoại_di_động , bạn cũng có_thể đăng_tải một\n",
      "Reference: with a mobile phone , you can tweet a\n",
      "Model: <SOS> with a cnc , , you can imagine a\n",
      "\n"
     ]
    },
    {
     "name": "stderr",
     "output_type": "stream",
     "text": [
      "WARNING:root:That's 100 lines that end in a tokenized period ('.')\n",
      "WARNING:root:It looks like you forgot to detokenize your test data, which may hurt your score.\n",
      "WARNING:root:If you insist your data is detokenized, or don't care, you can suppress this message with '--force'.\n"
     ]
    },
    {
     "name": "stdout",
     "output_type": "stream",
     "text": [
      "Epoch: 3.72, Train Loss: 0.00, Val Loss: 4.23, Train BLEU: 0.00, Val BLEU: 13.70, Minutes Elapsed: 161.94\n",
      "Sampling from val predictions...\n",
      "Source: cộng_đồng của tôi , người maasai , tin rằng chúng_tôi\n",
      "Reference: my community , the maasai , we believe that\n",
      "Model: <SOS> my community , the the , that we we\n",
      "\n",
      "Source: chúng là cách để chúng_tôi dừng thời_gian trong một tuần\n",
      "Reference: they &apos;re also ways for us to freeze time\n",
      "Model: <SOS> they &apos;re a to to us in a a\n",
      "\n",
      "Source: cô ấy đã tự lau sạch chúng và dừng lại\n",
      "Reference: she had started <UNK> them herself and stopped when\n",
      "Model: <SOS> she &apos;s the the and and and and and\n",
      "\n"
     ]
    },
    {
     "name": "stderr",
     "output_type": "stream",
     "text": [
      "WARNING:root:That's 100 lines that end in a tokenized period ('.')\n",
      "WARNING:root:It looks like you forgot to detokenize your test data, which may hurt your score.\n",
      "WARNING:root:If you insist your data is detokenized, or don't care, you can suppress this message with '--force'.\n"
     ]
    },
    {
     "name": "stdout",
     "output_type": "stream",
     "text": [
      "Epoch: 3.96, Train Loss: 0.00, Val Loss: 4.26, Train BLEU: 0.00, Val BLEU: 12.91, Minutes Elapsed: 172.34\n",
      "Sampling from val predictions...\n",
      "Source: bất_cứ ai khoẻ_mạnh hoặc mắc bệnh parkinson có_thể gọi tới\n",
      "Reference: anyone healthy or with parkinson &apos;s can call in\n",
      "Model: <SOS> anybody who all who to to or to get\n",
      "\n",
      "Source: thành_phố có một_số công_trình kiến_trúc đẹp nhất trên thế_giới ,\n",
      "Reference: the city has some of the most beautiful architecture\n",
      "Model: <SOS> there there has some some some in in in\n",
      "\n",
      "Source: do_vậy , điều đầu_tiên tôi muốn nói với bạn là\n",
      "Reference: so my first message for you is that domestic\n",
      "Model: <SOS> so the first thing to want to to to\n",
      "\n"
     ]
    },
    {
     "name": "stderr",
     "output_type": "stream",
     "text": [
      "WARNING:root:That's 100 lines that end in a tokenized period ('.')\n",
      "WARNING:root:It looks like you forgot to detokenize your test data, which may hurt your score.\n",
      "WARNING:root:If you insist your data is detokenized, or don't care, you can suppress this message with '--force'.\n"
     ]
    },
    {
     "name": "stdout",
     "output_type": "stream",
     "text": [
      "Epoch: 4.00, Train Loss: 0.00, Val Loss: 4.30, Train BLEU: 0.00, Val BLEU: 12.37, Minutes Elapsed: 174.16\n",
      "Sampling from val predictions...\n",
      "Source: và tôi cảm_thấy có một áp_lực không thoải_mái trong phòng\n",
      "Reference: and i feel like there &apos;s an uncomfortable tension\n",
      "Model: <SOS> and i felt a a &apos;s a part of\n",
      "\n",
      "Source: giống_như ba_lê nó cần được đào_tạo đặc_biệt . <EOS> <PAD>\n",
      "Reference: and like ballet , it takes an extraordinary level\n",
      "Model: <SOS> it &apos;s , it it &apos;s to be .\n",
      "\n",
      "Source: tương_đương với 20 lần công_viên trung_tâm , <EOS> <PAD> <PAD>\n",
      "Reference: that &apos;s 20 central parks . <EOS> <PAD> <PAD>\n",
      "Model: <SOS> that &apos;s for 20 for 20 the &apos;s the\n",
      "\n"
     ]
    },
    {
     "name": "stderr",
     "output_type": "stream",
     "text": [
      "WARNING:root:That's 100 lines that end in a tokenized period ('.')\n",
      "WARNING:root:It looks like you forgot to detokenize your test data, which may hurt your score.\n",
      "WARNING:root:If you insist your data is detokenized, or don't care, you can suppress this message with '--force'.\n"
     ]
    },
    {
     "name": "stdout",
     "output_type": "stream",
     "text": [
      "Epoch: 4.24, Train Loss: 0.00, Val Loss: 4.32, Train BLEU: 0.00, Val BLEU: 12.97, Minutes Elapsed: 184.51\n",
      "Sampling from val predictions...\n",
      "Source: \" trước_khi tôi chết , tôi muốn được ôm cô\n",
      "Reference: &quot; before i die , i want to hold\n",
      "Model: <SOS> &quot; i i &apos;m , i wanted to be\n",
      "\n",
      "Source: tôi đã có cơ_hội đi đến đây bằng máy_bay lần\n",
      "Reference: i got a chance to come by plane for\n",
      "Model: <SOS> i had had chance to go it the to\n",
      "\n",
      "Source: tuy_nhiên , từng chút từng chút một , sự hưng_phấn\n",
      "Reference: however , bit by bit , the euphoria of\n",
      "Model: <SOS> but , the the a , a a of\n",
      "\n"
     ]
    },
    {
     "name": "stderr",
     "output_type": "stream",
     "text": [
      "WARNING:root:That's 100 lines that end in a tokenized period ('.')\n",
      "WARNING:root:It looks like you forgot to detokenize your test data, which may hurt your score.\n",
      "WARNING:root:If you insist your data is detokenized, or don't care, you can suppress this message with '--force'.\n"
     ]
    },
    {
     "name": "stdout",
     "output_type": "stream",
     "text": [
      "Epoch: 4.48, Train Loss: 0.00, Val Loss: 4.33, Train BLEU: 0.00, Val BLEU: 13.02, Minutes Elapsed: 194.84\n",
      "Sampling from val predictions...\n",
      "Source: cùng một nhóm phụ_nữ tuyệt_vời , tôi đồng sáng_lập <UNK>\n",
      "Reference: with an amazing group of women , i <UNK>\n",
      "Model: <SOS> but a wonderful , , i , i decided\n",
      "\n",
      "Source: tôi muốn họ lấy chúng , nhưng cùng lúc đó\n",
      "Reference: i want them to take it , but at\n",
      "Model: <SOS> i want them them them them , but i\n",
      "\n",
      "Source: không_ai khởi_đầu một công_ty một_mình . không_ai cả . <EOS>\n",
      "Reference: nobody started a company alone . no one .\n",
      "Model: <SOS> nobody one a a company company . . .\n",
      "\n"
     ]
    },
    {
     "name": "stderr",
     "output_type": "stream",
     "text": [
      "WARNING:root:That's 100 lines that end in a tokenized period ('.')\n",
      "WARNING:root:It looks like you forgot to detokenize your test data, which may hurt your score.\n",
      "WARNING:root:If you insist your data is detokenized, or don't care, you can suppress this message with '--force'.\n"
     ]
    },
    {
     "name": "stdout",
     "output_type": "stream",
     "text": [
      "Epoch: 4.72, Train Loss: 0.00, Val Loss: 4.40, Train BLEU: 0.00, Val BLEU: 13.84, Minutes Elapsed: 205.21\n",
      "Sampling from val predictions...\n",
      "Source: có_thể sự thiếu_sót không chỉ là về mặt bình_quyền của\n",
      "Reference: maybe what was missing was not the women only\n",
      "Model: <SOS> maybe design &apos;s not not the the the of\n",
      "\n",
      "Source: không bị hư_hỏng trầm_trọng , nhưng chỗ bị thấm nước\n",
      "Reference: not terribly damaged , but where the water had\n",
      "Model: <SOS> it is empty , but it are are ,\n",
      "\n",
      "Source: tôi lúc_nào cũng tự_hỏi là tại_sao họ lại có điện\n",
      "Reference: i always wondered why they had lights but we\n",
      "Model: <SOS> i &apos;m wondered why how they they even <EOS>\n",
      "\n"
     ]
    },
    {
     "name": "stderr",
     "output_type": "stream",
     "text": [
      "WARNING:root:That's 100 lines that end in a tokenized period ('.')\n",
      "WARNING:root:It looks like you forgot to detokenize your test data, which may hurt your score.\n",
      "WARNING:root:If you insist your data is detokenized, or don't care, you can suppress this message with '--force'.\n"
     ]
    },
    {
     "name": "stdout",
     "output_type": "stream",
     "text": [
      "Epoch: 4.96, Train Loss: 0.00, Val Loss: 4.41, Train BLEU: 0.00, Val BLEU: 13.15, Minutes Elapsed: 215.53\n",
      "Sampling from val predictions...\n",
      "Source: nhưng chủ_yếu là thật khó mà tháo tung một di_sản\n",
      "Reference: but mostly it was difficult to unpack a legacy\n",
      "Model: <SOS> but it &apos;s it , the , the ,\n",
      "\n",
      "Source: anh ấy phải đi về hướng dòng nước khi còi\n",
      "Reference: he had to go towards the water as the\n",
      "Model: <SOS> he had to walk about the water and the\n",
      "\n",
      "Source: tôi mong rằng bạn nhìn ra được - - những\n",
      "Reference: and i hope what you &apos;re seeing is that\n",
      "Model: <SOS> i i i you you see at at at\n",
      "\n"
     ]
    },
    {
     "name": "stderr",
     "output_type": "stream",
     "text": [
      "WARNING:root:That's 100 lines that end in a tokenized period ('.')\n",
      "WARNING:root:It looks like you forgot to detokenize your test data, which may hurt your score.\n",
      "WARNING:root:If you insist your data is detokenized, or don't care, you can suppress this message with '--force'.\n"
     ]
    },
    {
     "name": "stdout",
     "output_type": "stream",
     "text": [
      "Epoch: 5.00, Train Loss: 0.00, Val Loss: 4.48, Train BLEU: 0.00, Val BLEU: 12.06, Minutes Elapsed: 217.33\n",
      "Sampling from val predictions...\n",
      "Source: thậm_chí anh ta chĩa súng vào đầu tôi , đẩy\n",
      "Reference: even though he held those loaded guns to my\n",
      "Model: <SOS> even he he he that on on my my\n",
      "\n",
      "Source: do_vậy đối_với <UNK> online và open data city , tôi\n",
      "Reference: so together with <UNK> online and open data city\n",
      "Model: <SOS> so the the the and the the the ,\n",
      "\n",
      "Source: và tôi có được một công_tắc để có_thể tắt và\n",
      "Reference: and i got a switch where i can switch\n",
      "Model: <SOS> and i have a one to to get for\n",
      "\n",
      "Model training completed in 217 minutes with 4.18 best validation loss and 13.84 best validation BLEU.\n",
      "Training with enc_dim = 512 and dec_dim = 1024\n",
      "Epoch: 0.00, Train Loss: 0.00, Val Loss: 10.25, Train BLEU: 0.00, Val BLEU: 0.06, Minutes Elapsed: 0.09\n",
      "Sampling from val predictions...\n",
      "Source: sau đó tôi có băn_khoăn một_chút , nên làm_gì với\n",
      "Reference: so i was a little bit skeptical , what\n",
      "Model: <SOS> and the the the the the the the the\n",
      "\n",
      "Source: đầu_tiên tôi nhìn nó , và nói , được rồi\n",
      "Reference: at first i saw it , and i said\n",
      "Model: <SOS> and and the the the the the the the\n",
      "\n",
      "Source: cô ấy đã tự lau sạch chúng và dừng lại\n",
      "Reference: she had started <UNK> them herself and stopped when\n",
      "Model: <SOS> and the the the the the the the the\n",
      "\n"
     ]
    },
    {
     "name": "stderr",
     "output_type": "stream",
     "text": [
      "WARNING:root:That's 100 lines that end in a tokenized period ('.')\n",
      "WARNING:root:It looks like you forgot to detokenize your test data, which may hurt your score.\n",
      "WARNING:root:If you insist your data is detokenized, or don't care, you can suppress this message with '--force'.\n"
     ]
    },
    {
     "name": "stdout",
     "output_type": "stream",
     "text": [
      "Epoch: 0.24, Train Loss: 0.00, Val Loss: 5.96, Train BLEU: 0.00, Val BLEU: 2.15, Minutes Elapsed: 8.28\n",
      "Sampling from val predictions...\n",
      "Source: tôi không biết điều gì xảy ra trong lúc đó\n",
      "Reference: that was , i don &apos;t know what happened\n",
      "Model: <SOS> i i i to to to to to to\n",
      "\n",
      "Source: nhưng từ khi xuất_bản \" <UNK> love \" tôi đã\n",
      "Reference: but since publishing &quot; crazy love , &quot; i\n",
      "Model: <SOS> but , , , , , , , ,\n",
      "\n",
      "Source: đôi_khi chúng tạo nên các ổ gà . <EOS> <PAD>\n",
      "Reference: sometimes you can create potholes with that . <EOS>\n",
      "Model: <SOS> so &apos;s the the . . . . .\n",
      "\n"
     ]
    },
    {
     "name": "stderr",
     "output_type": "stream",
     "text": [
      "WARNING:root:That's 100 lines that end in a tokenized period ('.')\n",
      "WARNING:root:It looks like you forgot to detokenize your test data, which may hurt your score.\n",
      "WARNING:root:If you insist your data is detokenized, or don't care, you can suppress this message with '--force'.\n"
     ]
    },
    {
     "name": "stdout",
     "output_type": "stream",
     "text": [
      "Epoch: 0.48, Train Loss: 0.00, Val Loss: 5.35, Train BLEU: 0.00, Val BLEU: 4.94, Minutes Elapsed: 16.49\n",
      "Sampling from val predictions...\n",
      "Source: và tôi nhận ra : một trong những thứ quan_trọng\n",
      "Reference: and it hit me : one of the most\n",
      "Model: <SOS> and i i , : a is is of\n",
      "\n",
      "Source: do_vậy đối_với <UNK> online và open data city , tôi\n",
      "Reference: so together with <UNK> online and open data city\n",
      "Model: <SOS> so you can , , , , , ,\n",
      "\n",
      "Source: cho đến nay , tôi đã giúp lắp_đặt cho 7\n",
      "Reference: since now , i &apos;ve set up seven homes\n",
      "Model: <SOS> now , , i i to to the the\n",
      "\n"
     ]
    },
    {
     "name": "stderr",
     "output_type": "stream",
     "text": [
      "WARNING:root:That's 100 lines that end in a tokenized period ('.')\n",
      "WARNING:root:It looks like you forgot to detokenize your test data, which may hurt your score.\n",
      "WARNING:root:If you insist your data is detokenized, or don't care, you can suppress this message with '--force'.\n"
     ]
    },
    {
     "name": "stdout",
     "output_type": "stream",
     "text": [
      "Epoch: 0.72, Train Loss: 0.00, Val Loss: 4.97, Train BLEU: 0.00, Val BLEU: 7.76, Minutes Elapsed: 24.75\n",
      "Sampling from val predictions...\n",
      "Source: có một vài lần , ngôi trường đột_nhiên đóng_cửa khoảng\n",
      "Reference: from time to time , the school would suddenly\n",
      "Model: <SOS> there &apos;s , , , the the of the\n",
      "\n",
      "Source: bởi sự_thật tôi là một nạn_nhân điển_hình của bạo_lực gia_đình\n",
      "Reference: because it turns out that i &apos;m actually a\n",
      "Model: <SOS> so i i i a a a a a\n",
      "\n",
      "Source: afghanistan nhìn rất khác khi nhìn từ mỹ . <EOS>\n",
      "Reference: afghanistan looks so different from here in america .\n",
      "Model: <SOS> they are are the the . . <EOS> .\n",
      "\n"
     ]
    },
    {
     "name": "stderr",
     "output_type": "stream",
     "text": [
      "WARNING:root:That's 100 lines that end in a tokenized period ('.')\n",
      "WARNING:root:It looks like you forgot to detokenize your test data, which may hurt your score.\n",
      "WARNING:root:If you insist your data is detokenized, or don't care, you can suppress this message with '--force'.\n"
     ]
    },
    {
     "name": "stdout",
     "output_type": "stream",
     "text": [
      "Epoch: 0.96, Train Loss: 0.00, Val Loss: 4.74, Train BLEU: 0.00, Val BLEU: 8.56, Minutes Elapsed: 33.02\n",
      "Sampling from val predictions...\n",
      "Source: cái trường ấy trong một căn nhà , hơn 100\n",
      "Reference: the school was in a house , more than\n",
      "Model: <SOS> she &apos;s is in a , , , the\n",
      "\n",
      "Source: tôi tin_tưởng rằng các bạn sẽ nhìn_thấy ngày_càng nhiều người\n",
      "Reference: i &apos;m confident that you will see more and\n",
      "Model: <SOS> i i that to you you going you you\n",
      "\n",
      "Source: bước tiếp_theo trong kịch_bản bạo_lực này là đưa_vào sự đe_doạ\n",
      "Reference: the next step in the domestic violence pattern is\n",
      "Model: <SOS> now was of in this of of is the\n",
      "\n"
     ]
    },
    {
     "name": "stderr",
     "output_type": "stream",
     "text": [
      "WARNING:root:That's 100 lines that end in a tokenized period ('.')\n",
      "WARNING:root:It looks like you forgot to detokenize your test data, which may hurt your score.\n",
      "WARNING:root:If you insist your data is detokenized, or don't care, you can suppress this message with '--force'.\n"
     ]
    },
    {
     "name": "stdout",
     "output_type": "stream",
     "text": [
      "Epoch: 1.00, Train Loss: 0.00, Val Loss: 4.74, Train BLEU: 0.00, Val BLEU: 8.76, Minutes Elapsed: 34.45\n",
      "Sampling from val predictions...\n",
      "Source: và người dân đáp rằng , \" vâng , đó\n",
      "Reference: and the <UNK> said , &quot; yes , that\n",
      "Model: <SOS> and people people , , &quot; , , it\n",
      "\n",
      "Source: <UNK> sống và ngự_trị trong thế_giới của riêng mình ,\n",
      "Reference: <UNK> lived and reigned in his own world ,\n",
      "Model: <SOS> <UNK> and and and and the of of ,\n",
      "\n",
      "Source: hai từ có nguồn gốc_từ tiếng la_tinh \" <UNK> ,\n",
      "Reference: the two words come from the latin root &quot;\n",
      "Model: <SOS> the have of , have the <UNK> of ,\n",
      "\n"
     ]
    },
    {
     "name": "stderr",
     "output_type": "stream",
     "text": [
      "WARNING:root:That's 100 lines that end in a tokenized period ('.')\n",
      "WARNING:root:It looks like you forgot to detokenize your test data, which may hurt your score.\n",
      "WARNING:root:If you insist your data is detokenized, or don't care, you can suppress this message with '--force'.\n"
     ]
    },
    {
     "name": "stdout",
     "output_type": "stream",
     "text": [
      "Epoch: 1.24, Train Loss: 0.00, Val Loss: 4.57, Train BLEU: 0.00, Val BLEU: 10.77, Minutes Elapsed: 42.64\n",
      "Sampling from val predictions...\n",
      "Source: nhưng nếu_như nếu bệnh_nhân có_thể làm xét_nghiệm này ở nhà\n",
      "Reference: but what if patients could do this test at\n",
      "Model: <SOS> but if if can do this this this in\n",
      "\n",
      "Source: chúng_ta đang ở giai_đoạn cuối_cùng của cuộc cách_mạng công_nghiệp đầu_tiên\n",
      "Reference: we are at the end of the first industrial\n",
      "Model: <SOS> we &apos;re in the of of the of of\n",
      "\n",
      "Source: và tôi đã nhìn thấy xác họ nổi trên sông\n",
      "Reference: sometimes , i saw dead bodies floating down the\n",
      "Model: <SOS> and i thought see see that they they the\n",
      "\n"
     ]
    },
    {
     "name": "stderr",
     "output_type": "stream",
     "text": [
      "WARNING:root:That's 100 lines that end in a tokenized period ('.')\n",
      "WARNING:root:It looks like you forgot to detokenize your test data, which may hurt your score.\n",
      "WARNING:root:If you insist your data is detokenized, or don't care, you can suppress this message with '--force'.\n"
     ]
    },
    {
     "name": "stdout",
     "output_type": "stream",
     "text": [
      "Epoch: 1.48, Train Loss: 0.00, Val Loss: 4.44, Train BLEU: 0.00, Val BLEU: 11.17, Minutes Elapsed: 50.88\n",
      "Sampling from val predictions...\n",
      "Source: không tốn thời_giờ vàng_bạc của nhân_viên . <EOS> <PAD> <PAD>\n",
      "Reference: no expensive staff time required . <EOS> <PAD> <PAD>\n",
      "Model: <SOS> not &apos;s not the <EOS> <EOS> . . .\n",
      "\n",
      "Source: gần_đây hơn , nếu bạn đang theo_dõi tin_tức ở kenya\n",
      "Reference: more recently , if you &apos;ve been following the\n",
      "Model: <SOS> now , , if you &apos;re in at in\n",
      "\n",
      "Source: peter <UNK> là một giáo_sư triết_học trước khi làm công_việc\n",
      "Reference: peter <UNK> was a professor of philosophy before becoming\n",
      "Model: <SOS> robert <UNK> was a <UNK> of when that when\n",
      "\n"
     ]
    },
    {
     "name": "stderr",
     "output_type": "stream",
     "text": [
      "WARNING:root:That's 100 lines that end in a tokenized period ('.')\n",
      "WARNING:root:It looks like you forgot to detokenize your test data, which may hurt your score.\n",
      "WARNING:root:If you insist your data is detokenized, or don't care, you can suppress this message with '--force'.\n"
     ]
    },
    {
     "name": "stdout",
     "output_type": "stream",
     "text": [
      "Epoch: 1.72, Train Loss: 0.00, Val Loss: 4.33, Train BLEU: 0.00, Val BLEU: 11.87, Minutes Elapsed: 59.14\n",
      "Sampling from val predictions...\n",
      "Source: nhưng tôi đấu_tranh để duy_trì góc nhìn này trong cuộc_sống\n",
      "Reference: but i struggle to maintain this perspective in my\n",
      "Model: <SOS> but i decided to to this in in in\n",
      "\n",
      "Source: và tôi có được một công_tắc để có_thể tắt và\n",
      "Reference: and i got a switch where i can switch\n",
      "Model: <SOS> and i have a a that to to to\n",
      "\n",
      "Source: tôi sẽ nói cho bạn biết tại_sao . <EOS> <PAD>\n",
      "Reference: and i &apos;ll tell you why . <EOS> <PAD>\n",
      "Model: <SOS> i &apos;m &apos;m tell you why . <EOS> .\n",
      "\n"
     ]
    },
    {
     "name": "stderr",
     "output_type": "stream",
     "text": [
      "WARNING:root:That's 100 lines that end in a tokenized period ('.')\n",
      "WARNING:root:It looks like you forgot to detokenize your test data, which may hurt your score.\n",
      "WARNING:root:If you insist your data is detokenized, or don't care, you can suppress this message with '--force'.\n"
     ]
    },
    {
     "name": "stdout",
     "output_type": "stream",
     "text": [
      "Epoch: 1.96, Train Loss: 0.00, Val Loss: 4.26, Train BLEU: 0.00, Val BLEU: 12.69, Minutes Elapsed: 67.43\n",
      "Sampling from val predictions...\n",
      "Source: và tôi đã quyết_định sẽ gửi đơn_kiện tới toà_án ,\n",
      "Reference: so i decided to start a lawsuit against them\n",
      "Model: <SOS> and i decided to to the the of ,\n",
      "\n",
      "Source: tôi gặp những bé trai này lúc 5 giờ sáng\n",
      "Reference: i met these boys at five in the morning\n",
      "Model: <SOS> i i the i i i , , ,\n",
      "\n",
      "Source: viết lại cuộc_đời họ như nhưng người hạnh_phúc , đáng_yêu\n",
      "Reference: <UNK> survivors as wonderful , lovable people with full\n",
      "Model: <SOS> and they them , , , they , ,\n",
      "\n"
     ]
    },
    {
     "name": "stderr",
     "output_type": "stream",
     "text": [
      "WARNING:root:That's 100 lines that end in a tokenized period ('.')\n",
      "WARNING:root:It looks like you forgot to detokenize your test data, which may hurt your score.\n",
      "WARNING:root:If you insist your data is detokenized, or don't care, you can suppress this message with '--force'.\n"
     ]
    },
    {
     "name": "stdout",
     "output_type": "stream",
     "text": [
      "Epoch: 2.00, Train Loss: 0.00, Val Loss: 4.29, Train BLEU: 0.00, Val BLEU: 11.87, Minutes Elapsed: 68.87\n",
      "Sampling from val predictions...\n",
      "Source: ông ấy la lên : \" bọn taliban đã đi\n",
      "Reference: &quot; the taliban are gone ! &quot; my father\n",
      "Model: <SOS> he said said , , , &quot; &quot; &quot;\n",
      "\n",
      "Source: một trong số điều thông_minh nhất <UNK> đã làm ,\n",
      "Reference: one of the smartest things <UNK> did , from\n",
      "Model: <SOS> one of the most that the the , ,\n",
      "\n",
      "Source: không bị hư_hỏng trầm_trọng , nhưng chỗ bị thấm nước\n",
      "Reference: not terribly damaged , but where the water had\n",
      "Model: <SOS> not &apos;s , , , , &apos;s &apos;s of\n",
      "\n"
     ]
    },
    {
     "name": "stderr",
     "output_type": "stream",
     "text": [
      "WARNING:root:That's 100 lines that end in a tokenized period ('.')\n",
      "WARNING:root:It looks like you forgot to detokenize your test data, which may hurt your score.\n",
      "WARNING:root:If you insist your data is detokenized, or don't care, you can suppress this message with '--force'.\n"
     ]
    },
    {
     "name": "stdout",
     "output_type": "stream",
     "text": [
      "Epoch: 2.24, Train Loss: 0.00, Val Loss: 4.22, Train BLEU: 0.00, Val BLEU: 12.98, Minutes Elapsed: 77.12\n",
      "Sampling from val predictions...\n",
      "Source: và trong bức ảnh này , thực_ra tôi chưa hề\n",
      "Reference: and in this picture , i had actually never\n",
      "Model: <SOS> and in this picture , i &apos;m never that\n",
      "\n",
      "Source: tôi khám_phá ra rằng sư_tử sợ ánh_sáng chuyển_động . <EOS>\n",
      "Reference: and i discovered that lions are afraid of a\n",
      "Model: <SOS> i &apos;m realized that that was <EOS> . <EOS>\n",
      "\n",
      "Source: một buổi sáng mà tôi không_thể nào quên được .\n",
      "Reference: a morning that i will never forget . <EOS>\n",
      "Model: <SOS> a one that i couldn &apos;t get . <EOS>\n",
      "\n"
     ]
    },
    {
     "name": "stderr",
     "output_type": "stream",
     "text": [
      "WARNING:root:That's 100 lines that end in a tokenized period ('.')\n",
      "WARNING:root:It looks like you forgot to detokenize your test data, which may hurt your score.\n",
      "WARNING:root:If you insist your data is detokenized, or don't care, you can suppress this message with '--force'.\n"
     ]
    },
    {
     "name": "stdout",
     "output_type": "stream",
     "text": [
      "Epoch: 2.48, Train Loss: 0.00, Val Loss: 4.15, Train BLEU: 0.00, Val BLEU: 13.03, Minutes Elapsed: 85.40\n",
      "Sampling from val predictions...\n",
      "Source: nhưng sau đó tôi đã nói , tôi muốn công_khai\n",
      "Reference: but then i said , i want to go\n",
      "Model: <SOS> but then i said , i want to to\n",
      "\n",
      "Source: đây nên đáng là nguyên_tắc đầu_tiên về viện_trợ . <EOS>\n",
      "Reference: this should be the first principle of aid .\n",
      "Model: <SOS> this is the the first first of . .\n",
      "\n",
      "Source: ở new_york , chỉ có <UNK> ngàn người da_đen và\n",
      "Reference: and there are only <UNK> young black and latino\n",
      "Model: <SOS> in the , , , , <UNK> and and\n",
      "\n"
     ]
    },
    {
     "name": "stderr",
     "output_type": "stream",
     "text": [
      "WARNING:root:That's 100 lines that end in a tokenized period ('.')\n",
      "WARNING:root:It looks like you forgot to detokenize your test data, which may hurt your score.\n",
      "WARNING:root:If you insist your data is detokenized, or don't care, you can suppress this message with '--force'.\n"
     ]
    },
    {
     "name": "stdout",
     "output_type": "stream",
     "text": [
      "Epoch: 2.72, Train Loss: 0.00, Val Loss: 4.11, Train BLEU: 0.00, Val BLEU: 13.07, Minutes Elapsed: 93.74\n",
      "Sampling from val predictions...\n",
      "Source: bạn không_thể nào bị sỉ_nhục tồi_tệ hơn thế , và\n",
      "Reference: you could not get a worse insult , and\n",
      "Model: <SOS> you cannot &apos;t a more more of , and\n",
      "\n",
      "Source: tôi đang nói về việc giao công_việc cho mọi người\n",
      "Reference: what i &apos;m talking about is putting people to\n",
      "Model: <SOS> i &apos;m &apos;m talking about the future for for\n",
      "\n",
      "Source: thật đáng_tiếc sau khi bạn_học xong , bạn viết <UNK>\n",
      "Reference: unfortunately after you &apos;ve gone to school , and\n",
      "Model: <SOS> it &apos;s is , after the the , you\n",
      "\n"
     ]
    },
    {
     "name": "stderr",
     "output_type": "stream",
     "text": [
      "WARNING:root:That's 100 lines that end in a tokenized period ('.')\n",
      "WARNING:root:It looks like you forgot to detokenize your test data, which may hurt your score.\n",
      "WARNING:root:If you insist your data is detokenized, or don't care, you can suppress this message with '--force'.\n"
     ]
    },
    {
     "name": "stdout",
     "output_type": "stream",
     "text": [
      "Epoch: 2.96, Train Loss: 0.00, Val Loss: 4.08, Train BLEU: 0.00, Val BLEU: 13.90, Minutes Elapsed: 102.10\n",
      "Sampling from val predictions...\n",
      "Source: khi trượt tay , tôi <UNK> nhớ lại người thợ_mỏ\n",
      "Reference: when my hand slips , i suddenly remember a\n",
      "Model: <SOS> when i was , i i i my ,\n",
      "\n",
      "Source: tôi nhận ra rằng đó là một khoảng khắc có\n",
      "Reference: i realized that this was a symbolic moment in\n",
      "Model: <SOS> i found that was was a part of that\n",
      "\n",
      "Source: người nào sẽ sáng_chế ra cái công_nghệ cho cuộc cách_mạng\n",
      "Reference: who is going to invent the technology for the\n",
      "Model: <SOS> people would give to give the technology of the\n",
      "\n"
     ]
    },
    {
     "name": "stderr",
     "output_type": "stream",
     "text": [
      "WARNING:root:That's 100 lines that end in a tokenized period ('.')\n",
      "WARNING:root:It looks like you forgot to detokenize your test data, which may hurt your score.\n",
      "WARNING:root:If you insist your data is detokenized, or don't care, you can suppress this message with '--force'.\n"
     ]
    },
    {
     "name": "stdout",
     "output_type": "stream",
     "text": [
      "Epoch: 3.00, Train Loss: 0.00, Val Loss: 4.13, Train BLEU: 0.00, Val BLEU: 13.11, Minutes Elapsed: 103.55\n",
      "Sampling from val predictions...\n",
      "Source: vào tháng 11 năm 2011 , đang theo_dõi tình hình\n",
      "Reference: on march 11 , 2011 , i watched from\n",
      "Model: <SOS> in january 11th 2011 2011 the the the the\n",
      "\n",
      "Source: tôi đã không_thể trực_tiếp giúp gì cho họ . <EOS>\n",
      "Reference: i couldn &apos;t offer them any direct help .\n",
      "Model: <SOS> i couldn &apos;t have to job them them them\n",
      "\n",
      "Source: tất_nhiên những người dân bản_địa <UNK> hứng_thú làm công_việc này\n",
      "Reference: and of course the local people had absolutely no\n",
      "Model: <SOS> of of people of people of of this this\n",
      "\n"
     ]
    },
    {
     "name": "stderr",
     "output_type": "stream",
     "text": [
      "WARNING:root:That's 100 lines that end in a tokenized period ('.')\n",
      "WARNING:root:It looks like you forgot to detokenize your test data, which may hurt your score.\n",
      "WARNING:root:If you insist your data is detokenized, or don't care, you can suppress this message with '--force'.\n"
     ]
    },
    {
     "name": "stdout",
     "output_type": "stream",
     "text": [
      "Epoch: 3.24, Train Loss: 0.00, Val Loss: 4.09, Train BLEU: 0.00, Val BLEU: 13.83, Minutes Elapsed: 111.83\n",
      "Sampling from val predictions...\n",
      "Source: với_lại tôi cũng cảm_thấy mệt_mỏi với việc phải lái_xe 45\n",
      "Reference: plus i got tired of driving 45 minutes round\n",
      "Model: <SOS> so i i to with with with i i\n",
      "\n",
      "Source: nhưng cũng là có chọn_lọc . <EOS> <PAD> <PAD> <PAD>\n",
      "Reference: he has a selective one , though . <EOS>\n",
      "Model: <SOS> but it clearly . . <EOS> <EOS> &apos;s it\n",
      "\n",
      "Source: đây là vùng nam los angeles . <EOS> <PAD> <PAD>\n",
      "Reference: this is south los angeles . <EOS> <PAD> <PAD>\n",
      "Model: <SOS> this is the los los los <EOS> <EOS> .\n",
      "\n"
     ]
    },
    {
     "name": "stderr",
     "output_type": "stream",
     "text": [
      "WARNING:root:That's 100 lines that end in a tokenized period ('.')\n",
      "WARNING:root:It looks like you forgot to detokenize your test data, which may hurt your score.\n",
      "WARNING:root:If you insist your data is detokenized, or don't care, you can suppress this message with '--force'.\n"
     ]
    },
    {
     "name": "stdout",
     "output_type": "stream",
     "text": [
      "Epoch: 3.48, Train Loss: 0.00, Val Loss: 4.05, Train BLEU: 0.00, Val BLEU: 14.08, Minutes Elapsed: 120.15\n",
      "Sampling from val predictions...\n",
      "Source: khi chạy_trốn con sóng , để giữ lấy tính_mạng ,\n",
      "Reference: as they had run from the wave , and\n",
      "Model: <SOS> when the as , cold , , , to\n",
      "\n",
      "Source: bạn có_thể thấy tất_cả điều đó . <EOS> <PAD> <PAD>\n",
      "Reference: you can see all of this . <EOS> <PAD>\n",
      "Model: <SOS> you can see all . . . <EOS> .\n",
      "\n",
      "Source: vào ngày 13 tháng 5 , tôi tìm đường đến\n",
      "Reference: on may the 13th , i made my way\n",
      "Model: <SOS> on the 13th , , , i a to\n",
      "\n"
     ]
    },
    {
     "name": "stderr",
     "output_type": "stream",
     "text": [
      "WARNING:root:That's 100 lines that end in a tokenized period ('.')\n",
      "WARNING:root:It looks like you forgot to detokenize your test data, which may hurt your score.\n",
      "WARNING:root:If you insist your data is detokenized, or don't care, you can suppress this message with '--force'.\n"
     ]
    },
    {
     "name": "stdout",
     "output_type": "stream",
     "text": [
      "Epoch: 3.72, Train Loss: 0.00, Val Loss: 4.05, Train BLEU: 0.00, Val BLEU: 13.79, Minutes Elapsed: 128.51\n",
      "Sampling from val predictions...\n",
      "Source: thật ra , trong 10 năm . <EOS> <PAD> <PAD>\n",
      "Reference: actually , for 10 years . <EOS> <PAD> <PAD>\n",
      "Model: <SOS> in , in 10 years . <EOS> <EOS> .\n",
      "\n",
      "Source: nhưng sau đó tôi đã nói , tôi muốn công_khai\n",
      "Reference: but then i said , i want to go\n",
      "Model: <SOS> but then i said , i wanted to to\n",
      "\n",
      "Source: sau sáu tháng tại nhật bản , 1.100 tình_nguyện viên\n",
      "Reference: after six months in japan , 1,100 volunteers had\n",
      "Model: <SOS> after after months ago , , the country country\n",
      "\n"
     ]
    },
    {
     "name": "stderr",
     "output_type": "stream",
     "text": [
      "WARNING:root:That's 100 lines that end in a tokenized period ('.')\n",
      "WARNING:root:It looks like you forgot to detokenize your test data, which may hurt your score.\n",
      "WARNING:root:If you insist your data is detokenized, or don't care, you can suppress this message with '--force'.\n"
     ]
    },
    {
     "name": "stdout",
     "output_type": "stream",
     "text": [
      "Epoch: 3.96, Train Loss: 0.00, Val Loss: 4.04, Train BLEU: 0.00, Val BLEU: 14.27, Minutes Elapsed: 136.88\n",
      "Sampling from val predictions...\n",
      "Source: bởi_vì hoà_bình như thuật giả kim , nó cần đến\n",
      "Reference: for peace has an alchemy , and this alchemy\n",
      "Model: <SOS> because it , like the , , it needs\n",
      "\n",
      "Source: một trát hầu_toà vì trồng cây trên mảnh đất mà\n",
      "Reference: a warrant for planting food on a piece of\n",
      "Model: <SOS> a was is , , in the country ,\n",
      "\n",
      "Source: cảm_ơn các bạn . <EOS> <PAD> <PAD> <PAD> <PAD> <PAD>\n",
      "Reference: thank you . <EOS> <PAD> <PAD> <PAD> <PAD> <PAD>\n",
      "Model: <SOS> thank you . <EOS> you . . . .\n",
      "\n"
     ]
    },
    {
     "name": "stderr",
     "output_type": "stream",
     "text": [
      "WARNING:root:That's 100 lines that end in a tokenized period ('.')\n",
      "WARNING:root:It looks like you forgot to detokenize your test data, which may hurt your score.\n",
      "WARNING:root:If you insist your data is detokenized, or don't care, you can suppress this message with '--force'.\n"
     ]
    },
    {
     "name": "stdout",
     "output_type": "stream",
     "text": [
      "Epoch: 4.00, Train Loss: 0.00, Val Loss: 4.09, Train BLEU: 0.00, Val BLEU: 13.91, Minutes Elapsed: 138.34\n",
      "Sampling from val predictions...\n",
      "Source: nhưng tôi đưa kí_ức mình quay trở_lại những điều các\n",
      "Reference: but i cast my mind back to the things\n",
      "Model: <SOS> but i &apos;ve him back back how the .\n",
      "\n",
      "Source: đó là lúc 7 giờ sáng khi tôi còn đang\n",
      "Reference: it was 7 a.m. i still had on my\n",
      "Model: <SOS> it &apos;s a of of of when the of\n",
      "\n",
      "Source: những kỹ_sư tôi làm_việc cùng dạy tôi phải_biết <UNK> hoá\n",
      "Reference: and because the engineers that i &apos;ve worked with\n",
      "Model: <SOS> my i i work that work work work working\n",
      "\n"
     ]
    },
    {
     "name": "stderr",
     "output_type": "stream",
     "text": [
      "WARNING:root:That's 100 lines that end in a tokenized period ('.')\n",
      "WARNING:root:It looks like you forgot to detokenize your test data, which may hurt your score.\n",
      "WARNING:root:If you insist your data is detokenized, or don't care, you can suppress this message with '--force'.\n"
     ]
    },
    {
     "name": "stdout",
     "output_type": "stream",
     "text": [
      "Epoch: 4.24, Train Loss: 0.00, Val Loss: 4.09, Train BLEU: 0.00, Val BLEU: 14.02, Minutes Elapsed: 146.62\n",
      "Sampling from val predictions...\n",
      "Source: tôi nghĩ cuộc_đời mình đến đây là chấm_dứt , nhưng\n",
      "Reference: i thought my life was over , but i\n",
      "Model: <SOS> i think the life is this , but but\n",
      "\n",
      "Source: làm ý_tưởng mình dễ_hiểu không phải là hạ_thấp chúng .\n",
      "Reference: and making your ideas accessible is not the same\n",
      "Model: <SOS> the the idea idea is not not to .\n",
      "\n",
      "Source: bà ấy đây . <EOS> <PAD> <PAD> <PAD> <PAD> <PAD>\n",
      "Reference: there she is . <EOS> <PAD> <PAD> <PAD> <PAD>\n",
      "Model: <SOS> she &apos;s here . . . . . .\n",
      "\n"
     ]
    },
    {
     "name": "stderr",
     "output_type": "stream",
     "text": [
      "WARNING:root:That's 100 lines that end in a tokenized period ('.')\n",
      "WARNING:root:It looks like you forgot to detokenize your test data, which may hurt your score.\n",
      "WARNING:root:If you insist your data is detokenized, or don't care, you can suppress this message with '--force'.\n"
     ]
    },
    {
     "name": "stdout",
     "output_type": "stream",
     "text": [
      "Epoch: 4.48, Train Loss: 0.00, Val Loss: 4.04, Train BLEU: 0.00, Val BLEU: 14.30, Minutes Elapsed: 154.91\n",
      "Sampling from val predictions...\n",
      "Source: nhưng rất nhiều người đã chết . <EOS> <PAD> <PAD>\n",
      "Reference: but many die . <EOS> <PAD> <PAD> <PAD> <PAD>\n",
      "Model: <SOS> but many lot people have died &apos;t . .\n",
      "\n",
      "Source: chúng_ta có 8 loài kền_kền xuất_hiện tại kenya , trong\n",
      "Reference: we have eight species of vultures that occur in\n",
      "Model: <SOS> we have eight list of in in in in\n",
      "\n",
      "Source: thật_sự như bạn thấy ở đây vật_liệu này có dấu_hiệu\n",
      "Reference: here you see actually how the damage appears in\n",
      "Model: <SOS> but , you see china , is is a\n",
      "\n"
     ]
    },
    {
     "name": "stderr",
     "output_type": "stream",
     "text": [
      "WARNING:root:That's 100 lines that end in a tokenized period ('.')\n",
      "WARNING:root:It looks like you forgot to detokenize your test data, which may hurt your score.\n",
      "WARNING:root:If you insist your data is detokenized, or don't care, you can suppress this message with '--force'.\n"
     ]
    },
    {
     "name": "stdout",
     "output_type": "stream",
     "text": [
      "Epoch: 4.72, Train Loss: 0.00, Val Loss: 4.07, Train BLEU: 0.00, Val BLEU: 14.34, Minutes Elapsed: 163.22\n",
      "Sampling from val predictions...\n",
      "Source: okay , bạn có_thể bán nó không ? bạn có_thể\n",
      "Reference: okay , can you sell it ? can you\n",
      "Model: <SOS> okay , you you take it ? you you\n",
      "\n",
      "Source: sự ngược_đãi có_thể ảnh_hưởng đến con_gái bạn , em_gái của\n",
      "Reference: abuse could be affecting your daughter , your sister\n",
      "Model: <SOS> the can be your children children , your daughter\n",
      "\n",
      "Source: vậy không_gian bị bỏ_bê này đã trở_thành một không_gian kiến_tạo\n",
      "Reference: so this neglected space became a constructive one ,\n",
      "Model: <SOS> so this this is became a a of .\n",
      "\n"
     ]
    },
    {
     "name": "stderr",
     "output_type": "stream",
     "text": [
      "WARNING:root:That's 100 lines that end in a tokenized period ('.')\n",
      "WARNING:root:It looks like you forgot to detokenize your test data, which may hurt your score.\n",
      "WARNING:root:If you insist your data is detokenized, or don't care, you can suppress this message with '--force'.\n"
     ]
    },
    {
     "name": "stdout",
     "output_type": "stream",
     "text": [
      "Epoch: 4.96, Train Loss: 0.00, Val Loss: 4.08, Train BLEU: 0.00, Val BLEU: 13.91, Minutes Elapsed: 171.54\n",
      "Sampling from val predictions...\n",
      "Source: vì_thế tôi đã có một ý_tưởng . <EOS> <PAD> <PAD>\n",
      "Reference: so i had an idea . <EOS> <PAD> <PAD>\n",
      "Model: <SOS> so i had a idea . <EOS> &apos;ve a\n",
      "\n",
      "Source: bấy_giờ , điều cuối_cùng tôi muốn làm là rời_bỏ new_york\n",
      "Reference: now , the last thing i wanted to do\n",
      "Model: <SOS> now , the last thing i want to do\n",
      "\n",
      "Source: hơn 70 phần_trăm tội_ác bạo_hành gia_đình xảy_ra sau khi nạn_nhân\n",
      "Reference: over 70 percent of domestic violence murders happen after\n",
      "Model: <SOS> over 70 percent of the families in the the\n",
      "\n"
     ]
    },
    {
     "name": "stderr",
     "output_type": "stream",
     "text": [
      "WARNING:root:That's 100 lines that end in a tokenized period ('.')\n",
      "WARNING:root:It looks like you forgot to detokenize your test data, which may hurt your score.\n",
      "WARNING:root:If you insist your data is detokenized, or don't care, you can suppress this message with '--force'.\n"
     ]
    },
    {
     "name": "stdout",
     "output_type": "stream",
     "text": [
      "Epoch: 5.00, Train Loss: 0.00, Val Loss: 4.14, Train BLEU: 0.00, Val BLEU: 13.39, Minutes Elapsed: 172.99\n",
      "Sampling from val predictions...\n",
      "Source: không_khí rất vui_vẻ , và họ chia_sẻ những câu_chuyện về\n",
      "Reference: it was cool , and they just shared the\n",
      "Model: <SOS> it &apos;s so big , and share shared stories\n",
      "\n",
      "Source: hình_ảnh có sức_mạnh rất lớn , nhưng nó cũng rất\n",
      "Reference: image is powerful , but also image is superficial\n",
      "Model: <SOS> the &apos;s a very , , it it very\n",
      "\n",
      "Source: khi 27 tuổi , tôi đã quyết_định chỉ hưởng_ứng với\n",
      "Reference: i decided when i was 27 years old to\n",
      "Model: <SOS> when i , years years years years i i\n",
      "\n",
      "Model training completed in 172 minutes with 4.04 best validation loss and 14.34 best validation BLEU.\n",
      "Training with enc_dim = 256 and dec_dim = 512\n",
      "Epoch: 0.00, Train Loss: 0.00, Val Loss: 10.27, Train BLEU: 0.00, Val BLEU: 0.03, Minutes Elapsed: 0.08\n",
      "Sampling from val predictions...\n",
      "Source: chúng_tôi bắt_đầu hẹn_hò , và anh ta yêu tôi về\n",
      "Reference: we started dating , and he loved everything about\n",
      "Model: <SOS> coworker mediocre mediocre eppasod eppasod eppasod the the one-centimeter\n",
      "\n",
      "Source: chúng là những vật lưu_giữ kỉ_niệm và câu_chuyện của chúng_ta\n",
      "Reference: they &apos;re our <UNK> and our histories , the\n",
      "Model: <SOS> mediocre mediocre mediocre canadian canadian subsequently subsequently subsequently homogeneous\n",
      "\n",
      "Source: thời_gian dành ra để khôi phục nguyên_trạng là một câu_chuyện\n",
      "Reference: the time it took , however , to get\n",
      "Model: <SOS> sweltering mediocre mediocre skulls discs discs discs scotch scotch\n",
      "\n"
     ]
    },
    {
     "name": "stderr",
     "output_type": "stream",
     "text": [
      "WARNING:root:That's 100 lines that end in a tokenized period ('.')\n",
      "WARNING:root:It looks like you forgot to detokenize your test data, which may hurt your score.\n",
      "WARNING:root:If you insist your data is detokenized, or don't care, you can suppress this message with '--force'.\n"
     ]
    },
    {
     "name": "stdout",
     "output_type": "stream",
     "text": [
      "Epoch: 0.24, Train Loss: 0.00, Val Loss: 6.04, Train BLEU: 0.00, Val BLEU: 1.27, Minutes Elapsed: 8.14\n",
      "Sampling from val predictions...\n",
      "Source: tôi không biết điều gì xảy ra trong lúc đó\n",
      "Reference: that was , i don &apos;t know what happened\n",
      "Model: <SOS> i i , , , , , , ,\n",
      "\n",
      "Source: tôi đang nói về việc giao công_việc cho mọi người\n",
      "Reference: what i &apos;m talking about is putting people to\n",
      "Model: <SOS> i i , , , , , , ,\n",
      "\n",
      "Source: trồng một cây sẽ cho bạn 1.000 , 10.000 hạt_giống\n",
      "Reference: growing one plant will give you 1,000 , 10,000\n",
      "Model: <SOS> so , , , , , , , ,\n",
      "\n"
     ]
    },
    {
     "name": "stderr",
     "output_type": "stream",
     "text": [
      "WARNING:root:That's 100 lines that end in a tokenized period ('.')\n",
      "WARNING:root:It looks like you forgot to detokenize your test data, which may hurt your score.\n",
      "WARNING:root:If you insist your data is detokenized, or don't care, you can suppress this message with '--force'.\n"
     ]
    },
    {
     "name": "stdout",
     "output_type": "stream",
     "text": [
      "Epoch: 0.48, Train Loss: 0.00, Val Loss: 5.49, Train BLEU: 0.00, Val BLEU: 3.75, Minutes Elapsed: 16.21\n",
      "Sampling from val predictions...\n",
      "Source: uỷ_viên hội_đồng đó thậm_chí còn gọi tới và nói rằng\n",
      "Reference: my <UNK> even called in and said how they\n",
      "Model: <SOS> the the the the and and and and and\n",
      "\n",
      "Source: với một chiếc điện_thoại_di_động , bạn có_thể ghi lại hình_ảnh\n",
      "Reference: with a mobile phone , you can shoot a\n",
      "Model: <SOS> this &apos;s of , , you you to to\n",
      "\n",
      "Source: đó là lúc 7 giờ sáng khi tôi còn đang\n",
      "Reference: it was 7 a.m. i still had on my\n",
      "Model: <SOS> this is the of , i to i ,\n",
      "\n"
     ]
    },
    {
     "name": "stderr",
     "output_type": "stream",
     "text": [
      "WARNING:root:That's 100 lines that end in a tokenized period ('.')\n",
      "WARNING:root:It looks like you forgot to detokenize your test data, which may hurt your score.\n",
      "WARNING:root:If you insist your data is detokenized, or don't care, you can suppress this message with '--force'.\n"
     ]
    },
    {
     "name": "stdout",
     "output_type": "stream",
     "text": [
      "Epoch: 0.72, Train Loss: 0.00, Val Loss: 5.15, Train BLEU: 0.00, Val BLEU: 5.94, Minutes Elapsed: 24.25\n",
      "Sampling from val predictions...\n",
      "Source: em không nhớ liệu em có xoáy thanh kẹo sô\n",
      "Reference: he doesn &apos;t remember if he stole my chocolate\n",
      "Model: <SOS> he don &apos;t the to the the the the\n",
      "\n",
      "Source: nó xảy_ra mọi nơi . <EOS> <PAD> <PAD> <PAD> <PAD>\n",
      "Reference: it &apos;s everywhere . <EOS> <PAD> <PAD> <PAD> <PAD>\n",
      "Model: <SOS> it &apos;s the . <EOS> <EOS> . . .\n",
      "\n",
      "Source: tôi giúp dọn suối_nước_nóng suối_nước_nóng công_cộng , chiếc bồn_tắm khổng_lồ\n",
      "Reference: i was helping clean the <UNK> , the communal\n",
      "Model: <SOS> i &apos;m to the of , , , the\n",
      "\n"
     ]
    },
    {
     "name": "stderr",
     "output_type": "stream",
     "text": [
      "WARNING:root:That's 100 lines that end in a tokenized period ('.')\n",
      "WARNING:root:It looks like you forgot to detokenize your test data, which may hurt your score.\n",
      "WARNING:root:If you insist your data is detokenized, or don't care, you can suppress this message with '--force'.\n"
     ]
    },
    {
     "name": "stdout",
     "output_type": "stream",
     "text": [
      "Epoch: 0.96, Train Loss: 0.00, Val Loss: 4.93, Train BLEU: 0.00, Val BLEU: 7.74, Minutes Elapsed: 32.28\n",
      "Sampling from val predictions...\n",
      "Source: tôi nhận ra rằng người đàn_ông tôi rất yêu_thương sẽ\n",
      "Reference: i realized that the man who i loved so\n",
      "Model: <SOS> i i that the i of i i to\n",
      "\n",
      "Source: khi gạch tên đi thì sao ? gạch đi là\n",
      "Reference: what do bullets do ? bullets kill , and\n",
      "Model: <SOS> and you you ? ? ? ? ? <EOS>\n",
      "\n",
      "Source: vì_vậy tôi phát vỡ sự yên_lặng . <EOS> <PAD> <PAD>\n",
      "Reference: so i broke the silence . <EOS> <PAD> <PAD>\n",
      "Model: <SOS> so i was a . . <EOS> <EOS> .\n",
      "\n"
     ]
    },
    {
     "name": "stderr",
     "output_type": "stream",
     "text": [
      "WARNING:root:That's 100 lines that end in a tokenized period ('.')\n",
      "WARNING:root:It looks like you forgot to detokenize your test data, which may hurt your score.\n",
      "WARNING:root:If you insist your data is detokenized, or don't care, you can suppress this message with '--force'.\n"
     ]
    },
    {
     "name": "stdout",
     "output_type": "stream",
     "text": [
      "Epoch: 1.00, Train Loss: 0.00, Val Loss: 4.93, Train BLEU: 0.00, Val BLEU: 7.66, Minutes Elapsed: 33.68\n",
      "Sampling from val predictions...\n",
      "Source: nói rằng em muốn được là người_mẫu khi em lớn_lên\n",
      "Reference: saying that you want to be a model when\n",
      "Model: <SOS> the said that want to to a to to\n",
      "\n",
      "Source: với tôi , đó là câu_hỏi buồn và đau_đớn nhất\n",
      "Reference: to me , this is the saddest and most\n",
      "Model: <SOS> so i , it &apos;s a and and and\n",
      "\n",
      "Source: vào năm 2009 , tôi mất đi một người tôi\n",
      "Reference: in 2009 , i lost someone i loved very\n",
      "Model: <SOS> in years , i i a a a a\n",
      "\n"
     ]
    },
    {
     "name": "stderr",
     "output_type": "stream",
     "text": [
      "WARNING:root:That's 100 lines that end in a tokenized period ('.')\n",
      "WARNING:root:It looks like you forgot to detokenize your test data, which may hurt your score.\n",
      "WARNING:root:If you insist your data is detokenized, or don't care, you can suppress this message with '--force'.\n"
     ]
    },
    {
     "name": "stdout",
     "output_type": "stream",
     "text": [
      "Epoch: 1.24, Train Loss: 0.00, Val Loss: 4.77, Train BLEU: 0.00, Val BLEU: 9.33, Minutes Elapsed: 41.66\n",
      "Sampling from val predictions...\n",
      "Source: tại_sao xã_hội chúng_tôi tiếp_tục là một xã_hội phân_cực và thống_trị\n",
      "Reference: why does our society continue to be polarized and\n",
      "Model: <SOS> the we we have is a a a and\n",
      "\n",
      "Source: bằng vốn tiếng anh ít_ỏi của mình và một quyển\n",
      "Reference: in my broken english , and with a dictionary\n",
      "Model: <SOS> he &apos;s who , the and and was and\n",
      "\n",
      "Source: nhiều em chết_đuối . <EOS> <PAD> <PAD> <PAD> <PAD> <PAD>\n",
      "Reference: many of them drown . <EOS> <PAD> <PAD> <PAD>\n",
      "Model: <SOS> you you . . <EOS> <EOS> <EOS> . .\n",
      "\n"
     ]
    },
    {
     "name": "stderr",
     "output_type": "stream",
     "text": [
      "WARNING:root:That's 100 lines that end in a tokenized period ('.')\n",
      "WARNING:root:It looks like you forgot to detokenize your test data, which may hurt your score.\n",
      "WARNING:root:If you insist your data is detokenized, or don't care, you can suppress this message with '--force'.\n"
     ]
    },
    {
     "name": "stdout",
     "output_type": "stream",
     "text": [
      "Epoch: 1.48, Train Loss: 0.00, Val Loss: 4.65, Train BLEU: 0.00, Val BLEU: 9.83, Minutes Elapsed: 49.66\n",
      "Sampling from val predictions...\n",
      "Source: nhưng bạn có_thể thấy cách mà chúng_ta giao_tiếp với nhau\n",
      "Reference: but you can see how your people are communicating\n",
      "Model: <SOS> but you can see how what &apos;re . to\n",
      "\n",
      "Source: theo một đoạn thơ trong kinh koran \" <UNK> \"\n",
      "Reference: according to a <UNK> verse &quot; <UNK> &quot; --\n",
      "Model: <SOS> in a a in of in &quot; &quot; &quot;\n",
      "\n",
      "Source: sự tự_chủ và việc sống trong thời đại công_nghệ số\n",
      "Reference: but <UNK> and living in the digital age is\n",
      "Model: <SOS> the and and and in the , of ,\n",
      "\n"
     ]
    },
    {
     "name": "stderr",
     "output_type": "stream",
     "text": [
      "WARNING:root:That's 100 lines that end in a tokenized period ('.')\n",
      "WARNING:root:It looks like you forgot to detokenize your test data, which may hurt your score.\n",
      "WARNING:root:If you insist your data is detokenized, or don't care, you can suppress this message with '--force'.\n"
     ]
    },
    {
     "name": "stdout",
     "output_type": "stream",
     "text": [
      "Epoch: 1.72, Train Loss: 0.00, Val Loss: 4.55, Train BLEU: 0.00, Val BLEU: 10.36, Minutes Elapsed: 57.68\n",
      "Sampling from val predictions...\n",
      "Source: sau 2 giờ cuốc_bộ nữa , dấu_vết quanh_co bất_ngờ kết_thúc\n",
      "Reference: after another two hours of hiking , the <UNK>\n",
      "Model: <SOS> after the two two , the , the the\n",
      "\n",
      "Source: bởi_vì dù chúng_tôi chụp cùng một bức ảnh , nhưng\n",
      "Reference: because while we take the same photo , our\n",
      "Model: <SOS> because we we we to a of , but\n",
      "\n",
      "Source: nó được gọi_là chỉ_thị <UNK> dữ_liệu . <EOS> <PAD> <PAD>\n",
      "Reference: this directive &#91; is &#93; called data retention directive\n",
      "Model: <SOS> it &apos;s called called &#93; a . . <EOS>\n",
      "\n"
     ]
    },
    {
     "name": "stderr",
     "output_type": "stream",
     "text": [
      "WARNING:root:That's 100 lines that end in a tokenized period ('.')\n",
      "WARNING:root:It looks like you forgot to detokenize your test data, which may hurt your score.\n",
      "WARNING:root:If you insist your data is detokenized, or don't care, you can suppress this message with '--force'.\n"
     ]
    },
    {
     "name": "stdout",
     "output_type": "stream",
     "text": [
      "Epoch: 1.96, Train Loss: 0.00, Val Loss: 4.45, Train BLEU: 0.00, Val BLEU: 11.11, Minutes Elapsed: 65.69\n",
      "Sampling from val predictions...\n",
      "Source: chào . xin cảm_ơn . <EOS> <PAD> <PAD> <PAD> <PAD>\n",
      "Reference: peace . thank you . <EOS> <PAD> <PAD> <PAD>\n",
      "Model: <SOS> thank you thank you . <EOS> you . .\n",
      "\n",
      "Source: cho đến nay , tôi đã giúp lắp_đặt cho 7\n",
      "Reference: since now , i &apos;ve set up seven homes\n",
      "Model: <SOS> i i i i &apos;ve to to to in\n",
      "\n",
      "Source: cái khát_vọng của người phụ_nữ có cho sự phát_triển của\n",
      "Reference: the passion that the person has for her own\n",
      "Model: <SOS> the &apos;s of the have is to a of\n",
      "\n"
     ]
    },
    {
     "name": "stderr",
     "output_type": "stream",
     "text": [
      "WARNING:root:That's 100 lines that end in a tokenized period ('.')\n",
      "WARNING:root:It looks like you forgot to detokenize your test data, which may hurt your score.\n",
      "WARNING:root:If you insist your data is detokenized, or don't care, you can suppress this message with '--force'.\n"
     ]
    },
    {
     "name": "stdout",
     "output_type": "stream",
     "text": [
      "Epoch: 2.00, Train Loss: 0.00, Val Loss: 4.50, Train BLEU: 0.00, Val BLEU: 10.85, Minutes Elapsed: 67.08\n",
      "Sampling from val predictions...\n",
      "Source: chúng thật_sự là những gã gom rác tự_nhiên . <EOS>\n",
      "Reference: they &apos;re our natural garbage collectors . <EOS> <PAD>\n",
      "Model: <SOS> they are really , , . . <EOS> .\n",
      "\n",
      "Source: còn khi chúng_tôi ở sau cánh_gà , chúng_tôi đưa ra\n",
      "Reference: and when we &apos;re backstage , we give an\n",
      "Model: <SOS> so we we we in , we we to\n",
      "\n",
      "Source: cảm_ơn . <EOS> <PAD> <PAD> <PAD> <PAD> <PAD> <PAD> <PAD>\n",
      "Reference: thank you . <EOS> <PAD> <PAD> <PAD> <PAD> <PAD>\n",
      "Model: <SOS> thank you . <EOS> you . . . .\n",
      "\n"
     ]
    },
    {
     "name": "stderr",
     "output_type": "stream",
     "text": [
      "WARNING:root:That's 100 lines that end in a tokenized period ('.')\n",
      "WARNING:root:It looks like you forgot to detokenize your test data, which may hurt your score.\n",
      "WARNING:root:If you insist your data is detokenized, or don't care, you can suppress this message with '--force'.\n"
     ]
    },
    {
     "name": "stdout",
     "output_type": "stream",
     "text": [
      "Epoch: 2.48, Train Loss: 0.00, Val Loss: 4.34, Train BLEU: 0.00, Val BLEU: 12.02, Minutes Elapsed: 83.16\n",
      "Sampling from val predictions...\n",
      "Source: dearborn , michigan . henry ford . <EOS> <PAD> <PAD>\n",
      "Reference: <UNK> , michigan . henry ford . <EOS> <PAD>\n",
      "Model: <SOS> <UNK> , <UNK> . <UNK> <UNK> . . .\n",
      "\n",
      "Source: như ahmed . đó không phải là tên thật của_ông\n",
      "Reference: like ahmed . that &apos;s not his real name\n",
      "Model: <SOS> but <UNK> . it &apos;s not the . .\n",
      "\n",
      "Source: xã_hội của chúng_tôi , thành_hình bởi các tư_duy cách_mạng ,\n",
      "Reference: our society , shaped by a revolutionary mindset ,\n",
      "Model: <SOS> our society , our , , , , ,\n",
      "\n"
     ]
    },
    {
     "name": "stderr",
     "output_type": "stream",
     "text": [
      "WARNING:root:That's 100 lines that end in a tokenized period ('.')\n",
      "WARNING:root:It looks like you forgot to detokenize your test data, which may hurt your score.\n",
      "WARNING:root:If you insist your data is detokenized, or don't care, you can suppress this message with '--force'.\n"
     ]
    },
    {
     "name": "stdout",
     "output_type": "stream",
     "text": [
      "Epoch: 2.72, Train Loss: 0.00, Val Loss: 4.28, Train BLEU: 0.00, Val BLEU: 12.49, Minutes Elapsed: 91.23\n",
      "Sampling from val predictions...\n",
      "Source: đây là một trong những tấm ảnh đầu_tiên mà tôi\n",
      "Reference: this picture is the very first picture that i\n",
      "Model: <SOS> this is one of the most first my i\n",
      "\n",
      "Source: những người này không có gì , họ chết_điếng ,\n",
      "Reference: i mean , these people had nothing , and\n",
      "Model: <SOS> these people have , they , they , they\n",
      "\n",
      "Source: tôi gặp cậu_bé ở khu cứu_trợ mà tổ_chức giải_phóng nô_lệ\n",
      "Reference: i met him at a shelter where free the\n",
      "Model: <SOS> i i the in the the of the the\n",
      "\n"
     ]
    },
    {
     "name": "stderr",
     "output_type": "stream",
     "text": [
      "WARNING:root:That's 100 lines that end in a tokenized period ('.')\n",
      "WARNING:root:It looks like you forgot to detokenize your test data, which may hurt your score.\n",
      "WARNING:root:If you insist your data is detokenized, or don't care, you can suppress this message with '--force'.\n"
     ]
    },
    {
     "name": "stdout",
     "output_type": "stream",
     "text": [
      "Epoch: 2.96, Train Loss: 0.00, Val Loss: 4.24, Train BLEU: 0.00, Val BLEU: 12.72, Minutes Elapsed: 99.29\n",
      "Sampling from val predictions...\n",
      "Source: ai là người gọi cho những ai ? ai là\n",
      "Reference: who calls whom ? who sends whom an email\n",
      "Model: <SOS> who who who who who who who ? who\n",
      "\n",
      "Source: nó giống 1 nhà_hàng hơn . <EOS> <PAD> <PAD> <PAD>\n",
      "Reference: it was more like a restaurant . <EOS> <PAD>\n",
      "Model: <SOS> it &apos;s a a . . . <EOS> .\n",
      "\n",
      "Source: lúc đó , tôi chỉ nghĩ rằng mình sẽ phải\n",
      "Reference: but i only thought that i would be separated\n",
      "Model: <SOS> and i i that that i would going to\n",
      "\n"
     ]
    },
    {
     "name": "stderr",
     "output_type": "stream",
     "text": [
      "WARNING:root:That's 100 lines that end in a tokenized period ('.')\n",
      "WARNING:root:It looks like you forgot to detokenize your test data, which may hurt your score.\n",
      "WARNING:root:If you insist your data is detokenized, or don't care, you can suppress this message with '--force'.\n"
     ]
    },
    {
     "name": "stdout",
     "output_type": "stream",
     "text": [
      "Epoch: 3.00, Train Loss: 0.00, Val Loss: 4.29, Train BLEU: 0.00, Val BLEU: 12.16, Minutes Elapsed: 100.69\n",
      "Sampling from val predictions...\n",
      "Source: vì đó là lần đầu_tiên tôi biết rằng đồng_bào của\n",
      "Reference: this was the first time i heard that people\n",
      "Model: <SOS> so i the first time i i that the\n",
      "\n",
      "Source: chúng_tôi đang hợp_tác với những cộng_đồng địa_phương <EOS> <PAD> <PAD>\n",
      "Reference: we &apos;re working with local communities . <EOS> <PAD>\n",
      "Model: <SOS> we &apos;re looking with with of . . are\n",
      "\n",
      "Source: những cái hầm sâu tới cả trăm mét , họ\n",
      "Reference: the shafts are up to 300 feet deep ,\n",
      "Model: <SOS> the the of the in the the , the\n",
      "\n"
     ]
    },
    {
     "name": "stderr",
     "output_type": "stream",
     "text": [
      "WARNING:root:That's 100 lines that end in a tokenized period ('.')\n",
      "WARNING:root:It looks like you forgot to detokenize your test data, which may hurt your score.\n",
      "WARNING:root:If you insist your data is detokenized, or don't care, you can suppress this message with '--force'.\n"
     ]
    },
    {
     "name": "stdout",
     "output_type": "stream",
     "text": [
      "Epoch: 3.24, Train Loss: 0.00, Val Loss: 4.23, Train BLEU: 0.00, Val BLEU: 13.18, Minutes Elapsed: 108.73\n",
      "Sampling from val predictions...\n",
      "Source: từ_đó chúng_tôi bắt_đầu nhờ khách du_lịch qua_đường chụp_ảnh <EOS> <PAD>\n",
      "Reference: this is when we started asking passing tourists to\n",
      "Model: <SOS> from we from to start the the the .\n",
      "\n",
      "Source: khi 27 tuổi , tôi đã quyết_định chỉ hưởng_ứng với\n",
      "Reference: i decided when i was 27 years old to\n",
      "Model: <SOS> when i , , , , , , i\n",
      "\n",
      "Source: và tôi tự_hỏi , bạn cảm_thấy thế_nào khi không có\n",
      "Reference: and i was wondering , how would you feel\n",
      "Model: <SOS> and i wondered , , , you you feel\n",
      "\n"
     ]
    },
    {
     "name": "stderr",
     "output_type": "stream",
     "text": [
      "WARNING:root:That's 100 lines that end in a tokenized period ('.')\n",
      "WARNING:root:It looks like you forgot to detokenize your test data, which may hurt your score.\n",
      "WARNING:root:If you insist your data is detokenized, or don't care, you can suppress this message with '--force'.\n"
     ]
    },
    {
     "name": "stdout",
     "output_type": "stream",
     "text": [
      "Epoch: 3.48, Train Loss: 0.00, Val Loss: 4.18, Train BLEU: 0.00, Val BLEU: 13.18, Minutes Elapsed: 116.78\n",
      "Sampling from val predictions...\n",
      "Source: cảm_ơn rất nhiều . <EOS> <PAD> <PAD> <PAD> <PAD> <PAD>\n",
      "Reference: thank you very much . <EOS> <PAD> <PAD> <PAD>\n",
      "Model: <SOS> thank you very much . <EOS> . . .\n",
      "\n",
      "Source: chúng_tôi có_thể làm giảm khó_khăn hậu_cần cho bệnh_nhân . <EOS>\n",
      "Reference: we can reduce logistical difficulties with patients . <EOS>\n",
      "Model: <SOS> we can do the people . <EOS> . <EOS>\n",
      "\n",
      "Source: đây là những hình_ảnh trực_quan về cuộc_sống trong sáu tháng\n",
      "Reference: this is a visualization of six months of my\n",
      "Model: <SOS> these are the the of of in in the\n",
      "\n"
     ]
    },
    {
     "name": "stderr",
     "output_type": "stream",
     "text": [
      "WARNING:root:That's 100 lines that end in a tokenized period ('.')\n",
      "WARNING:root:It looks like you forgot to detokenize your test data, which may hurt your score.\n",
      "WARNING:root:If you insist your data is detokenized, or don't care, you can suppress this message with '--force'.\n"
     ]
    },
    {
     "name": "stdout",
     "output_type": "stream",
     "text": [
      "Epoch: 3.72, Train Loss: 0.00, Val Loss: 4.14, Train BLEU: 0.00, Val BLEU: 13.69, Minutes Elapsed: 124.84\n",
      "Sampling from val predictions...\n",
      "Source: bây_giờ tôi muốn giới_thiệu các bạn với những người em_trai\n",
      "Reference: now i &apos;d like to introduce you to my\n",
      "Model: <SOS> now i want to to introduce you to the\n",
      "\n",
      "Source: nếu chúng_tôi tạo ra được vật_liệu tự hàn_gắn này ,\n",
      "Reference: if we can make this material <UNK> , then\n",
      "Model: <SOS> if we create this this data , this ,\n",
      "\n",
      "Source: nó trở_nên thật thiêng_liêng với chúng_tôi . <EOS> <PAD> <PAD>\n",
      "Reference: it &apos;s really become sacred to us . <EOS>\n",
      "Model: <SOS> it &apos;s also to to us . . <EOS>\n",
      "\n"
     ]
    },
    {
     "name": "stderr",
     "output_type": "stream",
     "text": [
      "WARNING:root:That's 100 lines that end in a tokenized period ('.')\n",
      "WARNING:root:It looks like you forgot to detokenize your test data, which may hurt your score.\n",
      "WARNING:root:If you insist your data is detokenized, or don't care, you can suppress this message with '--force'.\n"
     ]
    },
    {
     "name": "stdout",
     "output_type": "stream",
     "text": [
      "Epoch: 3.96, Train Loss: 0.00, Val Loss: 4.12, Train BLEU: 0.00, Val BLEU: 14.08, Minutes Elapsed: 132.93\n",
      "Sampling from val predictions...\n",
      "Source: thế nên tôi đã lấy một bình ắc - quy\n",
      "Reference: so i got an old car battery , an\n",
      "Model: <SOS> so i i a a of of the the\n",
      "\n",
      "Source: tôi vừa_mới thay_đổi hoàn_toàn những gì bạn nghĩ về tôi\n",
      "Reference: i just totally transformed what you thought of me\n",
      "Model: <SOS> i i to change that what i thinking i\n",
      "\n",
      "Source: họ hầu_như không thể chế_độ một vợ - một chồng\n",
      "Reference: they are hardly monogamous . <EOS> <PAD> <PAD> <PAD>\n",
      "Model: <SOS> they they &apos;t to to a &apos;s , ,\n",
      "\n"
     ]
    },
    {
     "name": "stderr",
     "output_type": "stream",
     "text": [
      "WARNING:root:That's 100 lines that end in a tokenized period ('.')\n",
      "WARNING:root:It looks like you forgot to detokenize your test data, which may hurt your score.\n",
      "WARNING:root:If you insist your data is detokenized, or don't care, you can suppress this message with '--force'.\n"
     ]
    },
    {
     "name": "stdout",
     "output_type": "stream",
     "text": [
      "Epoch: 4.00, Train Loss: 0.00, Val Loss: 4.18, Train BLEU: 0.00, Val BLEU: 13.58, Minutes Elapsed: 134.34\n",
      "Sampling from val predictions...\n",
      "Source: chúng_tôi đã có khoảng 50 người tới tham_gia đào_bới ,\n",
      "Reference: we &apos;ve had , like , 50 people come\n",
      "Model: <SOS> we &apos;ve 50 50 50 50 50 of of\n",
      "\n",
      "Source: sau đó , khi bạn trở_về nhà , hãy nói\n",
      "Reference: so , when you go home , tell your\n",
      "Model: <SOS> and then when you go back , , ,\n",
      "\n",
      "Source: tôi đã trải qua một cuộc khủng_hoảng về nguồn_gốc của\n",
      "Reference: i even went through an identity crisis . <EOS>\n",
      "Model: <SOS> i grew through a a small of of the\n",
      "\n"
     ]
    },
    {
     "name": "stderr",
     "output_type": "stream",
     "text": [
      "WARNING:root:That's 100 lines that end in a tokenized period ('.')\n",
      "WARNING:root:It looks like you forgot to detokenize your test data, which may hurt your score.\n",
      "WARNING:root:If you insist your data is detokenized, or don't care, you can suppress this message with '--force'.\n"
     ]
    },
    {
     "name": "stdout",
     "output_type": "stream",
     "text": [
      "Epoch: 4.24, Train Loss: 0.00, Val Loss: 4.12, Train BLEU: 0.00, Val BLEU: 13.92, Minutes Elapsed: 142.44\n",
      "Sampling from val predictions...\n",
      "Source: và trong bức ảnh này , thực_ra tôi chưa hề\n",
      "Reference: and in this picture , i had actually never\n",
      "Model: <SOS> and in this picture , i i &apos;t even\n",
      "\n",
      "Source: chúng_tôi là một nhóm lấy chia_sẻ làm thù_lao , gồm\n",
      "Reference: what we do , we &apos;re a <UNK> kind\n",
      "Model: <SOS> we &apos;re we a a we a to to\n",
      "\n",
      "Source: một ngày , cơn ác_mộng đó đã thành sự_thật ,\n",
      "Reference: one day , my worst nightmare came true ,\n",
      "Model: <SOS> one day , the was was become , ,\n",
      "\n"
     ]
    },
    {
     "name": "stderr",
     "output_type": "stream",
     "text": [
      "WARNING:root:That's 100 lines that end in a tokenized period ('.')\n",
      "WARNING:root:It looks like you forgot to detokenize your test data, which may hurt your score.\n",
      "WARNING:root:If you insist your data is detokenized, or don't care, you can suppress this message with '--force'.\n"
     ]
    },
    {
     "name": "stdout",
     "output_type": "stream",
     "text": [
      "Epoch: 4.48, Train Loss: 0.00, Val Loss: 4.09, Train BLEU: 0.00, Val BLEU: 14.09, Minutes Elapsed: 150.53\n",
      "Sampling from val predictions...\n",
      "Source: khi charles darwin vượt_qua thái_bình_dương năm <UNK> từ tàu <UNK>\n",
      "Reference: when charles darwin went across the atlantic in <UNK>\n",
      "Model: <SOS> when <UNK> <UNK> was the the the of from\n",
      "\n",
      "Source: đương_nhiên vẫn còn nhiều bất_tiện , và điều bất_tiện của\n",
      "Reference: it also has disadvantages , of course , and\n",
      "Model: <SOS> and course a of lot and , , the\n",
      "\n",
      "Source: sao_vậy ? bởi_vì họ nhìn vào đường_cong trên phác_đồ và\n",
      "Reference: why ? because they looked at the curve and\n",
      "Model: <SOS> why ? because they look at the future on\n",
      "\n"
     ]
    },
    {
     "name": "stderr",
     "output_type": "stream",
     "text": [
      "WARNING:root:That's 100 lines that end in a tokenized period ('.')\n",
      "WARNING:root:It looks like you forgot to detokenize your test data, which may hurt your score.\n",
      "WARNING:root:If you insist your data is detokenized, or don't care, you can suppress this message with '--force'.\n"
     ]
    },
    {
     "name": "stdout",
     "output_type": "stream",
     "text": [
      "Epoch: 4.72, Train Loss: 0.00, Val Loss: 4.08, Train BLEU: 0.00, Val BLEU: 14.72, Minutes Elapsed: 158.68\n",
      "Sampling from val predictions...\n",
      "Source: sao_vậy ? bởi_vì họ nhìn vào đường_cong trên phác_đồ và\n",
      "Reference: why ? because they looked at the curve and\n",
      "Model: <SOS> why ? because they look at the future of\n",
      "\n",
      "Source: nhưng nếu ta không thay_đổi thành_phần của đất , ta\n",
      "Reference: but if we don &apos;t change the composition of\n",
      "Model: <SOS> but if we &apos;re &apos;t change the the of\n",
      "\n",
      "Source: tôi đã dàng hết sự_nghiệp làm_việc cho những công_ty trong\n",
      "Reference: i &apos;ve spent most of my career working for\n",
      "Model: <SOS> i &apos;ve been a lot for for for the\n",
      "\n"
     ]
    },
    {
     "name": "stderr",
     "output_type": "stream",
     "text": [
      "WARNING:root:That's 100 lines that end in a tokenized period ('.')\n",
      "WARNING:root:It looks like you forgot to detokenize your test data, which may hurt your score.\n",
      "WARNING:root:If you insist your data is detokenized, or don't care, you can suppress this message with '--force'.\n"
     ]
    },
    {
     "name": "stdout",
     "output_type": "stream",
     "text": [
      "Epoch: 4.96, Train Loss: 0.00, Val Loss: 4.07, Train BLEU: 0.00, Val BLEU: 14.67, Minutes Elapsed: 166.81\n",
      "Sampling from val predictions...\n",
      "Source: chúng_tôi cũng có_thể đóng vai_trò như cầu_nối giữa những người\n",
      "Reference: we can also act as a bridge between the\n",
      "Model: <SOS> we we also a as as as of we\n",
      "\n",
      "Source: chúng_ta thấy đều cùng triệu_chứng . <EOS> <PAD> <PAD> <PAD>\n",
      "Reference: we see all the same symptoms . <EOS> <PAD>\n",
      "Model: <SOS> we see all the . . . <EOS> <EOS>\n",
      "\n",
      "Source: nhưng tôi đấu_tranh để duy_trì góc nhìn này trong cuộc_sống\n",
      "Reference: but i struggle to maintain this perspective in my\n",
      "Model: <SOS> but i &apos;m to to this process in the\n",
      "\n"
     ]
    },
    {
     "name": "stderr",
     "output_type": "stream",
     "text": [
      "WARNING:root:That's 100 lines that end in a tokenized period ('.')\n",
      "WARNING:root:It looks like you forgot to detokenize your test data, which may hurt your score.\n",
      "WARNING:root:If you insist your data is detokenized, or don't care, you can suppress this message with '--force'.\n"
     ]
    },
    {
     "name": "stdout",
     "output_type": "stream",
     "text": [
      "Epoch: 5.00, Train Loss: 0.00, Val Loss: 4.10, Train BLEU: 0.00, Val BLEU: 14.03, Minutes Elapsed: 168.20\n",
      "Sampling from val predictions...\n",
      "Source: rất nhiều người bị lừa bởi những lời_hứa <UNK> về\n",
      "Reference: many have been tricked by false promises of a\n",
      "Model: <SOS> many lot people people by by by the the\n",
      "\n",
      "Source: cùng nhau , chúng_ta đã chỉ ra những không_gian công_cộng\n",
      "Reference: together , we &apos;ve shown how powerful our public\n",
      "Model: <SOS> together we we &apos;ve discovered been the space in\n",
      "\n",
      "Source: vậy cuối_cùng nó đã giúp_ích gì ? <EOS> <PAD> <PAD>\n",
      "Reference: what is it , then ? <EOS> <PAD> <PAD>\n",
      "Model: <SOS> so what does last that does , it ?\n",
      "\n",
      "Model training completed in 168 minutes with 4.07 best validation loss and 14.72 best validation BLEU.\n",
      "Training with enc_dim = 128 and dec_dim = 256\n",
      "Epoch: 0.00, Train Loss: 0.00, Val Loss: 10.29, Train BLEU: 0.00, Val BLEU: 0.01, Minutes Elapsed: 0.08\n",
      "Sampling from val predictions...\n",
      "Source: họ còn lâu mới bị tuyệt_chủng . <EOS> <PAD> <PAD>\n",
      "Reference: they are far from being extinct . <EOS> <PAD>\n",
      "Model: <SOS> child-soldiers jarrett 79 79 79 peace peace peace peace\n",
      "\n",
      "Source: nhưng tôi đấu_tranh để duy_trì góc nhìn này trong cuộc_sống\n",
      "Reference: but i struggle to maintain this perspective in my\n",
      "Model: <SOS> child-soldiers 79 79 79 grandeur grandeur grandeur grandeur peace\n",
      "\n",
      "Source: vào cuối_tuần đầu_tiên ở đó , tôi đến giúp_đỡ một\n",
      "Reference: at the end of my first week there ,\n",
      "Model: <SOS> child-soldiers 79 79 79 integrations integrations present-hedonism present-hedonism peace\n",
      "\n"
     ]
    },
    {
     "name": "stderr",
     "output_type": "stream",
     "text": [
      "WARNING:root:That's 100 lines that end in a tokenized period ('.')\n",
      "WARNING:root:It looks like you forgot to detokenize your test data, which may hurt your score.\n",
      "WARNING:root:If you insist your data is detokenized, or don't care, you can suppress this message with '--force'.\n"
     ]
    },
    {
     "name": "stdout",
     "output_type": "stream",
     "text": [
      "Epoch: 0.24, Train Loss: 0.00, Val Loss: 6.09, Train BLEU: 0.00, Val BLEU: 1.35, Minutes Elapsed: 7.90\n",
      "Sampling from val predictions...\n",
      "Source: gần 200 tổ_chức được thiết_lập tại benghazi trong suốt thời_gian\n",
      "Reference: almost 200 organizations were established in benghazi during and\n",
      "Model: <SOS> so i , , , , , , ,\n",
      "\n",
      "Source: chính_phủ ư ? quên đi ! <EOS> <PAD> <PAD> <PAD>\n",
      "Reference: government ? forget about it ! <EOS> <PAD> <PAD>\n",
      "Model: <SOS> it &apos;s . . <EOS> <EOS> <EOS> <EOS> <EOS>\n",
      "\n",
      "Source: người nào sẽ sáng_chế ra cái công_nghệ cho cuộc cách_mạng\n",
      "Reference: who is going to invent the technology for the\n",
      "Model: <SOS> so i , , , , , , ,\n",
      "\n"
     ]
    },
    {
     "name": "stderr",
     "output_type": "stream",
     "text": [
      "WARNING:root:That's 100 lines that end in a tokenized period ('.')\n",
      "WARNING:root:It looks like you forgot to detokenize your test data, which may hurt your score.\n",
      "WARNING:root:If you insist your data is detokenized, or don't care, you can suppress this message with '--force'.\n"
     ]
    },
    {
     "name": "stdout",
     "output_type": "stream",
     "text": [
      "Epoch: 0.48, Train Loss: 0.00, Val Loss: 5.76, Train BLEU: 0.00, Val BLEU: 2.80, Minutes Elapsed: 15.78\n",
      "Sampling from val predictions...\n",
      "Source: nhưng từ khi xuất_bản \" <UNK> love \" tôi đã\n",
      "Reference: but since publishing &quot; crazy love , &quot; i\n",
      "Model: <SOS> but , , , , , , you you\n",
      "\n",
      "Source: tôi nghĩ rằng cái_họ muốn được nghe là \" nếu\n",
      "Reference: and i think the answer that they &apos;re looking\n",
      "Model: <SOS> i i i to you , you you to\n",
      "\n",
      "Source: em la_hét nhiều . <EOS> <PAD> <PAD> <PAD> <PAD> <PAD>\n",
      "Reference: he screamed a lot . <EOS> <PAD> <PAD> <PAD>\n",
      "Model: <SOS> thank : . <EOS> . <EOS> <EOS> . .\n",
      "\n"
     ]
    },
    {
     "name": "stderr",
     "output_type": "stream",
     "text": [
      "WARNING:root:That's 100 lines that end in a tokenized period ('.')\n",
      "WARNING:root:It looks like you forgot to detokenize your test data, which may hurt your score.\n",
      "WARNING:root:If you insist your data is detokenized, or don't care, you can suppress this message with '--force'.\n"
     ]
    },
    {
     "name": "stdout",
     "output_type": "stream",
     "text": [
      "Epoch: 0.72, Train Loss: 0.00, Val Loss: 5.45, Train BLEU: 0.00, Val BLEU: 4.12, Minutes Elapsed: 23.64\n",
      "Sampling from val predictions...\n",
      "Source: tôi đã được lớn_lên ở một quốc_gia đã bị tiêu_huỷ\n",
      "Reference: i was raised in a country that has been\n",
      "Model: <SOS> i i a a a of of the a\n",
      "\n",
      "Source: <UNK> là lực_lượng cảnh_sát mật hoạt_động ở đông đức .\n",
      "Reference: <UNK> was the secret police in east germany .\n",
      "Model: <SOS> the is is the of . <EOS> . .\n",
      "\n",
      "Source: cảm_ơn bạn . <EOS> <PAD> <PAD> <PAD> <PAD> <PAD> <PAD>\n",
      "Reference: thank you . <EOS> <PAD> <PAD> <PAD> <PAD> <PAD>\n",
      "Model: <SOS> thank you . <EOS> <EOS> . . . .\n",
      "\n"
     ]
    },
    {
     "name": "stderr",
     "output_type": "stream",
     "text": [
      "WARNING:root:That's 100 lines that end in a tokenized period ('.')\n",
      "WARNING:root:It looks like you forgot to detokenize your test data, which may hurt your score.\n",
      "WARNING:root:If you insist your data is detokenized, or don't care, you can suppress this message with '--force'.\n"
     ]
    },
    {
     "name": "stdout",
     "output_type": "stream",
     "text": [
      "Epoch: 0.96, Train Loss: 0.00, Val Loss: 5.24, Train BLEU: 0.00, Val BLEU: 5.44, Minutes Elapsed: 31.46\n",
      "Sampling from val predictions...\n",
      "Source: khi ông vừa về tới nhà , điện_thoại <UNK> ,\n",
      "Reference: as he arrived home , the phone rang ,\n",
      "Model: <SOS> when when the the the , , , ,\n",
      "\n",
      "Source: \" trước_khi tôi chết , tôi muốn được ôm cô\n",
      "Reference: &quot; before i die , i want to hold\n",
      "Model: <SOS> &quot; i i i , i i to to\n",
      "\n",
      "Source: tâm_hồn tôi luôn_luôn được xoa_dịu bởi những cây sồi còn\n",
      "Reference: my soul is always <UNK> by the giant live\n",
      "Model: <SOS> i i was i the to the of of\n",
      "\n"
     ]
    },
    {
     "name": "stderr",
     "output_type": "stream",
     "text": [
      "WARNING:root:That's 100 lines that end in a tokenized period ('.')\n",
      "WARNING:root:It looks like you forgot to detokenize your test data, which may hurt your score.\n",
      "WARNING:root:If you insist your data is detokenized, or don't care, you can suppress this message with '--force'.\n"
     ]
    },
    {
     "name": "stdout",
     "output_type": "stream",
     "text": [
      "Epoch: 1.00, Train Loss: 0.00, Val Loss: 5.26, Train BLEU: 0.00, Val BLEU: 5.33, Minutes Elapsed: 32.80\n",
      "Sampling from val predictions...\n",
      "Source: hoạch_định là nụ hôn thần_chết đối_với doanh_nhân . <EOS> <PAD>\n",
      "Reference: planning is the kiss of death of entrepreneurship .\n",
      "Model: <SOS> it &apos;s the the of the . . .\n",
      "\n",
      "Source: bởi_vì nó rất rỗng , tất_cả tiếng_ồn sẽ biến mất\n",
      "Reference: because it &apos;s very hollow , all the noise\n",
      "Model: <SOS> it it it , , , , we we\n",
      "\n",
      "Source: hôm_nay tôi 22 tuổi . <EOS> <PAD> <PAD> <PAD> <PAD>\n",
      "Reference: today i am 22 . <EOS> <PAD> <PAD> <PAD>\n",
      "Model: <SOS> i i i a . . . . .\n",
      "\n"
     ]
    },
    {
     "name": "stderr",
     "output_type": "stream",
     "text": [
      "WARNING:root:That's 100 lines that end in a tokenized period ('.')\n",
      "WARNING:root:It looks like you forgot to detokenize your test data, which may hurt your score.\n",
      "WARNING:root:If you insist your data is detokenized, or don't care, you can suppress this message with '--force'.\n"
     ]
    },
    {
     "name": "stdout",
     "output_type": "stream",
     "text": [
      "Epoch: 1.24, Train Loss: 0.00, Val Loss: 5.11, Train BLEU: 0.00, Val BLEU: 7.02, Minutes Elapsed: 40.59\n",
      "Sampling from val predictions...\n",
      "Source: nhưng khi tôi trở_về afghanistan , khi tôi thấy học_sinh\n",
      "Reference: but when i am back in afghanistan , when\n",
      "Model: <SOS> but i i was , , i , i\n",
      "\n",
      "Source: em biết không ? em có_thể trở_thành bất_cứ ai .\n",
      "Reference: you know ? you can be anything . <EOS>\n",
      "Model: <SOS> so don &apos;t ? can &apos;t to . <EOS>\n",
      "\n",
      "Source: do đó tôi đã yêu_cầu nhà mạng mình sử_dụng ,\n",
      "Reference: so i asked my phone company , <UNK> <UNK>\n",
      "Model: <SOS> so i i to the , , , ,\n",
      "\n"
     ]
    },
    {
     "name": "stderr",
     "output_type": "stream",
     "text": [
      "WARNING:root:That's 100 lines that end in a tokenized period ('.')\n",
      "WARNING:root:It looks like you forgot to detokenize your test data, which may hurt your score.\n",
      "WARNING:root:If you insist your data is detokenized, or don't care, you can suppress this message with '--force'.\n"
     ]
    },
    {
     "name": "stdout",
     "output_type": "stream",
     "text": [
      "Epoch: 1.48, Train Loss: 0.00, Val Loss: 5.00, Train BLEU: 0.00, Val BLEU: 7.70, Minutes Elapsed: 48.47\n",
      "Sampling from val predictions...\n",
      "Source: bởi_vì tại thời_điểm đó , toà_án hiến_pháp liên_bang đã quy_định\n",
      "Reference: because in the mean time , the german constitutional\n",
      "Model: <SOS> because the , , , the the the of\n",
      "\n",
      "Source: quay_lại lò gạch , tôi chỉ muốn khóc , nhưng\n",
      "Reference: back in the <UNK> , i wanted to cry\n",
      "Model: <SOS> so , , , , i &apos;m to to\n",
      "\n",
      "Source: vỗ_tay cám_ơn <EOS> <PAD> <PAD> <PAD> <PAD> <PAD> <PAD> <PAD>\n",
      "Reference: thank you . <EOS> <PAD> <PAD> <PAD> <PAD> <PAD>\n",
      "Model: <SOS> the . . <EOS> <EOS> <EOS> . . .\n",
      "\n"
     ]
    },
    {
     "name": "stderr",
     "output_type": "stream",
     "text": [
      "WARNING:root:That's 100 lines that end in a tokenized period ('.')\n",
      "WARNING:root:It looks like you forgot to detokenize your test data, which may hurt your score.\n",
      "WARNING:root:If you insist your data is detokenized, or don't care, you can suppress this message with '--force'.\n"
     ]
    },
    {
     "name": "stdout",
     "output_type": "stream",
     "text": [
      "Epoch: 1.72, Train Loss: 0.00, Val Loss: 4.90, Train BLEU: 0.00, Val BLEU: 8.53, Minutes Elapsed: 56.42\n",
      "Sampling from val predictions...\n",
      "Source: trồng thực_phẩm cho mình cũng giống tự in tiền vậy\n",
      "Reference: growing your own food is like printing your own\n",
      "Model: <SOS> the the a of of the to the the\n",
      "\n",
      "Source: chúng_tôi kéo các mảnh_vỡ từ kênh rãnh , <UNK> <EOS>\n",
      "Reference: we pulled debris from canals and ditches . <EOS>\n",
      "Model: <SOS> we &apos;ve the from the , the . <EOS>\n",
      "\n",
      "Source: cảm_ơn các bạn . <EOS> <PAD> <PAD> <PAD> <PAD> <PAD>\n",
      "Reference: thank you . <EOS> <PAD> <PAD> <PAD> <PAD> <PAD>\n",
      "Model: <SOS> thank you . <EOS> . . . . .\n",
      "\n"
     ]
    },
    {
     "name": "stderr",
     "output_type": "stream",
     "text": [
      "WARNING:root:That's 100 lines that end in a tokenized period ('.')\n",
      "WARNING:root:It looks like you forgot to detokenize your test data, which may hurt your score.\n",
      "WARNING:root:If you insist your data is detokenized, or don't care, you can suppress this message with '--force'.\n"
     ]
    },
    {
     "name": "stdout",
     "output_type": "stream",
     "text": [
      "Epoch: 1.96, Train Loss: 0.00, Val Loss: 4.79, Train BLEU: 0.00, Val BLEU: 8.42, Minutes Elapsed: 64.36\n",
      "Sampling from val predictions...\n",
      "Source: khi làm_việc trong lãnh_vực này , tôi mang theo rất\n",
      "Reference: when i was working in the field , i\n",
      "Model: <SOS> when the the this in this , , i\n",
      "\n",
      "Source: vào ngày 13 tháng 5 , tôi tìm đường đến\n",
      "Reference: on may the 13th , i made my way\n",
      "Model: <SOS> in in years years , i &apos;ve to years\n",
      "\n",
      "Source: tôi sợ rằng tất_cả những thay_đổi đó sẽ không kéo_dài\n",
      "Reference: i fear that these changes will not last much\n",
      "Model: <SOS> i i that that can not not be to\n",
      "\n"
     ]
    },
    {
     "name": "stderr",
     "output_type": "stream",
     "text": [
      "WARNING:root:That's 100 lines that end in a tokenized period ('.')\n",
      "WARNING:root:It looks like you forgot to detokenize your test data, which may hurt your score.\n",
      "WARNING:root:If you insist your data is detokenized, or don't care, you can suppress this message with '--force'.\n"
     ]
    },
    {
     "name": "stdout",
     "output_type": "stream",
     "text": [
      "Epoch: 2.00, Train Loss: 0.00, Val Loss: 4.83, Train BLEU: 0.00, Val BLEU: 8.52, Minutes Elapsed: 65.73\n",
      "Sampling from val predictions...\n",
      "Source: như ahmed . đó không phải là tên thật của_ông\n",
      "Reference: like ahmed . that &apos;s not his real name\n",
      "Model: <SOS> but , . it &apos;s not not . ,\n",
      "\n",
      "Source: khi bạn thấy một con kền <UNK> như thế này\n",
      "Reference: when you see a <UNK> like this , the\n",
      "Model: <SOS> when you you a a of , , a\n",
      "\n",
      "Source: tôi đang <UNK> việc trên mái tính , cố hoang\n",
      "Reference: i was working on my computer trying to finish\n",
      "Model: <SOS> i &apos;m &apos;t to the of , , ,\n",
      "\n"
     ]
    },
    {
     "name": "stderr",
     "output_type": "stream",
     "text": [
      "WARNING:root:That's 100 lines that end in a tokenized period ('.')\n",
      "WARNING:root:It looks like you forgot to detokenize your test data, which may hurt your score.\n",
      "WARNING:root:If you insist your data is detokenized, or don't care, you can suppress this message with '--force'.\n"
     ]
    },
    {
     "name": "stdout",
     "output_type": "stream",
     "text": [
      "Epoch: 2.24, Train Loss: 0.00, Val Loss: 4.73, Train BLEU: 0.00, Val BLEU: 9.90, Minutes Elapsed: 73.63\n",
      "Sampling from val predictions...\n",
      "Source: cháu biết là hàng_rào điện đã được phát_minh rồi ,\n",
      "Reference: but i know electric fences are already invented ,\n",
      "Model: <SOS> so know is that is is , , ,\n",
      "\n",
      "Source: rồi bạn cần một cái máy , như bạn thấy\n",
      "Reference: then you need a machine , like you see\n",
      "Model: <SOS> so you have to be , , you you\n",
      "\n",
      "Source: sai . họ đều bị nô_lệ . <EOS> <PAD> <PAD>\n",
      "Reference: wrong . they were all enslaved . <EOS> <PAD>\n",
      "Model: <SOS> okay . they &apos;re . . <EOS> <EOS> <EOS>\n",
      "\n"
     ]
    },
    {
     "name": "stderr",
     "output_type": "stream",
     "text": [
      "WARNING:root:That's 100 lines that end in a tokenized period ('.')\n",
      "WARNING:root:It looks like you forgot to detokenize your test data, which may hurt your score.\n",
      "WARNING:root:If you insist your data is detokenized, or don't care, you can suppress this message with '--force'.\n"
     ]
    },
    {
     "name": "stdout",
     "output_type": "stream",
     "text": [
      "Epoch: 2.48, Train Loss: 0.00, Val Loss: 4.67, Train BLEU: 0.00, Val BLEU: 10.32, Minutes Elapsed: 81.47\n",
      "Sampling from val predictions...\n",
      "Source: tôi đã cám_ơn ông ta bằng_cả trái_tim mình , và\n",
      "Reference: i thanked him with all my heart , and\n",
      "Model: <SOS> i was to he the , , , and\n",
      "\n",
      "Source: có_một bức ảnh nọ , chụp nhiều thế_hệ phụ_nữ trong\n",
      "Reference: one in particular , a photo of women of\n",
      "Model: <SOS> there is a , , , of the ,\n",
      "\n",
      "Source: vì_vậy vài năm qua , tôi đang cố_gắng nhiều cách\n",
      "Reference: so over the past few years , i &apos;ve\n",
      "Model: <SOS> so years years years , i , i &apos;m\n",
      "\n"
     ]
    },
    {
     "name": "stderr",
     "output_type": "stream",
     "text": [
      "WARNING:root:That's 100 lines that end in a tokenized period ('.')\n",
      "WARNING:root:It looks like you forgot to detokenize your test data, which may hurt your score.\n",
      "WARNING:root:If you insist your data is detokenized, or don't care, you can suppress this message with '--force'.\n"
     ]
    },
    {
     "name": "stdout",
     "output_type": "stream",
     "text": [
      "Epoch: 2.72, Train Loss: 0.00, Val Loss: 4.61, Train BLEU: 0.00, Val BLEU: 10.15, Minutes Elapsed: 89.28\n",
      "Sampling from val predictions...\n",
      "Source: tôi đã nói chúng_tôi phát_minh ra một cái máy công_nghiệp\n",
      "Reference: so i said we have such an industrial machine\n",
      "Model: <SOS> i i i that we a a of of\n",
      "\n",
      "Source: và anh ta nói rằng anh ta cần những cây\n",
      "Reference: and he said that he needed those guns because\n",
      "Model: <SOS> and he said that he can to to the\n",
      "\n",
      "Source: nói rằng em muốn được là người_mẫu khi em lớn_lên\n",
      "Reference: saying that you want to be a model when\n",
      "Model: <SOS> so said i want want be the when when\n",
      "\n"
     ]
    },
    {
     "name": "stderr",
     "output_type": "stream",
     "text": [
      "WARNING:root:That's 100 lines that end in a tokenized period ('.')\n",
      "WARNING:root:It looks like you forgot to detokenize your test data, which may hurt your score.\n",
      "WARNING:root:If you insist your data is detokenized, or don't care, you can suppress this message with '--force'.\n"
     ]
    },
    {
     "name": "stdout",
     "output_type": "stream",
     "text": [
      "Epoch: 2.96, Train Loss: 0.00, Val Loss: 4.55, Train BLEU: 0.00, Val BLEU: 10.25, Minutes Elapsed: 97.15\n",
      "Sampling from val predictions...\n",
      "Source: vì_thế tôi lớn_lên với sự thù_ghét sư_tử . <EOS> <PAD>\n",
      "Reference: so i grew up hating lions so much .\n",
      "Model: <SOS> so i was a a the . <EOS> .\n",
      "\n",
      "Source: tốc_độ nhanh , chỉ mất khoảng 30 giây tối_đa .\n",
      "Reference: they &apos;re high-speed , take about 30 seconds at\n",
      "Model: <SOS> in , a , to 30 percent percent .\n",
      "\n",
      "Source: và tiếng_ồn cũng biến mất qua lỗ thấm . <EOS>\n",
      "Reference: also the noise will disappear in these pores .\n",
      "Model: <SOS> and the the of the the . . .\n",
      "\n"
     ]
    },
    {
     "name": "stderr",
     "output_type": "stream",
     "text": [
      "WARNING:root:That's 100 lines that end in a tokenized period ('.')\n",
      "WARNING:root:It looks like you forgot to detokenize your test data, which may hurt your score.\n",
      "WARNING:root:If you insist your data is detokenized, or don't care, you can suppress this message with '--force'.\n"
     ]
    },
    {
     "name": "stdout",
     "output_type": "stream",
     "text": [
      "Epoch: 3.00, Train Loss: 0.00, Val Loss: 4.59, Train BLEU: 0.00, Val BLEU: 10.39, Minutes Elapsed: 98.52\n",
      "Sampling from val predictions...\n",
      "Source: nơi đây cũng là nơi mà trung_tâm di_tản đã thu_thập\n",
      "Reference: this happened to also be a place in the\n",
      "Model: <SOS> so this is that that that that that the\n",
      "\n",
      "Source: thay vì_vậy , <UNK> đã về nhà vào một tối\n",
      "Reference: instead , <UNK> came home one friday evening and\n",
      "Model: <SOS> instead , , was the a a a a\n",
      "\n",
      "Source: tôi mơ_ước lớn , nhưng gia_đình tôi mong_ước cho tôi\n",
      "Reference: i dream big , but my family dreams even\n",
      "Model: <SOS> i i , , , i my i me\n",
      "\n"
     ]
    },
    {
     "name": "stderr",
     "output_type": "stream",
     "text": [
      "WARNING:root:That's 100 lines that end in a tokenized period ('.')\n",
      "WARNING:root:It looks like you forgot to detokenize your test data, which may hurt your score.\n",
      "WARNING:root:If you insist your data is detokenized, or don't care, you can suppress this message with '--force'.\n"
     ]
    },
    {
     "name": "stdout",
     "output_type": "stream",
     "text": [
      "Epoch: 3.24, Train Loss: 0.00, Val Loss: 4.52, Train BLEU: 0.00, Val BLEU: 11.38, Minutes Elapsed: 106.41\n",
      "Sampling from val predictions...\n",
      "Source: nhưng đừng bao_giờ biến thành một dạng người cách_mạng kiểu\n",
      "Reference: but don &apos;t you ever turn into a <UNK>\n",
      "Model: <SOS> but don &apos;s have the a a a <UNK>\n",
      "\n",
      "Source: bấy_giờ , <UNK> không trở_về nhà vào một ngày và\n",
      "Reference: now , <UNK> did not come home one day\n",
      "Model: <SOS> now , the &apos;s , go to and and\n",
      "\n",
      "Source: tất_cả những điều đó hoàn_toàn có_thể chỉ với chiếc điện_thoại_di_động\n",
      "Reference: all this is possible with your mobile phone .\n",
      "Model: <SOS> all these these is to to to . .\n",
      "\n"
     ]
    },
    {
     "name": "stderr",
     "output_type": "stream",
     "text": [
      "WARNING:root:That's 100 lines that end in a tokenized period ('.')\n",
      "WARNING:root:It looks like you forgot to detokenize your test data, which may hurt your score.\n",
      "WARNING:root:If you insist your data is detokenized, or don't care, you can suppress this message with '--force'.\n"
     ]
    },
    {
     "name": "stdout",
     "output_type": "stream",
     "text": [
      "Epoch: 3.48, Train Loss: 0.00, Val Loss: 4.49, Train BLEU: 0.00, Val BLEU: 11.62, Minutes Elapsed: 114.23\n",
      "Sampling from val predictions...\n",
      "Source: \" trước_khi tôi chết , tôi muốn trồng một cái\n",
      "Reference: &quot; before i die , i want to plant\n",
      "Model: <SOS> &quot; i i i , i want to be\n",
      "\n",
      "Source: có hai loại kền_kền trên hành_tinh này . <EOS> <PAD>\n",
      "Reference: so there &apos;s two types of vultures in this\n",
      "Model: <SOS> there are are two two of these . <EOS>\n",
      "\n",
      "Source: mỗi đứa con_trai từ 6 đến 9 tuổi , trong\n",
      "Reference: so a boy , from six to nine years\n",
      "Model: <SOS> the the from of from went , , ,\n",
      "\n"
     ]
    },
    {
     "name": "stderr",
     "output_type": "stream",
     "text": [
      "WARNING:root:That's 100 lines that end in a tokenized period ('.')\n",
      "WARNING:root:It looks like you forgot to detokenize your test data, which may hurt your score.\n",
      "WARNING:root:If you insist your data is detokenized, or don't care, you can suppress this message with '--force'.\n"
     ]
    },
    {
     "name": "stdout",
     "output_type": "stream",
     "text": [
      "Epoch: 3.72, Train Loss: 0.00, Val Loss: 4.44, Train BLEU: 0.00, Val BLEU: 11.79, Minutes Elapsed: 122.08\n",
      "Sampling from val predictions...\n",
      "Source: bởi_vì , bạn thấy đó , chỉ ít chúng_tôi cũng\n",
      "Reference: because , you see , at least we fed\n",
      "Model: <SOS> because , you see , , just time ,\n",
      "\n",
      "Source: nên tôi nghĩ : \" tuyệt . tôi có_thể làm\n",
      "Reference: so i &apos;m like , &quot; cool . i\n",
      "Model: <SOS> so i said , , &quot; well . i\n",
      "\n",
      "Source: tôi cũng nhận ra một khoảng_cách rất lớn giữa người\n",
      "Reference: also , i realized there was a wide gap\n",
      "Model: <SOS> i was i i to a a very of\n",
      "\n"
     ]
    },
    {
     "name": "stderr",
     "output_type": "stream",
     "text": [
      "WARNING:root:That's 100 lines that end in a tokenized period ('.')\n",
      "WARNING:root:It looks like you forgot to detokenize your test data, which may hurt your score.\n",
      "WARNING:root:If you insist your data is detokenized, or don't care, you can suppress this message with '--force'.\n"
     ]
    },
    {
     "name": "stdout",
     "output_type": "stream",
     "text": [
      "Epoch: 3.96, Train Loss: 0.00, Val Loss: 4.41, Train BLEU: 0.00, Val BLEU: 11.27, Minutes Elapsed: 129.86\n",
      "Sampling from val predictions...\n",
      "Source: sau khi hỏi xong , một trong hai cảnh_sát nói\n",
      "Reference: after they finished questioning me , one official said\n",
      "Model: <SOS> after then , , , one one of the\n",
      "\n",
      "Source: nó thật_là kì_cục . <EOS> <PAD> <PAD> <PAD> <PAD> <PAD>\n",
      "Reference: that was awkward . <EOS> <PAD> <PAD> <PAD> <PAD>\n",
      "Model: <SOS> it &apos;s &apos;s . <EOS> <EOS> <EOS> . .\n",
      "\n",
      "Source: chúng_tôi thực_sự ngạc_nhiên về những người bản_địa , tại thung_lũng\n",
      "Reference: and we were amazed that the local people ,\n",
      "Model: <SOS> we we we also , the people of ,\n",
      "\n"
     ]
    },
    {
     "name": "stderr",
     "output_type": "stream",
     "text": [
      "WARNING:root:That's 100 lines that end in a tokenized period ('.')\n",
      "WARNING:root:It looks like you forgot to detokenize your test data, which may hurt your score.\n",
      "WARNING:root:If you insist your data is detokenized, or don't care, you can suppress this message with '--force'.\n"
     ]
    },
    {
     "name": "stdout",
     "output_type": "stream",
     "text": [
      "Epoch: 4.00, Train Loss: 0.00, Val Loss: 4.45, Train BLEU: 0.00, Val BLEU: 11.17, Minutes Elapsed: 131.19\n",
      "Sampling from val predictions...\n",
      "Source: bởi_vì gia_đình tôi không biết tiếng trung , nên tôi\n",
      "Reference: since my family couldn &apos;t speak chinese , i\n",
      "Model: <SOS> because my my , &apos;t know the the ,\n",
      "\n",
      "Source: nên tối đó , tôi truy_cập facebook và hỏi một_vài\n",
      "Reference: so that evening , i just reached out on\n",
      "Model: <SOS> so the i , i i the , ,\n",
      "\n",
      "Source: vì_thế tôi là đại_sứ toàn_cầu cho <UNK> , đây là\n",
      "Reference: that &apos;s why i am a global ambassador for\n",
      "Model: <SOS> so i i i &apos;m a of of of\n",
      "\n"
     ]
    },
    {
     "name": "stderr",
     "output_type": "stream",
     "text": [
      "WARNING:root:That's 100 lines that end in a tokenized period ('.')\n",
      "WARNING:root:It looks like you forgot to detokenize your test data, which may hurt your score.\n",
      "WARNING:root:If you insist your data is detokenized, or don't care, you can suppress this message with '--force'.\n"
     ]
    },
    {
     "name": "stdout",
     "output_type": "stream",
     "text": [
      "Epoch: 4.24, Train Loss: 0.00, Val Loss: 4.38, Train BLEU: 0.00, Val BLEU: 12.24, Minutes Elapsed: 138.86\n",
      "Sampling from val predictions...\n",
      "Source: từ năm 1971 đến 1977 - - trông tôi trẻ\n",
      "Reference: from 1971 to 1977 -- i look young ,\n",
      "Model: <SOS> from the , is -- -- i to my\n",
      "\n",
      "Source: và tôi đứng trên sân_khấu này bởi_vì tôi là một\n",
      "Reference: and i am on this stage because i am\n",
      "Model: <SOS> and i &apos;m this this this because i was\n",
      "\n",
      "Source: đôi giày cao gót này thật_là không thoải_mái tí nào\n",
      "Reference: these heels are very uncomfortable , so good thing\n",
      "Model: <SOS> the the this this the , the the doesn\n",
      "\n"
     ]
    },
    {
     "name": "stderr",
     "output_type": "stream",
     "text": [
      "WARNING:root:That's 100 lines that end in a tokenized period ('.')\n",
      "WARNING:root:It looks like you forgot to detokenize your test data, which may hurt your score.\n",
      "WARNING:root:If you insist your data is detokenized, or don't care, you can suppress this message with '--force'.\n"
     ]
    },
    {
     "name": "stdout",
     "output_type": "stream",
     "text": [
      "Epoch: 4.48, Train Loss: 0.00, Val Loss: 4.36, Train BLEU: 0.00, Val BLEU: 12.85, Minutes Elapsed: 146.57\n",
      "Sampling from val predictions...\n",
      "Source: thế nên chúng_tôi miền_nam zambia với những hạt_giống từ nước\n",
      "Reference: so we arrived there with italian seeds in southern\n",
      "Model: <SOS> so we we at in in with from the\n",
      "\n",
      "Source: không thì họ sẽ chẳng tìm đến mà nói_chuyện với\n",
      "Reference: otherwise they don &apos;t come and talk to you\n",
      "Model: <SOS> not they they &apos;t have to to to the\n",
      "\n",
      "Source: không ai biết chúng_tôi làm_cái quái gì . <EOS> <PAD>\n",
      "Reference: no one knows what the hell we do .\n",
      "Model: <SOS> no know what we we do do do do\n",
      "\n"
     ]
    },
    {
     "name": "stderr",
     "output_type": "stream",
     "text": [
      "WARNING:root:That's 100 lines that end in a tokenized period ('.')\n",
      "WARNING:root:It looks like you forgot to detokenize your test data, which may hurt your score.\n",
      "WARNING:root:If you insist your data is detokenized, or don't care, you can suppress this message with '--force'.\n"
     ]
    },
    {
     "name": "stdout",
     "output_type": "stream",
     "text": [
      "Epoch: 4.72, Train Loss: 0.00, Val Loss: 4.32, Train BLEU: 0.00, Val BLEU: 12.78, Minutes Elapsed: 154.25\n",
      "Sampling from val predictions...\n",
      "Source: để họ có_thể nhanh_chóng thoát ra khỏi đó , tôi\n",
      "Reference: they had to get out quickly , so i\n",
      "Model: <SOS> to to to to with to the that i\n",
      "\n",
      "Source: xin đừng nói với tôi rằng tôi bình_thường . <EOS>\n",
      "Reference: please don &apos;t tell me i &apos;m normal .\n",
      "Model: <SOS> don me say tell me i i . .\n",
      "\n",
      "Source: mỗi đứa con_trai từ 6 đến 9 tuổi , trong\n",
      "Reference: so a boy , from six to nine years\n",
      "Model: <SOS> the the the of in the , , ,\n",
      "\n"
     ]
    },
    {
     "name": "stderr",
     "output_type": "stream",
     "text": [
      "WARNING:root:That's 100 lines that end in a tokenized period ('.')\n",
      "WARNING:root:It looks like you forgot to detokenize your test data, which may hurt your score.\n",
      "WARNING:root:If you insist your data is detokenized, or don't care, you can suppress this message with '--force'.\n"
     ]
    },
    {
     "name": "stdout",
     "output_type": "stream",
     "text": [
      "Epoch: 4.96, Train Loss: 0.00, Val Loss: 4.31, Train BLEU: 0.00, Val BLEU: 12.46, Minutes Elapsed: 162.02\n",
      "Sampling from val predictions...\n",
      "Source: ít_hơn 6 % phụ_nữ tuổi_tôi được học sau trung_học phổ_thông\n",
      "Reference: fewer than six percent of women my age have\n",
      "Model: <SOS> there percent of percent of the , the ,\n",
      "\n",
      "Source: cửa_hàng rượu , đồ_ăn nhanh , <UNK> . <EOS> <PAD>\n",
      "Reference: <UNK> stores , fast food , vacant lots .\n",
      "Model: <SOS> it , , , . . <EOS> . <EOS>\n",
      "\n",
      "Source: ngày khác nữa chúng_tôi thức_dậy với tin về vụ ám_sát\n",
      "Reference: on another day we wake up to the news\n",
      "Model: <SOS> we we day we we the the the the\n",
      "\n"
     ]
    },
    {
     "name": "stderr",
     "output_type": "stream",
     "text": [
      "WARNING:root:That's 100 lines that end in a tokenized period ('.')\n",
      "WARNING:root:It looks like you forgot to detokenize your test data, which may hurt your score.\n",
      "WARNING:root:If you insist your data is detokenized, or don't care, you can suppress this message with '--force'.\n"
     ]
    },
    {
     "name": "stdout",
     "output_type": "stream",
     "text": [
      "Epoch: 5.00, Train Loss: 0.00, Val Loss: 4.35, Train BLEU: 0.00, Val BLEU: 12.37, Minutes Elapsed: 163.37\n",
      "Sampling from val predictions...\n",
      "Source: và chúng_tôi giúp họ tiến_hành tìm_kiếm sự hiểu_biết , vì\n",
      "Reference: and then we help them to go and find\n",
      "Model: <SOS> and we we &apos;re them to the the the\n",
      "\n",
      "Source: ông_ngoại của tôi là một người thật đáng khâm_phục vào\n",
      "Reference: my grandfather was an extraordinary man for his time\n",
      "Model: <SOS> my my is a a of of the ,\n",
      "\n",
      "Source: có mấy người đàn_ông , họ giúp tôi dỡ đồ\n",
      "Reference: these are the guys , they helped me <UNK>\n",
      "Model: <SOS> there are people , , they were me see\n",
      "\n",
      "Model training completed in 163 minutes with 4.31 best validation loss and 12.85 best validation BLEU.\n"
     ]
    }
   ],
   "source": [
    "for candidate in [1024, 512, 256, 128]: \n",
    "    \n",
    "    print(\"Training with enc_dim = {} and dec_dim = {}\".format(candidate, 2*candidate))\n",
    "    \n",
    "    # overwrite relevant key-value in params \n",
    "    params['enc_dropout'] = candidate \n",
    "    params['dec_dropout'] = 2 * candidate \n",
    "    params['model_name'] = '{}-rnn-{}-attn-{}-hidden-dim'.format(SRC_LANG, ATTENTION_TYPE, candidate)\n",
    "    \n",
    "    # instantiate model \n",
    "    encoder = EncoderRNN(rnn_cell_type=RNN_CELL_TYPE, enc_hidden_dim=candidate, num_layers=NUM_LAYERS, \n",
    "                         src_max_sentence_len=SRC_MAX_SENTENCE_LEN, enc_dropout=ENC_DROPOUT, \n",
    "                         pretrained_word2vec=get_pretrained_emb(vocab[SRC_LANG]['word2vec'], vocab[SRC_LANG]['token2id']))\n",
    "    decoder = DecoderAttnRNN(rnn_cell_type=RNN_CELL_TYPE, dec_hidden_dim=2*candidate, enc_hidden_dim=candidate, \n",
    "                             num_layers=NUM_LAYERS, targ_vocab_size=TARG_VOCAB_SIZE, \n",
    "                             src_max_sentence_len=SRC_MAX_SENTENCE_LEN, targ_max_sentence_len=TARG_MAX_SENTENCE_LEN, \n",
    "                             dec_dropout=DEC_DROPOUT, attention_type=ATTENTION_TYPE,\n",
    "                             pretrained_word2vec=get_pretrained_emb(vocab[TARG_LANG]['word2vec'], \n",
    "                                                                    vocab[TARG_LANG]['token2id']))\n",
    "    model = EncoderDecoderAttn(encoder, decoder, vocab[TARG_LANG]['token2id']).to(device) \n",
    "    \n",
    "    # train and eval \n",
    "    model, results = train_and_eval(\n",
    "        model=model, loaders_full=loaders_full, loaders_minibatch=loaders_minibatch, loaders_minitrain=loaders_minitrain, \n",
    "        params=params, vocab=vocab, print_intermediate=500, save_checkpoint=True, save_to_log=True, \n",
    "        lazy_eval=True, print_attn=False, inspect_samples=3)"
   ]
  },
  {
   "cell_type": "code",
   "execution_count": 23,
   "metadata": {},
   "outputs": [],
   "source": [
    "experiment_results = summarize_results(load_experiment_log(experiment_name=EXPERIMENT_NAME))\n",
    "# fix error in logging \n",
    "experiment_results = experiment_results[experiment_results['model_name'].str.endswith('hidden-dim')]\n",
    "experiment_results['experiment_name'] = 'hyperparameter_tuning_hidden_dim'\n",
    "experiment_results['enc_hidden_dim'] = experiment_results['enc_dropout']\n",
    "experiment_results['dec_hidden_dim'] = experiment_results['dec_dropout']"
   ]
  },
  {
   "cell_type": "code",
   "execution_count": 24,
   "metadata": {},
   "outputs": [
    {
     "data": {
      "text/html": [
       "<div>\n",
       "<style scoped>\n",
       "    .dataframe tbody tr th:only-of-type {\n",
       "        vertical-align: middle;\n",
       "    }\n",
       "\n",
       "    .dataframe tbody tr th {\n",
       "        vertical-align: top;\n",
       "    }\n",
       "\n",
       "    .dataframe thead th {\n",
       "        text-align: right;\n",
       "    }\n",
       "</style>\n",
       "<table border=\"1\" class=\"dataframe\">\n",
       "  <thead>\n",
       "    <tr style=\"text-align: right;\">\n",
       "      <th></th>\n",
       "      <th>experiment_name</th>\n",
       "      <th>model_name</th>\n",
       "      <th>enc_hidden_dim</th>\n",
       "      <th>dec_hidden_dim</th>\n",
       "      <th>best_val_loss</th>\n",
       "      <th>best_val_bleu</th>\n",
       "      <th>total_params</th>\n",
       "      <th>trainable_params</th>\n",
       "      <th>runtime</th>\n",
       "    </tr>\n",
       "  </thead>\n",
       "  <tbody>\n",
       "    <tr>\n",
       "      <th>0</th>\n",
       "      <td>hyperparameter_tuning_hidden_dim</td>\n",
       "      <td>vi-rnn-additive-attn-128-hidden-dim</td>\n",
       "      <td>128</td>\n",
       "      <td>256</td>\n",
       "      <td>4.310321</td>\n",
       "      <td>12.852427</td>\n",
       "      <td>27488176</td>\n",
       "      <td>9488176</td>\n",
       "      <td>163.368392</td>\n",
       "    </tr>\n",
       "    <tr>\n",
       "      <th>1</th>\n",
       "      <td>hyperparameter_tuning_hidden_dim</td>\n",
       "      <td>vi-rnn-additive-attn-256-hidden-dim</td>\n",
       "      <td>256</td>\n",
       "      <td>512</td>\n",
       "      <td>4.068799</td>\n",
       "      <td>14.724220</td>\n",
       "      <td>39567792</td>\n",
       "      <td>21567792</td>\n",
       "      <td>168.196072</td>\n",
       "    </tr>\n",
       "    <tr>\n",
       "      <th>2</th>\n",
       "      <td>hyperparameter_tuning_hidden_dim</td>\n",
       "      <td>vi-rnn-additive-attn-512-hidden-dim</td>\n",
       "      <td>512</td>\n",
       "      <td>1024</td>\n",
       "      <td>4.040909</td>\n",
       "      <td>14.343649</td>\n",
       "      <td>71591344</td>\n",
       "      <td>53591344</td>\n",
       "      <td>172.987167</td>\n",
       "    </tr>\n",
       "    <tr>\n",
       "      <th>3</th>\n",
       "      <td>hyperparameter_tuning_hidden_dim</td>\n",
       "      <td>vi-rnn-additive-attn-1024-hidden-dim</td>\n",
       "      <td>1024</td>\n",
       "      <td>2048</td>\n",
       "      <td>4.178875</td>\n",
       "      <td>13.837404</td>\n",
       "      <td>167095728</td>\n",
       "      <td>149095728</td>\n",
       "      <td>217.329440</td>\n",
       "    </tr>\n",
       "  </tbody>\n",
       "</table>\n",
       "</div>"
      ],
      "text/plain": [
       "                    experiment_name                            model_name  \\\n",
       "0  hyperparameter_tuning_hidden_dim   vi-rnn-additive-attn-128-hidden-dim   \n",
       "1  hyperparameter_tuning_hidden_dim   vi-rnn-additive-attn-256-hidden-dim   \n",
       "2  hyperparameter_tuning_hidden_dim   vi-rnn-additive-attn-512-hidden-dim   \n",
       "3  hyperparameter_tuning_hidden_dim  vi-rnn-additive-attn-1024-hidden-dim   \n",
       "\n",
       "   enc_hidden_dim  dec_hidden_dim  best_val_loss  best_val_bleu  total_params  \\\n",
       "0             128             256       4.310321      12.852427      27488176   \n",
       "1             256             512       4.068799      14.724220      39567792   \n",
       "2             512            1024       4.040909      14.343649      71591344   \n",
       "3            1024            2048       4.178875      13.837404     167095728   \n",
       "\n",
       "   trainable_params     runtime  \n",
       "0           9488176  163.368392  \n",
       "1          21567792  168.196072  \n",
       "2          53591344  172.987167  \n",
       "3         149095728  217.329440  "
      ]
     },
     "execution_count": 24,
     "metadata": {},
     "output_type": "execute_result"
    }
   ],
   "source": [
    "experiment_results[['experiment_name', 'model_name', 'enc_hidden_dim', 'dec_hidden_dim',\n",
    "                    'best_val_loss', 'best_val_bleu', 'total_params', 'trainable_params', 'runtime']]"
   ]
  },
  {
   "cell_type": "code",
   "execution_count": 25,
   "metadata": {},
   "outputs": [
    {
     "data": {
      "image/png": "[encoded data removed]",
      "text/plain": [
       "<Figure size 1008x360 with 2 Axes>"
      ]
     },
     "metadata": {},
     "output_type": "display_data"
    }
   ],
   "source": [
    "plot_multiple_learning_curves(experiment_results, 'enc_hidden_dim', 'Hidden Dimension (Encoder)')"
   ]
  }
 ],
 "metadata": {
  "kernelspec": {
   "display_name": "Python 3",
   "language": "python",
   "name": "python3"
  },
  "language_info": {
   "codemirror_mode": {
    "name": "ipython",
    "version": 3
   },
   "file_extension": ".py",
   "mimetype": "text/x-python",
   "name": "python",
   "nbconvert_exporter": "python",
   "pygments_lexer": "ipython3",
   "version": "3.5.3"
  }
 },
 "nbformat": 4,
 "nbformat_minor": 2
}
