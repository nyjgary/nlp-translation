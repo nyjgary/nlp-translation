{
 "cells": [
  {
   "cell_type": "code",
   "execution_count": 1,
   "metadata": {},
   "outputs": [],
   "source": [
    "import numpy as np \n",
    "import pandas as pd \n",
    "from data_processing import generate_vocab, process_data, create_dataloaders\n",
    "from model import get_pretrained_emb, EncoderRNN, DecoderRNN, DecoderAttnRNN, EncoderDecoder, EncoderDecoderAttn\n",
    "from train_eval import train_and_eval, count_parameters, summarize_results, load_experiment_log, \\\n",
    "    plot_single_learning_curve, plot_multiple_learning_curves\n",
    "import pickle as pkl \n",
    "import torch\n",
    "device = torch.device(\"cuda\" if torch.cuda.is_available() else \"cpu\")"
   ]
  },
  {
   "cell_type": "code",
   "execution_count": 2,
   "metadata": {},
   "outputs": [],
   "source": [
    "# params required for generating data loaders \n",
    "\n",
    "SRC_LANG = 'vi'\n",
    "TARG_LANG = 'en'\n",
    "\n",
    "SRC_MAX_SENTENCE_LEN = 10\n",
    "TARG_MAX_SENTENCE_LEN = 10\n",
    "SRC_VOCAB_SIZE = 30000 \n",
    "TARG_VOCAB_SIZE = 30000 \n",
    "\n",
    "BATCH_SIZE = 64 "
   ]
  },
  {
   "cell_type": "code",
   "execution_count": 3,
   "metadata": {},
   "outputs": [],
   "source": [
    "# takes a long time to process, save to pickle for reimport in future \n",
    "# vocab = generate_vocab(SRC_LANG, TARG_LANG, SRC_VOCAB_SIZE, TARG_VOCAB_SIZE)\n",
    "# vocab_filename = \"{}-{}-vocab.p\".format(SRC_LANG, TARG_LANG)\n",
    "# pkl.dump(vocab, open(vocab_filename, \"wb\"))"
   ]
  },
  {
   "cell_type": "code",
   "execution_count": 4,
   "metadata": {},
   "outputs": [],
   "source": [
    "# reload from pickle \n",
    "vocab_filename = \"{}-{}-vocab.p\".format(SRC_LANG, TARG_LANG)\n",
    "vocab = pkl.load(open(vocab_filename, \"rb\"))\n",
    "data = process_data(SRC_LANG, TARG_LANG, SRC_MAX_SENTENCE_LEN, TARG_MAX_SENTENCE_LEN, vocab, filter_long=False)\n",
    "data_minibatch = process_data(SRC_LANG, TARG_LANG, SRC_MAX_SENTENCE_LEN, TARG_MAX_SENTENCE_LEN, vocab, sample_limit=BATCH_SIZE, filter_long=False) \n",
    "data_minitrain = process_data(SRC_LANG, TARG_LANG, SRC_MAX_SENTENCE_LEN, TARG_MAX_SENTENCE_LEN, vocab, sample_limit=1000, filter_long=False)"
   ]
  },
  {
   "cell_type": "code",
   "execution_count": 5,
   "metadata": {},
   "outputs": [],
   "source": [
    "# create dataloaders \n",
    "loaders_full = create_dataloaders(data, SRC_MAX_SENTENCE_LEN, TARG_MAX_SENTENCE_LEN, BATCH_SIZE)\n",
    "loaders_minibatch = create_dataloaders(data_minibatch, SRC_MAX_SENTENCE_LEN, TARG_MAX_SENTENCE_LEN, BATCH_SIZE)\n",
    "loaders_minitrain = create_dataloaders(data_minitrain, SRC_MAX_SENTENCE_LEN, TARG_MAX_SENTENCE_LEN, BATCH_SIZE)"
   ]
  },
  {
   "cell_type": "code",
   "execution_count": 6,
   "metadata": {},
   "outputs": [],
   "source": [
    "# model architecture params \n",
    "NETWORK_TYPE = 'rnn'\n",
    "RNN_CELL_TYPE = 'gru'\n",
    "NUM_LAYERS = 2 \n",
    "ENC_HIDDEN_DIM = 512\n",
    "DEC_HIDDEN_DIM = 2 * ENC_HIDDEN_DIM \n",
    "TEACHER_FORCING_RATIO = 1\n",
    "CLIP_GRAD_MAX_NORM = 1\n",
    "ENC_DROPOUT = 0\n",
    "DEC_DROPOUT = 0\n",
    "ATTENTION_TYPE = 'additive'\n",
    "\n",
    "# training params  \n",
    "NUM_EPOCHS = 5\n",
    "LR = 0.0003 # 0.0005\n",
    "OPTIMIZER = 'Adam'\n",
    "LAZY_TRAIN = False\n",
    "\n",
    "# name the model and experiment \n",
    "EXPERIMENT_NAME = 'hyperparameter_tuning_num_layers'\n",
    "if NETWORK_TYPE == 'rnn': \n",
    "    MODEL_NAME = '{}-rnn-{}-attn'.format(SRC_LANG, ATTENTION_TYPE)\n",
    "elif NETWORK_TYPE == 'cnn': \n",
    "    MODEL_NAME = '{}-cnn'.format(SRC_LANG)"
   ]
  },
  {
   "cell_type": "code",
   "execution_count": 7,
   "metadata": {},
   "outputs": [],
   "source": [
    "# store as dict to save to results later \n",
    "params = {'experiment_name': EXPERIMENT_NAME,'model_name': MODEL_NAME, 'src_lang': SRC_LANG, 'targ_lang': TARG_LANG, \n",
    "          'rnn_cell_type': RNN_CELL_TYPE, 'src_max_sentence_len': SRC_MAX_SENTENCE_LEN, \n",
    "          'targ_max_sentence_len': TARG_MAX_SENTENCE_LEN, 'src_vocab_size': SRC_VOCAB_SIZE, \n",
    "          'targ_vocab_size': TARG_VOCAB_SIZE, 'num_layers': NUM_LAYERS, 'enc_hidden_dim': ENC_HIDDEN_DIM, \n",
    "          'dec_hidden_dim': DEC_HIDDEN_DIM, 'teacher_forcing_ratio': TEACHER_FORCING_RATIO, \n",
    "          'clip_grad_max_norm': CLIP_GRAD_MAX_NORM, 'enc_dropout': ENC_DROPOUT, 'dec_dropout': DEC_DROPOUT, \n",
    "          'attention_type': ATTENTION_TYPE, 'batch_size': BATCH_SIZE, 'num_epochs': NUM_EPOCHS, \n",
    "          'learning_rate': LR, 'optimizer': OPTIMIZER, 'lazy_train': LAZY_TRAIN} "
   ]
  },
  {
   "cell_type": "code",
   "execution_count": 8,
   "metadata": {},
   "outputs": [
    {
     "name": "stdout",
     "output_type": "stream",
     "text": [
      "Training with num_layers = 4\n",
      "Epoch: 0.00, Train Loss: 0.00, Val Loss: 10.26, Train BLEU: 0.00, Val BLEU: 0.06, Minutes Elapsed: 0.10\n",
      "Sampling from val predictions...\n",
      "Source: nếu không , những chỗ như chồng và khuôn_mặt cô\n",
      "Reference: areas like her husband and her face , which\n",
      "Model: <SOS> and the the the the the the the the\n",
      "\n",
      "Source: tôi nhận_ra tôi rất là may_mắn khi có_thể thay_đổi những\n",
      "Reference: i &apos;d also note that i &apos;m quite privileged\n",
      "Model: <SOS> and the the the the the the the the\n",
      "\n",
      "Source: em la_hét nhiều . <EOS> <PAD> <PAD> <PAD> <PAD> <PAD>\n",
      "Reference: he screamed a lot . <EOS> <PAD> <PAD> <PAD>\n",
      "Model: <SOS> and the the the the the the the the\n",
      "\n"
     ]
    },
    {
     "name": "stderr",
     "output_type": "stream",
     "text": [
      "WARNING:root:That's 100 lines that end in a tokenized period ('.')\n",
      "WARNING:root:It looks like you forgot to detokenize your test data, which may hurt your score.\n",
      "WARNING:root:If you insist your data is detokenized, or don't care, you can suppress this message with '--force'.\n"
     ]
    },
    {
     "name": "stdout",
     "output_type": "stream",
     "text": [
      "Epoch: 0.24, Train Loss: 0.00, Val Loss: 6.12, Train BLEU: 0.00, Val BLEU: 1.51, Minutes Elapsed: 9.17\n",
      "Sampling from val predictions...\n",
      "Source: và tôi thấy cha_mẹ họ và bố họ như cha\n",
      "Reference: and i see their parents and their fathers who\n",
      "Model: <SOS> and the , , , , , , ,\n",
      "\n",
      "Source: ở đây chúng_ta có_một đoạn phim của các giây thanh_quản\n",
      "Reference: so here we have a video of the vibrating\n",
      "Model: <SOS> but , , , , , , , ,\n",
      "\n",
      "Source: vì thế nên hôm_nay , với tôi , không sợ\n",
      "Reference: so today , for me , being fearless means\n",
      "Model: <SOS> so , , , , , , , ,\n",
      "\n"
     ]
    },
    {
     "name": "stderr",
     "output_type": "stream",
     "text": [
      "WARNING:root:That's 100 lines that end in a tokenized period ('.')\n",
      "WARNING:root:It looks like you forgot to detokenize your test data, which may hurt your score.\n",
      "WARNING:root:If you insist your data is detokenized, or don't care, you can suppress this message with '--force'.\n"
     ]
    },
    {
     "name": "stdout",
     "output_type": "stream",
     "text": [
      "Epoch: 0.48, Train Loss: 0.00, Val Loss: 5.76, Train BLEU: 0.00, Val BLEU: 3.50, Minutes Elapsed: 18.25\n",
      "Sampling from val predictions...\n",
      "Source: cám_ơn các bạn . <EOS> <PAD> <PAD> <PAD> <PAD> <PAD>\n",
      "Reference: thank you . <EOS> <PAD> <PAD> <PAD> <PAD> <PAD>\n",
      "Model: <SOS> thank you . . <EOS> <EOS> <EOS> <EOS> <EOS>\n",
      "\n",
      "Source: vậy không_gian bị bỏ_bê này đã trở_thành một không_gian kiến_tạo\n",
      "Reference: so this neglected space became a constructive one ,\n",
      "Model: <SOS> the the the the the the the the the\n",
      "\n",
      "Source: ở new_york , chỉ có <UNK> ngàn người da_đen và\n",
      "Reference: and there are only <UNK> young black and latino\n",
      "Model: <SOS> now , , , , , , , ,\n",
      "\n"
     ]
    },
    {
     "name": "stderr",
     "output_type": "stream",
     "text": [
      "WARNING:root:That's 100 lines that end in a tokenized period ('.')\n",
      "WARNING:root:It looks like you forgot to detokenize your test data, which may hurt your score.\n",
      "WARNING:root:If you insist your data is detokenized, or don't care, you can suppress this message with '--force'.\n"
     ]
    },
    {
     "name": "stdout",
     "output_type": "stream",
     "text": [
      "Epoch: 0.72, Train Loss: 0.00, Val Loss: 5.38, Train BLEU: 0.00, Val BLEU: 5.26, Minutes Elapsed: 27.32\n",
      "Sampling from val predictions...\n",
      "Source: chào . xin cảm_ơn . <EOS> <PAD> <PAD> <PAD> <PAD>\n",
      "Reference: peace . thank you . <EOS> <PAD> <PAD> <PAD>\n",
      "Model: <SOS> thank you . . . . . <EOS> <EOS>\n",
      "\n",
      "Source: tôi chỉ là một người phụ_nữ muốn chia_sẻ câu_chuyện của\n",
      "Reference: i &apos;m just one woman with a story to\n",
      "Model: <SOS> i &apos;m a a a a a a a\n",
      "\n",
      "Source: lòng tốt từ người đàn_ông xa_lạ trở_thành biểu_tượng hy_vọng mới\n",
      "Reference: the kind stranger symbolized new hope for me and\n",
      "Model: <SOS> the are of of of of of of the\n",
      "\n"
     ]
    },
    {
     "name": "stderr",
     "output_type": "stream",
     "text": [
      "WARNING:root:That's 100 lines that end in a tokenized period ('.')\n",
      "WARNING:root:It looks like you forgot to detokenize your test data, which may hurt your score.\n",
      "WARNING:root:If you insist your data is detokenized, or don't care, you can suppress this message with '--force'.\n"
     ]
    },
    {
     "name": "stdout",
     "output_type": "stream",
     "text": [
      "Epoch: 0.96, Train Loss: 0.00, Val Loss: 5.16, Train BLEU: 0.00, Val BLEU: 6.12, Minutes Elapsed: 36.39\n",
      "Sampling from val predictions...\n",
      "Source: đối_với một_số người , họ đã được kết_nối với một\n",
      "Reference: for some of them , it &apos;s given them\n",
      "Model: <SOS> in they , , , , a a a\n",
      "\n",
      "Source: vậy_nên cái mà tôi đang nói đến_là tinh_thần kinh_doanh là\n",
      "Reference: so what i &apos;m saying is that entrepreneurship is\n",
      "Model: <SOS> the i i i i i is is is\n",
      "\n",
      "Source: tôi không_thể nói cụ_thể về việc mình đã trốn khỏi\n",
      "Reference: i can &apos;t reveal many details &#91; about &#93;\n",
      "Model: <SOS> i i &apos;t to to to the the the\n",
      "\n"
     ]
    },
    {
     "name": "stderr",
     "output_type": "stream",
     "text": [
      "WARNING:root:That's 100 lines that end in a tokenized period ('.')\n",
      "WARNING:root:It looks like you forgot to detokenize your test data, which may hurt your score.\n",
      "WARNING:root:If you insist your data is detokenized, or don't care, you can suppress this message with '--force'.\n"
     ]
    },
    {
     "name": "stdout",
     "output_type": "stream",
     "text": [
      "Epoch: 1.00, Train Loss: 0.00, Val Loss: 5.15, Train BLEU: 0.00, Val BLEU: 5.93, Minutes Elapsed: 37.97\n",
      "Sampling from val predictions...\n",
      "Source: một trong số điều thông_minh nhất <UNK> đã làm ,\n",
      "Reference: one of the smartest things <UNK> did , from\n",
      "Model: <SOS> one of of of of of of of ,\n",
      "\n",
      "Source: những gì tôi làm , và những gì tôi làm\n",
      "Reference: everything i do , and everything i do professionally\n",
      "Model: <SOS> what i i , , , and and and\n",
      "\n",
      "Source: ở cuối đường , anh ta giục chúng_tôi rời xe\n",
      "Reference: at the end of the road , he urged\n",
      "Model: <SOS> at the , , , we we the the\n",
      "\n"
     ]
    },
    {
     "name": "stderr",
     "output_type": "stream",
     "text": [
      "WARNING:root:That's 100 lines that end in a tokenized period ('.')\n",
      "WARNING:root:It looks like you forgot to detokenize your test data, which may hurt your score.\n",
      "WARNING:root:If you insist your data is detokenized, or don't care, you can suppress this message with '--force'.\n"
     ]
    },
    {
     "name": "stdout",
     "output_type": "stream",
     "text": [
      "Epoch: 1.24, Train Loss: 0.00, Val Loss: 5.03, Train BLEU: 0.00, Val BLEU: 7.49, Minutes Elapsed: 46.98\n",
      "Sampling from val predictions...\n",
      "Source: ngay lúc_này , có_thể bạn đang nghĩ , \" ồ\n",
      "Reference: right now , maybe you &apos;re thinking , &quot;\n",
      "Model: <SOS> so , , you , , , &quot; &quot;\n",
      "\n",
      "Source: trong những năm taliban , tôi nhớ rằng có những\n",
      "Reference: during taliban years , i remember there were times\n",
      "Model: <SOS> in in , i i i i i i\n",
      "\n",
      "Source: nhưng sau đó tôi đã nói , tôi muốn có\n",
      "Reference: but then i said , i want to have\n",
      "Model: <SOS> but i i said , i i i i\n",
      "\n"
     ]
    },
    {
     "name": "stderr",
     "output_type": "stream",
     "text": [
      "WARNING:root:That's 100 lines that end in a tokenized period ('.')\n",
      "WARNING:root:It looks like you forgot to detokenize your test data, which may hurt your score.\n",
      "WARNING:root:If you insist your data is detokenized, or don't care, you can suppress this message with '--force'.\n"
     ]
    },
    {
     "name": "stdout",
     "output_type": "stream",
     "text": [
      "Epoch: 1.48, Train Loss: 0.00, Val Loss: 4.90, Train BLEU: 0.00, Val BLEU: 8.30, Minutes Elapsed: 56.00\n",
      "Sampling from val predictions...\n",
      "Source: kofi được cứu từ 1 làng chài . <EOS> <PAD>\n",
      "Reference: kofi was rescued from a fishing village . <EOS>\n",
      "Model: <SOS> they was a a a . . <EOS> <EOS>\n",
      "\n",
      "Source: cám_ơn các bạn . <EOS> <PAD> <PAD> <PAD> <PAD> <PAD>\n",
      "Reference: thank you . <EOS> <PAD> <PAD> <PAD> <PAD> <PAD>\n",
      "Model: <SOS> thank you . <EOS> <EOS> <EOS> <EOS> <EOS> <EOS>\n",
      "\n",
      "Source: nói rằng em muốn được là người_mẫu khi em lớn_lên\n",
      "Reference: saying that you want to be a model when\n",
      "Model: <SOS> the , , he to to be to to\n",
      "\n"
     ]
    },
    {
     "name": "stderr",
     "output_type": "stream",
     "text": [
      "WARNING:root:That's 100 lines that end in a tokenized period ('.')\n",
      "WARNING:root:It looks like you forgot to detokenize your test data, which may hurt your score.\n",
      "WARNING:root:If you insist your data is detokenized, or don't care, you can suppress this message with '--force'.\n"
     ]
    },
    {
     "name": "stdout",
     "output_type": "stream",
     "text": [
      "Epoch: 1.72, Train Loss: 0.00, Val Loss: 4.78, Train BLEU: 0.00, Val BLEU: 8.93, Minutes Elapsed: 65.04\n",
      "Sampling from val predictions...\n",
      "Source: điều mà bạn nên làm là đấu_tranh cho sự tự_chủ\n",
      "Reference: but you have to fight for your <UNK> today\n",
      "Model: <SOS> what what you do is is is is the\n",
      "\n",
      "Source: cảm_ơn <EOS> <PAD> <PAD> <PAD> <PAD> <PAD> <PAD> <PAD> <PAD>\n",
      "Reference: thank you . <EOS> <PAD> <PAD> <PAD> <PAD> <PAD>\n",
      "Model: <SOS> thank you . <EOS> . <EOS> <EOS> <EOS> <EOS>\n",
      "\n",
      "Source: thậm_chí anh ta chĩa súng vào đầu tôi , đẩy\n",
      "Reference: even though he held those loaded guns to my\n",
      "Model: <SOS> he he &apos;t to my my , , ,\n",
      "\n"
     ]
    },
    {
     "name": "stderr",
     "output_type": "stream",
     "text": [
      "WARNING:root:That's 100 lines that end in a tokenized period ('.')\n",
      "WARNING:root:It looks like you forgot to detokenize your test data, which may hurt your score.\n",
      "WARNING:root:If you insist your data is detokenized, or don't care, you can suppress this message with '--force'.\n"
     ]
    },
    {
     "name": "stdout",
     "output_type": "stream",
     "text": [
      "Epoch: 1.96, Train Loss: 0.00, Val Loss: 4.73, Train BLEU: 0.00, Val BLEU: 8.93, Minutes Elapsed: 74.11\n",
      "Sampling from val predictions...\n",
      "Source: ước_mơ lớn nhất của tôi là trở_thành một kỹ_sư máy_bay\n",
      "Reference: so my big dream is to become an aircraft\n",
      "Model: <SOS> the of of of is is a a a\n",
      "\n",
      "Source: đừng hiểu_lầm tôi . <EOS> <PAD> <PAD> <PAD> <PAD> <PAD>\n",
      "Reference: now don &apos;t get me wrong . <EOS> <PAD>\n",
      "Model: <SOS> don &apos;t &apos;t . . <EOS> <EOS> <EOS> <EOS>\n",
      "\n",
      "Source: vậy_nên cái mà tôi làm trong năm đầu_tiên tại <UNK>\n",
      "Reference: and so what i did in <UNK> that first\n",
      "Model: <SOS> so what i i i in in in first\n",
      "\n"
     ]
    },
    {
     "name": "stderr",
     "output_type": "stream",
     "text": [
      "WARNING:root:That's 100 lines that end in a tokenized period ('.')\n",
      "WARNING:root:It looks like you forgot to detokenize your test data, which may hurt your score.\n",
      "WARNING:root:If you insist your data is detokenized, or don't care, you can suppress this message with '--force'.\n"
     ]
    },
    {
     "name": "stdout",
     "output_type": "stream",
     "text": [
      "Epoch: 2.00, Train Loss: 0.00, Val Loss: 4.74, Train BLEU: 0.00, Val BLEU: 9.15, Minutes Elapsed: 75.69\n",
      "Sampling from val predictions...\n",
      "Source: chúng_tôi tình_cờ quay_lại new_york đúng một năm sau đó ,\n",
      "Reference: we happened to be back in new york exactly\n",
      "Model: <SOS> we we a a a a , , ,\n",
      "\n",
      "Source: lò vi_sóng cũng có hệ_thống hoạt_động tương_tự . <EOS> <PAD>\n",
      "Reference: so a microwave is a similar system . <EOS>\n",
      "Model: <SOS> the system system system system system system system system\n",
      "\n",
      "Source: và chiếc hộp đồng_hồ đo làm_cho <UNK> tắt . <EOS>\n",
      "Reference: and the indicator box makes the lights flash .\n",
      "Model: <SOS> and the the to to to . . .\n",
      "\n"
     ]
    },
    {
     "name": "stderr",
     "output_type": "stream",
     "text": [
      "WARNING:root:That's 100 lines that end in a tokenized period ('.')\n",
      "WARNING:root:It looks like you forgot to detokenize your test data, which may hurt your score.\n",
      "WARNING:root:If you insist your data is detokenized, or don't care, you can suppress this message with '--force'.\n"
     ]
    },
    {
     "name": "stdout",
     "output_type": "stream",
     "text": [
      "Epoch: 2.24, Train Loss: 0.00, Val Loss: 4.71, Train BLEU: 0.00, Val BLEU: 9.74, Minutes Elapsed: 84.71\n",
      "Sampling from val predictions...\n",
      "Source: bây_giờ tôi muốn giới_thiệu các bạn với những người em_trai\n",
      "Reference: now i &apos;d like to introduce you to my\n",
      "Model: <SOS> now i i to to to with with with\n",
      "\n",
      "Source: đây là một trong những kế_hoạch của tôi . đây\n",
      "Reference: now this is one of my plans . this\n",
      "Model: <SOS> this is one one of . . . .\n",
      "\n",
      "Source: một đứa bị kẹt trong dòng nước . <EOS> <PAD>\n",
      "Reference: one of them got caught up in the water\n",
      "Model: <SOS> a &apos;s a in in . <EOS> <EOS> <EOS>\n",
      "\n"
     ]
    },
    {
     "name": "stderr",
     "output_type": "stream",
     "text": [
      "WARNING:root:That's 100 lines that end in a tokenized period ('.')\n",
      "WARNING:root:It looks like you forgot to detokenize your test data, which may hurt your score.\n",
      "WARNING:root:If you insist your data is detokenized, or don't care, you can suppress this message with '--force'.\n"
     ]
    },
    {
     "name": "stdout",
     "output_type": "stream",
     "text": [
      "Epoch: 2.48, Train Loss: 0.00, Val Loss: 4.68, Train BLEU: 0.00, Val BLEU: 9.73, Minutes Elapsed: 93.73\n",
      "Sampling from val predictions...\n",
      "Source: vì có mắc chứng tự_kỷ hay không , sự khác_biệt\n",
      "Reference: because autistic or not , the differences that we\n",
      "Model: <SOS> because there are are , , , , ,\n",
      "\n",
      "Source: bảo_trợ , tôi đối xử với tất_cả mọi người từ\n",
      "Reference: patronizing , i treat everybody from another culture as\n",
      "Model: <SOS> now , i i to all all all from\n",
      "\n",
      "Source: vì_thế họ giết sư_tử . <EOS> <PAD> <PAD> <PAD> <PAD>\n",
      "Reference: so they kill the lions . <EOS> <PAD> <PAD>\n",
      "Model: <SOS> so they they . . <EOS> <EOS> <EOS> <EOS>\n",
      "\n"
     ]
    },
    {
     "name": "stderr",
     "output_type": "stream",
     "text": [
      "WARNING:root:That's 100 lines that end in a tokenized period ('.')\n",
      "WARNING:root:It looks like you forgot to detokenize your test data, which may hurt your score.\n",
      "WARNING:root:If you insist your data is detokenized, or don't care, you can suppress this message with '--force'.\n"
     ]
    },
    {
     "name": "stdout",
     "output_type": "stream",
     "text": [
      "Epoch: 2.72, Train Loss: 0.00, Val Loss: 4.60, Train BLEU: 0.00, Val BLEU: 9.99, Minutes Elapsed: 102.77\n",
      "Sampling from val predictions...\n",
      "Source: dearborn , michigan . henry ford . <EOS> <PAD> <PAD>\n",
      "Reference: <UNK> , michigan . henry ford . <EOS> <PAD>\n",
      "Model: <SOS> <UNK> , ben . . . <EOS> <EOS> <EOS>\n",
      "\n",
      "Source: tại_sao xã_hội chúng_tôi tiếp_tục là một xã_hội phân_cực và thống_trị\n",
      "Reference: why does our society continue to be polarized and\n",
      "Model: <SOS> why why we opportunity opportunity opportunity opportunity society society\n",
      "\n",
      "Source: và chúng_tôi giúp họ tiến_hành tìm_kiếm sự hiểu_biết , vì\n",
      "Reference: and then we help them to go and find\n",
      "Model: <SOS> and we asked them them , , , because\n",
      "\n"
     ]
    },
    {
     "name": "stderr",
     "output_type": "stream",
     "text": [
      "WARNING:root:That's 100 lines that end in a tokenized period ('.')\n",
      "WARNING:root:It looks like you forgot to detokenize your test data, which may hurt your score.\n",
      "WARNING:root:If you insist your data is detokenized, or don't care, you can suppress this message with '--force'.\n"
     ]
    },
    {
     "name": "stdout",
     "output_type": "stream",
     "text": [
      "Epoch: 2.96, Train Loss: 0.00, Val Loss: 4.56, Train BLEU: 0.00, Val BLEU: 10.31, Minutes Elapsed: 111.82\n",
      "Sampling from val predictions...\n",
      "Source: một cây dưới gối chỗ giường ngủ của chúng_tôi cây\n",
      "Reference: he kept one under the pillows on our bed\n",
      "Model: <SOS> a &apos;s a our our our our the our\n",
      "\n",
      "Source: đây không_phải nói người mẹ không quan_trọng trong thành_công_của chúng_ta\n",
      "Reference: it &apos;s not to say that our mothers aren\n",
      "Model: <SOS> this &apos;s not not &apos;t &apos;t &apos;t &apos;t in\n",
      "\n",
      "Source: vậy_là chúng_tôi già hoá mẫu_vật , đặt nhiều tải_trọng lên\n",
      "Reference: so we did aging on the samples , did\n",
      "Model: <SOS> so we we to to , , , ,\n",
      "\n"
     ]
    },
    {
     "name": "stderr",
     "output_type": "stream",
     "text": [
      "WARNING:root:That's 100 lines that end in a tokenized period ('.')\n",
      "WARNING:root:It looks like you forgot to detokenize your test data, which may hurt your score.\n",
      "WARNING:root:If you insist your data is detokenized, or don't care, you can suppress this message with '--force'.\n"
     ]
    },
    {
     "name": "stdout",
     "output_type": "stream",
     "text": [
      "Epoch: 3.00, Train Loss: 0.00, Val Loss: 4.58, Train BLEU: 0.00, Val BLEU: 10.11, Minutes Elapsed: 113.39\n",
      "Sampling from val predictions...\n",
      "Source: tôi nhìn_thấy xe_lăn được mua_bán giống_như xe cũ vậy .\n",
      "Reference: i see wheelchairs bought and sold like used cars\n",
      "Model: <SOS> i i the the as as as the the\n",
      "\n",
      "Source: lần đầu_tiên , tôi đang lái_xe để tìm một bãi_biển\n",
      "Reference: the first time , i was driving to find\n",
      "Model: <SOS> the first time , i i to to a\n",
      "\n",
      "Source: việc người bắc triều_tiên phải che dấu danh_tính của mình\n",
      "Reference: it &apos;s tragic that north koreans have to hide\n",
      "Model: <SOS> the first of to to to to the the\n",
      "\n"
     ]
    },
    {
     "name": "stderr",
     "output_type": "stream",
     "text": [
      "WARNING:root:That's 100 lines that end in a tokenized period ('.')\n",
      "WARNING:root:It looks like you forgot to detokenize your test data, which may hurt your score.\n",
      "WARNING:root:If you insist your data is detokenized, or don't care, you can suppress this message with '--force'.\n"
     ]
    },
    {
     "name": "stdout",
     "output_type": "stream",
     "text": [
      "Epoch: 3.24, Train Loss: 0.00, Val Loss: 4.56, Train BLEU: 0.00, Val BLEU: 10.83, Minutes Elapsed: 122.37\n",
      "Sampling from val predictions...\n",
      "Source: đây là tôi trong cùng một ngày khi chụp bức\n",
      "Reference: here &apos;s me on the same day as this\n",
      "Model: <SOS> this is i a a day day day a\n",
      "\n",
      "Source: tôi muốn phản_kháng lại vì bạn biết sao không ?\n",
      "Reference: i want to challenge that . do you know\n",
      "Model: <SOS> i i to to to i , i know\n",
      "\n",
      "Source: vậy chúng_tôi đã làm được gì ? chúng_tôi đang tiến_hành\n",
      "Reference: so what &apos;s being done ? well , we\n",
      "Model: <SOS> so what did we ? ? we we we\n",
      "\n"
     ]
    },
    {
     "name": "stderr",
     "output_type": "stream",
     "text": [
      "WARNING:root:That's 100 lines that end in a tokenized period ('.')\n",
      "WARNING:root:It looks like you forgot to detokenize your test data, which may hurt your score.\n",
      "WARNING:root:If you insist your data is detokenized, or don't care, you can suppress this message with '--force'.\n"
     ]
    },
    {
     "name": "stdout",
     "output_type": "stream",
     "text": [
      "Epoch: 3.48, Train Loss: 0.00, Val Loss: 4.53, Train BLEU: 0.00, Val BLEU: 10.32, Minutes Elapsed: 131.34\n",
      "Sampling from val predictions...\n",
      "Source: khi sắp tới sinh_nhật lần thứ 3 của con gái\n",
      "Reference: approaching my daughter &apos;s third birthday , my wife\n",
      "Model: <SOS> when , the the the to three the three\n",
      "\n",
      "Source: họ còn lâu mới bị tuyệt_chủng . <EOS> <PAD> <PAD>\n",
      "Reference: they are far from being extinct . <EOS> <PAD>\n",
      "Model: <SOS> they &apos;re still . . . . <EOS> <EOS>\n",
      "\n",
      "Source: còn khi chúng_tôi ở sau cánh_gà , chúng_tôi đưa ra\n",
      "Reference: and when we &apos;re backstage , we give an\n",
      "Model: <SOS> when when we we in , the we we\n",
      "\n"
     ]
    },
    {
     "name": "stderr",
     "output_type": "stream",
     "text": [
      "WARNING:root:That's 100 lines that end in a tokenized period ('.')\n",
      "WARNING:root:It looks like you forgot to detokenize your test data, which may hurt your score.\n",
      "WARNING:root:If you insist your data is detokenized, or don't care, you can suppress this message with '--force'.\n"
     ]
    },
    {
     "name": "stdout",
     "output_type": "stream",
     "text": [
      "Epoch: 3.72, Train Loss: 0.00, Val Loss: 4.46, Train BLEU: 0.00, Val BLEU: 11.42, Minutes Elapsed: 140.38\n",
      "Sampling from val predictions...\n",
      "Source: em run_rẩy khi thuyền của chúng_tôi đến gần , cứ\n",
      "Reference: he was trembling when our boat approached , frightened\n",
      "Model: <SOS> so children went the the , , , ,\n",
      "\n",
      "Source: <UNK> là lực_lượng cảnh_sát mật hoạt_động ở đông đức .\n",
      "Reference: <UNK> was the secret police in east germany .\n",
      "Model: <SOS> the is a a of in in . <EOS>\n",
      "\n",
      "Source: tất_cả những điều đó hoàn_toàn có_thể chỉ với chiếc điện_thoại_di_động\n",
      "Reference: all this is possible with your mobile phone .\n",
      "Model: <SOS> all that that that that to to to the\n",
      "\n"
     ]
    },
    {
     "name": "stderr",
     "output_type": "stream",
     "text": [
      "WARNING:root:That's 100 lines that end in a tokenized period ('.')\n",
      "WARNING:root:It looks like you forgot to detokenize your test data, which may hurt your score.\n",
      "WARNING:root:If you insist your data is detokenized, or don't care, you can suppress this message with '--force'.\n"
     ]
    },
    {
     "name": "stdout",
     "output_type": "stream",
     "text": [
      "Epoch: 3.96, Train Loss: 0.00, Val Loss: 4.46, Train BLEU: 0.00, Val BLEU: 11.08, Minutes Elapsed: 149.41\n",
      "Sampling from val predictions...\n",
      "Source: cái quan_trọng nhất là khát_vọng . <EOS> <PAD> <PAD> <PAD>\n",
      "Reference: the most important thing is passion . <EOS> <PAD>\n",
      "Model: <SOS> the most important important is <EOS> . <EOS> <EOS>\n",
      "\n",
      "Source: nơi đây cũng là nơi mà trung_tâm di_tản đã thu_thập\n",
      "Reference: this happened to also be a place in the\n",
      "Model: <SOS> now this also the the that has has the\n",
      "\n",
      "Source: có một câu_chuyện rất vui mà tôi đọc được trên\n",
      "Reference: there &apos;s a lovely story that i read in\n",
      "Model: <SOS> there &apos;s a a story i i i to\n",
      "\n"
     ]
    },
    {
     "name": "stderr",
     "output_type": "stream",
     "text": [
      "WARNING:root:That's 100 lines that end in a tokenized period ('.')\n",
      "WARNING:root:It looks like you forgot to detokenize your test data, which may hurt your score.\n",
      "WARNING:root:If you insist your data is detokenized, or don't care, you can suppress this message with '--force'.\n"
     ]
    },
    {
     "name": "stdout",
     "output_type": "stream",
     "text": [
      "Epoch: 4.00, Train Loss: 0.00, Val Loss: 4.47, Train BLEU: 0.00, Val BLEU: 11.28, Minutes Elapsed: 150.99\n",
      "Sampling from val predictions...\n",
      "Source: tôi làm dự_án này năm_ngoái , và bắt_đầu nhận được\n",
      "Reference: i made this last year , and started receiving\n",
      "Model: <SOS> i i this this project and and and and\n",
      "\n",
      "Source: tôi cũng không biết rằng giai_đoạn thứ hai là cô_lập\n",
      "Reference: i also didn &apos;t know that the second step\n",
      "Model: <SOS> i i &apos;t know that the the the between\n",
      "\n",
      "Source: nhưng những cuộc trao_đổi hiệu_quả không_thể diễn ra nếu các\n",
      "Reference: but these great conversations can &apos;t occur if our\n",
      "Model: <SOS> but the the of &apos;t &apos;t &apos;t &apos;t if\n",
      "\n"
     ]
    },
    {
     "name": "stderr",
     "output_type": "stream",
     "text": [
      "WARNING:root:That's 100 lines that end in a tokenized period ('.')\n",
      "WARNING:root:It looks like you forgot to detokenize your test data, which may hurt your score.\n",
      "WARNING:root:If you insist your data is detokenized, or don't care, you can suppress this message with '--force'.\n"
     ]
    },
    {
     "name": "stdout",
     "output_type": "stream",
     "text": [
      "Epoch: 4.24, Train Loss: 0.00, Val Loss: 4.50, Train BLEU: 0.00, Val BLEU: 11.49, Minutes Elapsed: 159.93\n",
      "Sampling from val predictions...\n",
      "Source: vì đó là lần đầu_tiên tôi biết rằng đồng_bào của\n",
      "Reference: this was the first time i heard that people\n",
      "Model: <SOS> so that was first first i i that the\n",
      "\n",
      "Source: nếu bạn không phải là thợ làm_vườn thì bạn không_phải\n",
      "Reference: if you ain &apos;t a gardener , you ain\n",
      "Model: <SOS> if you don not the the good you you\n",
      "\n",
      "Source: nô_lệ ngày_nay phục_vụ cho thương_mại , hàng_hoá mà người nô_lệ\n",
      "Reference: today &apos;s slavery is about commerce , so the\n",
      "Model: <SOS> the is is is , , , , ,\n",
      "\n"
     ]
    },
    {
     "name": "stderr",
     "output_type": "stream",
     "text": [
      "WARNING:root:That's 100 lines that end in a tokenized period ('.')\n",
      "WARNING:root:It looks like you forgot to detokenize your test data, which may hurt your score.\n",
      "WARNING:root:If you insist your data is detokenized, or don't care, you can suppress this message with '--force'.\n"
     ]
    },
    {
     "name": "stdout",
     "output_type": "stream",
     "text": [
      "Epoch: 4.48, Train Loss: 0.00, Val Loss: 4.48, Train BLEU: 0.00, Val BLEU: 11.13, Minutes Elapsed: 168.94\n",
      "Sampling from val predictions...\n",
      "Source: vì không có kền_kền nên mới có sự tràn_lan về\n",
      "Reference: because there are no vultures , there &apos;s been\n",
      "Model: <SOS> because there &apos;s no new of the &apos;s about\n",
      "\n",
      "Source: ý_tưởng đầu_tiên mà tôi có được là sử_dụng lửa ,\n",
      "Reference: and the first idea i got was to use\n",
      "Model: <SOS> the first first that that i was was is\n",
      "\n",
      "Source: cô cũng đã có bản_sao của bức ảnh . <EOS>\n",
      "Reference: she also had <UNK> . <EOS> <PAD> <PAD> <PAD>\n",
      "Model: <SOS> she was still the of the . . .\n",
      "\n"
     ]
    },
    {
     "name": "stderr",
     "output_type": "stream",
     "text": [
      "WARNING:root:That's 100 lines that end in a tokenized period ('.')\n",
      "WARNING:root:It looks like you forgot to detokenize your test data, which may hurt your score.\n",
      "WARNING:root:If you insist your data is detokenized, or don't care, you can suppress this message with '--force'.\n"
     ]
    },
    {
     "name": "stdout",
     "output_type": "stream",
     "text": [
      "Epoch: 4.72, Train Loss: 0.00, Val Loss: 4.44, Train BLEU: 0.00, Val BLEU: 12.20, Minutes Elapsed: 177.93\n",
      "Sampling from val predictions...\n",
      "Source: thuật_ngữ ngăn_cản chúng_tôi hiểu được ý_tưởng của anh . <EOS>\n",
      "Reference: jargon is a barrier to our understanding of your\n",
      "Model: <SOS> our means our we of we . . <EOS>\n",
      "\n",
      "Source: và cuối_cùng , tôi đã có một thoả_thuận với họ\n",
      "Reference: so at the end , i had a settlement\n",
      "Model: <SOS> and finally , , i i had a with\n",
      "\n",
      "Source: trong thần_thoại hindu , <UNK> là thần kền_kền , ông\n",
      "Reference: in hindu mythology , <UNK> was the <UNK> god\n",
      "Model: <SOS> in the the , the is is , ,\n",
      "\n"
     ]
    },
    {
     "name": "stderr",
     "output_type": "stream",
     "text": [
      "WARNING:root:That's 100 lines that end in a tokenized period ('.')\n",
      "WARNING:root:It looks like you forgot to detokenize your test data, which may hurt your score.\n",
      "WARNING:root:If you insist your data is detokenized, or don't care, you can suppress this message with '--force'.\n"
     ]
    },
    {
     "name": "stdout",
     "output_type": "stream",
     "text": [
      "Epoch: 4.96, Train Loss: 0.00, Val Loss: 4.46, Train BLEU: 0.00, Val BLEU: 11.52, Minutes Elapsed: 186.97\n",
      "Sampling from val predictions...\n",
      "Source: ông ấy nở một nụ cười rất lớn , điều\n",
      "Reference: there was a big smile on his face which\n",
      "Model: <SOS> he he a a of , , , ,\n",
      "\n",
      "Source: như tôi , họ có mơ_ước lớn . <EOS> <PAD>\n",
      "Reference: like me , they are dreaming big . <EOS>\n",
      "Model: <SOS> like i , they have got . <EOS> <EOS>\n",
      "\n",
      "Source: khi lớn lên , em trở_nên càng khác_biệt , và\n",
      "Reference: and as he grew older , he grew more\n",
      "Model: <SOS> when i was was up , , was to\n",
      "\n"
     ]
    },
    {
     "name": "stderr",
     "output_type": "stream",
     "text": [
      "WARNING:root:That's 100 lines that end in a tokenized period ('.')\n",
      "WARNING:root:It looks like you forgot to detokenize your test data, which may hurt your score.\n",
      "WARNING:root:If you insist your data is detokenized, or don't care, you can suppress this message with '--force'.\n"
     ]
    },
    {
     "name": "stdout",
     "output_type": "stream",
     "text": [
      "Epoch: 5.00, Train Loss: 0.00, Val Loss: 4.49, Train BLEU: 0.00, Val BLEU: 11.34, Minutes Elapsed: 188.52\n",
      "Sampling from val predictions...\n",
      "Source: <UNK> tiếp tuc đánh tôi một đến hai lần mỗi\n",
      "Reference: <UNK> proceeded to beat me once or twice a\n",
      "Model: <SOS> i work me me me me me me of\n",
      "\n",
      "Source: không có <UNK> . <EOS> <PAD> <PAD> <PAD> <PAD> <PAD>\n",
      "Reference: there were no back doors . <EOS> <PAD> <PAD>\n",
      "Model: <SOS> there &apos;s no . . . <EOS> &apos;s .\n",
      "\n",
      "Source: chúng_tôi giấu sách_vở trong giỏ <UNK> như_thế mọi người sẽ\n",
      "Reference: we would cover our books in grocery bags so\n",
      "Model: <SOS> we we we in in in the in in\n",
      "\n",
      "Model training completed in 188 minutes with 4.44 best validation loss and 12.20 best validation BLEU.\n",
      "Training with num_layers = 3\n",
      "Epoch: 0.00, Train Loss: 0.00, Val Loss: 10.25, Train BLEU: 0.00, Val BLEU: 0.07, Minutes Elapsed: 0.09\n",
      "Sampling from val predictions...\n",
      "Source: chúng thật_sự là những gã gom rác tự_nhiên . <EOS>\n",
      "Reference: they &apos;re our natural garbage collectors . <EOS> <PAD>\n",
      "Model: <SOS> and of of of of the the the the\n",
      "\n",
      "Source: vì những cuộc bầu_cử không đem lại hoà_bình , sự\n",
      "Reference: for elections did not bring peace and stability and\n",
      "Model: <SOS> and of of of of of the the the\n",
      "\n",
      "Source: mới 21 tuổi_đời , tôi nghĩ , người ý là\n",
      "Reference: i thought , age 21 , that we italians\n",
      "Model: <SOS> and of of of of of of the the\n",
      "\n"
     ]
    },
    {
     "name": "stderr",
     "output_type": "stream",
     "text": [
      "WARNING:root:That's 100 lines that end in a tokenized period ('.')\n",
      "WARNING:root:It looks like you forgot to detokenize your test data, which may hurt your score.\n",
      "WARNING:root:If you insist your data is detokenized, or don't care, you can suppress this message with '--force'.\n"
     ]
    },
    {
     "name": "stdout",
     "output_type": "stream",
     "text": [
      "Epoch: 0.24, Train Loss: 0.00, Val Loss: 6.08, Train BLEU: 0.00, Val BLEU: 2.65, Minutes Elapsed: 8.69\n",
      "Sampling from val predictions...\n",
      "Source: và rồi sư_tử nhảy vào và giết gia_súc . <EOS>\n",
      "Reference: so he jumps in and kills the animals .\n",
      "Model: <SOS> and that &apos;s , . . . . .\n",
      "\n",
      "Source: và thực_tế là_vì tâm_trí của các em tôi không phù_hợp\n",
      "Reference: and in fact , because their minds don &apos;t\n",
      "Model: <SOS> and the &apos;s that that that that that that\n",
      "\n",
      "Source: bạn sẽ bất_ngờ với những gì mà mảnh_đất có_thể làm\n",
      "Reference: you &apos;d be surprised what the soil could do\n",
      "Model: <SOS> so &apos;s a a a a a a a\n",
      "\n"
     ]
    },
    {
     "name": "stderr",
     "output_type": "stream",
     "text": [
      "WARNING:root:That's 100 lines that end in a tokenized period ('.')\n",
      "WARNING:root:It looks like you forgot to detokenize your test data, which may hurt your score.\n",
      "WARNING:root:If you insist your data is detokenized, or don't care, you can suppress this message with '--force'.\n"
     ]
    },
    {
     "name": "stdout",
     "output_type": "stream",
     "text": [
      "Epoch: 0.48, Train Loss: 0.00, Val Loss: 5.49, Train BLEU: 0.00, Val BLEU: 4.00, Minutes Elapsed: 17.26\n",
      "Sampling from val predictions...\n",
      "Source: <UNK> là biểu_tượng của người bảo_vệ và tình mẹ ,\n",
      "Reference: <UNK> was the symbol of the protector and the\n",
      "Model: <SOS> they have to and and and and and ,\n",
      "\n",
      "Source: nhưng vẫn hi_vọng ngày nào đó có_thể rời_khỏi căn_nhà này\n",
      "Reference: &quot; we hope still , though , that we\n",
      "Model: <SOS> but the , that that that that that that\n",
      "\n",
      "Source: vì_thế chúng_ta được dạy rằng \" sự khoan_dung của ta\n",
      "Reference: thus we are told that &quot; my mercy <UNK>\n",
      "Model: <SOS> so we we we , , , , ,\n",
      "\n"
     ]
    },
    {
     "name": "stderr",
     "output_type": "stream",
     "text": [
      "WARNING:root:That's 100 lines that end in a tokenized period ('.')\n",
      "WARNING:root:It looks like you forgot to detokenize your test data, which may hurt your score.\n",
      "WARNING:root:If you insist your data is detokenized, or don't care, you can suppress this message with '--force'.\n"
     ]
    },
    {
     "name": "stdout",
     "output_type": "stream",
     "text": [
      "Epoch: 0.72, Train Loss: 0.00, Val Loss: 5.16, Train BLEU: 0.00, Val BLEU: 6.56, Minutes Elapsed: 25.76\n",
      "Sampling from val predictions...\n",
      "Source: chúng_tôi thực_sự ngạc_nhiên về những người bản_địa , tại thung_lũng\n",
      "Reference: and we were amazed that the local people ,\n",
      "Model: <SOS> we we the the the the , , ,\n",
      "\n",
      "Source: vậy_nên nhiều năm trước , tôi có ý_tưởng thế_này :\n",
      "Reference: so years and years ago , i had this\n",
      "Model: <SOS> in years , , , , , , ,\n",
      "\n",
      "Source: nơi đây em đang tắm ở giếng , dội những\n",
      "Reference: here he &apos;s seen taking a bath at the\n",
      "Model: <SOS> so , is a in , , , ,\n",
      "\n"
     ]
    },
    {
     "name": "stderr",
     "output_type": "stream",
     "text": [
      "WARNING:root:That's 100 lines that end in a tokenized period ('.')\n",
      "WARNING:root:It looks like you forgot to detokenize your test data, which may hurt your score.\n",
      "WARNING:root:If you insist your data is detokenized, or don't care, you can suppress this message with '--force'.\n"
     ]
    },
    {
     "name": "stdout",
     "output_type": "stream",
     "text": [
      "Epoch: 0.96, Train Loss: 0.00, Val Loss: 4.99, Train BLEU: 0.00, Val BLEU: 6.81, Minutes Elapsed: 34.14\n",
      "Sampling from val predictions...\n",
      "Source: việc người bắc triều_tiên phải che dấu danh_tính của mình\n",
      "Reference: it &apos;s tragic that north koreans have to hide\n",
      "Model: <SOS> the people the the the the the the the\n",
      "\n",
      "Source: vì_thế họ giết sư_tử . <EOS> <PAD> <PAD> <PAD> <PAD>\n",
      "Reference: so they kill the lions . <EOS> <PAD> <PAD>\n",
      "Model: <SOS> so they they them . . . <EOS> <EOS>\n",
      "\n",
      "Source: nếu không , những chỗ như chồng và khuôn_mặt cô\n",
      "Reference: areas like her husband and her face , which\n",
      "Model: <SOS> if if don &apos;t , , , , ,\n",
      "\n"
     ]
    },
    {
     "name": "stderr",
     "output_type": "stream",
     "text": [
      "WARNING:root:That's 100 lines that end in a tokenized period ('.')\n",
      "WARNING:root:It looks like you forgot to detokenize your test data, which may hurt your score.\n",
      "WARNING:root:If you insist your data is detokenized, or don't care, you can suppress this message with '--force'.\n"
     ]
    },
    {
     "name": "stdout",
     "output_type": "stream",
     "text": [
      "Epoch: 1.00, Train Loss: 0.00, Val Loss: 4.98, Train BLEU: 0.00, Val BLEU: 7.13, Minutes Elapsed: 35.61\n",
      "Sampling from val predictions...\n",
      "Source: không_ai khởi_đầu một công_ty một_mình . không_ai cả . <EOS>\n",
      "Reference: nobody started a company alone . no one .\n",
      "Model: <SOS> it &apos;s not a a . . . .\n",
      "\n",
      "Source: nhưng ngày_nay , nhiều thế_hệ gia_đình bị bắt_làm nô_lệ qua\n",
      "Reference: yet today , entire families can be enslaved for\n",
      "Model: <SOS> but , , , the the the the the\n",
      "\n",
      "Source: nhiếp_ảnh là niềm đam_mê của tôi kể từ khi tôi\n",
      "Reference: photography has been my passion ever since i was\n",
      "Model: <SOS> it &apos;s my my my my my my my\n",
      "\n"
     ]
    },
    {
     "name": "stderr",
     "output_type": "stream",
     "text": [
      "WARNING:root:That's 100 lines that end in a tokenized period ('.')\n",
      "WARNING:root:It looks like you forgot to detokenize your test data, which may hurt your score.\n",
      "WARNING:root:If you insist your data is detokenized, or don't care, you can suppress this message with '--force'.\n"
     ]
    },
    {
     "name": "stdout",
     "output_type": "stream",
     "text": [
      "Epoch: 1.24, Train Loss: 0.00, Val Loss: 4.82, Train BLEU: 0.00, Val BLEU: 9.11, Minutes Elapsed: 44.09\n",
      "Sampling from val predictions...\n",
      "Source: bạn thấy đó , một_số người có_thể không làm điều\n",
      "Reference: you see , some people may not do it\n",
      "Model: <SOS> you know , , can can &apos;t &apos;t &apos;t\n",
      "\n",
      "Source: tương_đương với 50.000 đô - la mỹ ngày_nay . <EOS>\n",
      "Reference: that equates to about $ 50,000 in today &apos;s\n",
      "Model: <SOS> the &apos;s , . . . <EOS> <EOS> .\n",
      "\n",
      "Source: tôi tham_gia vào các lực_lượng trong và ngoài libya để\n",
      "Reference: i joined forces with many other <UNK> inside and\n",
      "Model: <SOS> i i to in the and and and and\n",
      "\n"
     ]
    },
    {
     "name": "stderr",
     "output_type": "stream",
     "text": [
      "WARNING:root:That's 100 lines that end in a tokenized period ('.')\n",
      "WARNING:root:It looks like you forgot to detokenize your test data, which may hurt your score.\n",
      "WARNING:root:If you insist your data is detokenized, or don't care, you can suppress this message with '--force'.\n"
     ]
    },
    {
     "name": "stdout",
     "output_type": "stream",
     "text": [
      "Epoch: 1.48, Train Loss: 0.00, Val Loss: 4.65, Train BLEU: 0.00, Val BLEU: 9.15, Minutes Elapsed: 52.61\n",
      "Sampling from val predictions...\n",
      "Source: bởi_vì nó rất rỗng , tất_cả tiếng_ồn sẽ biến mất\n",
      "Reference: because it &apos;s very hollow , all the noise\n",
      "Model: <SOS> because it &apos;s because , , , &apos;s ,\n",
      "\n",
      "Source: tôi đã gặp <UNK> trong một đêm tháng_một , mưa\n",
      "Reference: i met <UNK> on a cold , rainy january\n",
      "Model: <SOS> i was a a a , , , ,\n",
      "\n",
      "Source: ông ấy không bắt_đầu một_mình . <EOS> <PAD> <PAD> <PAD>\n",
      "Reference: he wasn &apos;t alone when he started . <EOS>\n",
      "Model: <SOS> he didn not . . <EOS> <EOS> <EOS> .\n",
      "\n"
     ]
    },
    {
     "name": "stderr",
     "output_type": "stream",
     "text": [
      "WARNING:root:That's 100 lines that end in a tokenized period ('.')\n",
      "WARNING:root:It looks like you forgot to detokenize your test data, which may hurt your score.\n",
      "WARNING:root:If you insist your data is detokenized, or don't care, you can suppress this message with '--force'.\n"
     ]
    },
    {
     "name": "stdout",
     "output_type": "stream",
     "text": [
      "Epoch: 1.72, Train Loss: 0.00, Val Loss: 4.52, Train BLEU: 0.00, Val BLEU: 10.14, Minutes Elapsed: 61.12\n",
      "Sampling from val predictions...\n",
      "Source: tôi cũng từng là một nạn_nhân điển_hình bởi tôi chẳng\n",
      "Reference: i was also a very typical victim because i\n",
      "Model: <SOS> i &apos;m a a a of , , i\n",
      "\n",
      "Source: tôi thấy các trung_tâm lọc máu mọc lên nhiều như\n",
      "Reference: i see dialysis centers popping up like starbucks .\n",
      "Model: <SOS> i i the the the the the the the\n",
      "\n",
      "Source: sự tự_chủ và việc sống trong thời đại công_nghệ số\n",
      "Reference: but <UNK> and living in the digital age is\n",
      "Model: <SOS> the and and the are the in of the\n",
      "\n"
     ]
    },
    {
     "name": "stderr",
     "output_type": "stream",
     "text": [
      "WARNING:root:That's 100 lines that end in a tokenized period ('.')\n",
      "WARNING:root:It looks like you forgot to detokenize your test data, which may hurt your score.\n",
      "WARNING:root:If you insist your data is detokenized, or don't care, you can suppress this message with '--force'.\n"
     ]
    },
    {
     "name": "stdout",
     "output_type": "stream",
     "text": [
      "Epoch: 1.96, Train Loss: 0.00, Val Loss: 4.44, Train BLEU: 0.00, Val BLEU: 10.55, Minutes Elapsed: 69.62\n",
      "Sampling from val predictions...\n",
      "Source: tôi đã có một_chút sợ_hãi . <EOS> <PAD> <PAD> <PAD>\n",
      "Reference: that &apos;s a little bit scary . <EOS> <PAD>\n",
      "Model: <SOS> i have had some of . <EOS> <EOS> <EOS>\n",
      "\n",
      "Source: một đứa bị kẹt trong dòng nước . <EOS> <PAD>\n",
      "Reference: one of them got caught up in the water\n",
      "Model: <SOS> a &apos;s a in in in <EOS> <EOS> .\n",
      "\n",
      "Source: một_số người thậm_chí không biết mình bị biến thành nô_lệ\n",
      "Reference: some don &apos;t even know they &apos;re enslaved ,\n",
      "Model: <SOS> some some people don &apos;t know know &apos;t to\n",
      "\n"
     ]
    },
    {
     "name": "stderr",
     "output_type": "stream",
     "text": [
      "WARNING:root:That's 100 lines that end in a tokenized period ('.')\n",
      "WARNING:root:It looks like you forgot to detokenize your test data, which may hurt your score.\n",
      "WARNING:root:If you insist your data is detokenized, or don't care, you can suppress this message with '--force'.\n"
     ]
    },
    {
     "name": "stdout",
     "output_type": "stream",
     "text": [
      "Epoch: 2.00, Train Loss: 0.00, Val Loss: 4.48, Train BLEU: 0.00, Val BLEU: 10.18, Minutes Elapsed: 71.10\n",
      "Sampling from val predictions...\n",
      "Source: những cái hầm sâu tới cả trăm mét , họ\n",
      "Reference: the shafts are up to 300 feet deep ,\n",
      "Model: <SOS> the the of the to the , , the\n",
      "\n",
      "Source: một là anh ta , cũng_như tôi , vừa tốt_nghiệp\n",
      "Reference: one was that he , too , had just\n",
      "Model: <SOS> one is , , he , he , was\n",
      "\n",
      "Source: ở dãy himalayas , tôi thấy trẻ_em vác đá qua\n",
      "Reference: in the himalayas , i found children carrying stone\n",
      "Model: <SOS> in i , , i i been the the\n",
      "\n"
     ]
    },
    {
     "name": "stderr",
     "output_type": "stream",
     "text": [
      "WARNING:root:That's 100 lines that end in a tokenized period ('.')\n",
      "WARNING:root:It looks like you forgot to detokenize your test data, which may hurt your score.\n",
      "WARNING:root:If you insist your data is detokenized, or don't care, you can suppress this message with '--force'.\n"
     ]
    },
    {
     "name": "stdout",
     "output_type": "stream",
     "text": [
      "Epoch: 2.24, Train Loss: 0.00, Val Loss: 4.40, Train BLEU: 0.00, Val BLEU: 11.57, Minutes Elapsed: 79.60\n",
      "Sampling from val predictions...\n",
      "Source: thế nên tôi đã lấy một bình ắc - quy\n",
      "Reference: so i got an old car battery , an\n",
      "Model: <SOS> so i i a a film -- i i\n",
      "\n",
      "Source: đó là môt sự_cố cá_biệt , và anh ta sẽ\n",
      "Reference: it was an isolated incident , and he was\n",
      "Model: <SOS> it &apos;s the <UNK> , , and he &apos;s\n",
      "\n",
      "Source: việc ổn_định cuộc_sống ở đây khó_khăn hơn nhiều so với\n",
      "Reference: settling down in south korea was a lot more\n",
      "Model: <SOS> the the is a is is the than than\n",
      "\n"
     ]
    },
    {
     "name": "stderr",
     "output_type": "stream",
     "text": [
      "WARNING:root:That's 100 lines that end in a tokenized period ('.')\n",
      "WARNING:root:It looks like you forgot to detokenize your test data, which may hurt your score.\n",
      "WARNING:root:If you insist your data is detokenized, or don't care, you can suppress this message with '--force'.\n"
     ]
    },
    {
     "name": "stdout",
     "output_type": "stream",
     "text": [
      "Epoch: 2.48, Train Loss: 0.00, Val Loss: 4.35, Train BLEU: 0.00, Val BLEU: 10.98, Minutes Elapsed: 88.10\n",
      "Sampling from val predictions...\n",
      "Source: câu_hỏi tiếp_theo mà người_ta luôn hỏi tôi : \" có_phải\n",
      "Reference: the next question people always ask me is ,\n",
      "Model: <SOS> the next question , ask me &quot; &quot; &quot;\n",
      "\n",
      "Source: có hai loại kền_kền trên hành_tinh này . <EOS> <PAD>\n",
      "Reference: so there &apos;s two types of vultures in this\n",
      "Model: <SOS> there are are two of of . . <EOS>\n",
      "\n",
      "Source: và trên chiếc đĩa cd , cái tôi cần đã\n",
      "Reference: and on the c.d. , this was on .\n",
      "Model: <SOS> and on the , , , i i ,\n",
      "\n"
     ]
    },
    {
     "name": "stderr",
     "output_type": "stream",
     "text": [
      "WARNING:root:That's 100 lines that end in a tokenized period ('.')\n",
      "WARNING:root:It looks like you forgot to detokenize your test data, which may hurt your score.\n",
      "WARNING:root:If you insist your data is detokenized, or don't care, you can suppress this message with '--force'.\n"
     ]
    },
    {
     "name": "stdout",
     "output_type": "stream",
     "text": [
      "Epoch: 2.72, Train Loss: 0.00, Val Loss: 4.30, Train BLEU: 0.00, Val BLEU: 11.91, Minutes Elapsed: 96.58\n",
      "Sampling from val predictions...\n",
      "Source: cái mà chúng_ta phải nhìn đến đó là chúng_ta làm\n",
      "Reference: what we have to look at is at how\n",
      "Model: <SOS> what we we to to that we we we\n",
      "\n",
      "Source: không , không_hề . <EOS> <PAD> <PAD> <PAD> <PAD> <PAD>\n",
      "Reference: no , it didn &apos;t . <EOS> <PAD> <PAD>\n",
      "Model: <SOS> no , no . <EOS> . <EOS> . <EOS>\n",
      "\n",
      "Source: tôi lúc_nào cũng tự_hỏi là tại_sao họ lại có điện\n",
      "Reference: i always wondered why they had lights but we\n",
      "Model: <SOS> i &apos;m the why why why why why why\n",
      "\n"
     ]
    },
    {
     "name": "stderr",
     "output_type": "stream",
     "text": [
      "WARNING:root:That's 100 lines that end in a tokenized period ('.')\n",
      "WARNING:root:It looks like you forgot to detokenize your test data, which may hurt your score.\n",
      "WARNING:root:If you insist your data is detokenized, or don't care, you can suppress this message with '--force'.\n"
     ]
    },
    {
     "name": "stdout",
     "output_type": "stream",
     "text": [
      "Epoch: 2.96, Train Loss: 0.00, Val Loss: 4.26, Train BLEU: 0.00, Val BLEU: 11.61, Minutes Elapsed: 105.08\n",
      "Sampling from val predictions...\n",
      "Source: chứ không bao_giờ tôi có_thể tưởng_tượng rằng tôi sẽ phải\n",
      "Reference: i could have never imagined that it would take\n",
      "Model: <SOS> i i &apos;t see i i i could i\n",
      "\n",
      "Source: chúng_ta có_thể thấy chúng di_chuyển đến rất nhiều quốc_gia khác\n",
      "Reference: we can see that they travel different countries ,\n",
      "Model: <SOS> we can see them different different different different different\n",
      "\n",
      "Source: và đó là cách mà ánh_sáng chiếu về phía sư_tử\n",
      "Reference: and that &apos;s how it looks to lions when\n",
      "Model: <SOS> and that &apos;s how way &apos;s the the and\n",
      "\n"
     ]
    },
    {
     "name": "stderr",
     "output_type": "stream",
     "text": [
      "WARNING:root:That's 100 lines that end in a tokenized period ('.')\n",
      "WARNING:root:It looks like you forgot to detokenize your test data, which may hurt your score.\n",
      "WARNING:root:If you insist your data is detokenized, or don't care, you can suppress this message with '--force'.\n"
     ]
    },
    {
     "name": "stdout",
     "output_type": "stream",
     "text": [
      "Epoch: 3.00, Train Loss: 0.00, Val Loss: 4.30, Train BLEU: 0.00, Val BLEU: 11.25, Minutes Elapsed: 106.57\n",
      "Sampling from val predictions...\n",
      "Source: khi mà những quả cà_chua bắt_đầu đạt , chín ,\n",
      "Reference: when the tomatoes were nice and ripe and red\n",
      "Model: <SOS> when we started of the the the , the\n",
      "\n",
      "Source: chúng dọn_sạch những xác_chết đến tận xương . <EOS> <PAD>\n",
      "Reference: they clean up carcasses right to the bone .\n",
      "Model: <SOS> they need the to the . <EOS> . .\n",
      "\n",
      "Source: sự sụp_đổ của bức tường berlin có_thể sẽ không tồn_tại\n",
      "Reference: the fall of the berlin wall would maybe not\n",
      "Model: <SOS> the the of of of of the the be\n",
      "\n"
     ]
    },
    {
     "name": "stderr",
     "output_type": "stream",
     "text": [
      "WARNING:root:That's 100 lines that end in a tokenized period ('.')\n",
      "WARNING:root:It looks like you forgot to detokenize your test data, which may hurt your score.\n",
      "WARNING:root:If you insist your data is detokenized, or don't care, you can suppress this message with '--force'.\n"
     ]
    },
    {
     "name": "stdout",
     "output_type": "stream",
     "text": [
      "Epoch: 3.24, Train Loss: 0.00, Val Loss: 4.27, Train BLEU: 0.00, Val BLEU: 12.39, Minutes Elapsed: 115.13\n",
      "Sampling from val predictions...\n",
      "Source: bất_cứ ai khoẻ_mạnh hoặc mắc bệnh parkinson có_thể gọi tới\n",
      "Reference: anyone healthy or with parkinson &apos;s can call in\n",
      "Model: <SOS> the &apos;s the the to or , to be\n",
      "\n",
      "Source: những người thông_thái nhất trong cộng <UNK> chẳng bao_giờ biết\n",
      "Reference: the smartest people in your community you don &apos;t\n",
      "Model: <SOS> the people of in the in , the in\n",
      "\n",
      "Source: chào . xin cảm_ơn . <EOS> <PAD> <PAD> <PAD> <PAD>\n",
      "Reference: peace . thank you . <EOS> <PAD> <PAD> <PAD>\n",
      "Model: <SOS> thank you thank you . <EOS> you . <EOS>\n",
      "\n"
     ]
    },
    {
     "name": "stderr",
     "output_type": "stream",
     "text": [
      "WARNING:root:That's 100 lines that end in a tokenized period ('.')\n",
      "WARNING:root:It looks like you forgot to detokenize your test data, which may hurt your score.\n",
      "WARNING:root:If you insist your data is detokenized, or don't care, you can suppress this message with '--force'.\n"
     ]
    },
    {
     "name": "stdout",
     "output_type": "stream",
     "text": [
      "Epoch: 3.48, Train Loss: 0.00, Val Loss: 4.24, Train BLEU: 0.00, Val BLEU: 12.35, Minutes Elapsed: 123.67\n",
      "Sampling from val predictions...\n",
      "Source: vì những cuộc bầu_cử không đem lại hoà_bình , sự\n",
      "Reference: for elections did not bring peace and stability and\n",
      "Model: <SOS> because those of not not not , , ,\n",
      "\n",
      "Source: bạn có_thể làm gì ? bạn làm được không ?\n",
      "Reference: what can you do ? can you make it\n",
      "Model: <SOS> what you you do ? do you do ?\n",
      "\n",
      "Source: con chó của tôi là giống black lab , và\n",
      "Reference: my dog is a black lab , and i\n",
      "Model: <SOS> my my is is is , , and ,\n",
      "\n"
     ]
    },
    {
     "name": "stderr",
     "output_type": "stream",
     "text": [
      "WARNING:root:That's 100 lines that end in a tokenized period ('.')\n",
      "WARNING:root:It looks like you forgot to detokenize your test data, which may hurt your score.\n",
      "WARNING:root:If you insist your data is detokenized, or don't care, you can suppress this message with '--force'.\n"
     ]
    },
    {
     "name": "stdout",
     "output_type": "stream",
     "text": [
      "Epoch: 3.72, Train Loss: 0.00, Val Loss: 4.23, Train BLEU: 0.00, Val BLEU: 12.76, Minutes Elapsed: 132.23\n",
      "Sampling from val predictions...\n",
      "Source: chúng_ta thấy đều cùng triệu_chứng . <EOS> <PAD> <PAD> <PAD>\n",
      "Reference: we see all the same symptoms . <EOS> <PAD>\n",
      "Model: <SOS> we see all . . . . <EOS> <EOS>\n",
      "\n",
      "Source: khi ra khỏi hầm , người họ ướt_sũng bởi <UNK>\n",
      "Reference: when they came out of the shaft , they\n",
      "Model: <SOS> when the get out , the , , they\n",
      "\n",
      "Source: chúng_tôi có cơ_hội để bắt_đầu tìm_kiếm những dấu_ấn sinh_học ban_đầu\n",
      "Reference: we have the opportunity to start to search for\n",
      "Model: <SOS> we have to opportunity to get the the the\n",
      "\n"
     ]
    },
    {
     "name": "stderr",
     "output_type": "stream",
     "text": [
      "WARNING:root:That's 100 lines that end in a tokenized period ('.')\n",
      "WARNING:root:It looks like you forgot to detokenize your test data, which may hurt your score.\n",
      "WARNING:root:If you insist your data is detokenized, or don't care, you can suppress this message with '--force'.\n"
     ]
    },
    {
     "name": "stdout",
     "output_type": "stream",
     "text": [
      "Epoch: 3.96, Train Loss: 0.00, Val Loss: 4.22, Train BLEU: 0.00, Val BLEU: 11.90, Minutes Elapsed: 140.81\n",
      "Sampling from val predictions...\n",
      "Source: chúng dọn_sạch những xác_chết đến tận xương . <EOS> <PAD>\n",
      "Reference: they clean up carcasses right to the bone .\n",
      "Model: <SOS> they they the to the <EOS> <EOS> . .\n",
      "\n",
      "Source: tuy_vậy , ngay khi tôi vừa_mới làm_quen với cuộc_sống ở\n",
      "Reference: just as i was starting to get used to\n",
      "Model: <SOS> but , as as as to to a results\n",
      "\n",
      "Source: một là anh ta , cũng_như tôi , vừa tốt_nghiệp\n",
      "Reference: one was that he , too , had just\n",
      "Model: <SOS> one was , , he , , , i\n",
      "\n"
     ]
    },
    {
     "name": "stderr",
     "output_type": "stream",
     "text": [
      "WARNING:root:That's 100 lines that end in a tokenized period ('.')\n",
      "WARNING:root:It looks like you forgot to detokenize your test data, which may hurt your score.\n",
      "WARNING:root:If you insist your data is detokenized, or don't care, you can suppress this message with '--force'.\n"
     ]
    },
    {
     "name": "stdout",
     "output_type": "stream",
     "text": [
      "Epoch: 4.00, Train Loss: 0.00, Val Loss: 4.27, Train BLEU: 0.00, Val BLEU: 11.78, Minutes Elapsed: 142.29\n",
      "Sampling from val predictions...\n",
      "Source: vì nếu_như họ thấy có điều gì không tự_nhiên ,\n",
      "Reference: if anything seemed unnatural , i could be imprisoned\n",
      "Model: <SOS> because they they they that , course , ,\n",
      "\n",
      "Source: tôi cũng không biết rằng giai_đoạn thứ hai là cô_lập\n",
      "Reference: i also didn &apos;t know that the second step\n",
      "Model: <SOS> i didn not know know the the the between\n",
      "\n",
      "Source: quá sợ người chủ , em không_dám chạy_trốn , và\n",
      "Reference: terrified of his master , he will not run\n",
      "Model: <SOS> the , the , , the don &apos;t ,\n",
      "\n"
     ]
    },
    {
     "name": "stderr",
     "output_type": "stream",
     "text": [
      "WARNING:root:That's 100 lines that end in a tokenized period ('.')\n",
      "WARNING:root:It looks like you forgot to detokenize your test data, which may hurt your score.\n",
      "WARNING:root:If you insist your data is detokenized, or don't care, you can suppress this message with '--force'.\n"
     ]
    },
    {
     "name": "stdout",
     "output_type": "stream",
     "text": [
      "Epoch: 4.24, Train Loss: 0.00, Val Loss: 4.25, Train BLEU: 0.00, Val BLEU: 12.48, Minutes Elapsed: 150.82\n",
      "Sampling from val predictions...\n",
      "Source: và câu trả_lời đầu_tiên của tôi là : \" chị\n",
      "Reference: and the first answer is , &quot; i don\n",
      "Model: <SOS> and my first answer my my &quot; my ,\n",
      "\n",
      "Source: điều đó giải_thích tại sao bằng_cấp tại <UNK> <UNK> và\n",
      "Reference: which is why that ivy league degree and the\n",
      "Model: <SOS> it makes why why <UNK> <UNK> <UNK> and and\n",
      "\n",
      "Source: câu_hỏi cuối_cùng mà người_ta hỏi tôi là : \" cảm_giác\n",
      "Reference: so the last question people ask me is ,\n",
      "Model: <SOS> the the question question question people ask &quot; &quot;\n",
      "\n"
     ]
    },
    {
     "name": "stderr",
     "output_type": "stream",
     "text": [
      "WARNING:root:That's 100 lines that end in a tokenized period ('.')\n",
      "WARNING:root:It looks like you forgot to detokenize your test data, which may hurt your score.\n",
      "WARNING:root:If you insist your data is detokenized, or don't care, you can suppress this message with '--force'.\n"
     ]
    },
    {
     "name": "stdout",
     "output_type": "stream",
     "text": [
      "Epoch: 4.48, Train Loss: 0.00, Val Loss: 4.24, Train BLEU: 0.00, Val BLEU: 12.48, Minutes Elapsed: 159.37\n",
      "Sampling from val predictions...\n",
      "Source: nếu bạn nói với tôi rằng người đàn_ông thông_minh ,\n",
      "Reference: if you had told me that this smart ,\n",
      "Model: <SOS> if you tell to people the the are ,\n",
      "\n",
      "Source: ngày khác chúng_tôi thức_dậy với tin_tức về vụ tàn_sát đại_sứ\n",
      "Reference: on another day we wake up to the news\n",
      "Model: <SOS> and we we we we on the the news\n",
      "\n",
      "Source: cái ý_tưởng tìm_kiếm một công_nghệ khác_biệt đã hoàn_toàn vượt lên\n",
      "Reference: the idea of finding a different technology had absolutely\n",
      "Model: <SOS> the the idea a is that that has has\n",
      "\n"
     ]
    },
    {
     "name": "stderr",
     "output_type": "stream",
     "text": [
      "WARNING:root:That's 100 lines that end in a tokenized period ('.')\n",
      "WARNING:root:It looks like you forgot to detokenize your test data, which may hurt your score.\n",
      "WARNING:root:If you insist your data is detokenized, or don't care, you can suppress this message with '--force'.\n"
     ]
    },
    {
     "name": "stdout",
     "output_type": "stream",
     "text": [
      "Epoch: 4.72, Train Loss: 0.00, Val Loss: 4.24, Train BLEU: 0.00, Val BLEU: 12.65, Minutes Elapsed: 167.95\n",
      "Sampling from val predictions...\n",
      "Source: ước_mơ lớn nhất của tôi là trở_thành một kỹ_sư máy_bay\n",
      "Reference: so my big dream is to become an aircraft\n",
      "Model: <SOS> my first my is was a a a a\n",
      "\n",
      "Source: đó là ý_nghĩa của toàn_bộ dự_án này , phục_hồi những\n",
      "Reference: that &apos;s all this project was about , about\n",
      "Model: <SOS> that &apos;s the of of of this project project\n",
      "\n",
      "Source: câu_hỏi khác mà mọi người hay hỏi là , tại_sao\n",
      "Reference: the other question everybody asks is , why doesn\n",
      "Model: <SOS> the other question that people , , why why\n",
      "\n"
     ]
    },
    {
     "name": "stderr",
     "output_type": "stream",
     "text": [
      "WARNING:root:That's 100 lines that end in a tokenized period ('.')\n",
      "WARNING:root:It looks like you forgot to detokenize your test data, which may hurt your score.\n",
      "WARNING:root:If you insist your data is detokenized, or don't care, you can suppress this message with '--force'.\n"
     ]
    },
    {
     "name": "stdout",
     "output_type": "stream",
     "text": [
      "Epoch: 4.96, Train Loss: 0.00, Val Loss: 4.24, Train BLEU: 0.00, Val BLEU: 12.21, Minutes Elapsed: 176.55\n",
      "Sampling from val predictions...\n",
      "Source: bây_giờ tôi muốn giới_thiệu các bạn với những người em_trai\n",
      "Reference: now i &apos;d like to introduce you to my\n",
      "Model: <SOS> now i want to to introduce you to with\n",
      "\n",
      "Source: nó trở_nên thật thiêng_liêng với chúng_tôi . <EOS> <PAD> <PAD>\n",
      "Reference: it &apos;s really become sacred to us . <EOS>\n",
      "Model: <SOS> it became us to us . . . <EOS>\n",
      "\n",
      "Source: nó ngoài tầm kiểm_soát của em , và nó thật\n",
      "Reference: it &apos;s out of your control , and it\n",
      "Model: <SOS> it &apos;s a a her , , and it\n",
      "\n"
     ]
    },
    {
     "name": "stderr",
     "output_type": "stream",
     "text": [
      "WARNING:root:That's 100 lines that end in a tokenized period ('.')\n",
      "WARNING:root:It looks like you forgot to detokenize your test data, which may hurt your score.\n",
      "WARNING:root:If you insist your data is detokenized, or don't care, you can suppress this message with '--force'.\n"
     ]
    },
    {
     "name": "stdout",
     "output_type": "stream",
     "text": [
      "Epoch: 5.00, Train Loss: 0.00, Val Loss: 4.29, Train BLEU: 0.00, Val BLEU: 11.83, Minutes Elapsed: 178.03\n",
      "Sampling from val predictions...\n",
      "Source: tôi muốn tất_cả chúng_ta trở_thành những kẻ nổi_loạn xanh hoá\n",
      "Reference: so i want us all to become <UNK> <UNK>\n",
      "Model: <SOS> i want want all all all all all of\n",
      "\n",
      "Source: hơn 85 phần_trăm kẻ bạo_hành là đàn_ông , và bạo_lực\n",
      "Reference: over 85 percent of <UNK> are men , and\n",
      "Model: <SOS> the percent percent percent the &apos;s the and and\n",
      "\n",
      "Source: \" thế tại_sao mọi người không cho chúng_tôi biết trước\n",
      "Reference: &quot; why didn &apos;t you tell us ? &quot;\n",
      "Model: <SOS> &quot; why , why do why why why why\n",
      "\n",
      "Model training completed in 178 minutes with 4.22 best validation loss and 12.76 best validation BLEU.\n",
      "Training with num_layers = 2\n",
      "Epoch: 0.00, Train Loss: 0.00, Val Loss: 10.23, Train BLEU: 0.00, Val BLEU: 0.07, Minutes Elapsed: 0.09\n",
      "Sampling from val predictions...\n",
      "Source: hơn năm trăm tình_nguyện viên toàn_cầu đã giúp trao_trả cho\n",
      "Reference: over five hundred volunteers around the globe helped us\n",
      "Model: <SOS> and and of the the the the the the\n",
      "\n",
      "Source: đây là một trong những tấm ảnh đầu_tiên mà tôi\n",
      "Reference: this picture is the very first picture that i\n",
      "Model: <SOS> and and of the the the the the the\n",
      "\n",
      "Source: là lí_lẽ của một_số người , \" đấy là lỗi\n",
      "Reference: is code for some people for , &quot; it\n",
      "Model: <SOS> and and of the the the the the the\n",
      "\n"
     ]
    },
    {
     "name": "stderr",
     "output_type": "stream",
     "text": [
      "WARNING:root:That's 100 lines that end in a tokenized period ('.')\n",
      "WARNING:root:It looks like you forgot to detokenize your test data, which may hurt your score.\n",
      "WARNING:root:If you insist your data is detokenized, or don't care, you can suppress this message with '--force'.\n"
     ]
    },
    {
     "name": "stdout",
     "output_type": "stream",
     "text": [
      "Epoch: 0.24, Train Loss: 0.00, Val Loss: 5.90, Train BLEU: 0.00, Val BLEU: 3.06, Minutes Elapsed: 8.35\n",
      "Sampling from val predictions...\n",
      "Source: ông_ngoại của tôi là một người thật đáng khâm_phục vào\n",
      "Reference: my grandfather was an extraordinary man for his time\n",
      "Model: <SOS> so i &apos;m a to to , , ,\n",
      "\n",
      "Source: lí_do là chúng đang bị đầu_độc , chúng bị đầu_độc\n",
      "Reference: the reason is that they &apos;re getting poisoned ,\n",
      "Model: <SOS> the , , , , , , , ,\n",
      "\n",
      "Source: có_một nhóm chuyên_gia được mời đến để thảo_luận về tương_lai\n",
      "Reference: there was a group of experts who were invited\n",
      "Model: <SOS> the the a a a a a a a\n",
      "\n"
     ]
    },
    {
     "name": "stderr",
     "output_type": "stream",
     "text": [
      "WARNING:root:That's 100 lines that end in a tokenized period ('.')\n",
      "WARNING:root:It looks like you forgot to detokenize your test data, which may hurt your score.\n",
      "WARNING:root:If you insist your data is detokenized, or don't care, you can suppress this message with '--force'.\n"
     ]
    },
    {
     "name": "stdout",
     "output_type": "stream",
     "text": [
      "Epoch: 0.48, Train Loss: 0.00, Val Loss: 5.27, Train BLEU: 0.00, Val BLEU: 5.94, Minutes Elapsed: 16.62\n",
      "Sampling from val predictions...\n",
      "Source: nó được xây_dựng từ nhựa_đường , và nhựa_đường là loại\n",
      "Reference: it &apos;s made of asphalt , and asphalt is\n",
      "Model: <SOS> it &apos;s a to , , and and ,\n",
      "\n",
      "Source: khi chạy_trốn con sóng , để giữ lấy tính_mạng ,\n",
      "Reference: as they had run from the wave , and\n",
      "Model: <SOS> when we &apos;re to , , , , ,\n",
      "\n",
      "Source: em không nói được , nhưng em truyền_đạt niềm_vui theo\n",
      "Reference: he &apos;s <UNK> , but he communicates joy in\n",
      "Model: <SOS> he said , , , , , , ,\n",
      "\n"
     ]
    },
    {
     "name": "stderr",
     "output_type": "stream",
     "text": [
      "WARNING:root:That's 100 lines that end in a tokenized period ('.')\n",
      "WARNING:root:It looks like you forgot to detokenize your test data, which may hurt your score.\n",
      "WARNING:root:If you insist your data is detokenized, or don't care, you can suppress this message with '--force'.\n"
     ]
    },
    {
     "name": "stdout",
     "output_type": "stream",
     "text": [
      "Epoch: 0.72, Train Loss: 0.00, Val Loss: 4.90, Train BLEU: 0.00, Val BLEU: 8.62, Minutes Elapsed: 24.89\n",
      "Sampling from val predictions...\n",
      "Source: đúng vào lúc đó , có một người đàn_ông đã\n",
      "Reference: at that moment , i heard one man &apos;s\n",
      "Model: <SOS> he &apos;s , , there &apos;s a a of\n",
      "\n",
      "Source: gần 200 tổ_chức được thiết_lập tại benghazi trong suốt thời_gian\n",
      "Reference: almost 200 organizations were established in benghazi during and\n",
      "Model: <SOS> so years the of the in in in the\n",
      "\n",
      "Source: tôi muốn đưa nô_lệ ra ánh_sáng . <EOS> <PAD> <PAD>\n",
      "Reference: i want to shine a light on slavery .\n",
      "Model: <SOS> i want to to to the . . .\n",
      "\n"
     ]
    },
    {
     "name": "stderr",
     "output_type": "stream",
     "text": [
      "WARNING:root:That's 100 lines that end in a tokenized period ('.')\n",
      "WARNING:root:It looks like you forgot to detokenize your test data, which may hurt your score.\n",
      "WARNING:root:If you insist your data is detokenized, or don't care, you can suppress this message with '--force'.\n"
     ]
    },
    {
     "name": "stdout",
     "output_type": "stream",
     "text": [
      "Epoch: 0.96, Train Loss: 0.00, Val Loss: 4.69, Train BLEU: 0.00, Val BLEU: 9.28, Minutes Elapsed: 33.18\n",
      "Sampling from val predictions...\n",
      "Source: và làm thế_nào chúng_ta chia_sẻ nhiều hơn những hy_vọng của\n",
      "Reference: and how can we share more of our hopes\n",
      "Model: <SOS> and that we we to to many of of\n",
      "\n",
      "Source: một ngôi trường thật_sự . <EOS> <PAD> <PAD> <PAD> <PAD>\n",
      "Reference: a real school . <EOS> <PAD> <PAD> <PAD> <PAD>\n",
      "Model: <SOS> a &apos;s of . <EOS> . . <EOS> <EOS>\n",
      "\n",
      "Source: quân_cảnh không giúp ngăn_chặn sự lây_lan của bệnh_tật . <EOS>\n",
      "Reference: mps do not help to prevent the spread of\n",
      "Model: <SOS> it &apos;s not about the . . . .\n",
      "\n"
     ]
    },
    {
     "name": "stderr",
     "output_type": "stream",
     "text": [
      "WARNING:root:That's 100 lines that end in a tokenized period ('.')\n",
      "WARNING:root:It looks like you forgot to detokenize your test data, which may hurt your score.\n",
      "WARNING:root:If you insist your data is detokenized, or don't care, you can suppress this message with '--force'.\n"
     ]
    },
    {
     "name": "stdout",
     "output_type": "stream",
     "text": [
      "Epoch: 1.00, Train Loss: 0.00, Val Loss: 4.69, Train BLEU: 0.00, Val BLEU: 8.84, Minutes Elapsed: 34.62\n",
      "Sampling from val predictions...\n",
      "Source: đối_với cô , sau hết mọi sự , những bức\n",
      "Reference: for her , despite all of this , those\n",
      "Model: <SOS> at , , , the , , , ,\n",
      "\n",
      "Source: lần đầu đến đó , tôi đi xem qua 1\n",
      "Reference: when we first arrived , i went to have\n",
      "Model: <SOS> i i i to , i i to a\n",
      "\n",
      "Source: cứ 20 phút , tôi phải chạy trở_lại xe dã_chiến\n",
      "Reference: every 20 minutes , i &apos;d have to run\n",
      "Model: <SOS> the the 20 , i i to to back\n",
      "\n"
     ]
    },
    {
     "name": "stderr",
     "output_type": "stream",
     "text": [
      "WARNING:root:That's 100 lines that end in a tokenized period ('.')\n",
      "WARNING:root:It looks like you forgot to detokenize your test data, which may hurt your score.\n",
      "WARNING:root:If you insist your data is detokenized, or don't care, you can suppress this message with '--force'.\n"
     ]
    },
    {
     "name": "stdout",
     "output_type": "stream",
     "text": [
      "Epoch: 1.24, Train Loss: 0.00, Val Loss: 4.54, Train BLEU: 0.00, Val BLEU: 11.10, Minutes Elapsed: 42.86\n",
      "Sampling from val predictions...\n",
      "Source: những_ai trong khán_phòng có điện_thoại_di_động ? <EOS> <PAD> <PAD> <PAD>\n",
      "Reference: who in the room has a mobile phone with\n",
      "Model: <SOS> how are are ? ? <EOS> ? ? <EOS>\n",
      "\n",
      "Source: trước_tiên , tại_sao chúng lại có ấn_tượng xấu như_vậy ?\n",
      "Reference: first of all , why do they have such\n",
      "Model: <SOS> first , , , why they they have ?\n",
      "\n",
      "Source: <UNK> dãy các thông_tin . <EOS> <PAD> <PAD> <PAD> <PAD>\n",
      "Reference: <UNK> thousand eight hundred thirty lines of information .\n",
      "Model: <SOS> <UNK> &apos;s <EOS> . . <EOS> <EOS> <EOS> .\n",
      "\n"
     ]
    },
    {
     "name": "stderr",
     "output_type": "stream",
     "text": [
      "WARNING:root:That's 100 lines that end in a tokenized period ('.')\n",
      "WARNING:root:It looks like you forgot to detokenize your test data, which may hurt your score.\n",
      "WARNING:root:If you insist your data is detokenized, or don't care, you can suppress this message with '--force'.\n"
     ]
    },
    {
     "name": "stdout",
     "output_type": "stream",
     "text": [
      "Epoch: 1.48, Train Loss: 0.00, Val Loss: 4.42, Train BLEU: 0.00, Val BLEU: 11.58, Minutes Elapsed: 51.08\n",
      "Sampling from val predictions...\n",
      "Source: nhưng hôm_nay tôi sẽ nói về bản_thân và chiếc điện_thoại\n",
      "Reference: but today i will talk about me and my\n",
      "Model: <SOS> but today i &apos;m going talk about about about\n",
      "\n",
      "Source: dọn_dẹp trường_học , vệ_sinh nhà_cửa , sẵn_sàng cho việc đổi_mới\n",
      "Reference: we cleaned schools . we <UNK> and gutted homes\n",
      "Model: <SOS> a , , , , , , the ,\n",
      "\n",
      "Source: trên hết , <UNK> bị bệnh lao , nhưng vẫn\n",
      "Reference: on top of that , <UNK> has tuberculosis ,\n",
      "Model: <SOS> in , , , , , , , ,\n",
      "\n"
     ]
    },
    {
     "name": "stderr",
     "output_type": "stream",
     "text": [
      "WARNING:root:That's 100 lines that end in a tokenized period ('.')\n",
      "WARNING:root:It looks like you forgot to detokenize your test data, which may hurt your score.\n",
      "WARNING:root:If you insist your data is detokenized, or don't care, you can suppress this message with '--force'.\n"
     ]
    },
    {
     "name": "stdout",
     "output_type": "stream",
     "text": [
      "Epoch: 1.72, Train Loss: 0.00, Val Loss: 4.30, Train BLEU: 0.00, Val BLEU: 12.21, Minutes Elapsed: 59.32\n",
      "Sampling from val predictions...\n",
      "Source: và họ thả tôi ra . đó quả là một\n",
      "Reference: and they let me go . it was a\n",
      "Model: <SOS> and they they me . it it &apos;s a\n",
      "\n",
      "Source: hiện_tại , tôi sống ở new orleans , và tôi\n",
      "Reference: now , i live in new orleans , and\n",
      "Model: <SOS> now , i &apos;m in in york , and\n",
      "\n",
      "Source: hai điều quan_trọng nhất chúng_ta có là thời_gian và mối\n",
      "Reference: two of the most valuable things we have are\n",
      "Model: <SOS> two the the important that that we have is\n",
      "\n"
     ]
    },
    {
     "name": "stderr",
     "output_type": "stream",
     "text": [
      "WARNING:root:That's 100 lines that end in a tokenized period ('.')\n",
      "WARNING:root:It looks like you forgot to detokenize your test data, which may hurt your score.\n",
      "WARNING:root:If you insist your data is detokenized, or don't care, you can suppress this message with '--force'.\n"
     ]
    },
    {
     "name": "stdout",
     "output_type": "stream",
     "text": [
      "Epoch: 1.96, Train Loss: 0.00, Val Loss: 4.23, Train BLEU: 0.00, Val BLEU: 13.02, Minutes Elapsed: 67.62\n",
      "Sampling from val predictions...\n",
      "Source: sau 2 giờ cuốc_bộ nữa , dấu_vết quanh_co bất_ngờ kết_thúc\n",
      "Reference: after another two hours of hiking , the <UNK>\n",
      "Model: <SOS> after two , , , the , , most\n",
      "\n",
      "Source: có_thể sự thiếu_sót không chỉ là về mặt bình_quyền của\n",
      "Reference: maybe what was missing was not the women only\n",
      "Model: <SOS> it might be not not not a the of\n",
      "\n",
      "Source: và làm thế_nào chúng_ta chia_sẻ nhiều hơn những hy_vọng của\n",
      "Reference: and how can we share more of our hopes\n",
      "Model: <SOS> and how we we take more many of of\n",
      "\n"
     ]
    },
    {
     "name": "stderr",
     "output_type": "stream",
     "text": [
      "WARNING:root:That's 100 lines that end in a tokenized period ('.')\n",
      "WARNING:root:It looks like you forgot to detokenize your test data, which may hurt your score.\n",
      "WARNING:root:If you insist your data is detokenized, or don't care, you can suppress this message with '--force'.\n"
     ]
    },
    {
     "name": "stdout",
     "output_type": "stream",
     "text": [
      "Epoch: 2.00, Train Loss: 0.00, Val Loss: 4.26, Train BLEU: 0.00, Val BLEU: 12.53, Minutes Elapsed: 69.08\n",
      "Sampling from val predictions...\n",
      "Source: cùng một nhóm phụ_nữ tuyệt_vời , tôi đồng sáng_lập <UNK>\n",
      "Reference: with an amazing group of women , i <UNK>\n",
      "Model: <SOS> i a a , , i , i i\n",
      "\n",
      "Source: bạn không_thể nào bị sỉ_nhục tồi_tệ hơn thế , và\n",
      "Reference: you could not get a worse insult , and\n",
      "Model: <SOS> you can &apos;t see by by of , and\n",
      "\n",
      "Source: tôi , cùng hàng trăm tình_nguyện viên hiểu rằng không_thể\n",
      "Reference: i , along with hundreds of other volunteers ,\n",
      "Model: <SOS> i , also the of of of that that\n",
      "\n"
     ]
    },
    {
     "name": "stderr",
     "output_type": "stream",
     "text": [
      "WARNING:root:That's 100 lines that end in a tokenized period ('.')\n",
      "WARNING:root:It looks like you forgot to detokenize your test data, which may hurt your score.\n",
      "WARNING:root:If you insist your data is detokenized, or don't care, you can suppress this message with '--force'.\n"
     ]
    },
    {
     "name": "stdout",
     "output_type": "stream",
     "text": [
      "Epoch: 2.24, Train Loss: 0.00, Val Loss: 4.19, Train BLEU: 0.00, Val BLEU: 13.19, Minutes Elapsed: 77.40\n",
      "Sampling from val predictions...\n",
      "Source: chúng_ta thấy giọng run , sự suy_nhược và xơ_cứng .\n",
      "Reference: we see vocal tremor , weakness and rigidity .\n",
      "Model: <SOS> we &apos;re the , and and and <EOS> .\n",
      "\n",
      "Source: từ khi còn nhỏ , tôi đã từng làm_việc ở\n",
      "Reference: since i was a small boy , i used\n",
      "Model: <SOS> from i i , , , , i used\n",
      "\n",
      "Source: và từ_đó bắt_đầu cuộc hành_trình tiến vào thế_giới nô_lệ hiện_đại\n",
      "Reference: thus began my journey into modern day slavery .\n",
      "Model: <SOS> and from the the to the the the the\n",
      "\n"
     ]
    },
    {
     "name": "stderr",
     "output_type": "stream",
     "text": [
      "WARNING:root:That's 100 lines that end in a tokenized period ('.')\n",
      "WARNING:root:It looks like you forgot to detokenize your test data, which may hurt your score.\n",
      "WARNING:root:If you insist your data is detokenized, or don't care, you can suppress this message with '--force'.\n"
     ]
    },
    {
     "name": "stdout",
     "output_type": "stream",
     "text": [
      "Epoch: 2.48, Train Loss: 0.00, Val Loss: 4.13, Train BLEU: 0.00, Val BLEU: 13.42, Minutes Elapsed: 85.71\n",
      "Sampling from val predictions...\n",
      "Source: nhưng cũng là có chọn_lọc . <EOS> <PAD> <PAD> <PAD>\n",
      "Reference: he has a selective one , though . <EOS>\n",
      "Model: <SOS> but it also . . . <EOS> &apos;s <EOS>\n",
      "\n",
      "Source: vì có mắc chứng tự_kỷ hay không , sự khác_biệt\n",
      "Reference: because autistic or not , the differences that we\n",
      "Model: <SOS> because there &apos;s or or , the , ,\n",
      "\n",
      "Source: nó xảy_ra mọi nơi . <EOS> <PAD> <PAD> <PAD> <PAD>\n",
      "Reference: it &apos;s everywhere . <EOS> <PAD> <PAD> <PAD> <PAD>\n",
      "Model: <SOS> it &apos;s everything . <EOS> . . <EOS> <EOS>\n",
      "\n"
     ]
    },
    {
     "name": "stderr",
     "output_type": "stream",
     "text": [
      "WARNING:root:That's 100 lines that end in a tokenized period ('.')\n",
      "WARNING:root:It looks like you forgot to detokenize your test data, which may hurt your score.\n",
      "WARNING:root:If you insist your data is detokenized, or don't care, you can suppress this message with '--force'.\n"
     ]
    },
    {
     "name": "stdout",
     "output_type": "stream",
     "text": [
      "Epoch: 2.72, Train Loss: 0.00, Val Loss: 4.10, Train BLEU: 0.00, Val BLEU: 14.08, Minutes Elapsed: 93.95\n",
      "Sampling from val predictions...\n",
      "Source: tôi cùng_với nhóm của tôi , những mảnh_đất xanh l.\n",
      "Reference: so me and my group , l.a. green grounds\n",
      "Model: <SOS> i i my my , , , , my\n",
      "\n",
      "Source: tôi có_thể cảm_nhận sự va_chạm từ những thân_thể bóng <UNK>\n",
      "Reference: i can feel the brush of sweaty bodies passing\n",
      "Model: <SOS> i can feel from from from the from from\n",
      "\n",
      "Source: và tôi có được một công_tắc để có_thể tắt và\n",
      "Reference: and i got a switch where i can switch\n",
      "Model: <SOS> and i had a a to to can to\n",
      "\n"
     ]
    },
    {
     "name": "stderr",
     "output_type": "stream",
     "text": [
      "WARNING:root:That's 100 lines that end in a tokenized period ('.')\n",
      "WARNING:root:It looks like you forgot to detokenize your test data, which may hurt your score.\n",
      "WARNING:root:If you insist your data is detokenized, or don't care, you can suppress this message with '--force'.\n"
     ]
    },
    {
     "name": "stdout",
     "output_type": "stream",
     "text": [
      "Epoch: 2.96, Train Loss: 0.00, Val Loss: 4.07, Train BLEU: 0.00, Val BLEU: 14.39, Minutes Elapsed: 102.21\n",
      "Sampling from val predictions...\n",
      "Source: cô ấy đã tự lau sạch chúng và dừng lại\n",
      "Reference: she had started <UNK> them herself and stopped when\n",
      "Model: <SOS> she was the and and and and and ,\n",
      "\n",
      "Source: anh ta muốn biết mọi thứ về gia_đình tôi và\n",
      "Reference: he wanted to know everything about my family and\n",
      "Model: <SOS> he wanted to know what the my family and\n",
      "\n",
      "Source: vì_vậy tôi phát vỡ sự yên_lặng . <EOS> <PAD> <PAD>\n",
      "Reference: so i broke the silence . <EOS> <PAD> <PAD>\n",
      "Model: <SOS> so i i the . . <EOS> . .\n",
      "\n"
     ]
    },
    {
     "name": "stderr",
     "output_type": "stream",
     "text": [
      "WARNING:root:That's 100 lines that end in a tokenized period ('.')\n",
      "WARNING:root:It looks like you forgot to detokenize your test data, which may hurt your score.\n",
      "WARNING:root:If you insist your data is detokenized, or don't care, you can suppress this message with '--force'.\n"
     ]
    },
    {
     "name": "stdout",
     "output_type": "stream",
     "text": [
      "Epoch: 3.00, Train Loss: 0.00, Val Loss: 4.12, Train BLEU: 0.00, Val BLEU: 13.06, Minutes Elapsed: 103.64\n",
      "Sampling from val predictions...\n",
      "Source: hoạch_định là nụ hôn thần_chết đối_với doanh_nhân . <EOS> <PAD>\n",
      "Reference: planning is the kiss of death of entrepreneurship .\n",
      "Model: <SOS> sustainability is a to to the business . .\n",
      "\n",
      "Source: l. a. dẫn đầu nước mỹ về diện_tích <UNK> mà\n",
      "Reference: l.a. leads the united states in vacant lots that\n",
      "Model: <SOS> and the the of of of the <UNK> the\n",
      "\n",
      "Source: tôi muốn phản_kháng lại vì bạn biết sao không ?\n",
      "Reference: i want to challenge that . do you know\n",
      "Model: <SOS> i i to to you you you know know\n",
      "\n"
     ]
    },
    {
     "name": "stderr",
     "output_type": "stream",
     "text": [
      "WARNING:root:That's 100 lines that end in a tokenized period ('.')\n",
      "WARNING:root:It looks like you forgot to detokenize your test data, which may hurt your score.\n",
      "WARNING:root:If you insist your data is detokenized, or don't care, you can suppress this message with '--force'.\n"
     ]
    },
    {
     "name": "stdout",
     "output_type": "stream",
     "text": [
      "Epoch: 3.24, Train Loss: 0.00, Val Loss: 4.08, Train BLEU: 0.00, Val BLEU: 14.33, Minutes Elapsed: 111.94\n",
      "Sampling from val predictions...\n",
      "Source: \" bây_giờ con có_thể thật_sự đến trường rồi \" ông\n",
      "Reference: &quot; you can go to a real school now\n",
      "Model: <SOS> &quot; &quot; can have go &quot; &quot; &quot; &quot;\n",
      "\n",
      "Source: những chúng mang hai_nghĩa khác_biệt . <EOS> <PAD> <PAD> <PAD>\n",
      "Reference: but they mean two different things . <EOS> <PAD>\n",
      "Model: <SOS> they they are the different . <EOS> <EOS> <EOS>\n",
      "\n",
      "Source: ông ấy trả_lời : \" nếu ngươi muốn thì giết\n",
      "Reference: &quot; kill me now , if you wish ,\n",
      "Model: <SOS> he said said &quot; &quot; &quot; if you ,\n",
      "\n"
     ]
    },
    {
     "name": "stderr",
     "output_type": "stream",
     "text": [
      "WARNING:root:That's 100 lines that end in a tokenized period ('.')\n",
      "WARNING:root:It looks like you forgot to detokenize your test data, which may hurt your score.\n",
      "WARNING:root:If you insist your data is detokenized, or don't care, you can suppress this message with '--force'.\n"
     ]
    },
    {
     "name": "stdout",
     "output_type": "stream",
     "text": [
      "Epoch: 3.48, Train Loss: 0.00, Val Loss: 4.04, Train BLEU: 0.00, Val BLEU: 14.00, Minutes Elapsed: 120.18\n",
      "Sampling from val predictions...\n",
      "Source: nhiếp_ảnh là niềm đam_mê của tôi kể từ khi tôi\n",
      "Reference: photography has been my passion ever since i was\n",
      "Model: <SOS> photography was my passion passion from i i i\n",
      "\n",
      "Source: bạn có_thể phi_thường . <EOS> <PAD> <PAD> <PAD> <PAD> <PAD>\n",
      "Reference: you can be extraordinary . <EOS> <PAD> <PAD> <PAD>\n",
      "Model: <SOS> you can be . . <EOS> can . <EOS>\n",
      "\n",
      "Source: nhưng ngày_nay , nhiều thế_hệ gia_đình bị bắt_làm nô_lệ qua\n",
      "Reference: yet today , entire families can be enslaved for\n",
      "Model: <SOS> but today , many world world the been by\n",
      "\n"
     ]
    },
    {
     "name": "stderr",
     "output_type": "stream",
     "text": [
      "WARNING:root:That's 100 lines that end in a tokenized period ('.')\n",
      "WARNING:root:It looks like you forgot to detokenize your test data, which may hurt your score.\n",
      "WARNING:root:If you insist your data is detokenized, or don't care, you can suppress this message with '--force'.\n"
     ]
    },
    {
     "name": "stdout",
     "output_type": "stream",
     "text": [
      "Epoch: 3.72, Train Loss: 0.00, Val Loss: 4.04, Train BLEU: 0.00, Val BLEU: 15.15, Minutes Elapsed: 128.47\n",
      "Sampling from val predictions...\n",
      "Source: thật xúc_động và háo_hức . trước đó , tôi từng\n",
      "Reference: now , it was emotional and it was inspiring\n",
      "Model: <SOS> it &apos;s and . . . before , i\n",
      "\n",
      "Source: <UNK> tiếp tuc đánh tôi một đến hai lần mỗi\n",
      "Reference: <UNK> proceeded to beat me once or twice a\n",
      "Model: <SOS> <UNK> <UNK> <UNK> a a a a two times\n",
      "\n",
      "Source: bất_cứ ai khoẻ_mạnh hoặc mắc bệnh parkinson có_thể gọi tới\n",
      "Reference: anyone healthy or with parkinson &apos;s can call in\n",
      "Model: <SOS> anyone of the or or or be to be\n",
      "\n"
     ]
    },
    {
     "name": "stderr",
     "output_type": "stream",
     "text": [
      "WARNING:root:That's 100 lines that end in a tokenized period ('.')\n",
      "WARNING:root:It looks like you forgot to detokenize your test data, which may hurt your score.\n",
      "WARNING:root:If you insist your data is detokenized, or don't care, you can suppress this message with '--force'.\n"
     ]
    },
    {
     "name": "stdout",
     "output_type": "stream",
     "text": [
      "Epoch: 3.96, Train Loss: 0.00, Val Loss: 4.03, Train BLEU: 0.00, Val BLEU: 14.80, Minutes Elapsed: 136.86\n",
      "Sampling from val predictions...\n",
      "Source: cửa_hàng rượu , đồ_ăn nhanh , <UNK> . <EOS> <PAD>\n",
      "Reference: <UNK> stores , fast food , vacant lots .\n",
      "Model: <SOS> the , the , . <EOS> <EOS> . <EOS>\n",
      "\n",
      "Source: đây chính là cái di_sản được dựng nên cho tôi\n",
      "Reference: and this is a legacy that was built for\n",
      "Model: <SOS> this is is the legacy that the built to\n",
      "\n",
      "Source: và thực_tế là_vì tâm_trí của các em tôi không phù_hợp\n",
      "Reference: and in fact , because their minds don &apos;t\n",
      "Model: <SOS> and it fact , i i my of i\n",
      "\n"
     ]
    },
    {
     "name": "stderr",
     "output_type": "stream",
     "text": [
      "WARNING:root:That's 100 lines that end in a tokenized period ('.')\n",
      "WARNING:root:It looks like you forgot to detokenize your test data, which may hurt your score.\n",
      "WARNING:root:If you insist your data is detokenized, or don't care, you can suppress this message with '--force'.\n"
     ]
    },
    {
     "name": "stdout",
     "output_type": "stream",
     "text": [
      "Epoch: 4.00, Train Loss: 0.00, Val Loss: 4.09, Train BLEU: 0.00, Val BLEU: 13.73, Minutes Elapsed: 138.32\n",
      "Sampling from val predictions...\n",
      "Source: tôi đã để vật mẫu vào lò , giờ tôi\n",
      "Reference: so i put the specimen in , which i\n",
      "Model: <SOS> i i i to into on my , my\n",
      "\n",
      "Source: thật xúc_động và háo_hức . trước đó , tôi từng\n",
      "Reference: now , it was emotional and it was inspiring\n",
      "Model: <SOS> it &apos;s and , , , and , that\n",
      "\n",
      "Source: những cái hầm sâu tới cả trăm mét , họ\n",
      "Reference: the shafts are up to 300 feet deep ,\n",
      "Model: <SOS> the the of the to the the the the\n",
      "\n"
     ]
    },
    {
     "name": "stderr",
     "output_type": "stream",
     "text": [
      "WARNING:root:That's 100 lines that end in a tokenized period ('.')\n",
      "WARNING:root:It looks like you forgot to detokenize your test data, which may hurt your score.\n",
      "WARNING:root:If you insist your data is detokenized, or don't care, you can suppress this message with '--force'.\n"
     ]
    },
    {
     "name": "stdout",
     "output_type": "stream",
     "text": [
      "Epoch: 4.24, Train Loss: 0.00, Val Loss: 4.06, Train BLEU: 0.00, Val BLEU: 14.56, Minutes Elapsed: 146.54\n",
      "Sampling from val predictions...\n",
      "Source: và họ thả tôi ra . đó quả là một\n",
      "Reference: and they let me go . it was a\n",
      "Model: <SOS> and they they me it it it &apos;s a\n",
      "\n",
      "Source: gia_đình của tôi không nghèo , và bản_thân tôi thì\n",
      "Reference: my family was not poor , and myself ,\n",
      "Model: <SOS> my my didn &apos;t , , and my my\n",
      "\n",
      "Source: các bóng <UNK> tắt và đánh_lừa sư_tử làm_cho chúng nghĩ\n",
      "Reference: the lights flash and trick the lions into thinking\n",
      "Model: <SOS> the and and and and were them they they\n",
      "\n"
     ]
    },
    {
     "name": "stderr",
     "output_type": "stream",
     "text": [
      "WARNING:root:That's 100 lines that end in a tokenized period ('.')\n",
      "WARNING:root:It looks like you forgot to detokenize your test data, which may hurt your score.\n",
      "WARNING:root:If you insist your data is detokenized, or don't care, you can suppress this message with '--force'.\n"
     ]
    },
    {
     "name": "stdout",
     "output_type": "stream",
     "text": [
      "Epoch: 4.48, Train Loss: 0.00, Val Loss: 4.03, Train BLEU: 0.00, Val BLEU: 14.24, Minutes Elapsed: 154.77\n",
      "Sampling from val predictions...\n",
      "Source: rồi bạn cần một cái máy , như bạn thấy\n",
      "Reference: then you need a machine , like you see\n",
      "Model: <SOS> and you need a new , you you see\n",
      "\n",
      "Source: cảm_ơn <EOS> <PAD> <PAD> <PAD> <PAD> <PAD> <PAD> <PAD> <PAD>\n",
      "Reference: thanks . <EOS> <PAD> <PAD> <PAD> <PAD> <PAD> <PAD>\n",
      "Model: <SOS> thank you <EOS> you . <EOS> <EOS> <EOS> <EOS>\n",
      "\n",
      "Source: khi lớn lên , em trở_nên càng khác_biệt , và\n",
      "Reference: and as he grew older , he grew more\n",
      "Model: <SOS> when i i , , , i became a\n",
      "\n"
     ]
    },
    {
     "name": "stderr",
     "output_type": "stream",
     "text": [
      "WARNING:root:That's 100 lines that end in a tokenized period ('.')\n",
      "WARNING:root:It looks like you forgot to detokenize your test data, which may hurt your score.\n",
      "WARNING:root:If you insist your data is detokenized, or don't care, you can suppress this message with '--force'.\n"
     ]
    },
    {
     "name": "stdout",
     "output_type": "stream",
     "text": [
      "Epoch: 4.72, Train Loss: 0.00, Val Loss: 4.06, Train BLEU: 0.00, Val BLEU: 15.59, Minutes Elapsed: 163.01\n",
      "Sampling from val predictions...\n",
      "Source: và đây là tôi bây_giờ . <EOS> <PAD> <PAD> <PAD>\n",
      "Reference: and here &apos;s me today . <EOS> <PAD> <PAD>\n",
      "Model: <SOS> and here is my i . <EOS> <EOS> .\n",
      "\n",
      "Source: hơn năm trăm tình_nguyện viên toàn_cầu đã giúp trao_trả cho\n",
      "Reference: over five hundred volunteers around the globe helped us\n",
      "Model: <SOS> over years years of of the u.s. of the\n",
      "\n",
      "Source: những_ai trong khán_phòng có điện_thoại_di_động ? <EOS> <PAD> <PAD> <PAD>\n",
      "Reference: who in the room has a mobile phone with\n",
      "Model: <SOS> what are in room of the future ? <EOS>\n",
      "\n"
     ]
    },
    {
     "name": "stderr",
     "output_type": "stream",
     "text": [
      "WARNING:root:That's 100 lines that end in a tokenized period ('.')\n",
      "WARNING:root:It looks like you forgot to detokenize your test data, which may hurt your score.\n",
      "WARNING:root:If you insist your data is detokenized, or don't care, you can suppress this message with '--force'.\n"
     ]
    },
    {
     "name": "stdout",
     "output_type": "stream",
     "text": [
      "Epoch: 4.96, Train Loss: 0.00, Val Loss: 4.07, Train BLEU: 0.00, Val BLEU: 14.34, Minutes Elapsed: 171.23\n",
      "Sampling from val predictions...\n",
      "Source: trong kỉ_nguyên gia_tăng sự phân_tán của chúng_ta , điều này\n",
      "Reference: in our age of increasing distractions , it &apos;s\n",
      "Model: <SOS> in our , , our , , which &apos;s\n",
      "\n",
      "Source: điều thú_vị là đồ_ăn nhanh bên đường đang giết chết\n",
      "Reference: funny thing is , the <UNK> are killing more\n",
      "Model: <SOS> the &apos;s interesting the the the is is the\n",
      "\n",
      "Source: chúng_tôi đã gặp_may với việc lau ảnh bằng tay .\n",
      "Reference: now , we were lucky with our <UNK> .\n",
      "Model: <SOS> we we we we to with with with .\n",
      "\n"
     ]
    },
    {
     "name": "stderr",
     "output_type": "stream",
     "text": [
      "WARNING:root:That's 100 lines that end in a tokenized period ('.')\n",
      "WARNING:root:It looks like you forgot to detokenize your test data, which may hurt your score.\n",
      "WARNING:root:If you insist your data is detokenized, or don't care, you can suppress this message with '--force'.\n"
     ]
    },
    {
     "name": "stdout",
     "output_type": "stream",
     "text": [
      "Epoch: 5.00, Train Loss: 0.00, Val Loss: 4.11, Train BLEU: 0.00, Val BLEU: 14.00, Minutes Elapsed: 172.66\n",
      "Sampling from val predictions...\n",
      "Source: không , không_hề . <EOS> <PAD> <PAD> <PAD> <PAD> <PAD>\n",
      "Reference: no , it didn &apos;t . <EOS> <PAD> <PAD>\n",
      "Model: <SOS> no , no . no . <EOS> &apos;s .\n",
      "\n",
      "Source: chúng thật_sự là những gã gom rác tự_nhiên . <EOS>\n",
      "Reference: they &apos;re our natural garbage collectors . <EOS> <PAD>\n",
      "Model: <SOS> they are are of of of <EOS> <EOS> .\n",
      "\n",
      "Source: mất một tuần , cô mới tìm_ra họ và biết\n",
      "Reference: it took her a week to find them all\n",
      "Model: <SOS> at a week week , , she out and\n",
      "\n",
      "Model training completed in 172 minutes with 4.03 best validation loss and 15.59 best validation BLEU.\n",
      "Training with num_layers = 1\n",
      "Epoch: 0.00, Train Loss: 0.00, Val Loss: 10.24, Train BLEU: 0.00, Val BLEU: 0.02, Minutes Elapsed: 0.09\n",
      "Sampling from val predictions...\n",
      "Source: chúng_tôi là những sinh_vật xanh_xao , <EOS> <PAD> <PAD> <PAD>\n",
      "Reference: we &apos;re pale , gray creatures . <EOS> <PAD>\n",
      "Model: <SOS> rachel rachel to circuitry the the roselinde to to\n",
      "\n",
      "Source: phụ_nữ thắng <UNK> phần_trăm trong quốc_hội nhà_nước ở những cuộc\n",
      "Reference: women won <UNK> percent of the national congress in\n",
      "Model: <SOS> and rachel of to 600,000 600,000 cliques sierra settlers\n",
      "\n",
      "Source: có_một nhóm chuyên_gia được mời đến để thảo_luận về tương_lai\n",
      "Reference: there was a group of experts who were invited\n",
      "Model: <SOS> connecticut connecticut to to to to to to to\n",
      "\n"
     ]
    },
    {
     "name": "stderr",
     "output_type": "stream",
     "text": [
      "WARNING:root:That's 100 lines that end in a tokenized period ('.')\n",
      "WARNING:root:It looks like you forgot to detokenize your test data, which may hurt your score.\n",
      "WARNING:root:If you insist your data is detokenized, or don't care, you can suppress this message with '--force'.\n"
     ]
    },
    {
     "name": "stdout",
     "output_type": "stream",
     "text": [
      "Epoch: 0.24, Train Loss: 0.00, Val Loss: 5.73, Train BLEU: 0.00, Val BLEU: 3.41, Minutes Elapsed: 8.06\n",
      "Sampling from val predictions...\n",
      "Source: tôi có được những thứ miễn_phí đó là nhờ vào\n",
      "Reference: and i got these free things because of how\n",
      "Model: <SOS> i i &apos;m a a that a the .\n",
      "\n",
      "Source: vậy_nên ở đồ_thị bên_dưới , bạn có_thể thấy một ví_dụ\n",
      "Reference: so on the bottom trace , you can see\n",
      "Model: <SOS> so , , , , , , , ,\n",
      "\n",
      "Source: lúc đó tôi không hiểu rõ nhưng tôi có_thể thấy\n",
      "Reference: i didn &apos;t know what it meant , but\n",
      "Model: <SOS> and i &apos;t that that that that that that\n",
      "\n"
     ]
    },
    {
     "name": "stderr",
     "output_type": "stream",
     "text": [
      "WARNING:root:That's 100 lines that end in a tokenized period ('.')\n",
      "WARNING:root:It looks like you forgot to detokenize your test data, which may hurt your score.\n",
      "WARNING:root:If you insist your data is detokenized, or don't care, you can suppress this message with '--force'.\n"
     ]
    },
    {
     "name": "stdout",
     "output_type": "stream",
     "text": [
      "Epoch: 0.48, Train Loss: 0.00, Val Loss: 5.26, Train BLEU: 0.00, Val BLEU: 5.19, Minutes Elapsed: 16.11\n",
      "Sampling from val predictions...\n",
      "Source: phi_thường . <EOS> <PAD> <PAD> <PAD> <PAD> <PAD> <PAD> <PAD>\n",
      "Reference: extraordinary . <EOS> <PAD> <PAD> <PAD> <PAD> <PAD> <PAD>\n",
      "Model: <SOS> thank . . <EOS> <EOS> . . . .\n",
      "\n",
      "Source: vì quân_cảnh không giữ cho môi_trường trong_sạch . <EOS> <PAD>\n",
      "Reference: because mps do not keep the environment clean .\n",
      "Model: <SOS> so , not not the the . . <EOS>\n",
      "\n",
      "Source: điều đó sẽ thực_sự miễn một chuyến đi đến phòng_khám\n",
      "Reference: now , that would actually save on a difficult\n",
      "Model: <SOS> so &apos;s &apos;s &apos;s a a a a of\n",
      "\n"
     ]
    },
    {
     "name": "stderr",
     "output_type": "stream",
     "text": [
      "WARNING:root:That's 100 lines that end in a tokenized period ('.')\n",
      "WARNING:root:It looks like you forgot to detokenize your test data, which may hurt your score.\n",
      "WARNING:root:If you insist your data is detokenized, or don't care, you can suppress this message with '--force'.\n"
     ]
    },
    {
     "name": "stdout",
     "output_type": "stream",
     "text": [
      "Epoch: 0.72, Train Loss: 0.00, Val Loss: 4.95, Train BLEU: 0.00, Val BLEU: 8.02, Minutes Elapsed: 24.18\n",
      "Sampling from val predictions...\n",
      "Source: khi lượng đậu_xanh có_giá 1 đô_la sẽ cho bạn lượng\n",
      "Reference: when one dollar &apos;s worth of green beans will\n",
      "Model: <SOS> when the the of a to a that you\n",
      "\n",
      "Source: lấy \" khoa học \" trừ đi \" <UNK> \"\n",
      "Reference: take your science , subtract your bullet points and\n",
      "Model: <SOS> &quot; &quot; &quot; &quot; &quot; &quot; &quot; &quot; &quot;\n",
      "\n",
      "Source: kền_kền cũng có một lịch_sử hoành_tráng về tầm quan_trọng của\n",
      "Reference: vultures also have tremendous historical significance . <EOS> <PAD>\n",
      "Model: <SOS> there is a a a of of the &apos;s\n",
      "\n"
     ]
    },
    {
     "name": "stderr",
     "output_type": "stream",
     "text": [
      "WARNING:root:That's 100 lines that end in a tokenized period ('.')\n",
      "WARNING:root:It looks like you forgot to detokenize your test data, which may hurt your score.\n",
      "WARNING:root:If you insist your data is detokenized, or don't care, you can suppress this message with '--force'.\n"
     ]
    },
    {
     "name": "stdout",
     "output_type": "stream",
     "text": [
      "Epoch: 0.96, Train Loss: 0.00, Val Loss: 4.75, Train BLEU: 0.00, Val BLEU: 8.37, Minutes Elapsed: 32.31\n",
      "Sampling from val predictions...\n",
      "Source: chứng_kiến những chuyện quá_sức như_thế thật nặng_nề . <EOS> <PAD>\n",
      "Reference: it &apos;s difficult to witness something so overwhelming .\n",
      "Model: <SOS> it &apos;s like to the the the <EOS> .\n",
      "\n",
      "Source: em không quan_tâm về sự khác_biệt tôn_giáo , và hãy\n",
      "Reference: he doesn &apos;t care about religious differences , and\n",
      "Model: <SOS> he don &apos;t have to the , , and\n",
      "\n",
      "Source: đây có_thể là câu_chuyện của bạn . <EOS> <PAD> <PAD>\n",
      "Reference: it may even be your story . <EOS> <PAD>\n",
      "Model: <SOS> this can be your . . . <EOS> <EOS>\n",
      "\n"
     ]
    },
    {
     "name": "stderr",
     "output_type": "stream",
     "text": [
      "WARNING:root:That's 100 lines that end in a tokenized period ('.')\n",
      "WARNING:root:It looks like you forgot to detokenize your test data, which may hurt your score.\n",
      "WARNING:root:If you insist your data is detokenized, or don't care, you can suppress this message with '--force'.\n"
     ]
    },
    {
     "name": "stdout",
     "output_type": "stream",
     "text": [
      "Epoch: 1.00, Train Loss: 0.00, Val Loss: 4.76, Train BLEU: 0.00, Val BLEU: 8.43, Minutes Elapsed: 33.71\n",
      "Sampling from val predictions...\n",
      "Source: soi roi sự ngược_đãi ánh_sáng của ngày hôm_nay bằng cách\n",
      "Reference: show abuse the light of day by talking about\n",
      "Model: <SOS> the are the the of the of the ,\n",
      "\n",
      "Source: cảm_ơn cháu rất nhiều . cảm_ơn . <EOS> <PAD> <PAD>\n",
      "Reference: thank you so much . thank you . <EOS>\n",
      "Model: <SOS> thank you very much . you you . much\n",
      "\n",
      "Source: đây là những hình_ảnh trực_quan về cuộc_sống trong sáu tháng\n",
      "Reference: this is a visualization of six months of my\n",
      "Model: <SOS> this are the of of of of of the\n",
      "\n"
     ]
    },
    {
     "name": "stderr",
     "output_type": "stream",
     "text": [
      "WARNING:root:That's 100 lines that end in a tokenized period ('.')\n",
      "WARNING:root:It looks like you forgot to detokenize your test data, which may hurt your score.\n",
      "WARNING:root:If you insist your data is detokenized, or don't care, you can suppress this message with '--force'.\n"
     ]
    },
    {
     "name": "stdout",
     "output_type": "stream",
     "text": [
      "Epoch: 1.24, Train Loss: 0.00, Val Loss: 4.62, Train BLEU: 0.00, Val BLEU: 10.14, Minutes Elapsed: 41.79\n",
      "Sampling from val predictions...\n",
      "Source: hi_vọng là nó ít kì_cục hơn tấm hình ở giữa\n",
      "Reference: hopefully less awkward than that one in the middle\n",
      "Model: <SOS> it is it &apos;s the . the the .\n",
      "\n",
      "Source: <UNK> sống và ngự_trị trong thế_giới của riêng mình ,\n",
      "Reference: <UNK> lived and reigned in his own world ,\n",
      "Model: <SOS> <UNK> <UNK> and the <UNK> the , , ,\n",
      "\n",
      "Source: chúng_tôi cần dừng việc hành_động như những sứ_giả cuồng_nộ ,\n",
      "Reference: we need to stop acting as agents of rage\n",
      "Model: <SOS> we need to to the the like , the\n",
      "\n"
     ]
    },
    {
     "name": "stderr",
     "output_type": "stream",
     "text": [
      "WARNING:root:That's 100 lines that end in a tokenized period ('.')\n",
      "WARNING:root:It looks like you forgot to detokenize your test data, which may hurt your score.\n",
      "WARNING:root:If you insist your data is detokenized, or don't care, you can suppress this message with '--force'.\n"
     ]
    },
    {
     "name": "stdout",
     "output_type": "stream",
     "text": [
      "Epoch: 1.48, Train Loss: 0.00, Val Loss: 4.49, Train BLEU: 0.00, Val BLEU: 10.60, Minutes Elapsed: 49.89\n",
      "Sampling from val predictions...\n",
      "Source: làm_sao chúng_ta có_thể tạo ra_điều quỷ_quyệt này , lại còn\n",
      "Reference: how can we affect something so insidious , yet\n",
      "Model: <SOS> how do we do this this , , ,\n",
      "\n",
      "Source: không , không_hề . <EOS> <PAD> <PAD> <PAD> <PAD> <PAD>\n",
      "Reference: no , it didn &apos;t . <EOS> <PAD> <PAD>\n",
      "Model: <SOS> no , no . <EOS> . . <EOS> <EOS>\n",
      "\n",
      "Source: tuy_vậy , ngay khi tôi vừa_mới làm_quen với cuộc_sống ở\n",
      "Reference: just as i was starting to get used to\n",
      "Model: <SOS> now , when when when to in in the\n",
      "\n"
     ]
    },
    {
     "name": "stderr",
     "output_type": "stream",
     "text": [
      "WARNING:root:That's 100 lines that end in a tokenized period ('.')\n",
      "WARNING:root:It looks like you forgot to detokenize your test data, which may hurt your score.\n",
      "WARNING:root:If you insist your data is detokenized, or don't care, you can suppress this message with '--force'.\n"
     ]
    },
    {
     "name": "stdout",
     "output_type": "stream",
     "text": [
      "Epoch: 1.72, Train Loss: 0.00, Val Loss: 4.39, Train BLEU: 0.00, Val BLEU: 11.76, Minutes Elapsed: 58.01\n",
      "Sampling from val predictions...\n",
      "Source: sau đó , khi bạn trở_về nhà , hãy nói\n",
      "Reference: so , when you go home , tell your\n",
      "Model: <SOS> after then when you go back , , ,\n",
      "\n",
      "Source: người bắc triều_tiên đã phải vượt qua những khoảng_cách dường_như\n",
      "Reference: north koreans have to travel incredible distances on the\n",
      "Model: <SOS> the first the been to the the the the\n",
      "\n",
      "Source: tôi nghĩ cuộc_đời mình đến đây là chấm_dứt , nhưng\n",
      "Reference: i thought my life was over , but i\n",
      "Model: <SOS> i think the the is , , , but\n",
      "\n"
     ]
    },
    {
     "name": "stderr",
     "output_type": "stream",
     "text": [
      "WARNING:root:That's 100 lines that end in a tokenized period ('.')\n",
      "WARNING:root:It looks like you forgot to detokenize your test data, which may hurt your score.\n",
      "WARNING:root:If you insist your data is detokenized, or don't care, you can suppress this message with '--force'.\n"
     ]
    },
    {
     "name": "stdout",
     "output_type": "stream",
     "text": [
      "Epoch: 1.96, Train Loss: 0.00, Val Loss: 4.31, Train BLEU: 0.00, Val BLEU: 11.67, Minutes Elapsed: 66.15\n",
      "Sampling from val predictions...\n",
      "Source: cần lưu_ý rằng những chiếc lưới này nặng gần <UNK>\n",
      "Reference: and it &apos;s important to note that these nets\n",
      "Model: <SOS> it &apos;s &apos;s a that these that the <UNK>\n",
      "\n",
      "Source: vậy_là chúng_tôi già hoá mẫu_vật , đặt nhiều tải_trọng lên\n",
      "Reference: so we did aging on the samples , did\n",
      "Model: <SOS> so we we to , , , , ,\n",
      "\n",
      "Source: hình_ảnh có sức_mạnh rất lớn , nhưng nó cũng rất\n",
      "Reference: image is powerful , but also image is superficial\n",
      "Model: <SOS> there there a very , it it , but\n",
      "\n"
     ]
    },
    {
     "name": "stderr",
     "output_type": "stream",
     "text": [
      "WARNING:root:That's 100 lines that end in a tokenized period ('.')\n",
      "WARNING:root:It looks like you forgot to detokenize your test data, which may hurt your score.\n",
      "WARNING:root:If you insist your data is detokenized, or don't care, you can suppress this message with '--force'.\n"
     ]
    },
    {
     "name": "stdout",
     "output_type": "stream",
     "text": [
      "Epoch: 2.00, Train Loss: 0.00, Val Loss: 4.34, Train BLEU: 0.00, Val BLEU: 11.31, Minutes Elapsed: 67.56\n",
      "Sampling from val predictions...\n",
      "Source: chúng_ta yêu_thích những vũ_công bậc_thầy về ba_lê và nhảy gõ\n",
      "Reference: we delight at ballet <UNK> and tap dancers you\n",
      "Model: <SOS> we we these the of the and and and\n",
      "\n",
      "Source: chi_phí cực thấp , và chúng_ta đều biết điều gì\n",
      "Reference: they &apos;re ultra-low cost , and we all know\n",
      "Model: <SOS> the the , , , and we we what\n",
      "\n",
      "Source: nên tối đó , tôi truy_cập facebook và hỏi một_vài\n",
      "Reference: so that evening , i just reached out on\n",
      "Model: <SOS> so i , , i i my and and\n",
      "\n"
     ]
    },
    {
     "name": "stderr",
     "output_type": "stream",
     "text": [
      "WARNING:root:That's 100 lines that end in a tokenized period ('.')\n",
      "WARNING:root:It looks like you forgot to detokenize your test data, which may hurt your score.\n",
      "WARNING:root:If you insist your data is detokenized, or don't care, you can suppress this message with '--force'.\n"
     ]
    },
    {
     "name": "stdout",
     "output_type": "stream",
     "text": [
      "Epoch: 2.24, Train Loss: 0.00, Val Loss: 4.29, Train BLEU: 0.00, Val BLEU: 12.64, Minutes Elapsed: 75.64\n",
      "Sampling from val predictions...\n",
      "Source: đây là một bức ảnh từ vệ_tinh chụp bắc triều_tiên\n",
      "Reference: this is a satellite picture showing north korea at\n",
      "Model: <SOS> this is a photograph from from the first the\n",
      "\n",
      "Source: bây_giờ chắc các bạn đang thắc_mắc liệu nó có hiệu_quả\n",
      "Reference: and now you &apos;re of course curious if it\n",
      "Model: <SOS> now you you you see to , it it\n",
      "\n",
      "Source: và thật_sự , kết_luận đưa ra từ nghiên_cứu này là\n",
      "Reference: so actually , the conclusion from this research is\n",
      "Model: <SOS> and in , the is that this is is\n",
      "\n"
     ]
    },
    {
     "name": "stderr",
     "output_type": "stream",
     "text": [
      "WARNING:root:That's 100 lines that end in a tokenized period ('.')\n",
      "WARNING:root:It looks like you forgot to detokenize your test data, which may hurt your score.\n",
      "WARNING:root:If you insist your data is detokenized, or don't care, you can suppress this message with '--force'.\n"
     ]
    },
    {
     "name": "stdout",
     "output_type": "stream",
     "text": [
      "Epoch: 2.48, Train Loss: 0.00, Val Loss: 4.21, Train BLEU: 0.00, Val BLEU: 12.98, Minutes Elapsed: 83.75\n",
      "Sampling from val predictions...\n",
      "Source: đây là tôi với đội bóng_đá trong tạp_chí v. <EOS>\n",
      "Reference: here &apos;s me on the soccer team and in\n",
      "Model: <SOS> this is a i with in of the <EOS>\n",
      "\n",
      "Source: rồi chỉ vào dấu chân mờ_mờ này và nói ,\n",
      "Reference: then he pointed toward this barely visible <UNK> ,\n",
      "Model: <SOS> and just just at the the , said said\n",
      "\n",
      "Source: làm_vườn là nghệ_thuật của tôi . tôi trồng ra tác_phẩm\n",
      "Reference: gardening is my graffiti . i grow my art\n",
      "Model: <SOS> it is my . . i &apos;m the a\n",
      "\n"
     ]
    },
    {
     "name": "stderr",
     "output_type": "stream",
     "text": [
      "WARNING:root:That's 100 lines that end in a tokenized period ('.')\n",
      "WARNING:root:It looks like you forgot to detokenize your test data, which may hurt your score.\n",
      "WARNING:root:If you insist your data is detokenized, or don't care, you can suppress this message with '--force'.\n"
     ]
    },
    {
     "name": "stdout",
     "output_type": "stream",
     "text": [
      "Epoch: 2.72, Train Loss: 0.00, Val Loss: 4.17, Train BLEU: 0.00, Val BLEU: 13.92, Minutes Elapsed: 91.86\n",
      "Sampling from val predictions...\n",
      "Source: và tôi nghĩ đây là lý_do mà sư_tử ở công_viên\n",
      "Reference: and i think this is why the nairobi national\n",
      "Model: <SOS> and i think that is is there the is\n",
      "\n",
      "Source: nơi đây em đang tắm ở giếng , dội những\n",
      "Reference: here he &apos;s seen taking a bath at the\n",
      "Model: <SOS> so , the in in , , , ,\n",
      "\n",
      "Source: tôi rất may_mắn được nuôi dạy trong một gia_đình rất\n",
      "Reference: i was very lucky to grow up in a\n",
      "Model: <SOS> i &apos;m lucky lucky to in a a a\n",
      "\n"
     ]
    },
    {
     "name": "stderr",
     "output_type": "stream",
     "text": [
      "WARNING:root:That's 100 lines that end in a tokenized period ('.')\n",
      "WARNING:root:It looks like you forgot to detokenize your test data, which may hurt your score.\n",
      "WARNING:root:If you insist your data is detokenized, or don't care, you can suppress this message with '--force'.\n"
     ]
    },
    {
     "name": "stdout",
     "output_type": "stream",
     "text": [
      "Epoch: 2.96, Train Loss: 0.00, Val Loss: 4.14, Train BLEU: 0.00, Val BLEU: 13.09, Minutes Elapsed: 99.98\n",
      "Sampling from val predictions...\n",
      "Source: chúng_tôi có_thể làm giảm khó_khăn hậu_cần cho bệnh_nhân . <EOS>\n",
      "Reference: we can reduce logistical difficulties with patients . <EOS>\n",
      "Model: <SOS> we can do the a . <EOS> . <EOS>\n",
      "\n",
      "Source: nhưng sư_tử rất thông_minh . <EOS> <PAD> <PAD> <PAD> <PAD>\n",
      "Reference: but lions are very clever . <EOS> <PAD> <PAD>\n",
      "Model: <SOS> but yet &apos;s . . . <EOS> <EOS> is\n",
      "\n",
      "Source: khi tôi trở_về afghanistan , ông_ngoại tôi , người bị\n",
      "Reference: when i returned to afghanistan , my grandfather ,\n",
      "Model: <SOS> when i was back afghanistan , i my ,\n",
      "\n"
     ]
    },
    {
     "name": "stderr",
     "output_type": "stream",
     "text": [
      "WARNING:root:That's 100 lines that end in a tokenized period ('.')\n",
      "WARNING:root:It looks like you forgot to detokenize your test data, which may hurt your score.\n",
      "WARNING:root:If you insist your data is detokenized, or don't care, you can suppress this message with '--force'.\n"
     ]
    },
    {
     "name": "stdout",
     "output_type": "stream",
     "text": [
      "Epoch: 3.00, Train Loss: 0.00, Val Loss: 4.18, Train BLEU: 0.00, Val BLEU: 12.73, Minutes Elapsed: 101.38\n",
      "Sampling from val predictions...\n",
      "Source: ai đã gửi cho ai những tin nhắn di_động ?\n",
      "Reference: who sends whom a text message ? <EOS> <PAD>\n",
      "Model: <SOS> who who to who who who ? the ?\n",
      "\n",
      "Source: vì đó là lần đầu_tiên tôi biết rằng đồng_bào của\n",
      "Reference: this was the first time i heard that people\n",
      "Model: <SOS> because that that first first i knew that the\n",
      "\n",
      "Source: trước_tiên , tại_sao chúng lại có ấn_tượng xấu như_vậy ?\n",
      "Reference: first of all , why do they have such\n",
      "Model: <SOS> first , why , why do they have the\n",
      "\n"
     ]
    },
    {
     "name": "stderr",
     "output_type": "stream",
     "text": [
      "WARNING:root:That's 100 lines that end in a tokenized period ('.')\n",
      "WARNING:root:It looks like you forgot to detokenize your test data, which may hurt your score.\n",
      "WARNING:root:If you insist your data is detokenized, or don't care, you can suppress this message with '--force'.\n"
     ]
    },
    {
     "name": "stdout",
     "output_type": "stream",
     "text": [
      "Epoch: 3.24, Train Loss: 0.00, Val Loss: 4.15, Train BLEU: 0.00, Val BLEU: 13.52, Minutes Elapsed: 109.44\n",
      "Sampling from val predictions...\n",
      "Source: và anh ta cũng tạo ra bầu không_khí huyền_diệu của\n",
      "Reference: and he also created a magical atmosphere of trust\n",
      "Model: <SOS> and he he out to the of of the\n",
      "\n",
      "Source: cháu đã thử , đúng không , và cháu ...\n",
      "Reference: you already tried it once , right , and\n",
      "Model: <SOS> so , , , right not and and and\n",
      "\n",
      "Source: đờ_đẫn bởi sự đơn_điệu và kiệt_sức , họ câm_lặng làm_việc\n",
      "Reference: <UNK> by <UNK> and exhaustion , they work silently\n",
      "Model: <SOS> so &apos;s and and and , the were to\n",
      "\n"
     ]
    },
    {
     "name": "stderr",
     "output_type": "stream",
     "text": [
      "WARNING:root:That's 100 lines that end in a tokenized period ('.')\n",
      "WARNING:root:It looks like you forgot to detokenize your test data, which may hurt your score.\n",
      "WARNING:root:If you insist your data is detokenized, or don't care, you can suppress this message with '--force'.\n"
     ]
    },
    {
     "name": "stdout",
     "output_type": "stream",
     "text": [
      "Epoch: 3.48, Train Loss: 0.00, Val Loss: 4.10, Train BLEU: 0.00, Val BLEU: 14.09, Minutes Elapsed: 117.50\n",
      "Sampling from val predictions...\n",
      "Source: những kỹ_sư tôi làm_việc cùng dạy tôi phải_biết <UNK> hoá\n",
      "Reference: and because the engineers that i &apos;ve worked with\n",
      "Model: <SOS> my i i i i me me working working\n",
      "\n",
      "Source: đó là những hình_ảnh được dựng lên , và nó\n",
      "Reference: they are constructions , and they are constructions by\n",
      "Model: <SOS> these are the images , it it the ,\n",
      "\n",
      "Source: đó có nghĩa_là nó có_thể tự thực_hiện được . <EOS>\n",
      "Reference: that means they can be <UNK> . <EOS> <PAD>\n",
      "Model: <SOS> that means that can be be . <EOS> <EOS>\n",
      "\n"
     ]
    },
    {
     "name": "stderr",
     "output_type": "stream",
     "text": [
      "WARNING:root:That's 100 lines that end in a tokenized period ('.')\n",
      "WARNING:root:It looks like you forgot to detokenize your test data, which may hurt your score.\n",
      "WARNING:root:If you insist your data is detokenized, or don't care, you can suppress this message with '--force'.\n"
     ]
    },
    {
     "name": "stdout",
     "output_type": "stream",
     "text": [
      "Epoch: 3.72, Train Loss: 0.00, Val Loss: 4.10, Train BLEU: 0.00, Val BLEU: 14.29, Minutes Elapsed: 125.57\n",
      "Sampling from val predictions...\n",
      "Source: rồi bạn cần một cái máy , như bạn thấy\n",
      "Reference: then you need a machine , like you see\n",
      "Model: <SOS> so you need a flap , you you you\n",
      "\n",
      "Source: nó khiến hơn một triệu người triều_tiên chết trong nạn\n",
      "Reference: ultimately , more than a million north koreans died\n",
      "Model: <SOS> it &apos;s more than than million of of in\n",
      "\n",
      "Source: tôi đã bị sốc . <EOS> <PAD> <PAD> <PAD> <PAD>\n",
      "Reference: i was so shocked . <EOS> <PAD> <PAD> <PAD>\n",
      "Model: <SOS> i was been . . <EOS> was was was\n",
      "\n"
     ]
    },
    {
     "name": "stderr",
     "output_type": "stream",
     "text": [
      "WARNING:root:That's 100 lines that end in a tokenized period ('.')\n",
      "WARNING:root:It looks like you forgot to detokenize your test data, which may hurt your score.\n",
      "WARNING:root:If you insist your data is detokenized, or don't care, you can suppress this message with '--force'.\n"
     ]
    },
    {
     "name": "stdout",
     "output_type": "stream",
     "text": [
      "Epoch: 3.96, Train Loss: 0.00, Val Loss: 4.08, Train BLEU: 0.00, Val BLEU: 13.85, Minutes Elapsed: 133.71\n",
      "Sampling from val predictions...\n",
      "Source: anh ta có đôi gò mà lớn thế này ,\n",
      "Reference: he had these big cheeks , these big apple\n",
      "Model: <SOS> he had have great that that this this ,\n",
      "\n",
      "Source: vậy bạn làm_gì - - bạn im miệng . <EOS>\n",
      "Reference: so what you do -- you shut up .\n",
      "Model: <SOS> so you do you do — you , <EOS>\n",
      "\n",
      "Source: giải_pháp cho vấn_đề là làm những con đường từ nhựa_đường\n",
      "Reference: the solution for that is to make roads out\n",
      "Model: <SOS> the solution is the is is we the ,\n",
      "\n"
     ]
    },
    {
     "name": "stderr",
     "output_type": "stream",
     "text": [
      "WARNING:root:That's 100 lines that end in a tokenized period ('.')\n",
      "WARNING:root:It looks like you forgot to detokenize your test data, which may hurt your score.\n",
      "WARNING:root:If you insist your data is detokenized, or don't care, you can suppress this message with '--force'.\n"
     ]
    },
    {
     "name": "stdout",
     "output_type": "stream",
     "text": [
      "Epoch: 4.00, Train Loss: 0.00, Val Loss: 4.13, Train BLEU: 0.00, Val BLEU: 13.56, Minutes Elapsed: 135.14\n",
      "Sampling from val predictions...\n",
      "Source: <UNK> biết tình_yêu là gì . <EOS> <PAD> <PAD> <PAD>\n",
      "Reference: <UNK> knows what love is . <EOS> <PAD> <PAD>\n",
      "Model: <SOS> <UNK> know what the is is . <EOS> is\n",
      "\n",
      "Source: mỗi bức ảnh gợi nhắc về ai đó hoặc một\n",
      "Reference: a photo is a reminder of someone or something\n",
      "Model: <SOS> each each of a by of of who someone\n",
      "\n",
      "Source: nhìn qua , công_trường đập đá có_vẻ đầy những người\n",
      "Reference: at first glance , the pounding site seems full\n",
      "Model: <SOS> and , , , the the of of seem\n",
      "\n"
     ]
    },
    {
     "name": "stderr",
     "output_type": "stream",
     "text": [
      "WARNING:root:That's 100 lines that end in a tokenized period ('.')\n",
      "WARNING:root:It looks like you forgot to detokenize your test data, which may hurt your score.\n",
      "WARNING:root:If you insist your data is detokenized, or don't care, you can suppress this message with '--force'.\n"
     ]
    },
    {
     "name": "stdout",
     "output_type": "stream",
     "text": [
      "Epoch: 4.24, Train Loss: 0.00, Val Loss: 4.10, Train BLEU: 0.00, Val BLEU: 13.75, Minutes Elapsed: 143.22\n",
      "Sampling from val predictions...\n",
      "Source: chúng_tôi đã giúp khởi_động 40,000 công_việc làm_ăn . <EOS> <PAD>\n",
      "Reference: we have helped to start 40,000 businesses . <EOS>\n",
      "Model: <SOS> we &apos;ve the work work work work work <EOS>\n",
      "\n",
      "Source: hơn 70 phần_trăm tội_ác bạo_hành gia_đình xảy_ra sau khi nạn_nhân\n",
      "Reference: over 70 percent of domestic violence murders happen after\n",
      "Model: <SOS> now than 70 of the to in after the\n",
      "\n",
      "Source: nó nằm trên một dải đất mà chúng_tôi gọi_là đường\n",
      "Reference: it was on a strip of land that we\n",
      "Model: <SOS> it &apos;s on on country of we we we\n",
      "\n"
     ]
    },
    {
     "name": "stderr",
     "output_type": "stream",
     "text": [
      "WARNING:root:That's 100 lines that end in a tokenized period ('.')\n",
      "WARNING:root:It looks like you forgot to detokenize your test data, which may hurt your score.\n",
      "WARNING:root:If you insist your data is detokenized, or don't care, you can suppress this message with '--force'.\n"
     ]
    },
    {
     "name": "stdout",
     "output_type": "stream",
     "text": [
      "Epoch: 4.48, Train Loss: 0.00, Val Loss: 4.06, Train BLEU: 0.00, Val BLEU: 14.82, Minutes Elapsed: 151.28\n",
      "Sampling from val predictions...\n",
      "Source: trước_tiên , bạn phải mang đến cho họ sự bảo_mật\n",
      "Reference: first , you have to offer them <UNK> .\n",
      "Model: <SOS> first , all have to bring them a <EOS>\n",
      "\n",
      "Source: đối_với một_số người , họ đã được kết_nối với một\n",
      "Reference: for some of them , it &apos;s given them\n",
      "Model: <SOS> for some people , , they were connected a\n",
      "\n",
      "Source: tôi sợ rằng tất_cả những thay_đổi đó sẽ không kéo_dài\n",
      "Reference: i fear that these changes will not last much\n",
      "Model: <SOS> i i afraid all of are not be to\n",
      "\n"
     ]
    },
    {
     "name": "stderr",
     "output_type": "stream",
     "text": [
      "WARNING:root:That's 100 lines that end in a tokenized period ('.')\n",
      "WARNING:root:It looks like you forgot to detokenize your test data, which may hurt your score.\n",
      "WARNING:root:If you insist your data is detokenized, or don't care, you can suppress this message with '--force'.\n"
     ]
    },
    {
     "name": "stdout",
     "output_type": "stream",
     "text": [
      "Epoch: 4.72, Train Loss: 0.00, Val Loss: 4.11, Train BLEU: 0.00, Val BLEU: 14.66, Minutes Elapsed: 159.30\n",
      "Sampling from val predictions...\n",
      "Source: trong những thập_kỉ vừa_qua , chúng_ta đã định_nghĩa sắc_đẹp không\n",
      "Reference: well , for the past few centuries we have\n",
      "Model: <SOS> in the the we , we we we we\n",
      "\n",
      "Source: ông ấy la lên : \" bọn taliban đã đi\n",
      "Reference: &quot; the taliban are gone ! &quot; my father\n",
      "Model: <SOS> he said said : &quot; &quot; &quot; &quot; you\n",
      "\n",
      "Source: bởi_vì bước cuối_cùng trong kịch_bản bạo_hành gia_đình là giết chết\n",
      "Reference: because the final step in the domestic violence pattern\n",
      "Model: <SOS> because the the of in the family is ,\n",
      "\n"
     ]
    },
    {
     "name": "stderr",
     "output_type": "stream",
     "text": [
      "WARNING:root:That's 100 lines that end in a tokenized period ('.')\n",
      "WARNING:root:It looks like you forgot to detokenize your test data, which may hurt your score.\n",
      "WARNING:root:If you insist your data is detokenized, or don't care, you can suppress this message with '--force'.\n"
     ]
    },
    {
     "name": "stdout",
     "output_type": "stream",
     "text": [
      "Epoch: 4.96, Train Loss: 0.00, Val Loss: 4.09, Train BLEU: 0.00, Val BLEU: 13.36, Minutes Elapsed: 167.34\n",
      "Sampling from val predictions...\n",
      "Source: tôi nghĩ , trời ạ , tôi cảm_thấy rất tệ\n",
      "Reference: so i &apos;m like , man , it made\n",
      "Model: <SOS> i i thought , , , , i ,\n",
      "\n",
      "Source: tôi dẫn_đầu một sáng_kiến của <UNK> phụ_nữ libya vì hoà_bình\n",
      "Reference: i led an initiative by the libyan women &apos;s\n",
      "Model: <SOS> i started with a advocate <UNK> <UNK> of who\n",
      "\n",
      "Source: tôi muốn tất_cả chúng_ta trở_thành những kẻ nổi_loạn xanh hoá\n",
      "Reference: so i want us all to become <UNK> <UNK>\n",
      "Model: <SOS> i want want to all all us the of\n",
      "\n"
     ]
    },
    {
     "name": "stderr",
     "output_type": "stream",
     "text": [
      "WARNING:root:That's 100 lines that end in a tokenized period ('.')\n",
      "WARNING:root:It looks like you forgot to detokenize your test data, which may hurt your score.\n",
      "WARNING:root:If you insist your data is detokenized, or don't care, you can suppress this message with '--force'.\n"
     ]
    },
    {
     "name": "stdout",
     "output_type": "stream",
     "text": [
      "Epoch: 5.00, Train Loss: 0.00, Val Loss: 4.12, Train BLEU: 0.00, Val BLEU: 14.10, Minutes Elapsed: 168.72\n",
      "Sampling from val predictions...\n",
      "Source: okay , bạn có_thể bán nó không ? bạn có_thể\n",
      "Reference: okay , can you sell it ? can you\n",
      "Model: <SOS> okay , you can you it ? ? you\n",
      "\n",
      "Source: tất_cả chúng_tôi đều biết đang mạo_hiểm tính_mạng của chính mình\n",
      "Reference: we all knew we were risking our lives --\n",
      "Model: <SOS> we all all know that our our own of\n",
      "\n",
      "Source: động_cơ đốt trong không bền_vững . <EOS> <PAD> <PAD> <PAD>\n",
      "Reference: the internal combustion engine is not sustainable . <EOS>\n",
      "Model: <SOS> the &apos;s is is not the . . <EOS>\n",
      "\n",
      "Model training completed in 168 minutes with 4.06 best validation loss and 14.82 best validation BLEU.\n"
     ]
    }
   ],
   "source": [
    "for candidate in [4, 3, 2, 1]: \n",
    "    \n",
    "    print(\"Training with num_layers = {}\".format(candidate))\n",
    "    \n",
    "    # overwrite relevant key-value in params \n",
    "    params['num_layers'] = candidate \n",
    "    params['model_name'] = '{}-rnn-{}-attn-{}-layers'.format(SRC_LANG, ATTENTION_TYPE, candidate)\n",
    "    \n",
    "    # instantiate model \n",
    "    encoder = EncoderRNN(rnn_cell_type=RNN_CELL_TYPE, enc_hidden_dim=ENC_HIDDEN_DIM, num_layers=candidate, \n",
    "                         src_max_sentence_len=SRC_MAX_SENTENCE_LEN, enc_dropout=ENC_DROPOUT, \n",
    "                         pretrained_word2vec=get_pretrained_emb(vocab[SRC_LANG]['word2vec'], vocab[SRC_LANG]['token2id']))\n",
    "    decoder = DecoderAttnRNN(rnn_cell_type=RNN_CELL_TYPE, dec_hidden_dim=DEC_HIDDEN_DIM, enc_hidden_dim=ENC_HIDDEN_DIM, \n",
    "                             num_layers=candidate, targ_vocab_size=TARG_VOCAB_SIZE, \n",
    "                             src_max_sentence_len=SRC_MAX_SENTENCE_LEN, targ_max_sentence_len=TARG_MAX_SENTENCE_LEN, \n",
    "                             dec_dropout=DEC_DROPOUT, attention_type=ATTENTION_TYPE,\n",
    "                             pretrained_word2vec=get_pretrained_emb(vocab[TARG_LANG]['word2vec'], \n",
    "                                                                    vocab[TARG_LANG]['token2id']))\n",
    "    model = EncoderDecoderAttn(encoder, decoder, vocab[TARG_LANG]['token2id']).to(device) \n",
    "    \n",
    "    # train and eval \n",
    "    model, results = train_and_eval(\n",
    "        model=model, loaders_full=loaders_full, loaders_minibatch=loaders_minibatch, loaders_minitrain=loaders_minitrain, \n",
    "        params=params, vocab=vocab, print_intermediate=500, save_checkpoint=True, save_to_log=True, \n",
    "        lazy_eval=True, print_attn=False, inspect_samples=3)"
   ]
  },
  {
   "cell_type": "code",
   "execution_count": 9,
   "metadata": {},
   "outputs": [],
   "source": [
    "experiment_results = summarize_results(load_experiment_log(experiment_name=EXPERIMENT_NAME))"
   ]
  },
  {
   "cell_type": "code",
   "execution_count": 10,
   "metadata": {},
   "outputs": [
    {
     "data": {
      "text/html": [
       "<div>\n",
       "<style scoped>\n",
       "    .dataframe tbody tr th:only-of-type {\n",
       "        vertical-align: middle;\n",
       "    }\n",
       "\n",
       "    .dataframe tbody tr th {\n",
       "        vertical-align: top;\n",
       "    }\n",
       "\n",
       "    .dataframe thead th {\n",
       "        text-align: right;\n",
       "    }\n",
       "</style>\n",
       "<table border=\"1\" class=\"dataframe\">\n",
       "  <thead>\n",
       "    <tr style=\"text-align: right;\">\n",
       "      <th></th>\n",
       "      <th>experiment_name</th>\n",
       "      <th>model_name</th>\n",
       "      <th>num_layers</th>\n",
       "      <th>best_val_loss</th>\n",
       "      <th>best_val_bleu</th>\n",
       "      <th>total_params</th>\n",
       "      <th>trainable_params</th>\n",
       "      <th>runtime</th>\n",
       "    </tr>\n",
       "  </thead>\n",
       "  <tbody>\n",
       "    <tr>\n",
       "      <th>0</th>\n",
       "      <td>hyperparameter_tuning_num_layers</td>\n",
       "      <td>vi-rnn-additive-attn-1-layers</td>\n",
       "      <td>1</td>\n",
       "      <td>4.059699</td>\n",
       "      <td>14.823400</td>\n",
       "      <td>60569008</td>\n",
       "      <td>42569008</td>\n",
       "      <td>168.718994</td>\n",
       "    </tr>\n",
       "    <tr>\n",
       "      <th>1</th>\n",
       "      <td>hyperparameter_tuning_num_layers</td>\n",
       "      <td>vi-rnn-additive-attn-2-layers</td>\n",
       "      <td>2</td>\n",
       "      <td>4.032122</td>\n",
       "      <td>15.592125</td>\n",
       "      <td>71591344</td>\n",
       "      <td>53591344</td>\n",
       "      <td>172.660555</td>\n",
       "    </tr>\n",
       "    <tr>\n",
       "      <th>2</th>\n",
       "      <td>hyperparameter_tuning_num_layers</td>\n",
       "      <td>vi-rnn-additive-attn-3-layers</td>\n",
       "      <td>3</td>\n",
       "      <td>4.221933</td>\n",
       "      <td>12.762102</td>\n",
       "      <td>82613680</td>\n",
       "      <td>64613680</td>\n",
       "      <td>178.029407</td>\n",
       "    </tr>\n",
       "    <tr>\n",
       "      <th>3</th>\n",
       "      <td>hyperparameter_tuning_num_layers</td>\n",
       "      <td>vi-rnn-additive-attn-4-layers</td>\n",
       "      <td>4</td>\n",
       "      <td>4.438624</td>\n",
       "      <td>12.197952</td>\n",
       "      <td>93636016</td>\n",
       "      <td>75636016</td>\n",
       "      <td>188.522973</td>\n",
       "    </tr>\n",
       "  </tbody>\n",
       "</table>\n",
       "</div>"
      ],
      "text/plain": [
       "                    experiment_name                     model_name  \\\n",
       "0  hyperparameter_tuning_num_layers  vi-rnn-additive-attn-1-layers   \n",
       "1  hyperparameter_tuning_num_layers  vi-rnn-additive-attn-2-layers   \n",
       "2  hyperparameter_tuning_num_layers  vi-rnn-additive-attn-3-layers   \n",
       "3  hyperparameter_tuning_num_layers  vi-rnn-additive-attn-4-layers   \n",
       "\n",
       "   num_layers  best_val_loss  best_val_bleu  total_params  trainable_params  \\\n",
       "0           1       4.059699      14.823400      60569008          42569008   \n",
       "1           2       4.032122      15.592125      71591344          53591344   \n",
       "2           3       4.221933      12.762102      82613680          64613680   \n",
       "3           4       4.438624      12.197952      93636016          75636016   \n",
       "\n",
       "      runtime  \n",
       "0  168.718994  \n",
       "1  172.660555  \n",
       "2  178.029407  \n",
       "3  188.522973  "
      ]
     },
     "execution_count": 10,
     "metadata": {},
     "output_type": "execute_result"
    }
   ],
   "source": [
    "experiment_results[['experiment_name', 'model_name', 'num_layers', 'best_val_loss', 'best_val_bleu', \n",
    "                    'total_params', 'trainable_params', 'runtime']]"
   ]
  },
  {
   "cell_type": "code",
   "execution_count": 11,
   "metadata": {},
   "outputs": [
    {
     "data": {
      "image/png": "[encoded data removed]",
      "text/plain": [
       "<Figure size 1008x360 with 2 Axes>"
      ]
     },
     "metadata": {},
     "output_type": "display_data"
    }
   ],
   "source": [
    "plot_multiple_learning_curves(experiment_results, 'num_layers', 'Num Layers')"
   ]
  },
  {
   "cell_type": "code",
   "execution_count": null,
   "metadata": {},
   "outputs": [],
   "source": []
  }
 ],
 "metadata": {
  "kernelspec": {
   "display_name": "Python 3",
   "language": "python",
   "name": "python3"
  },
  "language_info": {
   "codemirror_mode": {
    "name": "ipython",
    "version": 3
   },
   "file_extension": ".py",
   "mimetype": "text/x-python",
   "name": "python",
   "nbconvert_exporter": "python",
   "pygments_lexer": "ipython3",
   "version": "3.5.3"
  }
 },
 "nbformat": 4,
 "nbformat_minor": 2
}
