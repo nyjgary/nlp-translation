{
 "cells": [
  {
   "cell_type": "code",
   "execution_count": 1,
   "metadata": {},
   "outputs": [],
   "source": [
    "import numpy as np \n",
    "import pandas as pd \n",
    "import torch\n",
    "from data_processing import generate_vocab, process_data, create_dataloaders\n",
    "from model import get_pretrained_emb, EncoderRNN, DecoderRNN, DecoderAttnRNN, EncoderDecoder, EncoderDecoderAttn\n",
    "from train_eval import evaluate, train_and_eval, summarize_results, plot_single_learning_curve, load_experiment_log\n",
    "import pickle as pkl \n",
    "from datetime import datetime\n",
    "device = torch.device(\"cuda\" if torch.cuda.is_available() else \"cpu\")"
   ]
  },
  {
   "cell_type": "code",
   "execution_count": 2,
   "metadata": {},
   "outputs": [],
   "source": [
    "# params required for generating data loaders \n",
    "\n",
    "SRC_LANG = 'zh'\n",
    "TARG_LANG = 'en'\n",
    "\n",
    "SRC_MAX_SENTENCE_LEN = 10\n",
    "TARG_MAX_SENTENCE_LEN = 10\n",
    "SRC_VOCAB_SIZE = 30000 \n",
    "TARG_VOCAB_SIZE = 30000 \n",
    "\n",
    "BATCH_SIZE = 64 "
   ]
  },
  {
   "cell_type": "code",
   "execution_count": 3,
   "metadata": {},
   "outputs": [],
   "source": [
    "# takes a long time to process, save to pickle for reimport in future \n",
    "# vocab = generate_vocab(SRC_LANG, TARG_LANG, SRC_VOCAB_SIZE, TARG_VOCAB_SIZE)\n",
    "# vocab_filename = \"{}-{}-vocab.p\".format(SRC_LANG, TARG_LANG)\n",
    "# pkl.dump(vocab, open(vocab_filename, \"wb\"))"
   ]
  },
  {
   "cell_type": "code",
   "execution_count": 4,
   "metadata": {},
   "outputs": [],
   "source": [
    "# reload from pickle \n",
    "vocab_filename = \"{}-{}-vocab.p\".format(SRC_LANG, TARG_LANG)\n",
    "vocab = pkl.load(open(vocab_filename, \"rb\"))\n",
    "data = process_data(SRC_LANG, TARG_LANG, SRC_MAX_SENTENCE_LEN, TARG_MAX_SENTENCE_LEN, vocab, filter_long=False)\n",
    "data_minibatch = process_data(SRC_LANG, TARG_LANG, SRC_MAX_SENTENCE_LEN, TARG_MAX_SENTENCE_LEN, vocab, sample_limit=BATCH_SIZE, filter_long=False) \n",
    "data_minitrain = process_data(SRC_LANG, TARG_LANG, SRC_MAX_SENTENCE_LEN, TARG_MAX_SENTENCE_LEN, vocab, sample_limit=1000, filter_long=False)"
   ]
  },
  {
   "cell_type": "code",
   "execution_count": 5,
   "metadata": {},
   "outputs": [],
   "source": [
    "# create dataloaders \n",
    "loaders_full = create_dataloaders(data, SRC_MAX_SENTENCE_LEN, TARG_MAX_SENTENCE_LEN, BATCH_SIZE)\n",
    "loaders_minibatch = create_dataloaders(data_minibatch, SRC_MAX_SENTENCE_LEN, TARG_MAX_SENTENCE_LEN, BATCH_SIZE)\n",
    "loaders_minitrain = create_dataloaders(data_minitrain, SRC_MAX_SENTENCE_LEN, TARG_MAX_SENTENCE_LEN, BATCH_SIZE)"
   ]
  },
  {
   "cell_type": "code",
   "execution_count": 6,
   "metadata": {},
   "outputs": [],
   "source": [
    "# model architecture params \n",
    "NETWORK_TYPE = 'rnn'\n",
    "RNN_CELL_TYPE = 'gru'\n",
    "NUM_LAYERS = 2 \n",
    "ENC_HIDDEN_DIM = 512\n",
    "DEC_HIDDEN_DIM = 2 * ENC_HIDDEN_DIM \n",
    "TEACHER_FORCING_RATIO = 1\n",
    "CLIP_GRAD_MAX_NORM = 1\n",
    "ENC_DROPOUT = 0 \n",
    "DEC_DROPOUT = 0  \n",
    "ATTENTION_TYPE = 'without'\n",
    "\n",
    "# training params  \n",
    "NUM_EPOCHS = 10 \n",
    "LR = 0.00015 \n",
    "OPTIMIZER = 'Adam'\n",
    "LAZY_TRAIN = False\n",
    "\n",
    "# name the model and experiment \n",
    "if NETWORK_TYPE == 'rnn': \n",
    "    EXPERIMENT_NAME = '{}-rnn-{}-attn'.format(SRC_LANG, ATTENTION_TYPE)\n",
    "elif NETWORK_TYPE == 'cnn': \n",
    "    EXPERIMENT_NAME = '{}-cnn'.format(SRC_LANG)\n",
    "MODEL_NAME = '{}-{}'.format(EXPERIMENT_NAME, datetime.now().strftime('%Y-%m-%d %H:%M:%S'))"
   ]
  },
  {
   "cell_type": "code",
   "execution_count": 7,
   "metadata": {},
   "outputs": [],
   "source": [
    "# store as dict to save to results later \n",
    "params = {'experiment_name': EXPERIMENT_NAME,'model_name': MODEL_NAME, 'src_lang': SRC_LANG, 'targ_lang': TARG_LANG, \n",
    "          'rnn_cell_type': RNN_CELL_TYPE, 'src_max_sentence_len': SRC_MAX_SENTENCE_LEN, \n",
    "          'targ_max_sentence_len': TARG_MAX_SENTENCE_LEN, 'src_vocab_size': SRC_VOCAB_SIZE, \n",
    "          'targ_vocab_size': TARG_VOCAB_SIZE, 'num_layers': NUM_LAYERS, 'enc_hidden_dim': ENC_HIDDEN_DIM, \n",
    "          'dec_hidden_dim': DEC_HIDDEN_DIM, 'teacher_forcing_ratio': TEACHER_FORCING_RATIO, \n",
    "          'clip_grad_max_norm': CLIP_GRAD_MAX_NORM, 'enc_dropout': ENC_DROPOUT, 'dec_dropout': DEC_DROPOUT, \n",
    "          'attention_type': ATTENTION_TYPE, 'batch_size': BATCH_SIZE, 'num_epochs': NUM_EPOCHS, \n",
    "          'learning_rate': LR, 'optimizer': OPTIMIZER, 'lazy_train': LAZY_TRAIN} "
   ]
  },
  {
   "cell_type": "code",
   "execution_count": 8,
   "metadata": {},
   "outputs": [],
   "source": [
    "# define model \n",
    "\n",
    "encoder = EncoderRNN(rnn_cell_type=RNN_CELL_TYPE, enc_hidden_dim=ENC_HIDDEN_DIM, num_layers=NUM_LAYERS, \n",
    "                     src_max_sentence_len=SRC_MAX_SENTENCE_LEN, enc_dropout=ENC_DROPOUT, \n",
    "                     pretrained_word2vec=get_pretrained_emb(vocab[SRC_LANG]['word2vec'], vocab[SRC_LANG]['token2id']))\n",
    "\n",
    "if ATTENTION_TYPE == 'without': \n",
    "    # without attention \n",
    "    decoder = DecoderRNN(dec_hidden_dim=DEC_HIDDEN_DIM, enc_hidden_dim=ENC_HIDDEN_DIM, num_layers=NUM_LAYERS,\n",
    "                         targ_vocab_size=TARG_VOCAB_SIZE, targ_max_sentence_len=TARG_MAX_SENTENCE_LEN, \n",
    "                         pretrained_word2vec=get_pretrained_emb(vocab[TARG_LANG]['word2vec'], \n",
    "                                                                vocab[TARG_LANG]['token2id']))\n",
    "    model = EncoderDecoder(encoder, decoder, vocab[TARG_LANG]['token2id']).to(device)\n",
    "    \n",
    "else: \n",
    "    # with attention \n",
    "    decoder = DecoderAttnRNN(rnn_cell_type=RNN_CELL_TYPE, dec_hidden_dim=DEC_HIDDEN_DIM, enc_hidden_dim=ENC_HIDDEN_DIM, \n",
    "                             num_layers=NUM_LAYERS, targ_vocab_size=TARG_VOCAB_SIZE, \n",
    "                             src_max_sentence_len=SRC_MAX_SENTENCE_LEN, targ_max_sentence_len=TARG_MAX_SENTENCE_LEN, \n",
    "                             dec_dropout=DEC_DROPOUT, attention_type=ATTENTION_TYPE,\n",
    "                             pretrained_word2vec=get_pretrained_emb(vocab[TARG_LANG]['word2vec'], \n",
    "                                                                    vocab[TARG_LANG]['token2id']))\n",
    "    model = EncoderDecoderAttn(encoder, decoder, vocab[TARG_LANG]['token2id']).to(device) "
   ]
  },
  {
   "cell_type": "code",
   "execution_count": 9,
   "metadata": {
    "scrolled": false
   },
   "outputs": [
    {
     "name": "stderr",
     "output_type": "stream",
     "text": [
      "WARNING:root:That's 100 lines that end in a tokenized period ('.')\n",
      "WARNING:root:It looks like you forgot to detokenize your test data, which may hurt your score.\n",
      "WARNING:root:If you insist your data is detokenized, or don't care, you can suppress this message with '--force'.\n"
     ]
    },
    {
     "name": "stdout",
     "output_type": "stream",
     "text": [
      "Epoch: 0.00, Train Loss: 0.00, Val Loss: 10.17, Train BLEU: 0.00, Val BLEU: 0.77, Minutes Elapsed: 0.12\n",
      "Sampling from val predictions...\n",
      "Source: 地球 上 总共 共有 一万 <UNK> 万种 种鸟 鸟类 <EOS>\n",
      "Reference: there are 10,000 species of birds in the world\n",
      "Model: <SOS> &apos;re the the the the the the the the\n",
      "\n",
      "Source: 这 是 个 很 悲惨 的 事实 那 就是 朝鲜\n",
      "Reference: it &apos;s tragic that north koreans have to hide\n",
      "Model: <SOS> we the the the the the the the the\n",
      "\n",
      "Source: 讲话 会 变得 <UNK> 而且 之后 伴随 更多 气息 音\n",
      "Reference: the speech actually becomes quieter and more <UNK> after\n",
      "Model: <SOS> we the the the the the the the ,\n",
      "\n"
     ]
    },
    {
     "name": "stderr",
     "output_type": "stream",
     "text": [
      "WARNING:root:That's 100 lines that end in a tokenized period ('.')\n",
      "WARNING:root:It looks like you forgot to detokenize your test data, which may hurt your score.\n",
      "WARNING:root:If you insist your data is detokenized, or don't care, you can suppress this message with '--force'.\n"
     ]
    },
    {
     "name": "stdout",
     "output_type": "stream",
     "text": [
      "Epoch: 0.15, Train Loss: 0.00, Val Loss: 6.08, Train BLEU: 0.00, Val BLEU: 2.95, Minutes Elapsed: 11.52\n",
      "Sampling from val predictions...\n",
      "Source: 我 没有 一天 不想 这些 美丽 但 却 受到 不公\n",
      "Reference: there is not a day that goes by that\n",
      "Model: <SOS> and &apos;s , , , , , , ,\n",
      "\n",
      "Source: 我们 做 过 调查 对 世界 上 100 家 标杆\n",
      "Reference: we &apos;ve done the research , and we have\n",
      "Model: <SOS> and , , , , , , , ,\n",
      "\n",
      "Source: 他 不 愿意 像 其他 婴儿 那样 玩儿 实际 实际上\n",
      "Reference: he didn &apos;t want to play like the other\n",
      "Model: <SOS> and &apos;s , , , , , , ,\n",
      "\n"
     ]
    },
    {
     "name": "stderr",
     "output_type": "stream",
     "text": [
      "WARNING:root:That's 100 lines that end in a tokenized period ('.')\n",
      "WARNING:root:It looks like you forgot to detokenize your test data, which may hurt your score.\n",
      "WARNING:root:If you insist your data is detokenized, or don't care, you can suppress this message with '--force'.\n"
     ]
    },
    {
     "name": "stdout",
     "output_type": "stream",
     "text": [
      "Epoch: 0.30, Train Loss: 0.00, Val Loss: 6.00, Train BLEU: 0.00, Val BLEU: 3.86, Minutes Elapsed: 22.74\n",
      "Sampling from val predictions...\n",
      "Source: 他 很 害怕 会 掉 到 水里 <EOS> <PAD> <PAD>\n",
      "Reference: he was petrified he would be knocked in the\n",
      "Model: <SOS> it &apos;s a a . . . <EOS> <EOS>\n",
      "\n",
      "Source: 公共 空间 可以 更好 的 体现 到底 什么 对 我们\n",
      "Reference: our shared spaces can better reflect what matters to\n",
      "Model: <SOS> and , , , the the the . the\n",
      "\n",
      "Source: 所以 他们 又 跳进 <UNK> 进来 杀死 了 动物 <EOS>\n",
      "Reference: so he jumps in and kills the animals .\n",
      "Model: <SOS> it &apos;s a , the . . . .\n",
      "\n"
     ]
    },
    {
     "name": "stderr",
     "output_type": "stream",
     "text": [
      "WARNING:root:That's 100 lines that end in a tokenized period ('.')\n",
      "WARNING:root:It looks like you forgot to detokenize your test data, which may hurt your score.\n",
      "WARNING:root:If you insist your data is detokenized, or don't care, you can suppress this message with '--force'.\n"
     ]
    },
    {
     "name": "stdout",
     "output_type": "stream",
     "text": [
      "Epoch: 0.45, Train Loss: 0.00, Val Loss: 5.85, Train BLEU: 0.00, Val BLEU: 2.95, Minutes Elapsed: 34.03\n",
      "Sampling from val predictions...\n",
      "Source: 而且 参议 参议院 议院 担心 的 另 一件 事 这个\n",
      "Reference: and also , the senate &apos;s other worry ,\n",
      "Model: <SOS> and , we , we , the , ,\n",
      "\n",
      "Source: 帮助 幸存 幸存者 重新 找回 美好 可爱 的 自己 重新\n",
      "Reference: recast survivors as wonderful , lovable people with full\n",
      "Model: <SOS> and , the the , the , the the\n",
      "\n",
      "Source: 但 很多 人 不 这么 认为 <EOS> <PAD> <PAD> <PAD>\n",
      "Reference: but most people don &apos;t agree . <EOS> <PAD>\n",
      "Model: <SOS> i &apos;s &apos;s , a to to . .\n",
      "\n"
     ]
    },
    {
     "name": "stderr",
     "output_type": "stream",
     "text": [
      "WARNING:root:That's 100 lines that end in a tokenized period ('.')\n",
      "WARNING:root:It looks like you forgot to detokenize your test data, which may hurt your score.\n",
      "WARNING:root:If you insist your data is detokenized, or don't care, you can suppress this message with '--force'.\n"
     ]
    },
    {
     "name": "stdout",
     "output_type": "stream",
     "text": [
      "Epoch: 0.60, Train Loss: 0.00, Val Loss: 5.74, Train BLEU: 0.00, Val BLEU: 2.08, Minutes Elapsed: 45.39\n",
      "Sampling from val predictions...\n",
      "Source: 内罗毕 国家 公园 的 南部 并 没有 全部 围起 栅栏\n",
      "Reference: nairobi national park is not <UNK> in the south\n",
      "Model: <SOS> and , : , , , , , ,\n",
      "\n",
      "Source: 我们 必须 创造 一个 全新 的 职业 <EOS> <PAD> <PAD>\n",
      "Reference: you have to create a new profession . <EOS>\n",
      "Model: <SOS> we we to to to . . . <EOS>\n",
      "\n",
      "Source: 第二 第二件 二件 事 你 可以 了解 到 当 美国\n",
      "Reference: second thing you can learn is that when a\n",
      "Model: <SOS> and , , , , to , , ,\n",
      "\n"
     ]
    },
    {
     "name": "stderr",
     "output_type": "stream",
     "text": [
      "WARNING:root:That's 100 lines that end in a tokenized period ('.')\n",
      "WARNING:root:It looks like you forgot to detokenize your test data, which may hurt your score.\n",
      "WARNING:root:If you insist your data is detokenized, or don't care, you can suppress this message with '--force'.\n"
     ]
    },
    {
     "name": "stdout",
     "output_type": "stream",
     "text": [
      "Epoch: 0.75, Train Loss: 0.00, Val Loss: 5.65, Train BLEU: 0.00, Val BLEU: 4.42, Minutes Elapsed: 56.80\n",
      "Sampling from val predictions...\n",
      "Source: 以上 这些 就是 我 觉得 能够 帮助 我们 大家 打开\n",
      "Reference: so i think these are just a few keys\n",
      "Model: <SOS> and , , to , , , , ,\n",
      "\n",
      "Source: 而且 仅仅 几年 年后 我们 有 了 第一 第一次 一次\n",
      "Reference: and it was only a few years later that\n",
      "Model: <SOS> and , , the to , , , ,\n",
      "\n",
      "Source: 自己 种 食物 就 好像 自己 印 钱 似的 <EOS>\n",
      "Reference: growing your own food is like printing your own\n",
      "Model: <SOS> and , , , , <EOS> . . <EOS>\n",
      "\n"
     ]
    },
    {
     "name": "stderr",
     "output_type": "stream",
     "text": [
      "WARNING:root:That's 100 lines that end in a tokenized period ('.')\n",
      "WARNING:root:It looks like you forgot to detokenize your test data, which may hurt your score.\n",
      "WARNING:root:If you insist your data is detokenized, or don't care, you can suppress this message with '--force'.\n"
     ]
    },
    {
     "name": "stdout",
     "output_type": "stream",
     "text": [
      "Epoch: 0.90, Train Loss: 0.00, Val Loss: 5.53, Train BLEU: 0.00, Val BLEU: 3.36, Minutes Elapsed: 68.23\n",
      "Sampling from val predictions...\n",
      "Source: 如果 孩子 们 种植 <UNK> 孩子 们 就 会 吃\n",
      "Reference: if kids grow <UNK> , kids eat <UNK> .\n",
      "Model: <SOS> and , have to to , , to the\n",
      "\n",
      "Source: 但 我们 还是 会 得到 大量 来自 不同 环境 下\n",
      "Reference: but we &apos;ll get a very large sample of\n",
      "Model: <SOS> but we we to to to of of of\n",
      "\n",
      "Source: 我 确实 实有 太多 从没 机会 穿 的 8 英寸\n",
      "Reference: i do have too many <UNK> heels which i\n",
      "Model: <SOS> i can to to to , , , the\n",
      "\n"
     ]
    },
    {
     "name": "stderr",
     "output_type": "stream",
     "text": [
      "WARNING:root:That's 100 lines that end in a tokenized period ('.')\n",
      "WARNING:root:It looks like you forgot to detokenize your test data, which may hurt your score.\n",
      "WARNING:root:If you insist your data is detokenized, or don't care, you can suppress this message with '--force'.\n"
     ]
    },
    {
     "name": "stdout",
     "output_type": "stream",
     "text": [
      "Epoch: 1.00, Train Loss: 0.00, Val Loss: 5.46, Train BLEU: 0.00, Val BLEU: 4.85, Minutes Elapsed: 75.97\n",
      "Sampling from val predictions...\n",
      "Source: 我 都 快 抓狂 了 <EOS> <PAD> <PAD> <PAD> <PAD>\n",
      "Reference: and i was distraught . <EOS> <PAD> <PAD> <PAD>\n",
      "Model: <SOS> i i &apos;m , . <EOS> <EOS> . <EOS>\n",
      "\n",
      "Source: 警报 拉 响 的 时候 他 不得 不得不 冲向 向海\n",
      "Reference: he had to go towards the water as the\n",
      "Model: <SOS> and , , , the the , of and\n",
      "\n",
      "Source: 在 这里 工作 的 人 通常 都 要 忍受 客人\n",
      "Reference: the workers here often endure tragic sexual abuse at\n",
      "Model: <SOS> and the of the the the the the ,\n",
      "\n"
     ]
    },
    {
     "name": "stderr",
     "output_type": "stream",
     "text": [
      "WARNING:root:That's 100 lines that end in a tokenized period ('.')\n",
      "WARNING:root:It looks like you forgot to detokenize your test data, which may hurt your score.\n",
      "WARNING:root:If you insist your data is detokenized, or don't care, you can suppress this message with '--force'.\n"
     ]
    },
    {
     "name": "stdout",
     "output_type": "stream",
     "text": [
      "Epoch: 1.15, Train Loss: 0.00, Val Loss: 5.44, Train BLEU: 0.00, Val BLEU: 4.56, Minutes Elapsed: 87.44\n",
      "Sampling from val predictions...\n",
      "Source: 但 同时 我 又 很 开心 并 受 尊重 的\n",
      "Reference: but i &apos;m also happy and honored to be\n",
      "Model: <SOS> but i i to to to , , ,\n",
      "\n",
      "Source: 整个 过程 非常 费时 <EOS> <PAD> <PAD> <PAD> <PAD> <PAD>\n",
      "Reference: it was very time-consuming . <EOS> <PAD> <PAD> <PAD>\n",
      "Model: <SOS> and &apos;s a . . . . . <EOS>\n",
      "\n",
      "Source: 那 就是 <UNK> 听 他们 说 <EOS> <PAD> <PAD> <PAD>\n",
      "Reference: i shut up , and listen to them .\n",
      "Model: <SOS> it &apos;s &apos;t the the . . <EOS> .\n",
      "\n"
     ]
    },
    {
     "name": "stderr",
     "output_type": "stream",
     "text": [
      "WARNING:root:That's 100 lines that end in a tokenized period ('.')\n",
      "WARNING:root:It looks like you forgot to detokenize your test data, which may hurt your score.\n",
      "WARNING:root:If you insist your data is detokenized, or don't care, you can suppress this message with '--force'.\n"
     ]
    },
    {
     "name": "stdout",
     "output_type": "stream",
     "text": [
      "Epoch: 1.30, Train Loss: 0.00, Val Loss: 5.39, Train BLEU: 0.00, Val BLEU: 5.19, Minutes Elapsed: 98.96\n",
      "Sampling from val predictions...\n",
      "Source: 这 并 不是 说 母亲 们 对于 我们 的 成功\n",
      "Reference: it &apos;s not to say that our mothers aren\n",
      "Model: <SOS> and &apos;s a to to to &quot; we .\n",
      "\n",
      "Source: 你 的 钱 可能 被 偷 你 可能 因 战争\n",
      "Reference: your money can be stolen . you can be\n",
      "Model: <SOS> you you , your your you you you ,\n",
      "\n",
      "Source: 这 就是 我 和 那些 学生 们 对话 时 的\n",
      "Reference: that &apos;s just how i felt as i had\n",
      "Model: <SOS> and &apos;s what i i i to to i\n",
      "\n"
     ]
    },
    {
     "name": "stderr",
     "output_type": "stream",
     "text": [
      "WARNING:root:That's 100 lines that end in a tokenized period ('.')\n",
      "WARNING:root:It looks like you forgot to detokenize your test data, which may hurt your score.\n",
      "WARNING:root:If you insist your data is detokenized, or don't care, you can suppress this message with '--force'.\n"
     ]
    },
    {
     "name": "stdout",
     "output_type": "stream",
     "text": [
      "Epoch: 1.45, Train Loss: 0.00, Val Loss: 5.34, Train BLEU: 0.00, Val BLEU: 5.27, Minutes Elapsed: 110.44\n",
      "Sampling from val predictions...\n",
      "Source: 那 就是 她 <EOS> <PAD> <PAD> <PAD> <PAD> <PAD> <PAD>\n",
      "Reference: there she is . <EOS> <PAD> <PAD> <PAD> <PAD>\n",
      "Model: <SOS> that &apos;s a . . . . <EOS> <EOS>\n",
      "\n",
      "Source: 在 50 <UNK> 摄氏 摄氏度 的 高温 中 男人 女人\n",
      "Reference: enveloped in temperatures of 130 degrees , men ,\n",
      "Model: <SOS> in <UNK> , , , , , the ,\n",
      "\n",
      "Source: 我 的 父亲 那 就是 他 他 是 他家 家族\n",
      "Reference: and my father -- that &apos;s him -- he\n",
      "Model: <SOS> i i was was , was was i ,\n",
      "\n"
     ]
    },
    {
     "name": "stderr",
     "output_type": "stream",
     "text": [
      "WARNING:root:That's 100 lines that end in a tokenized period ('.')\n",
      "WARNING:root:It looks like you forgot to detokenize your test data, which may hurt your score.\n",
      "WARNING:root:If you insist your data is detokenized, or don't care, you can suppress this message with '--force'.\n"
     ]
    },
    {
     "name": "stdout",
     "output_type": "stream",
     "text": [
      "Epoch: 1.60, Train Loss: 0.00, Val Loss: 5.29, Train BLEU: 0.00, Val BLEU: 4.34, Minutes Elapsed: 121.53\n",
      "Sampling from val predictions...\n",
      "Source: 当 摄影 摄影师 要 我 <UNK> 背 摸 那个 男士\n",
      "Reference: i was totally uncomfortable , and the photographer was\n",
      "Model: <SOS> when when , to , , i i ,\n",
      "\n",
      "Source: 现在 我 所讲 讲述 的 这个 疯狂 爱情 的 故事\n",
      "Reference: i &apos;m here to tell you the story of\n",
      "Model: <SOS> now i to to to a the , of\n",
      "\n",
      "Source: 但 令人 <UNK> 的 是 帕金森 帕金森症 和 其他 运动\n",
      "Reference: but <UNK> , with parkinson &apos;s disease and other\n",
      "Model: <SOS> but the <UNK> <UNK> , , , , <EOS>\n",
      "\n"
     ]
    },
    {
     "name": "stderr",
     "output_type": "stream",
     "text": [
      "WARNING:root:That's 100 lines that end in a tokenized period ('.')\n",
      "WARNING:root:It looks like you forgot to detokenize your test data, which may hurt your score.\n",
      "WARNING:root:If you insist your data is detokenized, or don't care, you can suppress this message with '--force'.\n"
     ]
    },
    {
     "name": "stdout",
     "output_type": "stream",
     "text": [
      "Epoch: 1.75, Train Loss: 0.00, Val Loss: 5.27, Train BLEU: 0.00, Val BLEU: 5.51, Minutes Elapsed: 132.74\n",
      "Sampling from val predictions...\n",
      "Source: 因为 我 的 家人 不 懂 中文 所以 我 得\n",
      "Reference: since my family couldn &apos;t speak chinese , i\n",
      "Model: <SOS> because , i , , to to , i\n",
      "\n",
      "Source: 可以 想一想 小孩 学说 <UNK> 说话 得 花 多长 多长时间\n",
      "Reference: i mean , just think how long it takes\n",
      "Model: <SOS> and , &apos;t it &apos;s , &apos;s is is\n",
      "\n",
      "Source: 我 永远 不会 忘记 那个 早晨 <EOS> <PAD> <PAD> <PAD>\n",
      "Reference: a morning that i will never forget . <EOS>\n",
      "Model: <SOS> i i of i was to . <EOS> <EOS>\n",
      "\n"
     ]
    },
    {
     "name": "stderr",
     "output_type": "stream",
     "text": [
      "WARNING:root:That's 100 lines that end in a tokenized period ('.')\n",
      "WARNING:root:It looks like you forgot to detokenize your test data, which may hurt your score.\n",
      "WARNING:root:If you insist your data is detokenized, or don't care, you can suppress this message with '--force'.\n"
     ]
    },
    {
     "name": "stdout",
     "output_type": "stream",
     "text": [
      "Epoch: 1.90, Train Loss: 0.00, Val Loss: 5.21, Train BLEU: 0.00, Val BLEU: 5.04, Minutes Elapsed: 144.00\n",
      "Sampling from val predictions...\n",
      "Source: 汞 是 用来 提取 金子 的 <EOS> <PAD> <PAD> <PAD>\n",
      "Reference: mercury is used in the extraction process . <EOS>\n",
      "Model: <SOS> it &apos;s a a the . . . <EOS>\n",
      "\n",
      "Source: 我 想 这 就是 内罗毕 公园 的 狮子 <UNK> 子会\n",
      "Reference: and i think this is why the nairobi national\n",
      "Model: <SOS> i i think this &apos;s a a the of\n",
      "\n",
      "Source: 今天 早上 给 这次 大会 <UNK> 开幕 <UNK> 的 先生\n",
      "Reference: this morning , the gentleman who opened this conference\n",
      "Model: <SOS> and , is the , of the the the\n",
      "\n"
     ]
    },
    {
     "name": "stderr",
     "output_type": "stream",
     "text": [
      "WARNING:root:That's 100 lines that end in a tokenized period ('.')\n",
      "WARNING:root:It looks like you forgot to detokenize your test data, which may hurt your score.\n",
      "WARNING:root:If you insist your data is detokenized, or don't care, you can suppress this message with '--force'.\n"
     ]
    },
    {
     "name": "stdout",
     "output_type": "stream",
     "text": [
      "Epoch: 2.00, Train Loss: 0.00, Val Loss: 5.21, Train BLEU: 0.00, Val BLEU: 5.70, Minutes Elapsed: 151.61\n",
      "Sampling from val predictions...\n",
      "Source: 每当 有人 打喷嚏 喷嚏 时 我 都 感觉 新奥尔良 奥尔良\n",
      "Reference: i feel like every time someone <UNK> , new\n",
      "Model: <SOS> and course &apos;t , , of i a i\n",
      "\n",
      "Source: 没人 能 独自 自创 创立 一个 企业 没人 <EOS> <PAD>\n",
      "Reference: nobody started a company alone . no one .\n",
      "Model: <SOS> the : &apos;t the of the the &apos;s the\n",
      "\n",
      "Source: 举例 举例来说 来说 一直 直到 <UNK> 年 英国 <UNK> <UNK>\n",
      "Reference: it wasn &apos;t until , for example , <UNK>\n",
      "Model: <SOS> and &apos;s a a a , &apos;s , ,\n",
      "\n"
     ]
    },
    {
     "name": "stderr",
     "output_type": "stream",
     "text": [
      "WARNING:root:That's 100 lines that end in a tokenized period ('.')\n",
      "WARNING:root:It looks like you forgot to detokenize your test data, which may hurt your score.\n",
      "WARNING:root:If you insist your data is detokenized, or don't care, you can suppress this message with '--force'.\n"
     ]
    },
    {
     "name": "stdout",
     "output_type": "stream",
     "text": [
      "Epoch: 2.15, Train Loss: 0.00, Val Loss: 5.22, Train BLEU: 0.00, Val BLEU: 5.63, Minutes Elapsed: 163.08\n",
      "Sampling from val predictions...\n",
      "Source: 你 无法 想象 向日葵 有 多么 的 神奇 以及 它\n",
      "Reference: you just couldn &apos;t imagine how amazing a sunflower\n",
      "Model: <SOS> you you &apos;t the know the the the the\n",
      "\n",
      "Source: 灯泡 来自 于 一个 坏掉 的 手电 手电筒 电筒 <EOS>\n",
      "Reference: and that &apos;s a small torch from a broken\n",
      "Model: <SOS> the &apos;s , the , of of the .\n",
      "\n",
      "Source: 我 嫁给 我 的 第二 <UNK> 丈夫 <UNK> 差不多 不多\n",
      "Reference: i &apos;ve been married for almost 20 years to\n",
      "Model: <SOS> i i , a to the , , ,\n",
      "\n"
     ]
    },
    {
     "name": "stderr",
     "output_type": "stream",
     "text": [
      "WARNING:root:That's 100 lines that end in a tokenized period ('.')\n",
      "WARNING:root:It looks like you forgot to detokenize your test data, which may hurt your score.\n",
      "WARNING:root:If you insist your data is detokenized, or don't care, you can suppress this message with '--force'.\n"
     ]
    },
    {
     "name": "stdout",
     "output_type": "stream",
     "text": [
      "Epoch: 2.30, Train Loss: 0.00, Val Loss: 5.19, Train BLEU: 0.00, Val BLEU: 6.48, Minutes Elapsed: 174.47\n",
      "Sampling from val predictions...\n",
      "Source: 你 想 过为 为什么 什么 点 <UNK> 符号 <UNK> 子弹\n",
      "Reference: have you ever wondered why they &apos;re called bullet\n",
      "Model: <SOS> you you be to the the <UNK> to to\n",
      "\n",
      "Source: 而 如果 这些 照片 不先 清洗 干净 我们 也 无法\n",
      "Reference: we couldn &apos;t <UNK> the photo unless it was\n",
      "Model: <SOS> and , &apos;t be to , , but &apos;re\n",
      "\n",
      "Source: 但 如果 对方 不感兴趣 感兴 感兴趣 兴趣 你 又 有\n",
      "Reference: if that person doesn &apos;t want to do it\n",
      "Model: <SOS> but if look a , , to be you\n",
      "\n"
     ]
    },
    {
     "name": "stderr",
     "output_type": "stream",
     "text": [
      "WARNING:root:That's 100 lines that end in a tokenized period ('.')\n",
      "WARNING:root:It looks like you forgot to detokenize your test data, which may hurt your score.\n",
      "WARNING:root:If you insist your data is detokenized, or don't care, you can suppress this message with '--force'.\n"
     ]
    },
    {
     "name": "stdout",
     "output_type": "stream",
     "text": [
      "Epoch: 2.45, Train Loss: 0.00, Val Loss: 5.15, Train BLEU: 0.00, Val BLEU: 5.85, Minutes Elapsed: 185.98\n",
      "Sampling from val predictions...\n",
      "Source: 不论 不论是 大公 公司 还是 小企业 企业 都 能 把\n",
      "Reference: the smallest company , the biggest company , has\n",
      "Model: <SOS> the the is of the the , of ,\n",
      "\n",
      "Source: 我 成为 模特 的 真正 的 原因 是 我 拥有\n",
      "Reference: the real way that i became a model is\n",
      "Model: <SOS> i i thing i i was to , ,\n",
      "\n",
      "Source: 目睹 这样 <UNK> 的 场景 是 一件 极其 痛苦 的\n",
      "Reference: it &apos;s difficult to witness something so overwhelming .\n",
      "Model: <SOS> and , a , , that it it is\n",
      "\n"
     ]
    },
    {
     "name": "stderr",
     "output_type": "stream",
     "text": [
      "WARNING:root:That's 100 lines that end in a tokenized period ('.')\n",
      "WARNING:root:It looks like you forgot to detokenize your test data, which may hurt your score.\n",
      "WARNING:root:If you insist your data is detokenized, or don't care, you can suppress this message with '--force'.\n"
     ]
    },
    {
     "name": "stdout",
     "output_type": "stream",
     "text": [
      "Epoch: 2.60, Train Loss: 0.00, Val Loss: 5.12, Train BLEU: 0.00, Val BLEU: 5.05, Minutes Elapsed: 197.52\n",
      "Sampling from val predictions...\n",
      "Source: 所以 我们 带 着意 意大利 大利 的 种子 来到 了\n",
      "Reference: so we arrived there with italian seeds in southern\n",
      "Model: <SOS> so we we to the a , , and\n",
      "\n",
      "Source: 一些 光 流 了 出来 到 了 桌子 上 所以\n",
      "Reference: some of the light leaks , goes on the\n",
      "Model: <SOS> and <UNK> the , , the the , ,\n",
      "\n",
      "Source: 在 喜马拉 喜马拉雅 马拉 马拉雅 我 见到 了 做 <UNK>\n",
      "Reference: in the himalayas , i found children carrying stone\n",
      "Model: <SOS> in in , , i i a the <EOS>\n",
      "\n"
     ]
    },
    {
     "name": "stderr",
     "output_type": "stream",
     "text": [
      "WARNING:root:That's 100 lines that end in a tokenized period ('.')\n",
      "WARNING:root:It looks like you forgot to detokenize your test data, which may hurt your score.\n",
      "WARNING:root:If you insist your data is detokenized, or don't care, you can suppress this message with '--force'.\n"
     ]
    },
    {
     "name": "stdout",
     "output_type": "stream",
     "text": [
      "Epoch: 2.75, Train Loss: 0.00, Val Loss: 5.11, Train BLEU: 0.00, Val BLEU: 6.88, Minutes Elapsed: 209.00\n",
      "Sampling from val predictions...\n",
      "Source: 然后 我们 帮助 他们 搜集 相关 知识 和 信息 因为\n",
      "Reference: and then we help them to go and find\n",
      "Model: <SOS> and we we started to , , , ,\n",
      "\n",
      "Source: 所以 我 逐渐 渐地 变得 十分 厌恶 狮子 <EOS> <PAD>\n",
      "Reference: so i grew up hating lions so much .\n",
      "Model: <SOS> so , i to a <EOS> <EOS> <EOS> <EOS>\n",
      "\n",
      "Source: 我们 很 害怕 但是 我们 仍然 渴望 望去 学校 <EOS>\n",
      "Reference: we were scared , but still , school was\n",
      "Model: <SOS> we we , , we we we we we\n",
      "\n"
     ]
    },
    {
     "name": "stderr",
     "output_type": "stream",
     "text": [
      "WARNING:root:That's 100 lines that end in a tokenized period ('.')\n",
      "WARNING:root:It looks like you forgot to detokenize your test data, which may hurt your score.\n",
      "WARNING:root:If you insist your data is detokenized, or don't care, you can suppress this message with '--force'.\n"
     ]
    },
    {
     "name": "stdout",
     "output_type": "stream",
     "text": [
      "Epoch: 2.90, Train Loss: 0.00, Val Loss: 5.06, Train BLEU: 0.00, Val BLEU: 6.02, Minutes Elapsed: 220.53\n",
      "Sampling from val predictions...\n",
      "Source: 你 会 好奇 是否 会 有效 <EOS> <PAD> <PAD> <PAD>\n",
      "Reference: and now you &apos;re of course curious if it\n",
      "Model: <SOS> you you can you to to , the .\n",
      "\n",
      "Source: 我 永远 不会 忘记 那个 早晨 <EOS> <PAD> <PAD> <PAD>\n",
      "Reference: a morning that i will never forget . <EOS>\n",
      "Model: <SOS> i i to i had to to . .\n",
      "\n",
      "Source: 一切 都 准备 好 了 <EOS> <PAD> <PAD> <PAD> <PAD>\n",
      "Reference: so i set up everything . <EOS> <PAD> <PAD>\n",
      "Model: <SOS> and &apos;s &apos;s , . . <EOS> . .\n",
      "\n"
     ]
    },
    {
     "name": "stderr",
     "output_type": "stream",
     "text": [
      "WARNING:root:That's 100 lines that end in a tokenized period ('.')\n",
      "WARNING:root:It looks like you forgot to detokenize your test data, which may hurt your score.\n",
      "WARNING:root:If you insist your data is detokenized, or don't care, you can suppress this message with '--force'.\n"
     ]
    },
    {
     "name": "stdout",
     "output_type": "stream",
     "text": [
      "Epoch: 3.00, Train Loss: 0.00, Val Loss: 5.08, Train BLEU: 0.00, Val BLEU: 6.44, Minutes Elapsed: 228.37\n",
      "Sampling from val predictions...\n",
      "Source: 虽然 我 也 时常 憧憬 外面 的 世界 我 以为\n",
      "Reference: although i often wondered about the outside world ,\n",
      "Model: <SOS> i i &apos;m &apos;t to i , , i\n",
      "\n",
      "Source: 在 南亚 一些 国家 类似 于 印度 和 巴基 巴基斯\n",
      "Reference: in south asia , in countries like india and\n",
      "Model: <SOS> and the , , , are , , ,\n",
      "\n",
      "Source: 再加 加上 我 着实 厌倦 了 开 45 分钟 的\n",
      "Reference: plus i got tired of driving 45 minutes round\n",
      "Model: <SOS> i , years , , i , and i\n",
      "\n"
     ]
    },
    {
     "name": "stderr",
     "output_type": "stream",
     "text": [
      "WARNING:root:That's 100 lines that end in a tokenized period ('.')\n",
      "WARNING:root:It looks like you forgot to detokenize your test data, which may hurt your score.\n",
      "WARNING:root:If you insist your data is detokenized, or don't care, you can suppress this message with '--force'.\n"
     ]
    },
    {
     "name": "stdout",
     "output_type": "stream",
     "text": [
      "Epoch: 3.15, Train Loss: 0.00, Val Loss: 5.11, Train BLEU: 0.00, Val BLEU: 6.49, Minutes Elapsed: 240.16\n",
      "Sampling from val predictions...\n",
      "Source: 奈 库 贝特 女神 在 <UNK> 埃及 <UNK> 文化 中\n",
      "Reference: <UNK> was the symbol of the protector and the\n",
      "Model: <SOS> and &apos;s : , of the , , the\n",
      "\n",
      "Source: 但 可口 可口可乐 可乐 可 没有 资助 这个 实验 <EOS>\n",
      "Reference: but , coca-cola did not sponsor this research .\n",
      "Model: <SOS> but it &apos;s &apos;s the , this <EOS> <EOS>\n",
      "\n",
      "Source: 但 它们 会 损坏 你 的 挡风 挡风玻璃 玻璃 你\n",
      "Reference: but they can damage your windshield , so you\n",
      "Model: <SOS> but they you , you you , you you\n",
      "\n"
     ]
    },
    {
     "name": "stderr",
     "output_type": "stream",
     "text": [
      "WARNING:root:That's 100 lines that end in a tokenized period ('.')\n",
      "WARNING:root:It looks like you forgot to detokenize your test data, which may hurt your score.\n",
      "WARNING:root:If you insist your data is detokenized, or don't care, you can suppress this message with '--force'.\n"
     ]
    },
    {
     "name": "stdout",
     "output_type": "stream",
     "text": [
      "Epoch: 3.30, Train Loss: 0.00, Val Loss: 5.10, Train BLEU: 0.00, Val BLEU: 7.10, Minutes Elapsed: 251.81\n",
      "Sampling from val predictions...\n",
      "Source: 能 不能 能成 成为 模特 不在 你 的 掌控 范围\n",
      "Reference: it &apos;s out of your control , and it\n",
      "Model: <SOS> and &apos;s not to the , , and you\n",
      "\n",
      "Source: 世界 上 所有 有成 成功 的 企业 只有 一个 共同\n",
      "Reference: there &apos;s only one thing that all the successful\n",
      "Model: <SOS> the , a a to the the the the\n",
      "\n",
      "Source: 这 应该 该是 援助 的 首要 原则 <EOS> <PAD> <PAD>\n",
      "Reference: this should be the first principle of aid .\n",
      "Model: <SOS> it &apos;s not a a of . <EOS> .\n",
      "\n"
     ]
    },
    {
     "name": "stderr",
     "output_type": "stream",
     "text": [
      "WARNING:root:That's 100 lines that end in a tokenized period ('.')\n",
      "WARNING:root:It looks like you forgot to detokenize your test data, which may hurt your score.\n",
      "WARNING:root:If you insist your data is detokenized, or don't care, you can suppress this message with '--force'.\n"
     ]
    },
    {
     "name": "stdout",
     "output_type": "stream",
     "text": [
      "Epoch: 3.45, Train Loss: 0.00, Val Loss: 5.05, Train BLEU: 0.00, Val BLEU: 6.44, Minutes Elapsed: 263.48\n",
      "Sampling from val predictions...\n",
      "Source: 请 不要 要说 我 正常 <EOS> <PAD> <PAD> <PAD> <PAD>\n",
      "Reference: please -- don &apos;t tell me i &apos;m normal\n",
      "Model: <SOS> i , , i want me . <EOS> .\n",
      "\n",
      "Source: 当在 后台 时 我们 会 给出 一个 像 这样 的\n",
      "Reference: and when we &apos;re backstage , we give an\n",
      "Model: <SOS> and , course &apos;s it , , &apos;s this\n",
      "\n",
      "Source: 可 我们 还是 希望 哪天 可以 逃离 这个 屋子 去\n",
      "Reference: &quot; we hope still , though , that we\n",
      "Model: <SOS> it &apos;s , &apos;t we we we we we\n",
      "\n"
     ]
    },
    {
     "name": "stderr",
     "output_type": "stream",
     "text": [
      "WARNING:root:That's 100 lines that end in a tokenized period ('.')\n",
      "WARNING:root:It looks like you forgot to detokenize your test data, which may hurt your score.\n",
      "WARNING:root:If you insist your data is detokenized, or don't care, you can suppress this message with '--force'.\n"
     ]
    },
    {
     "name": "stdout",
     "output_type": "stream",
     "text": [
      "Epoch: 3.60, Train Loss: 0.00, Val Loss: 5.03, Train BLEU: 0.00, Val BLEU: 6.23, Minutes Elapsed: 275.13\n",
      "Sampling from val predictions...\n",
      "Source: 但 第三 第三件 三件 事 你 能 了解 到 的\n",
      "Reference: but the third thing you can learn , and\n",
      "Model: <SOS> but the the thing , you do do is\n",
      "\n",
      "Source: 那 是 我 第一 第一次 一次 听到 活 在 我\n",
      "Reference: this was the first time i heard that people\n",
      "Model: <SOS> and was the first time i i to my\n",
      "\n",
      "Source: 这 是 我 所生 生活 的 地方 肯尼 肯尼亚 尼亚\n",
      "Reference: this is where i live . i live in\n",
      "Model: <SOS> this is the favorite i to , , the\n",
      "\n"
     ]
    },
    {
     "name": "stderr",
     "output_type": "stream",
     "text": [
      "WARNING:root:That's 100 lines that end in a tokenized period ('.')\n",
      "WARNING:root:It looks like you forgot to detokenize your test data, which may hurt your score.\n",
      "WARNING:root:If you insist your data is detokenized, or don't care, you can suppress this message with '--force'.\n"
     ]
    },
    {
     "name": "stdout",
     "output_type": "stream",
     "text": [
      "Epoch: 3.75, Train Loss: 0.00, Val Loss: 5.02, Train BLEU: 0.00, Val BLEU: 7.33, Minutes Elapsed: 286.84\n",
      "Sampling from val predictions...\n",
      "Source: 我 朋友 跟 我 在 一起 <EOS> <PAD> <PAD> <PAD>\n",
      "Reference: my friend got to come with me . <EOS>\n",
      "Model: <SOS> i father i i me me <EOS> . <EOS>\n",
      "\n",
      "Source: 灯泡 来自 于 一个 坏掉 的 手电 手电筒 电筒 <EOS>\n",
      "Reference: and that &apos;s a small torch from a broken\n",
      "Model: <SOS> there , &apos;s a a of of the .\n",
      "\n",
      "Source: 我 想 通过 一个 叫做 <UNK> 的 作品 来看 看看\n",
      "Reference: i want to look into corruption in afghanistan through\n",
      "Model: <SOS> i i to talk a a <UNK> a ,\n",
      "\n"
     ]
    },
    {
     "name": "stderr",
     "output_type": "stream",
     "text": [
      "WARNING:root:That's 100 lines that end in a tokenized period ('.')\n",
      "WARNING:root:It looks like you forgot to detokenize your test data, which may hurt your score.\n",
      "WARNING:root:If you insist your data is detokenized, or don't care, you can suppress this message with '--force'.\n"
     ]
    },
    {
     "name": "stdout",
     "output_type": "stream",
     "text": [
      "Epoch: 3.90, Train Loss: 0.00, Val Loss: 4.98, Train BLEU: 0.00, Val BLEU: 6.74, Minutes Elapsed: 298.53\n",
      "Sampling from val predictions...\n",
      "Source: 这 是 我 所生 生活 的 地方 肯尼 肯尼亚 尼亚\n",
      "Reference: this is where i live . i live in\n",
      "Model: <SOS> this is the i i the the &apos;s the\n",
      "\n",
      "Source: 现实 和 历史 赋予 了 这个 个头 头衔 高贵 的\n",
      "Reference: reality and history have endowed that title with grandeur\n",
      "Model: <SOS> and &apos;s this are this , in , <EOS>\n",
      "\n",
      "Source: 社区 会议 存在 一个 问题 <EOS> <PAD> <PAD> <PAD> <PAD>\n",
      "Reference: there is a problem with community meetings . <EOS>\n",
      "Model: <SOS> so , a a of <EOS> . <EOS> <EOS>\n",
      "\n"
     ]
    },
    {
     "name": "stderr",
     "output_type": "stream",
     "text": [
      "WARNING:root:That's 100 lines that end in a tokenized period ('.')\n",
      "WARNING:root:It looks like you forgot to detokenize your test data, which may hurt your score.\n",
      "WARNING:root:If you insist your data is detokenized, or don't care, you can suppress this message with '--force'.\n"
     ]
    },
    {
     "name": "stdout",
     "output_type": "stream",
     "text": [
      "Epoch: 4.00, Train Loss: 0.00, Val Loss: 5.02, Train BLEU: 0.00, Val BLEU: 7.08, Minutes Elapsed: 306.46\n",
      "Sampling from val predictions...\n",
      "Source: 那时 他们 有 一个 问题 要 面对 就是 怎样 称号\n",
      "Reference: and they had to face the question of what\n",
      "Model: <SOS> and they they a a a , , they\n",
      "\n",
      "Source: 我 装上 了 这些 灯 你们 可以 在 背后 看到\n",
      "Reference: so i put the lights . you can see\n",
      "Model: <SOS> i i &apos;m going , , and can ,\n",
      "\n",
      "Source: <UNK> 我 的 下 一项 项发明 发明 是 我 想\n",
      "Reference: my next invention is , i want to make\n",
      "Model: <SOS> and i , , i , i , talk\n",
      "\n"
     ]
    },
    {
     "name": "stderr",
     "output_type": "stream",
     "text": [
      "WARNING:root:That's 100 lines that end in a tokenized period ('.')\n",
      "WARNING:root:It looks like you forgot to detokenize your test data, which may hurt your score.\n",
      "WARNING:root:If you insist your data is detokenized, or don't care, you can suppress this message with '--force'.\n"
     ]
    },
    {
     "name": "stdout",
     "output_type": "stream",
     "text": [
      "Epoch: 4.15, Train Loss: 0.00, Val Loss: 5.05, Train BLEU: 0.00, Val BLEU: 7.13, Minutes Elapsed: 318.29\n",
      "Sampling from val predictions...\n",
      "Source: 这 是 一张 卫星 星图 拍摄 了 夜晚 的 朝鲜\n",
      "Reference: this is a satellite picture showing north korea at\n",
      "Model: <SOS> this &apos;s a a of , the the ,\n",
      "\n",
      "Source: 即使 他们 学会 了 中文 找到 了 工作 他们 的\n",
      "Reference: even after learning a new language and getting a\n",
      "Model: <SOS> and they they they they , , they ,\n",
      "\n",
      "Source: 没有 任何 比较 <EOS> <PAD> <PAD> <PAD> <PAD> <PAD> <PAD>\n",
      "Reference: they have nothing to compare it to . <EOS>\n",
      "Model: <SOS> it &apos;s . . . . . <EOS> .\n",
      "\n"
     ]
    },
    {
     "name": "stderr",
     "output_type": "stream",
     "text": [
      "WARNING:root:That's 100 lines that end in a tokenized period ('.')\n",
      "WARNING:root:It looks like you forgot to detokenize your test data, which may hurt your score.\n",
      "WARNING:root:If you insist your data is detokenized, or don't care, you can suppress this message with '--force'.\n"
     ]
    },
    {
     "name": "stdout",
     "output_type": "stream",
     "text": [
      "Epoch: 4.30, Train Loss: 0.00, Val Loss: 5.04, Train BLEU: 0.00, Val BLEU: 7.40, Minutes Elapsed: 330.12\n",
      "Sampling from val predictions...\n",
      "Source: 在 墙 后面 面有 一个 个人 人体 <UNK> 模型 我们\n",
      "Reference: there &apos;s a <UNK> hidden behind a wall ,\n",
      "Model: <SOS> in , a a of , the the ,\n",
      "\n",
      "Source: 现在 超人 能 飞 <EOS> <PAD> <PAD> <PAD> <PAD> <PAD>\n",
      "Reference: so , superman can fly . <EOS> <PAD> <PAD>\n",
      "Model: <SOS> now , &apos;s &apos;s . <EOS> . . .\n",
      "\n",
      "Source: 现在 就 像 爱 <UNK> 顿 博士 一个 科学 科学家\n",
      "Reference: now , like doc <UNK> , a scientist himself\n",
      "Model: <SOS> now , &apos;s &apos;s <UNK> <UNK> <UNK> , of\n",
      "\n"
     ]
    },
    {
     "name": "stderr",
     "output_type": "stream",
     "text": [
      "WARNING:root:That's 100 lines that end in a tokenized period ('.')\n",
      "WARNING:root:It looks like you forgot to detokenize your test data, which may hurt your score.\n",
      "WARNING:root:If you insist your data is detokenized, or don't care, you can suppress this message with '--force'.\n"
     ]
    },
    {
     "name": "stdout",
     "output_type": "stream",
     "text": [
      "Epoch: 4.45, Train Loss: 0.00, Val Loss: 5.00, Train BLEU: 0.00, Val BLEU: 6.88, Minutes Elapsed: 341.93\n",
      "Sampling from val predictions...\n",
      "Source: 谢谢 大家 <EOS> <PAD> <PAD> <PAD> <PAD> <PAD> <PAD> <PAD>\n",
      "Reference: thank you very much . <EOS> <PAD> <PAD> <PAD>\n",
      "Model: <SOS> thank you . much . <EOS> you . <EOS>\n",
      "\n",
      "Source: 这 就是 刚才 我 拿出 出来 的 枪 的 用途\n",
      "Reference: and here &apos;s where those guns come in .\n",
      "Model: <SOS> that &apos;s &apos;s what i i i i my\n",
      "\n",
      "Source: 我 想要 我们 成为 环境 革命 的 <UNK> 流氓 流氓\n",
      "Reference: so i want us all to become <UNK> <UNK>\n",
      "Model: <SOS> i think think we think we to that to\n",
      "\n"
     ]
    },
    {
     "name": "stderr",
     "output_type": "stream",
     "text": [
      "WARNING:root:That's 100 lines that end in a tokenized period ('.')\n",
      "WARNING:root:It looks like you forgot to detokenize your test data, which may hurt your score.\n",
      "WARNING:root:If you insist your data is detokenized, or don't care, you can suppress this message with '--force'.\n"
     ]
    },
    {
     "name": "stdout",
     "output_type": "stream",
     "text": [
      "Epoch: 4.60, Train Loss: 0.00, Val Loss: 4.99, Train BLEU: 0.00, Val BLEU: 6.78, Minutes Elapsed: 353.65\n",
      "Sampling from val predictions...\n",
      "Source: 掌声 随着 时间 时间推移 推移 越来 越来越 越多 需要 修复\n",
      "Reference: over time , more photos came in , thankfully\n",
      "Model: <SOS> and , , the a , a a ,\n",
      "\n",
      "Source: 我 得到 这些 是因为 因为 我 的 外表 而 不是\n",
      "Reference: and i got these free things because of how\n",
      "Model: <SOS> i i &apos;m that because , because i &apos;m\n",
      "\n",
      "Source: 我 听到 周围 有人 说话 的 声音 但 更多 是\n",
      "Reference: i hear voices talking , but mostly the shaft\n",
      "Model: <SOS> i i the lot the , , , ,\n",
      "\n"
     ]
    },
    {
     "name": "stderr",
     "output_type": "stream",
     "text": [
      "WARNING:root:That's 100 lines that end in a tokenized period ('.')\n",
      "WARNING:root:It looks like you forgot to detokenize your test data, which may hurt your score.\n",
      "WARNING:root:If you insist your data is detokenized, or don't care, you can suppress this message with '--force'.\n"
     ]
    },
    {
     "name": "stdout",
     "output_type": "stream",
     "text": [
      "Epoch: 4.75, Train Loss: 0.00, Val Loss: 4.98, Train BLEU: 0.00, Val BLEU: 7.47, Minutes Elapsed: 365.22\n",
      "Sampling from val predictions...\n",
      "Source: 我 以为 自己 陷入 了 疯狂 的 爱情 还 不知\n",
      "Reference: i had no idea i was falling into crazy\n",
      "Model: <SOS> i think that idea , was to to a\n",
      "\n",
      "Source: 我 敢保 保证 现在 正在 听 我 说话 的 人\n",
      "Reference: i promise you there are several people listening to\n",
      "Model: <SOS> i i to , , be to that i\n",
      "\n",
      "Source: 我们 在 巴士 上 的 旅途 有 一周 之久 好几\n",
      "Reference: the journey by bus took one week , and\n",
      "Model: <SOS> we &apos;re we we , , , , and\n",
      "\n"
     ]
    },
    {
     "name": "stderr",
     "output_type": "stream",
     "text": [
      "WARNING:root:That's 100 lines that end in a tokenized period ('.')\n",
      "WARNING:root:It looks like you forgot to detokenize your test data, which may hurt your score.\n",
      "WARNING:root:If you insist your data is detokenized, or don't care, you can suppress this message with '--force'.\n"
     ]
    },
    {
     "name": "stdout",
     "output_type": "stream",
     "text": [
      "Epoch: 4.90, Train Loss: 0.00, Val Loss: 4.94, Train BLEU: 0.00, Val BLEU: 7.25, Minutes Elapsed: 376.92\n",
      "Sampling from val predictions...\n",
      "Source: 但 我们 并 没有 问 他们 原因 而 仅仅 是\n",
      "Reference: but instead of asking them how come they were\n",
      "Model: <SOS> but we have have , , , they ,\n",
      "\n",
      "Source: 谢谢 <EOS> <PAD> <PAD> <PAD> <PAD> <PAD> <PAD> <PAD> <PAD>\n",
      "Reference: thank you . <EOS> <PAD> <PAD> <PAD> <PAD> <PAD>\n",
      "Model: <SOS> thank you . <EOS> you . <EOS> <EOS> <EOS>\n",
      "\n",
      "Source: 但是 要 尝试 试一下 一下 <EOS> <PAD> <PAD> <PAD> <PAD>\n",
      "Reference: but i will do a trial . <EOS> <PAD>\n",
      "Model: <SOS> but it &apos;s going to . . <EOS> .\n",
      "\n"
     ]
    },
    {
     "name": "stderr",
     "output_type": "stream",
     "text": [
      "WARNING:root:That's 100 lines that end in a tokenized period ('.')\n",
      "WARNING:root:It looks like you forgot to detokenize your test data, which may hurt your score.\n",
      "WARNING:root:If you insist your data is detokenized, or don't care, you can suppress this message with '--force'.\n"
     ]
    },
    {
     "name": "stdout",
     "output_type": "stream",
     "text": [
      "Epoch: 5.00, Train Loss: 0.00, Val Loss: 4.99, Train BLEU: 0.00, Val BLEU: 7.51, Minutes Elapsed: 384.77\n",
      "Sampling from val predictions...\n",
      "Source: 今天 的 奴隶 奴隶制 奴隶制度 制度 关乎 商业 <UNK> 利益\n",
      "Reference: today &apos;s slavery is about commerce , so the\n",
      "Model: <SOS> and , the of the , million , ,\n",
      "\n",
      "Source: 一些 人 甚至 都 不 认为 他们 在 被 人\n",
      "Reference: some don &apos;t even know they &apos;re enslaved ,\n",
      "Model: <SOS> people people people think people people they &apos;t ,\n",
      "\n",
      "Source: 所以 现在 的 沥青 有 一些 些小 钢丝 <UNK> 在\n",
      "Reference: so then you have asphalt with very small pieces\n",
      "Model: <SOS> so , , the , , , , ,\n",
      "\n"
     ]
    },
    {
     "name": "stderr",
     "output_type": "stream",
     "text": [
      "WARNING:root:That's 100 lines that end in a tokenized period ('.')\n",
      "WARNING:root:It looks like you forgot to detokenize your test data, which may hurt your score.\n",
      "WARNING:root:If you insist your data is detokenized, or don't care, you can suppress this message with '--force'.\n"
     ]
    },
    {
     "name": "stdout",
     "output_type": "stream",
     "text": [
      "Epoch: 5.15, Train Loss: 0.00, Val Loss: 5.02, Train BLEU: 0.00, Val BLEU: 7.09, Minutes Elapsed: 396.54\n",
      "Sampling from val predictions...\n",
      "Source: 我 正在 用电 电脑 工作 想要 完成 自由 <UNK> 职业\n",
      "Reference: i was working on my computer trying to finish\n",
      "Model: <SOS> i i to to a <UNK> , , find\n",
      "\n",
      "Source: 我 的 手 滑 了 一下 立即 想到 数天 前\n",
      "Reference: when my hand slips , i suddenly remember a\n",
      "Model: <SOS> my my was was , , &apos;s , ,\n",
      "\n",
      "Source: 如今 芭蕾 需要 非凡 的 专业 专业知识 知识 和 杰出\n",
      "Reference: now , ballet requires an extraordinary level of expertise\n",
      "Model: <SOS> and , the the the to of of the\n",
      "\n"
     ]
    },
    {
     "name": "stderr",
     "output_type": "stream",
     "text": [
      "WARNING:root:That's 100 lines that end in a tokenized period ('.')\n",
      "WARNING:root:It looks like you forgot to detokenize your test data, which may hurt your score.\n",
      "WARNING:root:If you insist your data is detokenized, or don't care, you can suppress this message with '--force'.\n"
     ]
    },
    {
     "name": "stdout",
     "output_type": "stream",
     "text": [
      "Epoch: 5.30, Train Loss: 0.00, Val Loss: 5.01, Train BLEU: 0.00, Val BLEU: 7.41, Minutes Elapsed: 408.31\n",
      "Sampling from val predictions...\n",
      "Source: 我 不能 给 他们 钱 我 什么 也 给 不了\n",
      "Reference: i couldn &apos;t give them money , nothing .\n",
      "Model: <SOS> i i &apos;t say them to i i i\n",
      "\n",
      "Source: 他们 捕杀 了 我们 的 家畜 <EOS> <PAD> <PAD> <PAD>\n",
      "Reference: they kill our livestock . <EOS> <PAD> <PAD> <PAD>\n",
      "Model: <SOS> they are to . . <EOS> <EOS> . <EOS>\n",
      "\n",
      "Source: 不过 我 做 我 必须 做 的 事 因为 我\n",
      "Reference: but i do them because i have to ,\n",
      "Model: <SOS> but i &apos;m &apos;t , i &apos;m my my\n",
      "\n"
     ]
    },
    {
     "name": "stderr",
     "output_type": "stream",
     "text": [
      "WARNING:root:That's 100 lines that end in a tokenized period ('.')\n",
      "WARNING:root:It looks like you forgot to detokenize your test data, which may hurt your score.\n",
      "WARNING:root:If you insist your data is detokenized, or don't care, you can suppress this message with '--force'.\n"
     ]
    },
    {
     "name": "stdout",
     "output_type": "stream",
     "text": [
      "Epoch: 5.45, Train Loss: 0.00, Val Loss: 4.97, Train BLEU: 0.00, Val BLEU: 7.05, Minutes Elapsed: 420.04\n",
      "Sampling from val predictions...\n",
      "Source: 绿地 组织 又 开始 安置 也许 是 20 个 花园\n",
      "Reference: so green grounds has gone on to plant maybe\n",
      "Model: <SOS> the , , the the percent years , ,\n",
      "\n",
      "Source: 这 真是 难以 难以置信 置信 我们 跟 赞比亚 比亚 人\n",
      "Reference: and we could not believe , and we were\n",
      "Model: <SOS> that &apos;s &apos;s that that that the we ,\n",
      "\n",
      "Source: 而 如果 这些 照片 不先 清洗 干净 我们 也 无法\n",
      "Reference: we couldn &apos;t <UNK> the photo unless it was\n",
      "Model: <SOS> and if these have that if . if do\n",
      "\n"
     ]
    },
    {
     "name": "stderr",
     "output_type": "stream",
     "text": [
      "WARNING:root:That's 100 lines that end in a tokenized period ('.')\n",
      "WARNING:root:It looks like you forgot to detokenize your test data, which may hurt your score.\n",
      "WARNING:root:If you insist your data is detokenized, or don't care, you can suppress this message with '--force'.\n"
     ]
    },
    {
     "name": "stdout",
     "output_type": "stream",
     "text": [
      "Epoch: 5.60, Train Loss: 0.00, Val Loss: 4.97, Train BLEU: 0.00, Val BLEU: 6.87, Minutes Elapsed: 431.81\n",
      "Sampling from val predictions...\n",
      "Source: 以上 这些 就是 我 觉得 能够 帮助 我们 大家 打开\n",
      "Reference: so i think these are just a few keys\n",
      "Model: <SOS> and , this that &apos;s are of , of\n",
      "\n",
      "Source: 它们 是 我们 <UNK> 时间 的 方式 记住 10 月\n",
      "Reference: they &apos;re also ways for us to freeze time\n",
      "Model: <SOS> they are the of , we , the ,\n",
      "\n",
      "Source: 我们 说 能到 到处 旅行 和 有创造力 创造 创造力 的\n",
      "Reference: we say , &quot; it &apos;s really amazing to\n",
      "Model: <SOS> we we to &quot; , , be , to\n",
      "\n"
     ]
    },
    {
     "name": "stderr",
     "output_type": "stream",
     "text": [
      "WARNING:root:That's 100 lines that end in a tokenized period ('.')\n",
      "WARNING:root:It looks like you forgot to detokenize your test data, which may hurt your score.\n",
      "WARNING:root:If you insist your data is detokenized, or don't care, you can suppress this message with '--force'.\n"
     ]
    },
    {
     "name": "stdout",
     "output_type": "stream",
     "text": [
      "Epoch: 5.75, Train Loss: 0.00, Val Loss: 4.96, Train BLEU: 0.00, Val BLEU: 7.63, Minutes Elapsed: 443.55\n",
      "Sampling from val predictions...\n",
      "Source: 在 日本 呆 了 6 个 月 以后 携手 志愿\n",
      "Reference: after six months in japan , 1,100 volunteers had\n",
      "Model: <SOS> in the last , , , the was the\n",
      "\n",
      "Source: 一连 几周 所有 的 志愿 志愿者 愿者 和 当地 居民\n",
      "Reference: for weeks , all the volunteers and locals alike\n",
      "Model: <SOS> the &apos;s , , the the are the are\n",
      "\n",
      "Source: 在 沥青 <UNK> 路上 上会 溅 起 很多 水 <EOS>\n",
      "Reference: then you can have a lot of splash water\n",
      "Model: <SOS> in the the , the in in the in\n",
      "\n"
     ]
    },
    {
     "name": "stderr",
     "output_type": "stream",
     "text": [
      "WARNING:root:That's 100 lines that end in a tokenized period ('.')\n",
      "WARNING:root:It looks like you forgot to detokenize your test data, which may hurt your score.\n",
      "WARNING:root:If you insist your data is detokenized, or don't care, you can suppress this message with '--force'.\n"
     ]
    },
    {
     "name": "stdout",
     "output_type": "stream",
     "text": [
      "Epoch: 5.90, Train Loss: 0.00, Val Loss: 4.96, Train BLEU: 0.00, Val BLEU: 7.34, Minutes Elapsed: 455.18\n",
      "Sampling from val predictions...\n",
      "Source: 议员 甚至 前来 拜访 表达 了 他 有 多么 赞赏\n",
      "Reference: my <UNK> even called in and said how they\n",
      "Model: <SOS> and he has a , a , and he\n",
      "\n",
      "Source: 你 可以 猜到 事情 是 怎么 发展 的 <EOS> <PAD>\n",
      "Reference: well you can see where this is going .\n",
      "Model: <SOS> you can can see , it is is .\n",
      "\n",
      "Source: 它 随处 随处可见 可见 <EOS> <PAD> <PAD> <PAD> <PAD> <PAD>\n",
      "Reference: it &apos;s everywhere . <EOS> <PAD> <PAD> <PAD> <PAD>\n",
      "Model: <SOS> it &apos;s not . <EOS> &apos;s . <EOS> <EOS>\n",
      "\n"
     ]
    },
    {
     "name": "stderr",
     "output_type": "stream",
     "text": [
      "WARNING:root:That's 100 lines that end in a tokenized period ('.')\n",
      "WARNING:root:It looks like you forgot to detokenize your test data, which may hurt your score.\n",
      "WARNING:root:If you insist your data is detokenized, or don't care, you can suppress this message with '--force'.\n"
     ]
    },
    {
     "name": "stdout",
     "output_type": "stream",
     "text": [
      "Epoch: 6.00, Train Loss: 0.00, Val Loss: 4.98, Train BLEU: 0.00, Val BLEU: 7.26, Minutes Elapsed: 462.82\n",
      "Sampling from val predictions...\n",
      "Source: 鼓掌 瞧 在 洛杉矶 我 有 了 遗产 <EOS> <PAD>\n",
      "Reference: see , i have a legacy in south central\n",
      "Model: <SOS> and : i was &apos;t be . <EOS> .\n",
      "\n",
      "Source: 他 查看 每个 个人 的 身份 身份证 并 开始 问问\n",
      "Reference: he took everyone &apos;s i.d. cards , and he\n",
      "Model: <SOS> he he &apos;t and the , &quot; and he\n",
      "\n",
      "Source: 当 我 翻看 那些 照片 片时 有些 甚至 有 逾\n",
      "Reference: as i looked through the photos , there were\n",
      "Model: <SOS> when i i to the <UNK> of the i\n",
      "\n"
     ]
    },
    {
     "name": "stderr",
     "output_type": "stream",
     "text": [
      "WARNING:root:That's 100 lines that end in a tokenized period ('.')\n",
      "WARNING:root:It looks like you forgot to detokenize your test data, which may hurt your score.\n",
      "WARNING:root:If you insist your data is detokenized, or don't care, you can suppress this message with '--force'.\n"
     ]
    },
    {
     "name": "stdout",
     "output_type": "stream",
     "text": [
      "Epoch: 6.15, Train Loss: 0.00, Val Loss: 5.02, Train BLEU: 0.00, Val BLEU: 7.26, Minutes Elapsed: 474.12\n",
      "Sampling from val predictions...\n",
      "Source: 在 塔利 塔利班 控制 下 去 上学 的 女孩 曾经\n",
      "Reference: under the taliban , girls who went to school\n",
      "Model: <SOS> in the , of , the the been the\n",
      "\n",
      "Source: 而是 我 要 被 停 几次 我 什么 时候 会\n",
      "Reference: but &quot; how many times will i get stopped\n",
      "Model: <SOS> and i i , i i i , ?\n",
      "\n",
      "Source: 然后 他 跟 我 解释 到 在 这样 的 地方\n",
      "Reference: and he very clearly explained to me that emotional\n",
      "Model: <SOS> and he said , me me i that &quot;\n",
      "\n"
     ]
    },
    {
     "name": "stderr",
     "output_type": "stream",
     "text": [
      "WARNING:root:That's 100 lines that end in a tokenized period ('.')\n",
      "WARNING:root:It looks like you forgot to detokenize your test data, which may hurt your score.\n",
      "WARNING:root:If you insist your data is detokenized, or don't care, you can suppress this message with '--force'.\n"
     ]
    },
    {
     "name": "stdout",
     "output_type": "stream",
     "text": [
      "Epoch: 6.30, Train Loss: 0.00, Val Loss: 4.99, Train BLEU: 0.00, Val BLEU: 7.69, Minutes Elapsed: 485.57\n",
      "Sampling from val predictions...\n",
      "Source: 尤其 是 如果 你 正 骑 着 自行 自行车 行车\n",
      "Reference: and especially if you then ride with your bicycle\n",
      "Model: <SOS> the the answer you &apos;re the , , ,\n",
      "\n",
      "Source: 我 嫁给 我 的 第二 <UNK> 丈夫 <UNK> 差不多 不多\n",
      "Reference: i &apos;ve been married for almost 20 years to\n",
      "Model: <SOS> i i my my my my , in in\n",
      "\n",
      "Source: 我 无法 否认 家里 的确 确有 过 艰难 的 时候\n",
      "Reference: now , i cannot deny that there have been\n",
      "Model: <SOS> i i i &apos;m &apos;t the the is a\n",
      "\n"
     ]
    },
    {
     "name": "stderr",
     "output_type": "stream",
     "text": [
      "WARNING:root:That's 100 lines that end in a tokenized period ('.')\n",
      "WARNING:root:It looks like you forgot to detokenize your test data, which may hurt your score.\n",
      "WARNING:root:If you insist your data is detokenized, or don't care, you can suppress this message with '--force'.\n"
     ]
    },
    {
     "name": "stdout",
     "output_type": "stream",
     "text": [
      "Epoch: 6.45, Train Loss: 0.00, Val Loss: 4.97, Train BLEU: 0.00, Val BLEU: 7.46, Minutes Elapsed: 496.87\n",
      "Sampling from val predictions...\n",
      "Source: 下 一个 问题 是 你 能 得到 免费 的 东西\n",
      "Reference: okay , so the next question people always ask\n",
      "Model: <SOS> and next so , question is is , you\n",
      "\n",
      "Source: 帮助 幸存 幸存者 重新 找回 美好 可爱 的 自己 重新\n",
      "Reference: recast survivors as wonderful , lovable people with full\n",
      "Model: <SOS> the the the the of , , , ,\n",
      "\n",
      "Source: 上面 写道 当 你 读到 这 封信 时 我家 的\n",
      "Reference: it read , &quot; when you read this ,\n",
      "Model: <SOS> and , when when you you you the the\n",
      "\n"
     ]
    },
    {
     "name": "stderr",
     "output_type": "stream",
     "text": [
      "WARNING:root:That's 100 lines that end in a tokenized period ('.')\n",
      "WARNING:root:It looks like you forgot to detokenize your test data, which may hurt your score.\n",
      "WARNING:root:If you insist your data is detokenized, or don't care, you can suppress this message with '--force'.\n"
     ]
    },
    {
     "name": "stdout",
     "output_type": "stream",
     "text": [
      "Epoch: 6.60, Train Loss: 0.00, Val Loss: 4.98, Train BLEU: 0.00, Val BLEU: 6.87, Minutes Elapsed: 508.33\n",
      "Sampling from val predictions...\n",
      "Source: 于是 我们 就 开始 了 修 图 行动 <EOS> <PAD>\n",
      "Reference: so we started <UNK> photos . <EOS> <PAD> <PAD>\n",
      "Model: <SOS> so we we to with . <EOS> . .\n",
      "\n",
      "Source: 在 南亚 一些 国家 类似 于 印度 和 巴基 巴基斯\n",
      "Reference: in south asia , in countries like india and\n",
      "Model: <SOS> in the , , , are , the ,\n",
      "\n",
      "Source: 我 希望 鼓励 今天 在座 的 各位 争取 取到 照片\n",
      "Reference: so i want to encourage everyone today to get\n",
      "Model: <SOS> i hope hope to to you to to to\n",
      "\n"
     ]
    },
    {
     "name": "stderr",
     "output_type": "stream",
     "text": [
      "WARNING:root:That's 100 lines that end in a tokenized period ('.')\n",
      "WARNING:root:It looks like you forgot to detokenize your test data, which may hurt your score.\n",
      "WARNING:root:If you insist your data is detokenized, or don't care, you can suppress this message with '--force'.\n"
     ]
    },
    {
     "name": "stdout",
     "output_type": "stream",
     "text": [
      "Epoch: 6.75, Train Loss: 0.00, Val Loss: 4.98, Train BLEU: 0.00, Val BLEU: 7.42, Minutes Elapsed: 519.47\n",
      "Sampling from val predictions...\n",
      "Source: 一旦 价格 价格低 价格低廉 低廉 它 也 就 能 被\n",
      "Reference: when something becomes <UNK> cost , it becomes massively\n",
      "Model: <SOS> and it &apos;s it , it it is also\n",
      "\n",
      "Source: 我 想要 把 集装 集装箱 装箱 改造 为 健康 的\n",
      "Reference: i want to take shipping containers and turn them\n",
      "Model: <SOS> i i to to about a a the to\n",
      "\n",
      "Source: 据 保守 估计 当今 全世界 世界 有 超过 2700 万\n",
      "Reference: a conservative estimate tells us there are more than\n",
      "Model: <SOS> and , of , the that the the to\n",
      "\n"
     ]
    },
    {
     "name": "stderr",
     "output_type": "stream",
     "text": [
      "WARNING:root:That's 100 lines that end in a tokenized period ('.')\n",
      "WARNING:root:It looks like you forgot to detokenize your test data, which may hurt your score.\n",
      "WARNING:root:If you insist your data is detokenized, or don't care, you can suppress this message with '--force'.\n"
     ]
    },
    {
     "name": "stdout",
     "output_type": "stream",
     "text": [
      "Epoch: 6.90, Train Loss: 0.00, Val Loss: 4.95, Train BLEU: 0.00, Val BLEU: 7.67, Minutes Elapsed: 530.93\n",
      "Sampling from val predictions...\n",
      "Source: 在 这样 寒冷 <UNK> 的 晚上 <EOS> <PAD> <PAD> <PAD>\n",
      "Reference: in the cold , windy night . <EOS> <PAD>\n",
      "Model: <SOS> and this case of , is <EOS> <EOS> .\n",
      "\n",
      "Source: 我 也 很 幸运 幸运地 因为 这项 项发明 发明 而\n",
      "Reference: because of this invention , i was lucky to\n",
      "Model: <SOS> i i &apos;m , i i i , ,\n",
      "\n",
      "Source: 新奥尔良 奥尔良 拥有 世界 上 很多 最 漂亮 的 建筑\n",
      "Reference: the city has some of the most beautiful architecture\n",
      "Model: <SOS> and : has the a to world world world\n",
      "\n"
     ]
    },
    {
     "name": "stderr",
     "output_type": "stream",
     "text": [
      "WARNING:root:That's 100 lines that end in a tokenized period ('.')\n",
      "WARNING:root:It looks like you forgot to detokenize your test data, which may hurt your score.\n",
      "WARNING:root:If you insist your data is detokenized, or don't care, you can suppress this message with '--force'.\n"
     ]
    },
    {
     "name": "stdout",
     "output_type": "stream",
     "text": [
      "Epoch: 7.00, Train Loss: 0.00, Val Loss: 4.99, Train BLEU: 0.00, Val BLEU: 7.21, Minutes Elapsed: 538.68\n",
      "Sampling from val predictions...\n",
      "Source: 彼得 德鲁 <UNK> 在 涉足 商界 之前 是 一位 哲学\n",
      "Reference: peter <UNK> was a professor of philosophy before becoming\n",
      "Model: <SOS> and the : a in of in , and\n",
      "\n",
      "Source: 这 是 我 第一 第一次 一次 到 阿富汗 <EOS> <PAD>\n",
      "Reference: and this was my first time in afghanistan .\n",
      "Model: <SOS> this is is the first . the <EOS> .\n",
      "\n",
      "Source: 她 两年 年前 退休 了 结果 却 把 我家 变成\n",
      "Reference: she retired two years ago , only to turn\n",
      "Model: <SOS> and &apos;s to and and , and was the\n",
      "\n"
     ]
    },
    {
     "name": "stderr",
     "output_type": "stream",
     "text": [
      "WARNING:root:That's 100 lines that end in a tokenized period ('.')\n",
      "WARNING:root:It looks like you forgot to detokenize your test data, which may hurt your score.\n",
      "WARNING:root:If you insist your data is detokenized, or don't care, you can suppress this message with '--force'.\n"
     ]
    },
    {
     "name": "stdout",
     "output_type": "stream",
     "text": [
      "Epoch: 7.30, Train Loss: 0.00, Val Loss: 5.02, Train BLEU: 0.00, Val BLEU: 7.74, Minutes Elapsed: 561.68\n",
      "Sampling from val predictions...\n",
      "Source: 最近 一次 旅程 我们 在 路上 走 着 她 突然\n",
      "Reference: recently , on one trip , we were walking\n",
      "Model: <SOS> and , , we , we we &apos;re in\n",
      "\n",
      "Source: 因为 在家 家庭 家庭暴力 暴力 中 的 最后 一步 就是\n",
      "Reference: because the final step in the domestic violence pattern\n",
      "Model: <SOS> because the the of is the is is is\n",
      "\n",
      "Source: 我们 能 进行 高频 高频率 频率 的 监测 以 获取\n",
      "Reference: we can do high-frequency monitoring to get objective data\n",
      "Model: <SOS> we we going the the the , , the\n",
      "\n"
     ]
    },
    {
     "name": "stderr",
     "output_type": "stream",
     "text": [
      "WARNING:root:That's 100 lines that end in a tokenized period ('.')\n",
      "WARNING:root:It looks like you forgot to detokenize your test data, which may hurt your score.\n",
      "WARNING:root:If you insist your data is detokenized, or don't care, you can suppress this message with '--force'.\n"
     ]
    },
    {
     "name": "stdout",
     "output_type": "stream",
     "text": [
      "Epoch: 7.45, Train Loss: 0.00, Val Loss: 5.00, Train BLEU: 0.00, Val BLEU: 7.60, Minutes Elapsed: 573.10\n",
      "Sampling from val predictions...\n",
      "Source: 我们 清理 了 大量 的 发臭 腐烂 的 鱼 <UNK>\n",
      "Reference: we cleared tons and tons of stinking , rotting\n",
      "Model: <SOS> we &apos;ve a lot the , the . .\n",
      "\n",
      "Source: 但有 有些 有趣 的 事 正在 发生 <EOS> <PAD> <PAD>\n",
      "Reference: but there &apos;s also something funny going on here\n",
      "Model: <SOS> but the &apos;s a interesting of going . .\n",
      "\n",
      "Source: 其他 可能 的 结果 包括 长期 的 跟踪 甚至 施虐\n",
      "Reference: other outcomes include long-term stalking , even after the\n",
      "Model: <SOS> and &apos;s are the , the the the the\n",
      "\n"
     ]
    },
    {
     "name": "stderr",
     "output_type": "stream",
     "text": [
      "WARNING:root:That's 100 lines that end in a tokenized period ('.')\n",
      "WARNING:root:It looks like you forgot to detokenize your test data, which may hurt your score.\n",
      "WARNING:root:If you insist your data is detokenized, or don't care, you can suppress this message with '--force'.\n"
     ]
    },
    {
     "name": "stdout",
     "output_type": "stream",
     "text": [
      "Epoch: 7.60, Train Loss: 0.00, Val Loss: 5.00, Train BLEU: 0.00, Val BLEU: 6.97, Minutes Elapsed: 584.55\n",
      "Sampling from val predictions...\n",
      "Source: 绿地 组织 又 开始 安置 也许 是 20 个 花园\n",
      "Reference: so green grounds has gone on to plant maybe\n",
      "Model: <SOS> so the the is , , years , ,\n",
      "\n",
      "Source: 举例 举例来说 来说 一直 直到 <UNK> 年 英国 <UNK> <UNK>\n",
      "Reference: it wasn &apos;t until , for example , <UNK>\n",
      "Model: <SOS> it &apos;s a a a a was , a\n",
      "\n",
      "Source: 只是 说明 对 有 不同 同种 种类 <EOS> <PAD> <PAD>\n",
      "Reference: it just means that there &apos;s a different kind\n",
      "Model: <SOS> it &apos;s about the every the a of of\n",
      "\n"
     ]
    },
    {
     "name": "stderr",
     "output_type": "stream",
     "text": [
      "WARNING:root:That's 100 lines that end in a tokenized period ('.')\n",
      "WARNING:root:It looks like you forgot to detokenize your test data, which may hurt your score.\n",
      "WARNING:root:If you insist your data is detokenized, or don't care, you can suppress this message with '--force'.\n"
     ]
    },
    {
     "name": "stdout",
     "output_type": "stream",
     "text": [
      "Epoch: 7.75, Train Loss: 0.00, Val Loss: 5.01, Train BLEU: 0.00, Val BLEU: 7.39, Minutes Elapsed: 596.11\n",
      "Sampling from val predictions...\n",
      "Source: 这些 人 完全 无法 逃跑 当 我们 面对 如此 艰难\n",
      "Reference: these people have no escape at all , and\n",
      "Model: <SOS> these are people , us , and , and\n",
      "\n",
      "Source: 我 的 意思 是 一些 人 想 叫 他 为\n",
      "Reference: i mean , some people wanted him to be\n",
      "Model: <SOS> i mean , it &apos;s the to to to\n",
      "\n",
      "Source: 灯泡 来自 于 一个 坏掉 的 手电 手电筒 电筒 <EOS>\n",
      "Reference: and that &apos;s a small torch from a broken\n",
      "Model: <SOS> a is a a a that . a .\n",
      "\n"
     ]
    },
    {
     "name": "stderr",
     "output_type": "stream",
     "text": [
      "WARNING:root:That's 100 lines that end in a tokenized period ('.')\n",
      "WARNING:root:It looks like you forgot to detokenize your test data, which may hurt your score.\n",
      "WARNING:root:If you insist your data is detokenized, or don't care, you can suppress this message with '--force'.\n"
     ]
    },
    {
     "name": "stdout",
     "output_type": "stream",
     "text": [
      "Epoch: 7.90, Train Loss: 0.00, Val Loss: 4.96, Train BLEU: 0.00, Val BLEU: 7.53, Minutes Elapsed: 607.61\n",
      "Sampling from val predictions...\n",
      "Source: 很多 人 认为 这个 短语 出自 出自于 金属 什么 的\n",
      "Reference: most people think that &apos;s down to the metal\n",
      "Model: <SOS> many lot people that this is to the ,\n",
      "\n",
      "Source: 我 住 在 纽约 去年 有 14 万 青年 被\n",
      "Reference: i live in new york , and last year\n",
      "Model: <SOS> i &apos;ve been in york , , the was\n",
      "\n",
      "Source: 用 你们 研究 的 科学 减去 你们 的 点 <UNK>\n",
      "Reference: take your science , subtract your bullet points and\n",
      "Model: <SOS> and you to to you you you . <EOS>\n",
      "\n"
     ]
    },
    {
     "name": "stderr",
     "output_type": "stream",
     "text": [
      "WARNING:root:That's 100 lines that end in a tokenized period ('.')\n",
      "WARNING:root:It looks like you forgot to detokenize your test data, which may hurt your score.\n",
      "WARNING:root:If you insist your data is detokenized, or don't care, you can suppress this message with '--force'.\n"
     ]
    },
    {
     "name": "stdout",
     "output_type": "stream",
     "text": [
      "Epoch: 8.00, Train Loss: 0.00, Val Loss: 5.01, Train BLEU: 0.00, Val BLEU: 7.11, Minutes Elapsed: 615.28\n",
      "Sampling from val predictions...\n",
      "Source: 计划 是 给 创业 帮 了 <UNK> <EOS> <PAD> <PAD>\n",
      "Reference: planning is the kiss of death of entrepreneurship .\n",
      "Model: <SOS> the is the . of the . . .\n",
      "\n",
      "Source: 这个 项目 也 为 我们 这些 修 图 师 带来\n",
      "Reference: the project &apos;s also made a big difference in\n",
      "Model: <SOS> and the is us to us us of for\n",
      "\n",
      "Source: 任何 健康 或者 患有 帕金森 疾病 的 人 都 能\n",
      "Reference: anyone healthy or with parkinson &apos;s can call in\n",
      "Model: <SOS> anyone anyone the be , <UNK> . . be\n",
      "\n"
     ]
    },
    {
     "name": "stderr",
     "output_type": "stream",
     "text": [
      "WARNING:root:That's 100 lines that end in a tokenized period ('.')\n",
      "WARNING:root:It looks like you forgot to detokenize your test data, which may hurt your score.\n",
      "WARNING:root:If you insist your data is detokenized, or don't care, you can suppress this message with '--force'.\n"
     ]
    },
    {
     "name": "stdout",
     "output_type": "stream",
     "text": [
      "Epoch: 8.15, Train Loss: 0.00, Val Loss: 5.04, Train BLEU: 0.00, Val BLEU: 7.30, Minutes Elapsed: 626.73\n",
      "Sampling from val predictions...\n",
      "Source: 这本 本书 出版 于 2009 年 <EOS> <PAD> <PAD> <PAD>\n",
      "Reference: the book was published in 2009 . <EOS> <PAD>\n",
      "Model: <SOS> this &apos;s is 12 . <EOS> . <EOS> <EOS>\n",
      "\n",
      "Source: 可 我们 还是 希望 哪天 可以 逃离 这个 屋子 去\n",
      "Reference: &quot; we hope still , though , that we\n",
      "Model: <SOS> and we , &apos;t you the the can the\n",
      "\n",
      "Source: 内燃 内燃机 燃机 的 燃料 总 有 耗尽 的 一天\n",
      "Reference: the internal combustion engine is not sustainable . <EOS>\n",
      "Model: <SOS> and &apos;s of of the , , , <EOS>\n",
      "\n"
     ]
    },
    {
     "name": "stderr",
     "output_type": "stream",
     "text": [
      "WARNING:root:That's 100 lines that end in a tokenized period ('.')\n",
      "WARNING:root:It looks like you forgot to detokenize your test data, which may hurt your score.\n",
      "WARNING:root:If you insist your data is detokenized, or don't care, you can suppress this message with '--force'.\n"
     ]
    },
    {
     "name": "stdout",
     "output_type": "stream",
     "text": [
      "Epoch: 8.30, Train Loss: 0.00, Val Loss: 5.08, Train BLEU: 0.00, Val BLEU: 7.39, Minutes Elapsed: 638.06\n",
      "Sampling from val predictions...\n",
      "Source: 尽管 我们 都 是 朝鲜 <UNK> 族人 但是 我们 的\n",
      "Reference: we are all korean , but inside , we\n",
      "Model: <SOS> all all all talking the , , &apos;re all\n",
      "\n",
      "Source: 在 这里 工作 的 人 通常 都 要 忍受 客人\n",
      "Reference: the workers here often endure tragic sexual abuse at\n",
      "Model: <SOS> in here of the the , the the .\n",
      "\n",
      "Source: 谢谢 掌声 <EOS> <PAD> <PAD> <PAD> <PAD> <PAD> <PAD> <PAD>\n",
      "Reference: thank you . <EOS> <PAD> <PAD> <PAD> <PAD> <PAD>\n",
      "Model: <SOS> thank you . <EOS> you . <EOS> <EOS> <EOS>\n",
      "\n"
     ]
    },
    {
     "name": "stderr",
     "output_type": "stream",
     "text": [
      "WARNING:root:That's 100 lines that end in a tokenized period ('.')\n",
      "WARNING:root:It looks like you forgot to detokenize your test data, which may hurt your score.\n",
      "WARNING:root:If you insist your data is detokenized, or don't care, you can suppress this message with '--force'.\n"
     ]
    },
    {
     "name": "stdout",
     "output_type": "stream",
     "text": [
      "Epoch: 8.45, Train Loss: 0.00, Val Loss: 5.03, Train BLEU: 0.00, Val BLEU: 7.67, Minutes Elapsed: 649.52\n",
      "Sampling from val predictions...\n",
      "Source: 发生 了 什么 <EOS> <PAD> <PAD> <PAD> <PAD> <PAD> <PAD>\n",
      "Reference: what &apos;s going on here ? <EOS> <PAD> <PAD>\n",
      "Model: <SOS> what what ? ? ? ? <EOS> <EOS> ?\n",
      "\n",
      "Source: 至今 为止 我 已为 我们 家族 社区 中 的 <UNK>\n",
      "Reference: since now , i &apos;ve set up seven homes\n",
      "Model: <SOS> and , , i i we to to we\n",
      "\n",
      "Source: 我 没有 一天 不想 这些 美丽 但 却 受到 不公\n",
      "Reference: there is not a day that goes by that\n",
      "Model: <SOS> i i no lot of of i not ,\n",
      "\n"
     ]
    },
    {
     "name": "stderr",
     "output_type": "stream",
     "text": [
      "WARNING:root:That's 100 lines that end in a tokenized period ('.')\n",
      "WARNING:root:It looks like you forgot to detokenize your test data, which may hurt your score.\n",
      "WARNING:root:If you insist your data is detokenized, or don't care, you can suppress this message with '--force'.\n"
     ]
    },
    {
     "name": "stdout",
     "output_type": "stream",
     "text": [
      "Epoch: 8.60, Train Loss: 0.00, Val Loss: 5.02, Train BLEU: 0.00, Val BLEU: 7.12, Minutes Elapsed: 660.94\n",
      "Sampling from val predictions...\n",
      "Source: 在 印度 印度教 神话 中 <UNK> 之 <UNK> 名为 雅\n",
      "Reference: in hindu mythology , <UNK> was the <UNK> god\n",
      "Model: <SOS> in the , , the is , , ,\n",
      "\n",
      "Source: 没人 知道 我们 是 干嘛 的 <EOS> <PAD> <PAD> <PAD>\n",
      "Reference: no one knows what the hell we do .\n",
      "Model: <SOS> no know we we we we is we .\n",
      "\n",
      "Source: 一些 朝鲜 <UNK> 在 中国 到 外国 国大 大使 大使馆\n",
      "Reference: some north koreans in china seek asylum in foreign\n",
      "Model: <SOS> and a the , in , and to the\n",
      "\n"
     ]
    },
    {
     "name": "stderr",
     "output_type": "stream",
     "text": [
      "WARNING:root:That's 100 lines that end in a tokenized period ('.')\n",
      "WARNING:root:It looks like you forgot to detokenize your test data, which may hurt your score.\n",
      "WARNING:root:If you insist your data is detokenized, or don't care, you can suppress this message with '--force'.\n"
     ]
    },
    {
     "name": "stdout",
     "output_type": "stream",
     "text": [
      "Epoch: 8.75, Train Loss: 0.00, Val Loss: 5.03, Train BLEU: 0.00, Val BLEU: 7.49, Minutes Elapsed: 672.22\n",
      "Sampling from val predictions...\n",
      "Source: 怎样 更 能 表达 我们 对 空置 的 店面 的\n",
      "Reference: and how can we share more of our hopes\n",
      "Model: <SOS> and , said we imagine the the the that\n",
      "\n",
      "Source: 此时 此时此刻 此刻 你 可能 在 想 哇 这 才\n",
      "Reference: right now , maybe you &apos;re thinking , &quot;\n",
      "Model: <SOS> and , , you you &apos;re see to this\n",
      "\n",
      "Source: 所有 这些 受 海啸 影响 的 照片 在 盐水 <UNK>\n",
      "Reference: now , all these photos had been damaged by\n",
      "Model: <SOS> all those those of these are the . .\n",
      "\n"
     ]
    },
    {
     "name": "stderr",
     "output_type": "stream",
     "text": [
      "WARNING:root:That's 100 lines that end in a tokenized period ('.')\n",
      "WARNING:root:It looks like you forgot to detokenize your test data, which may hurt your score.\n",
      "WARNING:root:If you insist your data is detokenized, or don't care, you can suppress this message with '--force'.\n"
     ]
    },
    {
     "name": "stdout",
     "output_type": "stream",
     "text": [
      "Epoch: 8.90, Train Loss: 0.00, Val Loss: 5.02, Train BLEU: 0.00, Val BLEU: 7.52, Minutes Elapsed: 683.69\n",
      "Sampling from val predictions...\n",
      "Source: 你们 知道 吗 达尔 达尔文 返回 英国 之后 就 改变\n",
      "Reference: you know , he changed his mind when he\n",
      "Model: <SOS> you you , the of the the , the\n",
      "\n",
      "Source: 海啸 发生 的 当天 他 正在 负责 确保 海啸 防御\n",
      "Reference: the day of the tsunami , he &apos;d actually\n",
      "Model: <SOS> and the of the , , he he to\n",
      "\n",
      "Source: 我们 还给 她 复原 照片 的 那天 又 恰好 是\n",
      "Reference: the day i gave her the photos also happened\n",
      "Model: <SOS> we we that we to , , , the\n",
      "\n"
     ]
    },
    {
     "name": "stderr",
     "output_type": "stream",
     "text": [
      "WARNING:root:That's 100 lines that end in a tokenized period ('.')\n",
      "WARNING:root:It looks like you forgot to detokenize your test data, which may hurt your score.\n",
      "WARNING:root:If you insist your data is detokenized, or don't care, you can suppress this message with '--force'.\n"
     ]
    },
    {
     "name": "stdout",
     "output_type": "stream",
     "text": [
      "Epoch: 9.00, Train Loss: 0.00, Val Loss: 5.05, Train BLEU: 0.00, Val BLEU: 7.09, Minutes Elapsed: 691.34\n",
      "Sampling from val predictions...\n",
      "Source: 五年 年前 我 曾 有 过 一个 有如 漫游 爱丽丝\n",
      "Reference: five years ago , i experienced a bit of\n",
      "Model: <SOS> a years ago , i was a a of\n",
      "\n",
      "Source: 那么 结果 呢 40 年 之后 1900 年 美利 美利坚\n",
      "Reference: so what happens ? in 40 years &apos; time\n",
      "Model: <SOS> so , , the that you , , ,\n",
      "\n",
      "Source: 当地 有 一位 女士 指导 我们 清洗 <EOS> <PAD> <PAD>\n",
      "Reference: we had an amazing local woman who guided us\n",
      "Model: <SOS> and of , course to , , we us\n",
      "\n"
     ]
    },
    {
     "name": "stderr",
     "output_type": "stream",
     "text": [
      "WARNING:root:That's 100 lines that end in a tokenized period ('.')\n",
      "WARNING:root:It looks like you forgot to detokenize your test data, which may hurt your score.\n",
      "WARNING:root:If you insist your data is detokenized, or don't care, you can suppress this message with '--force'.\n"
     ]
    },
    {
     "name": "stdout",
     "output_type": "stream",
     "text": [
      "Epoch: 9.15, Train Loss: 0.00, Val Loss: 5.06, Train BLEU: 0.00, Val BLEU: 7.11, Minutes Elapsed: 702.89\n",
      "Sampling from val predictions...\n",
      "Source: 在 死 之前 我 想成 成为 某个 个人 的 骑士\n",
      "Reference: &quot; before i die , i want to be\n",
      "Model: <SOS> in in , i out , was &apos;t be\n",
      "\n",
      "Source: 他们 得到 了 他们 要 的 体面 头衔 <EOS> <PAD>\n",
      "Reference: they got their title of respectability . <EOS> <PAD>\n",
      "Model: <SOS> they they their the and they . <EOS> <EOS>\n",
      "\n",
      "Source: 我们 需要 去 和 整个 地区 的 政府 们 打交道\n",
      "Reference: we need to work with governments in regional levels\n",
      "Model: <SOS> we we to be the the and we countries\n",
      "\n"
     ]
    },
    {
     "name": "stderr",
     "output_type": "stream",
     "text": [
      "WARNING:root:That's 100 lines that end in a tokenized period ('.')\n",
      "WARNING:root:It looks like you forgot to detokenize your test data, which may hurt your score.\n",
      "WARNING:root:If you insist your data is detokenized, or don't care, you can suppress this message with '--force'.\n"
     ]
    },
    {
     "name": "stdout",
     "output_type": "stream",
     "text": [
      "Epoch: 9.30, Train Loss: 0.00, Val Loss: 5.08, Train BLEU: 0.00, Val BLEU: 7.89, Minutes Elapsed: 714.33\n",
      "Sampling from val predictions...\n",
      "Source: 有 一天 晚上 我 拿 着手 手电 手电筒 电筒 在\n",
      "Reference: so one night , i was walking around the\n",
      "Model: <SOS> one many day i i &apos;m going to the\n",
      "\n",
      "Source: 如果 孩子 们 种植 <UNK> 孩子 们 就 会 吃\n",
      "Reference: if kids grow <UNK> , kids eat <UNK> .\n",
      "Model: <SOS> if if &apos;re the , they would <UNK> they\n",
      "\n",
      "Source: 她们 带 着 我 走下 一段 <UNK> 狭窄 的 楼梯\n",
      "Reference: they ushered me down a narrow set of stairs\n",
      "Model: <SOS> they they me me a the , of the\n",
      "\n"
     ]
    },
    {
     "name": "stderr",
     "output_type": "stream",
     "text": [
      "WARNING:root:That's 100 lines that end in a tokenized period ('.')\n",
      "WARNING:root:It looks like you forgot to detokenize your test data, which may hurt your score.\n",
      "WARNING:root:If you insist your data is detokenized, or don't care, you can suppress this message with '--force'.\n"
     ]
    },
    {
     "name": "stdout",
     "output_type": "stream",
     "text": [
      "Epoch: 9.45, Train Loss: 0.00, Val Loss: 5.07, Train BLEU: 0.00, Val BLEU: 7.60, Minutes Elapsed: 725.80\n",
      "Sampling from val predictions...\n",
      "Source: 也 就是 是从 这次 开始 我们 找 路上 的 游客\n",
      "Reference: this is when we started asking passing tourists to\n",
      "Model: <SOS> so &apos;s the we of a of a .\n",
      "\n",
      "Source: 不然 他们 不会 会来 找 你 谈 的 <EOS> <PAD>\n",
      "Reference: otherwise they don &apos;t come and talk to you\n",
      "Model: <SOS> don , you &apos;t want you . , you\n",
      "\n",
      "Source: 这 很 怪 <EOS> <PAD> <PAD> <PAD> <PAD> <PAD> <PAD>\n",
      "Reference: that was awkward . <EOS> <PAD> <PAD> <PAD> <PAD>\n",
      "Model: <SOS> that &apos;s no . <EOS> <EOS> . <EOS> <EOS>\n",
      "\n"
     ]
    },
    {
     "name": "stderr",
     "output_type": "stream",
     "text": [
      "WARNING:root:That's 100 lines that end in a tokenized period ('.')\n",
      "WARNING:root:It looks like you forgot to detokenize your test data, which may hurt your score.\n",
      "WARNING:root:If you insist your data is detokenized, or don't care, you can suppress this message with '--force'.\n"
     ]
    },
    {
     "name": "stdout",
     "output_type": "stream",
     "text": [
      "Epoch: 9.60, Train Loss: 0.00, Val Loss: 5.06, Train BLEU: 0.00, Val BLEU: 7.02, Minutes Elapsed: 737.10\n",
      "Sampling from val predictions...\n",
      "Source: 术语 是 我们 理解 你们 想法 的 一个 障碍 <EOS>\n",
      "Reference: jargon is a barrier to our understanding of your\n",
      "Model: <SOS> and is we we of all . . <EOS>\n",
      "\n",
      "Source: 正常 忽视 了 差异 带来 的 美 人 与 人\n",
      "Reference: normality <UNK> the beauty that differences give us ,\n",
      "Model: <SOS> it there the the , and people and and\n",
      "\n",
      "Source: 每 20 分钟 我 就 必须 跑 <UNK> 车上 清理\n",
      "Reference: every 20 minutes , i &apos;d have to run\n",
      "Model: <SOS> every every years , i i to to go\n",
      "\n"
     ]
    },
    {
     "name": "stderr",
     "output_type": "stream",
     "text": [
      "WARNING:root:That's 100 lines that end in a tokenized period ('.')\n",
      "WARNING:root:It looks like you forgot to detokenize your test data, which may hurt your score.\n",
      "WARNING:root:If you insist your data is detokenized, or don't care, you can suppress this message with '--force'.\n"
     ]
    },
    {
     "name": "stdout",
     "output_type": "stream",
     "text": [
      "Epoch: 9.75, Train Loss: 0.00, Val Loss: 5.08, Train BLEU: 0.00, Val BLEU: 7.75, Minutes Elapsed: 748.13\n",
      "Sampling from val predictions...\n",
      "Source: 这 之后 一个 警察 对 另 一个 个人 说 报告\n",
      "Reference: after they finished questioning me , one official said\n",
      "Model: <SOS> and this time , this this a guy the\n",
      "\n",
      "Source: 我 拒绝 成为 由 别人 人为 我 打造 的 这种\n",
      "Reference: and i refuse to be a part of this\n",
      "Model: <SOS> i i was &apos;t , that to , the\n",
      "\n",
      "Source: 我 在 这个 舞台 台上 是因为 因为 我 是 个\n",
      "Reference: i am on this stage because i am a\n",
      "Model: <SOS> i i this this , , i &apos;m a\n",
      "\n"
     ]
    },
    {
     "name": "stderr",
     "output_type": "stream",
     "text": [
      "WARNING:root:That's 100 lines that end in a tokenized period ('.')\n",
      "WARNING:root:It looks like you forgot to detokenize your test data, which may hurt your score.\n",
      "WARNING:root:If you insist your data is detokenized, or don't care, you can suppress this message with '--force'.\n"
     ]
    },
    {
     "name": "stdout",
     "output_type": "stream",
     "text": [
      "Epoch: 9.90, Train Loss: 0.00, Val Loss: 5.05, Train BLEU: 0.00, Val BLEU: 7.34, Minutes Elapsed: 759.44\n",
      "Sampling from val predictions...\n",
      "Source: 我 有 信心 你们 将 会 看到 越来 越来越 越多\n",
      "Reference: i &apos;m confident that you will see more and\n",
      "Model: <SOS> i &apos;m going to you you see the of\n",
      "\n",
      "Source: 在 西藏 <UNK> <UNK> 文化 中 <UNK> 尤其 显得 重要\n",
      "Reference: in tibetan culture , they are performing very important\n",
      "Model: <SOS> in the , , there is a <UNK> a\n",
      "\n",
      "Source: 有时 有时候 时候 路面 面会 出现 坑 槽 <EOS> <PAD>\n",
      "Reference: sometimes you can create potholes with that . <EOS>\n",
      "Model: <SOS> sometimes &apos;s &apos;s , that hats <EOS> . <EOS>\n",
      "\n"
     ]
    },
    {
     "name": "stderr",
     "output_type": "stream",
     "text": [
      "WARNING:root:That's 100 lines that end in a tokenized period ('.')\n",
      "WARNING:root:It looks like you forgot to detokenize your test data, which may hurt your score.\n",
      "WARNING:root:If you insist your data is detokenized, or don't care, you can suppress this message with '--force'.\n"
     ]
    },
    {
     "name": "stdout",
     "output_type": "stream",
     "text": [
      "Epoch: 10.00, Train Loss: 0.00, Val Loss: 5.10, Train BLEU: 0.00, Val BLEU: 7.24, Minutes Elapsed: 766.73\n",
      "Sampling from val predictions...\n",
      "Source: 我 的 家庭 并 不 贫穷 而且 对 我 自己\n",
      "Reference: my family was not poor , and myself ,\n",
      "Model: <SOS> my my was &apos;t with with and me me\n",
      "\n",
      "Source: 顺便 提下 如果 去 神经 神经科 诊所 做 的话 这个\n",
      "Reference: takes about $ 300 , by the way ,\n",
      "Model: <SOS> and , of detail if or if way ,\n",
      "\n",
      "Source: 所以 掌声 所以 政府 的 人 说 那 接着 做\n",
      "Reference: so — — so the government says , &quot;\n",
      "Model: <SOS> so the the the the the of the &quot;\n",
      "\n",
      "Model training completed in 766 minutes with 4.94 best validation loss and 7.89 best validation BLEU.\n"
     ]
    }
   ],
   "source": [
    "model, results = train_and_eval(\n",
    "    model=model, loaders_full=loaders_full, loaders_minibatch=loaders_minibatch, loaders_minitrain=loaders_minitrain, \n",
    "    params=params, vocab=vocab, print_intermediate=500, save_checkpoint=True, save_to_log=True, \n",
    "    lazy_eval=True, print_attn=False, inspect_samples=3)"
   ]
  },
  {
   "cell_type": "code",
   "execution_count": 10,
   "metadata": {},
   "outputs": [],
   "source": [
    "experiment_results = load_experiment_log(experiment_name=EXPERIMENT_NAME)"
   ]
  },
  {
   "cell_type": "code",
   "execution_count": 11,
   "metadata": {},
   "outputs": [
    {
     "data": {
      "image/png": "[encoded data removed]",
      "text/plain": [
       "<Figure size 1008x360 with 2 Axes>"
      ]
     },
     "metadata": {},
     "output_type": "display_data"
    }
   ],
   "source": [
    "plot_single_learning_curve(experiment_results[0]['results'])"
   ]
  },
  {
   "cell_type": "code",
   "execution_count": 12,
   "metadata": {},
   "outputs": [
    {
     "data": {
      "text/html": [
       "<div>\n",
       "<style scoped>\n",
       "    .dataframe tbody tr th:only-of-type {\n",
       "        vertical-align: middle;\n",
       "    }\n",
       "\n",
       "    .dataframe tbody tr th {\n",
       "        vertical-align: top;\n",
       "    }\n",
       "\n",
       "    .dataframe thead th {\n",
       "        text-align: right;\n",
       "    }\n",
       "</style>\n",
       "<table border=\"1\" class=\"dataframe\">\n",
       "  <thead>\n",
       "    <tr style=\"text-align: right;\">\n",
       "      <th></th>\n",
       "      <th>model_name</th>\n",
       "      <th>best_val_loss</th>\n",
       "      <th>best_val_bleu</th>\n",
       "      <th>runtime</th>\n",
       "      <th>total_params</th>\n",
       "      <th>trainable_params</th>\n",
       "      <th>dt_created</th>\n",
       "    </tr>\n",
       "  </thead>\n",
       "  <tbody>\n",
       "    <tr>\n",
       "      <th>0</th>\n",
       "      <td>zh-rnn-without-attn-2018-12-12 05:40:48</td>\n",
       "      <td>4.944853</td>\n",
       "      <td>7.889874</td>\n",
       "      <td>766.733748</td>\n",
       "      <td>69492144</td>\n",
       "      <td>51492144</td>\n",
       "      <td>2018-12-12 18:27:36</td>\n",
       "    </tr>\n",
       "  </tbody>\n",
       "</table>\n",
       "</div>"
      ],
      "text/plain": [
       "                                model_name  best_val_loss  best_val_bleu  \\\n",
       "0  zh-rnn-without-attn-2018-12-12 05:40:48       4.944853       7.889874   \n",
       "\n",
       "      runtime  total_params  trainable_params           dt_created  \n",
       "0  766.733748      69492144          51492144  2018-12-12 18:27:36  "
      ]
     },
     "execution_count": 12,
     "metadata": {},
     "output_type": "execute_result"
    }
   ],
   "source": [
    "summarize_results(experiment_results)[['model_name', 'best_val_loss', 'best_val_bleu', 'runtime', \n",
    "                                       'total_params', 'trainable_params', 'dt_created']]"
   ]
  },
  {
   "cell_type": "code",
   "execution_count": 13,
   "metadata": {},
   "outputs": [],
   "source": [
    "# reload model \n",
    "MODEL_NAME_TO_RELOAD = 'zh-rnn-without-attn-2018-12-12 05:40:48'\n",
    "checkpoint = torch.load('model_checkpoints/{}.pth.tar'.format(MODEL_NAME_TO_RELOAD), map_location=device)\n",
    "model.load_state_dict(checkpoint)"
   ]
  },
  {
   "cell_type": "code",
   "execution_count": 14,
   "metadata": {},
   "outputs": [
    {
     "name": "stderr",
     "output_type": "stream",
     "text": [
      "WARNING:root:That's 100 lines that end in a tokenized period ('.')\n",
      "WARNING:root:It looks like you forgot to detokenize your test data, which may hurt your score.\n",
      "WARNING:root:If you insist your data is detokenized, or don't care, you can suppress this message with '--force'.\n"
     ]
    },
    {
     "name": "stdout",
     "output_type": "stream",
     "text": [
      "Validation BLEU: 0.77 | Validation Loss: 10.17\n"
     ]
    }
   ],
   "source": [
    "# check performance on validation set \n",
    "val_loss, val_bleu, val_hyp_idxs, val_ref_idxs, val_source_idxs, val_hyp_tokens, val_ref_tokens, val_source_tokens,\\\n",
    "val_attn = evaluate(model=model, loader=loaders_full['dev'], \n",
    "                    src_id2token=vocab[SRC_LANG]['id2token'], targ_id2token=vocab[TARG_LANG]['id2token'])\n",
    "print(\"Validation BLEU: {:.2f} | Validation Loss: {:.2f}\".format(val_bleu, val_loss))"
   ]
  },
  {
   "cell_type": "code",
   "execution_count": 15,
   "metadata": {},
   "outputs": [
    {
     "name": "stderr",
     "output_type": "stream",
     "text": [
      "WARNING:root:That's 100 lines that end in a tokenized period ('.')\n",
      "WARNING:root:It looks like you forgot to detokenize your test data, which may hurt your score.\n",
      "WARNING:root:If you insist your data is detokenized, or don't care, you can suppress this message with '--force'.\n"
     ]
    },
    {
     "name": "stdout",
     "output_type": "stream",
     "text": [
      "Test BLEU: 1.37 | Test Loss: 10.15\n"
     ]
    }
   ],
   "source": [
    "# evaluate on test set \n",
    "test_loss, test_bleu, test_hyp_idxs, test_ref_idxs, test_source_idxs, test_hyp_tokens, test_ref_tokens, test_source_tokens,\\\n",
    "test_attn = evaluate(model=model, loader=loaders_full['test'], \n",
    "                     src_id2token=vocab[SRC_LANG]['id2token'], targ_id2token=vocab[TARG_LANG]['id2token'])\n",
    "print(\"Test BLEU: {:.2f} | Test Loss: {:.2f}\".format(test_bleu, test_loss))"
   ]
  },
  {
   "cell_type": "code",
   "execution_count": null,
   "metadata": {},
   "outputs": [],
   "source": []
  }
 ],
 "metadata": {
  "kernelspec": {
   "display_name": "Python 3",
   "language": "python",
   "name": "python3"
  },
  "language_info": {
   "codemirror_mode": {
    "name": "ipython",
    "version": 3
   },
   "file_extension": ".py",
   "mimetype": "text/x-python",
   "name": "python",
   "nbconvert_exporter": "python",
   "pygments_lexer": "ipython3",
   "version": "3.5.3"
  }
 },
 "nbformat": 4,
 "nbformat_minor": 2
}
