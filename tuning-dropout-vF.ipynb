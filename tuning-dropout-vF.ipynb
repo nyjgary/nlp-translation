{
 "cells": [
  {
   "cell_type": "code",
   "execution_count": 1,
   "metadata": {},
   "outputs": [],
   "source": [
    "import numpy as np \n",
    "import pandas as pd \n",
    "from data_processing import generate_vocab, process_data, create_dataloaders\n",
    "from model import get_pretrained_emb, EncoderRNN, DecoderRNN, DecoderAttnRNN, EncoderDecoder, EncoderDecoderAttn\n",
    "from train_eval import train_and_eval, count_parameters, summarize_results, load_experiment_log, \\\n",
    "    plot_single_learning_curve, plot_multiple_learning_curves\n",
    "import pickle as pkl \n",
    "import torch\n",
    "device = torch.device(\"cuda\" if torch.cuda.is_available() else \"cpu\")"
   ]
  },
  {
   "cell_type": "code",
   "execution_count": 2,
   "metadata": {},
   "outputs": [],
   "source": [
    "# params required for generating data loaders \n",
    "\n",
    "SRC_LANG = 'vi'\n",
    "TARG_LANG = 'en'\n",
    "\n",
    "SRC_MAX_SENTENCE_LEN = 10\n",
    "TARG_MAX_SENTENCE_LEN = 10\n",
    "SRC_VOCAB_SIZE = 30000 \n",
    "TARG_VOCAB_SIZE = 30000 \n",
    "\n",
    "BATCH_SIZE = 64 "
   ]
  },
  {
   "cell_type": "code",
   "execution_count": 3,
   "metadata": {},
   "outputs": [],
   "source": [
    "# takes a long time to process, save to pickle for reimport in future \n",
    "# vocab = generate_vocab(SRC_LANG, TARG_LANG, SRC_VOCAB_SIZE, TARG_VOCAB_SIZE)\n",
    "# vocab_filename = \"{}-{}-vocab.p\".format(SRC_LANG, TARG_LANG)\n",
    "# pkl.dump(vocab, open(vocab_filename, \"wb\"))"
   ]
  },
  {
   "cell_type": "code",
   "execution_count": 4,
   "metadata": {},
   "outputs": [],
   "source": [
    "# reload from pickle \n",
    "vocab_filename = \"{}-{}-vocab.p\".format(SRC_LANG, TARG_LANG)\n",
    "vocab = pkl.load(open(vocab_filename, \"rb\"))\n",
    "data = process_data(SRC_LANG, TARG_LANG, SRC_MAX_SENTENCE_LEN, TARG_MAX_SENTENCE_LEN, vocab, filter_long=False)\n",
    "data_minibatch = process_data(SRC_LANG, TARG_LANG, SRC_MAX_SENTENCE_LEN, TARG_MAX_SENTENCE_LEN, vocab, sample_limit=BATCH_SIZE, filter_long=False) \n",
    "data_minitrain = process_data(SRC_LANG, TARG_LANG, SRC_MAX_SENTENCE_LEN, TARG_MAX_SENTENCE_LEN, vocab, sample_limit=1000, filter_long=False)"
   ]
  },
  {
   "cell_type": "code",
   "execution_count": 5,
   "metadata": {},
   "outputs": [],
   "source": [
    "# create dataloaders \n",
    "loaders_full = create_dataloaders(data, SRC_MAX_SENTENCE_LEN, TARG_MAX_SENTENCE_LEN, BATCH_SIZE)\n",
    "loaders_minibatch = create_dataloaders(data_minibatch, SRC_MAX_SENTENCE_LEN, TARG_MAX_SENTENCE_LEN, BATCH_SIZE)\n",
    "loaders_minitrain = create_dataloaders(data_minitrain, SRC_MAX_SENTENCE_LEN, TARG_MAX_SENTENCE_LEN, BATCH_SIZE)"
   ]
  },
  {
   "cell_type": "code",
   "execution_count": 3,
   "metadata": {},
   "outputs": [],
   "source": [
    "# model architecture params \n",
    "NETWORK_TYPE = 'rnn'\n",
    "RNN_CELL_TYPE = 'gru'\n",
    "NUM_LAYERS = 2 \n",
    "ENC_HIDDEN_DIM = 512\n",
    "DEC_HIDDEN_DIM = 2 * ENC_HIDDEN_DIM \n",
    "TEACHER_FORCING_RATIO = 1\n",
    "CLIP_GRAD_MAX_NORM = 1\n",
    "ENC_DROPOUT = 0.2 \n",
    "DEC_DROPOUT = 0.2 \n",
    "ATTENTION_TYPE = 'additive'\n",
    "\n",
    "# training params  \n",
    "NUM_EPOCHS = 5\n",
    "LR = 0.0003 # 0.0005\n",
    "OPTIMIZER = 'Adam'\n",
    "LAZY_TRAIN = False\n",
    "\n",
    "# name the model and experiment \n",
    "EXPERIMENT_NAME = 'hyperparameter_tuning_dropout'\n",
    "if NETWORK_TYPE == 'rnn': \n",
    "    MODEL_NAME = '{}-rnn-{}-attn'.format(SRC_LANG, ATTENTION_TYPE)\n",
    "elif NETWORK_TYPE == 'cnn': \n",
    "    MODEL_NAME = '{}-cnn'.format(SRC_LANG)"
   ]
  },
  {
   "cell_type": "code",
   "execution_count": 4,
   "metadata": {},
   "outputs": [],
   "source": [
    "# store as dict to save to results later \n",
    "params = {'experiment_name': EXPERIMENT_NAME,'model_name': MODEL_NAME, 'src_lang': SRC_LANG, 'targ_lang': TARG_LANG, \n",
    "          'rnn_cell_type': RNN_CELL_TYPE, 'src_max_sentence_len': SRC_MAX_SENTENCE_LEN, \n",
    "          'targ_max_sentence_len': TARG_MAX_SENTENCE_LEN, 'src_vocab_size': SRC_VOCAB_SIZE, \n",
    "          'targ_vocab_size': TARG_VOCAB_SIZE, 'num_layers': NUM_LAYERS, 'enc_hidden_dim': ENC_HIDDEN_DIM, \n",
    "          'dec_hidden_dim': DEC_HIDDEN_DIM, 'teacher_forcing_ratio': TEACHER_FORCING_RATIO, \n",
    "          'clip_grad_max_norm': CLIP_GRAD_MAX_NORM, 'enc_dropout': ENC_DROPOUT, 'dec_dropout': DEC_DROPOUT, \n",
    "          'attention_type': ATTENTION_TYPE, 'batch_size': BATCH_SIZE, 'num_epochs': NUM_EPOCHS, \n",
    "          'learning_rate': LR, 'optimizer': OPTIMIZER, 'lazy_train': LAZY_TRAIN} "
   ]
  },
  {
   "cell_type": "code",
   "execution_count": 8,
   "metadata": {},
   "outputs": [
    {
     "name": "stdout",
     "output_type": "stream",
     "text": [
      "Training with dropout = 0\n",
      "Epoch: 0.00, Train Loss: 0.00, Val Loss: 10.24, Train BLEU: 0.00, Val BLEU: 0.07, Minutes Elapsed: 0.09\n",
      "Sampling from val predictions...\n",
      "Source: và bắt_đầu học để chuẩn_bị cho kì thi đại_học .\n",
      "Reference: i started studying for the university entrance exam .\n",
      "Model: <SOS> and and the the the the the the the\n",
      "\n",
      "Source: tôi vừa_mới thay_đổi hoàn_toàn những gì bạn nghĩ về tôi\n",
      "Reference: i just totally transformed what you thought of me\n",
      "Model: <SOS> and and the the the the the the the\n",
      "\n",
      "Source: như các bạn thấy đó , các bóng_đèn hướng ra\n",
      "Reference: as you can see , the bulbs face outside\n",
      "Model: <SOS> and and the the the the the the the\n",
      "\n"
     ]
    },
    {
     "name": "stderr",
     "output_type": "stream",
     "text": [
      "WARNING:root:That's 100 lines that end in a tokenized period ('.')\n",
      "WARNING:root:It looks like you forgot to detokenize your test data, which may hurt your score.\n",
      "WARNING:root:If you insist your data is detokenized, or don't care, you can suppress this message with '--force'.\n"
     ]
    },
    {
     "name": "stdout",
     "output_type": "stream",
     "text": [
      "Epoch: 0.24, Train Loss: 0.00, Val Loss: 5.98, Train BLEU: 0.00, Val BLEU: 2.20, Minutes Elapsed: 8.25\n",
      "Sampling from val predictions...\n",
      "Source: có_thể sự thiếu_sót không chỉ là về mặt bình_quyền của\n",
      "Reference: maybe what was missing was not the women only\n",
      "Model: <SOS> so is a a a a a a a\n",
      "\n",
      "Source: đây là nơi người dân bàn_giao chúng , và hôm\n",
      "Reference: this is where people were handing them in ,\n",
      "Model: <SOS> it &apos;s , , , , , , ,\n",
      "\n",
      "Source: những gì chúng_tôi có_thể làm là dùng miếng bùi_nhùi bằng\n",
      "Reference: so what we can do is use steel wool\n",
      "Model: <SOS> but we a a a a a a to\n",
      "\n"
     ]
    },
    {
     "name": "stderr",
     "output_type": "stream",
     "text": [
      "WARNING:root:That's 100 lines that end in a tokenized period ('.')\n",
      "WARNING:root:It looks like you forgot to detokenize your test data, which may hurt your score.\n",
      "WARNING:root:If you insist your data is detokenized, or don't care, you can suppress this message with '--force'.\n"
     ]
    },
    {
     "name": "stdout",
     "output_type": "stream",
     "text": [
      "Epoch: 0.48, Train Loss: 0.00, Val Loss: 5.32, Train BLEU: 0.00, Val BLEU: 4.96, Minutes Elapsed: 16.47\n",
      "Sampling from val predictions...\n",
      "Source: \" tôi không giúp_đỡ cô , \" ông ta trả_lời\n",
      "Reference: &quot; i &apos;m not helping you , &quot; he\n",
      "Model: <SOS> &quot; said i , , &quot; , , ,\n",
      "\n",
      "Source: công_ty nhỏ nhất , công_ty lớn nhất , phải có\n",
      "Reference: the smallest company , the biggest company , has\n",
      "Model: <SOS> we we , , , we , , ,\n",
      "\n",
      "Source: làm_sao chúng_ta có_thể tạo ra_điều quỷ_quyệt này , lại còn\n",
      "Reference: how can we affect something so insidious , yet\n",
      "Model: <SOS> we we can can to the the , ,\n",
      "\n"
     ]
    },
    {
     "name": "stderr",
     "output_type": "stream",
     "text": [
      "WARNING:root:That's 100 lines that end in a tokenized period ('.')\n",
      "WARNING:root:It looks like you forgot to detokenize your test data, which may hurt your score.\n",
      "WARNING:root:If you insist your data is detokenized, or don't care, you can suppress this message with '--force'.\n"
     ]
    },
    {
     "name": "stdout",
     "output_type": "stream",
     "text": [
      "Epoch: 0.72, Train Loss: 0.00, Val Loss: 4.96, Train BLEU: 0.00, Val BLEU: 8.13, Minutes Elapsed: 24.75\n",
      "Sampling from val predictions...\n",
      "Source: có một người phụ_nữ địa_phương tuyệt_vời đã hướng_dẫn chúng_tôi .\n",
      "Reference: we had an amazing local woman who guided us\n",
      "Model: <SOS> there &apos;s a a of that . . .\n",
      "\n",
      "Source: vì_thế tôi phải tìm_ra cách để giải_quyết vấn_đề này .\n",
      "Reference: so i had to find a way of solving\n",
      "Model: <SOS> so i &apos;m to to to to to to\n",
      "\n",
      "Source: làm thế_nào chúng_ta cho_mượn và mượn nhiều thứ hơn mà\n",
      "Reference: how can we lend and borrow more things without\n",
      "Model: <SOS> so , we and and and and the to\n",
      "\n"
     ]
    },
    {
     "name": "stderr",
     "output_type": "stream",
     "text": [
      "WARNING:root:That's 100 lines that end in a tokenized period ('.')\n",
      "WARNING:root:It looks like you forgot to detokenize your test data, which may hurt your score.\n",
      "WARNING:root:If you insist your data is detokenized, or don't care, you can suppress this message with '--force'.\n"
     ]
    },
    {
     "name": "stdout",
     "output_type": "stream",
     "text": [
      "Epoch: 0.96, Train Loss: 0.00, Val Loss: 4.73, Train BLEU: 0.00, Val BLEU: 8.62, Minutes Elapsed: 33.06\n",
      "Sampling from val predictions...\n",
      "Source: chúng_ta không đụng vào mỗi người xung_quanh , vì_vậy có\n",
      "Reference: we don &apos;t bump into every neighbor , so\n",
      "Model: <SOS> we don &apos;t have to the , , ,\n",
      "\n",
      "Source: ông_ngoại của tôi là một người thật đáng khâm_phục vào\n",
      "Reference: my grandfather was an extraordinary man for his time\n",
      "Model: <SOS> my my is a a of that the .\n",
      "\n",
      "Source: không bao_giờ có từ \" tôi , và từ \"\n",
      "Reference: never the word &quot; i , &quot; and the\n",
      "Model: <SOS> it &apos;t &apos;t , from , from &quot; ,\n",
      "\n"
     ]
    },
    {
     "name": "stderr",
     "output_type": "stream",
     "text": [
      "WARNING:root:That's 100 lines that end in a tokenized period ('.')\n",
      "WARNING:root:It looks like you forgot to detokenize your test data, which may hurt your score.\n",
      "WARNING:root:If you insist your data is detokenized, or don't care, you can suppress this message with '--force'.\n"
     ]
    },
    {
     "name": "stdout",
     "output_type": "stream",
     "text": [
      "Epoch: 1.00, Train Loss: 0.00, Val Loss: 4.74, Train BLEU: 0.00, Val BLEU: 8.81, Minutes Elapsed: 34.51\n",
      "Sampling from val predictions...\n",
      "Source: bạn có_thể thấy được những phần trọng_yếu nhất , giống\n",
      "Reference: you can see the hubs , like who are\n",
      "Model: <SOS> you can see the the of the , ,\n",
      "\n",
      "Source: không có đạo_diễn nghệ_thuật , không có nhà tạo mẫu\n",
      "Reference: there were no art directors , no <UNK> ,\n",
      "Model: <SOS> there &apos;s no , , no no no no\n",
      "\n",
      "Source: nó là vật_liệu gây ồn , nếu chúng_ta làm những\n",
      "Reference: it &apos;s a noisy material , and if we\n",
      "Model: <SOS> it &apos;s a a , , if we we\n",
      "\n"
     ]
    },
    {
     "name": "stderr",
     "output_type": "stream",
     "text": [
      "WARNING:root:That's 100 lines that end in a tokenized period ('.')\n",
      "WARNING:root:It looks like you forgot to detokenize your test data, which may hurt your score.\n",
      "WARNING:root:If you insist your data is detokenized, or don't care, you can suppress this message with '--force'.\n"
     ]
    },
    {
     "name": "stdout",
     "output_type": "stream",
     "text": [
      "Epoch: 1.24, Train Loss: 0.00, Val Loss: 4.58, Train BLEU: 0.00, Val BLEU: 10.92, Minutes Elapsed: 42.75\n",
      "Sampling from val predictions...\n",
      "Source: nó xảy_ra mọi nơi . <EOS> <PAD> <PAD> <PAD> <PAD>\n",
      "Reference: it &apos;s everywhere . <EOS> <PAD> <PAD> <PAD> <PAD>\n",
      "Model: <SOS> it &apos;s happen . <EOS> . . <EOS> <EOS>\n",
      "\n",
      "Source: đôi_khi chúng tạo nên các ổ gà . <EOS> <PAD>\n",
      "Reference: sometimes you can create potholes with that . <EOS>\n",
      "Model: <SOS> sometimes they they to to . <EOS> . <EOS>\n",
      "\n",
      "Source: tôi chẳng cho họ tiền được , không gì cả\n",
      "Reference: i couldn &apos;t give them money , nothing .\n",
      "Model: <SOS> i &apos;m them them them , , , it\n",
      "\n"
     ]
    },
    {
     "name": "stderr",
     "output_type": "stream",
     "text": [
      "WARNING:root:That's 100 lines that end in a tokenized period ('.')\n",
      "WARNING:root:It looks like you forgot to detokenize your test data, which may hurt your score.\n",
      "WARNING:root:If you insist your data is detokenized, or don't care, you can suppress this message with '--force'.\n"
     ]
    },
    {
     "name": "stdout",
     "output_type": "stream",
     "text": [
      "Epoch: 1.48, Train Loss: 0.00, Val Loss: 4.45, Train BLEU: 0.00, Val BLEU: 11.12, Minutes Elapsed: 51.11\n",
      "Sampling from val predictions...\n",
      "Source: hỡi các nhà khoa_học và kỹ_sư , hãy tám <UNK>\n",
      "Reference: so scientists and engineers , please , talk nerdy\n",
      "Model: <SOS> so , and and , you went to <UNK>\n",
      "\n",
      "Source: chúng_tôi đã có khoảng 50 người tới tham_gia đào_bới ,\n",
      "Reference: we &apos;ve had , like , 50 people come\n",
      "Model: <SOS> we had been 50 percent 200 people people to\n",
      "\n",
      "Source: chúng_tôi không có bất_cứ cơ_sở_hạ_tầng nào . <EOS> <PAD> <PAD>\n",
      "Reference: we have zero infrastructure . <EOS> <PAD> <PAD> <PAD>\n",
      "Model: <SOS> we have no have . <EOS> . <EOS> <EOS>\n",
      "\n"
     ]
    },
    {
     "name": "stderr",
     "output_type": "stream",
     "text": [
      "WARNING:root:That's 100 lines that end in a tokenized period ('.')\n",
      "WARNING:root:It looks like you forgot to detokenize your test data, which may hurt your score.\n",
      "WARNING:root:If you insist your data is detokenized, or don't care, you can suppress this message with '--force'.\n"
     ]
    },
    {
     "name": "stdout",
     "output_type": "stream",
     "text": [
      "Epoch: 1.72, Train Loss: 0.00, Val Loss: 4.33, Train BLEU: 0.00, Val BLEU: 12.12, Minutes Elapsed: 59.51\n",
      "Sampling from val predictions...\n",
      "Source: từ khi còn nhỏ , tôi đã từng làm_việc ở\n",
      "Reference: since i was a small boy , i used\n",
      "Model: <SOS> since i i a , , , i was\n",
      "\n",
      "Source: bạn thậm_chí có thể biết được tôi tới <UNK> bằng\n",
      "Reference: and you can even see how i go from\n",
      "Model: <SOS> you can can have know know i i to\n",
      "\n",
      "Source: nhưng bạn có_thể thấy cách mà chúng_ta giao_tiếp với nhau\n",
      "Reference: but you can see how your people are communicating\n",
      "Model: <SOS> but you can see how that we is different\n",
      "\n"
     ]
    },
    {
     "name": "stderr",
     "output_type": "stream",
     "text": [
      "WARNING:root:That's 100 lines that end in a tokenized period ('.')\n",
      "WARNING:root:It looks like you forgot to detokenize your test data, which may hurt your score.\n",
      "WARNING:root:If you insist your data is detokenized, or don't care, you can suppress this message with '--force'.\n"
     ]
    },
    {
     "name": "stdout",
     "output_type": "stream",
     "text": [
      "Epoch: 1.96, Train Loss: 0.00, Val Loss: 4.26, Train BLEU: 0.00, Val BLEU: 12.62, Minutes Elapsed: 67.90\n",
      "Sampling from val predictions...\n",
      "Source: nếu nhiếp_ảnh_gia đứng ở đây còn ánh_sáng thì ở kia\n",
      "Reference: so if the photographer is right there and the\n",
      "Model: <SOS> if you have have is there there there the\n",
      "\n",
      "Source: tôi đã rất <UNK> . <EOS> <PAD> <PAD> <PAD> <PAD>\n",
      "Reference: and i was distraught . <EOS> <PAD> <PAD> <PAD>\n",
      "Model: <SOS> i &apos;ve &apos;m very . <EOS> . a <EOS>\n",
      "\n",
      "Source: tôi đã rất sợ . <EOS> <PAD> <PAD> <PAD> <PAD>\n",
      "Reference: and i was scared . <EOS> <PAD> <PAD> <PAD>\n",
      "Model: <SOS> i was &apos;m very . <EOS> . a <EOS>\n",
      "\n"
     ]
    },
    {
     "name": "stderr",
     "output_type": "stream",
     "text": [
      "WARNING:root:That's 100 lines that end in a tokenized period ('.')\n",
      "WARNING:root:It looks like you forgot to detokenize your test data, which may hurt your score.\n",
      "WARNING:root:If you insist your data is detokenized, or don't care, you can suppress this message with '--force'.\n"
     ]
    },
    {
     "name": "stdout",
     "output_type": "stream",
     "text": [
      "Epoch: 2.00, Train Loss: 0.00, Val Loss: 4.29, Train BLEU: 0.00, Val BLEU: 12.32, Minutes Elapsed: 69.34\n",
      "Sampling from val predictions...\n",
      "Source: nó là thông_tin về tất_cả chúng_ta . <EOS> <PAD> <PAD>\n",
      "Reference: it &apos;s about all of us . <EOS> <PAD>\n",
      "Model: <SOS> it &apos;s the the of of of all all\n",
      "\n",
      "Source: cậu_bé khiếp_đảm vì sợ rơi xuống_nước . <EOS> <PAD> <PAD>\n",
      "Reference: he was petrified he would be knocked in the\n",
      "Model: <SOS> he was because by the the the in the\n",
      "\n",
      "Source: trong_suốt bốn thập_kỉ , nền chuyên_chế tàn_bạo của gaddafi đã\n",
      "Reference: for four decades gaddafi &apos;s tyrannical regime destroyed the\n",
      "Model: <SOS> in the , , the the , the the\n",
      "\n"
     ]
    },
    {
     "name": "stderr",
     "output_type": "stream",
     "text": [
      "WARNING:root:That's 100 lines that end in a tokenized period ('.')\n",
      "WARNING:root:It looks like you forgot to detokenize your test data, which may hurt your score.\n",
      "WARNING:root:If you insist your data is detokenized, or don't care, you can suppress this message with '--force'.\n"
     ]
    },
    {
     "name": "stdout",
     "output_type": "stream",
     "text": [
      "Epoch: 2.24, Train Loss: 0.00, Val Loss: 4.23, Train BLEU: 0.00, Val BLEU: 13.47, Minutes Elapsed: 77.63\n",
      "Sampling from val predictions...\n",
      "Source: sau cuộc nói_chuyện , tôi thấy thật kinh_khủng và thực_sự\n",
      "Reference: after we finished talking , i felt so horrible\n",
      "Model: <SOS> after i i , i i was really and\n",
      "\n",
      "Source: khi tôi 11 tuổi , tôi nhớ một buổi sáng\n",
      "Reference: when i was 11 , i remember waking up\n",
      "Model: <SOS> when i was , , i was a a\n",
      "\n",
      "Source: sau sáu tháng tại nhật bản , 1.100 tình_nguyện viên\n",
      "Reference: after six months in japan , 1,100 volunteers had\n",
      "Model: <SOS> after the months , , , , , of\n",
      "\n"
     ]
    },
    {
     "name": "stderr",
     "output_type": "stream",
     "text": [
      "WARNING:root:That's 100 lines that end in a tokenized period ('.')\n",
      "WARNING:root:It looks like you forgot to detokenize your test data, which may hurt your score.\n",
      "WARNING:root:If you insist your data is detokenized, or don't care, you can suppress this message with '--force'.\n"
     ]
    },
    {
     "name": "stdout",
     "output_type": "stream",
     "text": [
      "Epoch: 2.48, Train Loss: 0.00, Val Loss: 4.17, Train BLEU: 0.00, Val BLEU: 13.79, Minutes Elapsed: 85.97\n",
      "Sampling from val predictions...\n",
      "Source: nhìn qua , công_trường đập đá có_vẻ đầy những người\n",
      "Reference: at first glance , the pounding site seems full\n",
      "Model: <SOS> look , , , the &apos;s of , seem\n",
      "\n",
      "Source: sao_vậy ? bởi_vì họ nhìn vào đường_cong trên phác_đồ và\n",
      "Reference: why ? because they looked at the curve and\n",
      "Model: <SOS> why ? because they look at the future ,\n",
      "\n",
      "Source: nhưng những người bắc triều_tiên này thì không được may_mắn\n",
      "Reference: these north koreans were not so lucky . <EOS>\n",
      "Model: <SOS> but these people who not not . . .\n",
      "\n"
     ]
    },
    {
     "name": "stderr",
     "output_type": "stream",
     "text": [
      "WARNING:root:That's 100 lines that end in a tokenized period ('.')\n",
      "WARNING:root:It looks like you forgot to detokenize your test data, which may hurt your score.\n",
      "WARNING:root:If you insist your data is detokenized, or don't care, you can suppress this message with '--force'.\n"
     ]
    },
    {
     "name": "stdout",
     "output_type": "stream",
     "text": [
      "Epoch: 2.72, Train Loss: 0.00, Val Loss: 4.11, Train BLEU: 0.00, Val BLEU: 14.03, Minutes Elapsed: 94.31\n",
      "Sampling from val predictions...\n",
      "Source: khi tôi gặp , anh ta đã làm việc 14\n",
      "Reference: when i met him , he had been working\n",
      "Model: <SOS> when i was , he he was a a\n",
      "\n",
      "Source: như các bạn có_thể thấy , tấm pin mặt_trời dùng\n",
      "Reference: as you can see , the solar panel charges\n",
      "Model: <SOS> as you can see , the car of ,\n",
      "\n",
      "Source: giống_như ba_lê nó cần được đào_tạo đặc_biệt . <EOS> <PAD>\n",
      "Reference: and like ballet , it takes an extraordinary level\n",
      "Model: <SOS> now , , it needed &apos;s to . .\n",
      "\n"
     ]
    },
    {
     "name": "stderr",
     "output_type": "stream",
     "text": [
      "WARNING:root:That's 100 lines that end in a tokenized period ('.')\n",
      "WARNING:root:It looks like you forgot to detokenize your test data, which may hurt your score.\n",
      "WARNING:root:If you insist your data is detokenized, or don't care, you can suppress this message with '--force'.\n"
     ]
    },
    {
     "name": "stdout",
     "output_type": "stream",
     "text": [
      "Epoch: 2.96, Train Loss: 0.00, Val Loss: 4.09, Train BLEU: 0.00, Val BLEU: 14.00, Minutes Elapsed: 102.66\n",
      "Sampling from val predictions...\n",
      "Source: đó là một làng chài nhỏ thuộc tỉnh <UNK> ,\n",
      "Reference: it &apos;s a small fishing town in <UNK> <UNK>\n",
      "Model: <SOS> it &apos;s a <UNK> <UNK> of <UNK> <UNK> ,\n",
      "\n",
      "Source: lò vi_sóng cũng có hệ_thống hoạt_động tương_tự . <EOS> <PAD>\n",
      "Reference: so a microwave is a similar system . <EOS>\n",
      "Model: <SOS> there &apos;s has has has a system . <EOS>\n",
      "\n",
      "Source: nhân_vật này chưa bao_giờ được sinh ra . <EOS> <PAD>\n",
      "Reference: this person has never been born . <EOS> <PAD>\n",
      "Model: <SOS> this this never never born . . <EOS> <EOS>\n",
      "\n"
     ]
    },
    {
     "name": "stderr",
     "output_type": "stream",
     "text": [
      "WARNING:root:That's 100 lines that end in a tokenized period ('.')\n",
      "WARNING:root:It looks like you forgot to detokenize your test data, which may hurt your score.\n",
      "WARNING:root:If you insist your data is detokenized, or don't care, you can suppress this message with '--force'.\n"
     ]
    },
    {
     "name": "stdout",
     "output_type": "stream",
     "text": [
      "Epoch: 3.00, Train Loss: 0.00, Val Loss: 4.13, Train BLEU: 0.00, Val BLEU: 13.39, Minutes Elapsed: 104.11\n",
      "Sampling from val predictions...\n",
      "Source: ý_tưởng đầu_tiên mà tôi có được là sử_dụng lửa ,\n",
      "Reference: and the first idea i got was to use\n",
      "Model: <SOS> the first first idea that i had a ,\n",
      "\n",
      "Source: chúng_tôi cần bắt_đầu hành_động như những sứ giả_của lòng trắc_ẩn\n",
      "Reference: we need to start acting as agents of compassion\n",
      "Model: <SOS> we need to start to like like of the\n",
      "\n",
      "Source: nhưng thật nản_lòng là với bệnh parkinson và các chứng\n",
      "Reference: but <UNK> , with parkinson &apos;s disease and other\n",
      "Model: <SOS> but it &apos;s also &apos;s , the and and\n",
      "\n"
     ]
    },
    {
     "name": "stderr",
     "output_type": "stream",
     "text": [
      "WARNING:root:That's 100 lines that end in a tokenized period ('.')\n",
      "WARNING:root:It looks like you forgot to detokenize your test data, which may hurt your score.\n",
      "WARNING:root:If you insist your data is detokenized, or don't care, you can suppress this message with '--force'.\n"
     ]
    },
    {
     "name": "stdout",
     "output_type": "stream",
     "text": [
      "Epoch: 3.24, Train Loss: 0.00, Val Loss: 4.10, Train BLEU: 0.00, Val BLEU: 14.10, Minutes Elapsed: 112.44\n",
      "Sampling from val predictions...\n",
      "Source: hôm_nay tôi dùng một lò vi_sóng vì tôi không_thể đem\n",
      "Reference: today i use a microwave because i cannot take\n",
      "Model: <SOS> i i i a a for i i &apos;t\n",
      "\n",
      "Source: làm_sao họ có_thể không đồng_tình chứ ? <EOS> <PAD> <PAD>\n",
      "Reference: why in the hell would they not okay this\n",
      "Model: <SOS> how can they can can they not ? ?\n",
      "\n",
      "Source: chúng_tôi chỉnh cho người gầy gầy hơn , da đẹp\n",
      "Reference: we make skinny models <UNK> , perfect skin more\n",
      "Model: <SOS> we decided the people , the , &apos;s ,\n",
      "\n"
     ]
    },
    {
     "name": "stderr",
     "output_type": "stream",
     "text": [
      "WARNING:root:That's 100 lines that end in a tokenized period ('.')\n",
      "WARNING:root:It looks like you forgot to detokenize your test data, which may hurt your score.\n",
      "WARNING:root:If you insist your data is detokenized, or don't care, you can suppress this message with '--force'.\n"
     ]
    },
    {
     "name": "stdout",
     "output_type": "stream",
     "text": [
      "Epoch: 3.48, Train Loss: 0.00, Val Loss: 4.06, Train BLEU: 0.00, Val BLEU: 14.34, Minutes Elapsed: 120.79\n",
      "Sampling from val predictions...\n",
      "Source: tôi không phải công_dân nước đó . <EOS> <PAD> <PAD>\n",
      "Reference: i wasn &apos;t a citizen of that country .\n",
      "Model: <SOS> i was not that agree of . . <EOS>\n",
      "\n",
      "Source: nhưng vẫn hi_vọng ngày nào đó có_thể rời_khỏi căn_nhà này\n",
      "Reference: &quot; we hope still , though , that we\n",
      "Model: <SOS> but still , , that can can can can\n",
      "\n",
      "Source: hàng năm , có vô_số người bắc triều_tiên bị bắt\n",
      "Reference: every year , countless north koreans are caught in\n",
      "Model: <SOS> for , , , were people first been first\n",
      "\n"
     ]
    },
    {
     "name": "stderr",
     "output_type": "stream",
     "text": [
      "WARNING:root:That's 100 lines that end in a tokenized period ('.')\n",
      "WARNING:root:It looks like you forgot to detokenize your test data, which may hurt your score.\n",
      "WARNING:root:If you insist your data is detokenized, or don't care, you can suppress this message with '--force'.\n"
     ]
    },
    {
     "name": "stdout",
     "output_type": "stream",
     "text": [
      "Epoch: 3.72, Train Loss: 0.00, Val Loss: 4.05, Train BLEU: 0.00, Val BLEU: 15.71, Minutes Elapsed: 129.09\n",
      "Sampling from val predictions...\n",
      "Source: \" trước_khi tôi chết , tôi muốn thử <UNK> .\n",
      "Reference: &quot; before i die , i want to be\n",
      "Model: <SOS> &quot; before i , , , i to .\n",
      "\n",
      "Source: bạn có_thể thấy được những phần trọng_yếu nhất , giống\n",
      "Reference: you can see the hubs , like who are\n",
      "Model: <SOS> you can see the most of the , ,\n",
      "\n",
      "Source: họ biết hình của họ sẽ được xem bởi những\n",
      "Reference: they knew their image would be seen by you\n",
      "Model: <SOS> they know their their of they at by the\n",
      "\n"
     ]
    },
    {
     "name": "stderr",
     "output_type": "stream",
     "text": [
      "WARNING:root:That's 100 lines that end in a tokenized period ('.')\n",
      "WARNING:root:It looks like you forgot to detokenize your test data, which may hurt your score.\n",
      "WARNING:root:If you insist your data is detokenized, or don't care, you can suppress this message with '--force'.\n"
     ]
    },
    {
     "name": "stdout",
     "output_type": "stream",
     "text": [
      "Epoch: 3.96, Train Loss: 0.00, Val Loss: 4.05, Train BLEU: 0.00, Val BLEU: 14.32, Minutes Elapsed: 137.38\n",
      "Sampling from val predictions...\n",
      "Source: hiện_nay ý_tưởng của tôi đã được sử_dụng trên khắp kenya\n",
      "Reference: and my idea is also being used now all\n",
      "Model: <SOS> now my idea has been used in in kenya\n",
      "\n",
      "Source: nhưng một thứ sẽ mãi_mãi tồn_tại với con là thứ\n",
      "Reference: but the one thing that will always remain with\n",
      "Model: <SOS> but one thing thing is to to to is\n",
      "\n",
      "Source: bởi_vì bước cuối_cùng trong kịch_bản bạo_hành gia_đình là giết chết\n",
      "Reference: because the final step in the domestic violence pattern\n",
      "Model: <SOS> because the the last in the family , ,\n",
      "\n"
     ]
    },
    {
     "name": "stderr",
     "output_type": "stream",
     "text": [
      "WARNING:root:That's 100 lines that end in a tokenized period ('.')\n",
      "WARNING:root:It looks like you forgot to detokenize your test data, which may hurt your score.\n",
      "WARNING:root:If you insist your data is detokenized, or don't care, you can suppress this message with '--force'.\n"
     ]
    },
    {
     "name": "stdout",
     "output_type": "stream",
     "text": [
      "Epoch: 4.00, Train Loss: 0.00, Val Loss: 4.08, Train BLEU: 0.00, Val BLEU: 13.64, Minutes Elapsed: 138.82\n",
      "Sampling from val predictions...\n",
      "Source: nơi đây em đang tắm ở giếng , dội những\n",
      "Reference: here he &apos;s seen taking a bath at the\n",
      "Model: <SOS> now here the the in the , , ,\n",
      "\n",
      "Source: chỉ có một điều mà tất_cả mọi công_ty thành_công trên\n",
      "Reference: there &apos;s only one thing that all the successful\n",
      "Model: <SOS> there &apos;s just a that that the in the\n",
      "\n",
      "Source: tôi luôn sống trong một nỗi sợ thường_trực rằng danh_tính\n",
      "Reference: so i was living in constant fear that my\n",
      "Model: <SOS> i always live in in a a that the\n",
      "\n"
     ]
    },
    {
     "name": "stderr",
     "output_type": "stream",
     "text": [
      "WARNING:root:That's 100 lines that end in a tokenized period ('.')\n",
      "WARNING:root:It looks like you forgot to detokenize your test data, which may hurt your score.\n",
      "WARNING:root:If you insist your data is detokenized, or don't care, you can suppress this message with '--force'.\n"
     ]
    },
    {
     "name": "stdout",
     "output_type": "stream",
     "text": [
      "Epoch: 4.24, Train Loss: 0.00, Val Loss: 4.10, Train BLEU: 0.00, Val BLEU: 13.93, Minutes Elapsed: 147.07\n",
      "Sampling from val predictions...\n",
      "Source: thật đáng_tiếc sau khi bạn_học xong , bạn viết <UNK>\n",
      "Reference: unfortunately after you &apos;ve gone to school , and\n",
      "Model: <SOS> it &apos;s the next , , , , ,\n",
      "\n",
      "Source: đó có nghĩa_là nó có_thể tự thực_hiện được . <EOS>\n",
      "Reference: that means they can be <UNK> . <EOS> <PAD>\n",
      "Model: <SOS> that means that it be it . <EOS> .\n",
      "\n",
      "Source: ở cuối đường , anh ta giục chúng_tôi rời xe\n",
      "Reference: at the end of the road , he urged\n",
      "Model: <SOS> in the end , the , , he gave\n",
      "\n"
     ]
    },
    {
     "name": "stderr",
     "output_type": "stream",
     "text": [
      "WARNING:root:That's 100 lines that end in a tokenized period ('.')\n",
      "WARNING:root:It looks like you forgot to detokenize your test data, which may hurt your score.\n",
      "WARNING:root:If you insist your data is detokenized, or don't care, you can suppress this message with '--force'.\n"
     ]
    },
    {
     "name": "stdout",
     "output_type": "stream",
     "text": [
      "Epoch: 4.48, Train Loss: 0.00, Val Loss: 4.05, Train BLEU: 0.00, Val BLEU: 14.35, Minutes Elapsed: 155.43\n",
      "Sampling from val predictions...\n",
      "Source: bà nghỉ_hưu 2 năm về trước để dùng nhà của\n",
      "Reference: she retired two years ago , only to turn\n",
      "Model: <SOS> she , about about to to the the the\n",
      "\n",
      "Source: hôm_nay tôi 22 tuổi . <EOS> <PAD> <PAD> <PAD> <PAD>\n",
      "Reference: today i am 22 . <EOS> <PAD> <PAD> <PAD>\n",
      "Model: <SOS> today 22 22 22 22 old . <EOS> <EOS>\n",
      "\n",
      "Source: vì_vậy , để thực_hiện các bước đầu_tiên hướng tới việc\n",
      "Reference: so , taking the first steps towards this today\n",
      "Model: <SOS> so , to all first of of the the\n",
      "\n"
     ]
    },
    {
     "name": "stderr",
     "output_type": "stream",
     "text": [
      "WARNING:root:That's 100 lines that end in a tokenized period ('.')\n",
      "WARNING:root:It looks like you forgot to detokenize your test data, which may hurt your score.\n",
      "WARNING:root:If you insist your data is detokenized, or don't care, you can suppress this message with '--force'.\n"
     ]
    },
    {
     "name": "stdout",
     "output_type": "stream",
     "text": [
      "Epoch: 4.72, Train Loss: 0.00, Val Loss: 4.07, Train BLEU: 0.00, Val BLEU: 16.06, Minutes Elapsed: 163.76\n",
      "Sampling from val predictions...\n",
      "Source: cùng nhau , chúng_ta đã chỉ ra những không_gian công_cộng\n",
      "Reference: together , we &apos;ve shown how powerful our public\n",
      "Model: <SOS> together , we &apos;ve just a space space .\n",
      "\n",
      "Source: tại_sao người phụ_nữ lại nên ở_lại với người đã đánh\n",
      "Reference: why would anyone stay with a man who beats\n",
      "Model: <SOS> why do women women to the people who the\n",
      "\n",
      "Source: triệu chứng_bệnh ở mỗi cá_nhân một khác , đó là\n",
      "Reference: it manifests in each individual differently , hence why\n",
      "Model: <SOS> every the in a other , , which is\n",
      "\n"
     ]
    },
    {
     "name": "stderr",
     "output_type": "stream",
     "text": [
      "WARNING:root:That's 100 lines that end in a tokenized period ('.')\n",
      "WARNING:root:It looks like you forgot to detokenize your test data, which may hurt your score.\n",
      "WARNING:root:If you insist your data is detokenized, or don't care, you can suppress this message with '--force'.\n"
     ]
    },
    {
     "name": "stdout",
     "output_type": "stream",
     "text": [
      "Epoch: 4.96, Train Loss: 0.00, Val Loss: 4.07, Train BLEU: 0.00, Val BLEU: 14.85, Minutes Elapsed: 172.05\n",
      "Sampling from val predictions...\n",
      "Source: gần hai năm đã trôi_qua từ khi cuộc khởi_nghĩa ở\n",
      "Reference: almost two years have passed since the libyan revolution\n",
      "Model: <SOS> over two years years have through the the of\n",
      "\n",
      "Source: hãy tìm đọc cuốn sách của bà ấy . <EOS>\n",
      "Reference: just go and read her book . <EOS> <PAD>\n",
      "Model: <SOS> take read read read book book . <EOS> <EOS>\n",
      "\n",
      "Source: tôi bây_giờ đã nhận thấy về afghanistan , và đây\n",
      "Reference: what i &apos;ve come to realize about afghanistan ,\n",
      "Model: <SOS> i &apos;ve &apos;ve to seen in in , ,\n",
      "\n"
     ]
    },
    {
     "name": "stderr",
     "output_type": "stream",
     "text": [
      "WARNING:root:That's 100 lines that end in a tokenized period ('.')\n",
      "WARNING:root:It looks like you forgot to detokenize your test data, which may hurt your score.\n",
      "WARNING:root:If you insist your data is detokenized, or don't care, you can suppress this message with '--force'.\n"
     ]
    },
    {
     "name": "stdout",
     "output_type": "stream",
     "text": [
      "Epoch: 5.00, Train Loss: 0.00, Val Loss: 4.11, Train BLEU: 0.00, Val BLEU: 14.27, Minutes Elapsed: 173.46\n",
      "Sampling from val predictions...\n",
      "Source: bạn muốn đọc cuốn sách nào đó , hãy đọc\n",
      "Reference: you want to read the book , read &quot;\n",
      "Model: <SOS> you want to read that book , that read\n",
      "\n",
      "Source: nơi đây cũng là nơi mà trung_tâm di_tản đã thu_thập\n",
      "Reference: this happened to also be a place in the\n",
      "Model: <SOS> now is where where where where the where the\n",
      "\n",
      "Source: cơ_hội cho sự vĩ_đại , tiến_bộ và cho sự thay_đổi\n",
      "Reference: the chance for greatness , for progress and for\n",
      "Model: <SOS> opportunity miracles of the , and and and and\n",
      "\n",
      "Model training completed in 173 minutes with 4.05 best validation loss and 16.06 best validation BLEU.\n",
      "Training with dropout = 0.2\n",
      "Epoch: 0.00, Train Loss: 0.00, Val Loss: 10.24, Train BLEU: 0.00, Val BLEU: 0.03, Minutes Elapsed: 0.09\n",
      "Sampling from val predictions...\n",
      "Source: thật đáng_buồn , rối_loạn thần_kinh như bệnh parkinson dần_dần phá_huỷ\n",
      "Reference: now , sadly , neurological disorders such as parkinson\n",
      "Model: <SOS> the the the the the the the the the\n",
      "\n",
      "Source: đầu_tiên , nó chỉ giống_như thế này , tôi gọi\n",
      "Reference: first , it &apos;s only like , i call\n",
      "Model: <SOS> the the the the the the the the the\n",
      "\n",
      "Source: vì_vậy những mảnh_đất xanh đã tiếp_tục trồng khoảng 20 mảnh\n",
      "Reference: so green grounds has gone on to plant maybe\n",
      "Model: <SOS> the the the the the the the the the\n",
      "\n"
     ]
    },
    {
     "name": "stderr",
     "output_type": "stream",
     "text": [
      "WARNING:root:That's 100 lines that end in a tokenized period ('.')\n",
      "WARNING:root:It looks like you forgot to detokenize your test data, which may hurt your score.\n",
      "WARNING:root:If you insist your data is detokenized, or don't care, you can suppress this message with '--force'.\n"
     ]
    },
    {
     "name": "stdout",
     "output_type": "stream",
     "text": [
      "Epoch: 0.24, Train Loss: 0.00, Val Loss: 5.99, Train BLEU: 0.00, Val BLEU: 2.59, Minutes Elapsed: 8.36\n",
      "Sampling from val predictions...\n",
      "Source: tôi chỉ 22 tuổi , sống ở nước mỹ ,\n",
      "Reference: i was 22 , and in the united states\n",
      "Model: <SOS> i , , , , , , , ,\n",
      "\n",
      "Source: tôi muốn trồng cả một mảnh vườn mà ở đó\n",
      "Reference: i want to plant a whole block of gardens\n",
      "Model: <SOS> i i a a a a to to ,\n",
      "\n",
      "Source: nhựa_đường xốp là vật_liệu chúng_tôi hiện đang dùng để xây_dựng\n",
      "Reference: porous asphalt , a material that we use now\n",
      "Model: <SOS> but we a to to to to to to\n",
      "\n"
     ]
    },
    {
     "name": "stderr",
     "output_type": "stream",
     "text": [
      "WARNING:root:That's 100 lines that end in a tokenized period ('.')\n",
      "WARNING:root:It looks like you forgot to detokenize your test data, which may hurt your score.\n",
      "WARNING:root:If you insist your data is detokenized, or don't care, you can suppress this message with '--force'.\n"
     ]
    },
    {
     "name": "stdout",
     "output_type": "stream",
     "text": [
      "Epoch: 0.48, Train Loss: 0.00, Val Loss: 5.34, Train BLEU: 0.00, Val BLEU: 4.48, Minutes Elapsed: 16.69\n",
      "Sampling from val predictions...\n",
      "Source: lòng tốt từ người đàn_ông xa_lạ trở_thành biểu_tượng hy_vọng mới\n",
      "Reference: the kind stranger symbolized new hope for me and\n",
      "Model: <SOS> the are of the the of , the ,\n",
      "\n",
      "Source: hôm_nay tôi 22 tuổi . <EOS> <PAD> <PAD> <PAD> <PAD>\n",
      "Reference: today i am 22 . <EOS> <PAD> <PAD> <PAD>\n",
      "Model: <SOS> so i was the . <EOS> <EOS> . .\n",
      "\n",
      "Source: nếu người đó không muốn làm , vậy_thì bạn phải\n",
      "Reference: if that person doesn &apos;t want to do it\n",
      "Model: <SOS> if you you you , you , you you\n",
      "\n"
     ]
    },
    {
     "name": "stderr",
     "output_type": "stream",
     "text": [
      "WARNING:root:That's 100 lines that end in a tokenized period ('.')\n",
      "WARNING:root:It looks like you forgot to detokenize your test data, which may hurt your score.\n",
      "WARNING:root:If you insist your data is detokenized, or don't care, you can suppress this message with '--force'.\n"
     ]
    },
    {
     "name": "stdout",
     "output_type": "stream",
     "text": [
      "Epoch: 0.72, Train Loss: 0.00, Val Loss: 4.99, Train BLEU: 0.00, Val BLEU: 7.58, Minutes Elapsed: 25.06\n",
      "Sampling from val predictions...\n",
      "Source: chào . xin cảm_ơn . <EOS> <PAD> <PAD> <PAD> <PAD>\n",
      "Reference: peace . thank you . <EOS> <PAD> <PAD> <PAD>\n",
      "Model: <SOS> thank . . you . <EOS> <EOS> . <EOS>\n",
      "\n",
      "Source: đối_với một_số người , họ đã được kết_nối với một\n",
      "Reference: for some of them , it &apos;s given them\n",
      "Model: <SOS> in the , , , they they a a\n",
      "\n",
      "Source: tôi muốn giới_thiệu kofi với bạn . <EOS> <PAD> <PAD>\n",
      "Reference: i want to introduce you to kofi . <EOS>\n",
      "Model: <SOS> i want to to to . . . <EOS>\n",
      "\n"
     ]
    },
    {
     "name": "stderr",
     "output_type": "stream",
     "text": [
      "WARNING:root:That's 100 lines that end in a tokenized period ('.')\n",
      "WARNING:root:It looks like you forgot to detokenize your test data, which may hurt your score.\n",
      "WARNING:root:If you insist your data is detokenized, or don't care, you can suppress this message with '--force'.\n"
     ]
    },
    {
     "name": "stdout",
     "output_type": "stream",
     "text": [
      "Epoch: 0.96, Train Loss: 0.00, Val Loss: 4.75, Train BLEU: 0.00, Val BLEU: 8.51, Minutes Elapsed: 33.43\n",
      "Sampling from val predictions...\n",
      "Source: thì có_lẽ <UNK> sẽ_biết những_ai đã tham_gia trong cuộc biểu_tình\n",
      "Reference: and the <UNK> would have known who took part\n",
      "Model: <SOS> it &apos;s , , in in in in in\n",
      "\n",
      "Source: chi_phí cực thấp , và chúng_ta đều biết điều gì\n",
      "Reference: they &apos;re ultra-low cost , and we all know\n",
      "Model: <SOS> the , , , and and we we to\n",
      "\n",
      "Source: ví_dụ , tỉ_lệ béo_phì ở vùng tôi ở cao gấp\n",
      "Reference: for instance , the obesity rate in my neighborhood\n",
      "Model: <SOS> for example , , &apos;s in in in in\n",
      "\n"
     ]
    },
    {
     "name": "stderr",
     "output_type": "stream",
     "text": [
      "WARNING:root:That's 100 lines that end in a tokenized period ('.')\n",
      "WARNING:root:It looks like you forgot to detokenize your test data, which may hurt your score.\n",
      "WARNING:root:If you insist your data is detokenized, or don't care, you can suppress this message with '--force'.\n"
     ]
    },
    {
     "name": "stdout",
     "output_type": "stream",
     "text": [
      "Epoch: 1.00, Train Loss: 0.00, Val Loss: 4.75, Train BLEU: 0.00, Val BLEU: 8.33, Minutes Elapsed: 34.89\n",
      "Sampling from val predictions...\n",
      "Source: bấy_giờ , điều cuối_cùng tôi muốn làm là rời_bỏ new_york\n",
      "Reference: now , the last thing i wanted to do\n",
      "Model: <SOS> now , i i i i want to do\n",
      "\n",
      "Source: nó trở_nên thật thiêng_liêng với chúng_tôi . <EOS> <PAD> <PAD>\n",
      "Reference: it &apos;s really become sacred to us . <EOS>\n",
      "Model: <SOS> it &apos;s us to our our our . <EOS>\n",
      "\n",
      "Source: bạn nên nhìn vào cái thứ vớ_vẩn - - -\n",
      "Reference: you should see the rubbish — -- you should\n",
      "Model: <SOS> you you at at the -- -- -- &apos;s\n",
      "\n"
     ]
    },
    {
     "name": "stderr",
     "output_type": "stream",
     "text": [
      "WARNING:root:That's 100 lines that end in a tokenized period ('.')\n",
      "WARNING:root:It looks like you forgot to detokenize your test data, which may hurt your score.\n",
      "WARNING:root:If you insist your data is detokenized, or don't care, you can suppress this message with '--force'.\n"
     ]
    },
    {
     "name": "stdout",
     "output_type": "stream",
     "text": [
      "Epoch: 1.24, Train Loss: 0.00, Val Loss: 4.61, Train BLEU: 0.00, Val BLEU: 10.13, Minutes Elapsed: 43.23\n",
      "Sampling from val predictions...\n",
      "Source: tôi không biết phải trông_đợi điều gì từ cuộc thử_nghiệm\n",
      "Reference: i didn &apos;t know what to expect from this\n",
      "Model: <SOS> i don &apos;t know how the this from from\n",
      "\n",
      "Source: hai điều quan_trọng nhất chúng_ta có là thời_gian và mối\n",
      "Reference: two of the most valuable things we have are\n",
      "Model: <SOS> the the the things that we we have have\n",
      "\n",
      "Source: và cũng với một chiếc điện_thoại bạn có_thể ghi_âm một\n",
      "Reference: and with a mobile phone , you can record\n",
      "Model: <SOS> and so a a of can can can a\n",
      "\n"
     ]
    },
    {
     "name": "stderr",
     "output_type": "stream",
     "text": [
      "WARNING:root:That's 100 lines that end in a tokenized period ('.')\n",
      "WARNING:root:It looks like you forgot to detokenize your test data, which may hurt your score.\n",
      "WARNING:root:If you insist your data is detokenized, or don't care, you can suppress this message with '--force'.\n"
     ]
    },
    {
     "name": "stdout",
     "output_type": "stream",
     "text": [
      "Epoch: 1.48, Train Loss: 0.00, Val Loss: 4.48, Train BLEU: 0.00, Val BLEU: 11.12, Minutes Elapsed: 51.61\n",
      "Sampling from val predictions...\n",
      "Source: và nếu bạn sử_dụng điện_thoại_di_động , thì đây chính là\n",
      "Reference: and if you use your mobile phone , where\n",
      "Model: <SOS> and if you &apos;re , , , , this\n",
      "\n",
      "Source: chúng_tôi có_thể thực_hiện sự quan_sát với tần_số cao để có\n",
      "Reference: we can do <UNK> monitoring to get objective data\n",
      "Model: <SOS> we can actually the to to to to to\n",
      "\n",
      "Source: xin đừng nói với tôi rằng tôi bình_thường . <EOS>\n",
      "Reference: please don &apos;t tell me i &apos;m normal .\n",
      "Model: <SOS> now me me me me i i . .\n",
      "\n"
     ]
    },
    {
     "name": "stderr",
     "output_type": "stream",
     "text": [
      "WARNING:root:That's 100 lines that end in a tokenized period ('.')\n",
      "WARNING:root:It looks like you forgot to detokenize your test data, which may hurt your score.\n",
      "WARNING:root:If you insist your data is detokenized, or don't care, you can suppress this message with '--force'.\n"
     ]
    },
    {
     "name": "stdout",
     "output_type": "stream",
     "text": [
      "Epoch: 1.72, Train Loss: 0.00, Val Loss: 4.36, Train BLEU: 0.00, Val BLEU: 11.55, Minutes Elapsed: 60.01\n",
      "Sampling from val predictions...\n",
      "Source: nhưng chúng có_thể làm_hư cửa_kính xe_hơi của bạn . vì_vậy\n",
      "Reference: but they can damage your windshield , so you\n",
      "Model: <SOS> but they can do the your . the you\n",
      "\n",
      "Source: bí_mật đó là , cây súng này được nạp sẵn\n",
      "Reference: my secret was that i had this gun loaded\n",
      "Model: <SOS> so that , , , this is a .\n",
      "\n",
      "Source: lần đầu_tiên tôi có căn_hộ , thẻ tín_dụng american express\n",
      "Reference: i had my first apartment , my first little\n",
      "Model: <SOS> i first first first , , the the ,\n",
      "\n"
     ]
    },
    {
     "name": "stderr",
     "output_type": "stream",
     "text": [
      "WARNING:root:That's 100 lines that end in a tokenized period ('.')\n",
      "WARNING:root:It looks like you forgot to detokenize your test data, which may hurt your score.\n",
      "WARNING:root:If you insist your data is detokenized, or don't care, you can suppress this message with '--force'.\n"
     ]
    },
    {
     "name": "stdout",
     "output_type": "stream",
     "text": [
      "Epoch: 1.96, Train Loss: 0.00, Val Loss: 4.28, Train BLEU: 0.00, Val BLEU: 12.38, Minutes Elapsed: 68.41\n",
      "Sampling from val predictions...\n",
      "Source: em biết không ? em có_thể trở_thành bất_cứ ai .\n",
      "Reference: you know ? you can be anything . <EOS>\n",
      "Model: <SOS> you know , you can give you ? <EOS>\n",
      "\n",
      "Source: khi tôi nhìn qua các bức ảnh , có một_số\n",
      "Reference: as i looked through the photos , there were\n",
      "Model: <SOS> when i look at the pictures , , &apos;s\n",
      "\n",
      "Source: trong_khi tôi rất may_mắn vì đã được thả ra thì\n",
      "Reference: even though i was really fortunate to get out\n",
      "Model: <SOS> while i was i surprised surprised because because that\n",
      "\n"
     ]
    },
    {
     "name": "stderr",
     "output_type": "stream",
     "text": [
      "WARNING:root:That's 100 lines that end in a tokenized period ('.')\n",
      "WARNING:root:It looks like you forgot to detokenize your test data, which may hurt your score.\n",
      "WARNING:root:If you insist your data is detokenized, or don't care, you can suppress this message with '--force'.\n"
     ]
    },
    {
     "name": "stdout",
     "output_type": "stream",
     "text": [
      "Epoch: 2.00, Train Loss: 0.00, Val Loss: 4.31, Train BLEU: 0.00, Val BLEU: 11.38, Minutes Elapsed: 69.88\n",
      "Sampling from val predictions...\n",
      "Source: nó bắt_đầu đục_khoét tâm_can , nên vài tuần sau ,\n",
      "Reference: it started burning a hole in my stomach ,\n",
      "Model: <SOS> it &apos;s the the , , , , ,\n",
      "\n",
      "Source: thật_ra tôi trở_thành người_mẫu bởi_vì tôi thắng giải xổ_số di_truyền\n",
      "Reference: the real way that i became a model is\n",
      "Model: <SOS> i i i i i i my because because\n",
      "\n",
      "Source: chúng_tôi cần dừng việc hành_động như những sứ_giả cuồng_nộ ,\n",
      "Reference: we need to stop acting as agents of rage\n",
      "Model: <SOS> we need to to the the the , the\n",
      "\n"
     ]
    },
    {
     "name": "stderr",
     "output_type": "stream",
     "text": [
      "WARNING:root:That's 100 lines that end in a tokenized period ('.')\n",
      "WARNING:root:It looks like you forgot to detokenize your test data, which may hurt your score.\n",
      "WARNING:root:If you insist your data is detokenized, or don't care, you can suppress this message with '--force'.\n"
     ]
    },
    {
     "name": "stdout",
     "output_type": "stream",
     "text": [
      "Epoch: 2.24, Train Loss: 0.00, Val Loss: 4.24, Train BLEU: 0.00, Val BLEU: 12.95, Minutes Elapsed: 78.21\n",
      "Sampling from val predictions...\n",
      "Source: chúng_ta yêu_thích những vũ_công bậc_thầy về ba_lê và nhảy gõ\n",
      "Reference: we delight at ballet <UNK> and tap dancers you\n",
      "Model: <SOS> we we the the and the and and the\n",
      "\n",
      "Source: đây là một trong những kế_hoạch của tôi . đây\n",
      "Reference: now this is one of my plans . this\n",
      "Model: <SOS> this is is one of my favorites . this\n",
      "\n",
      "Source: \" bây_giờ con có_thể thật_sự đến trường rồi \" ông\n",
      "Reference: &quot; you can go to a real school now\n",
      "Model: <SOS> &quot; &quot; can be to &quot; &quot; &quot; &quot;\n",
      "\n"
     ]
    },
    {
     "name": "stderr",
     "output_type": "stream",
     "text": [
      "WARNING:root:That's 100 lines that end in a tokenized period ('.')\n",
      "WARNING:root:It looks like you forgot to detokenize your test data, which may hurt your score.\n",
      "WARNING:root:If you insist your data is detokenized, or don't care, you can suppress this message with '--force'.\n"
     ]
    },
    {
     "name": "stdout",
     "output_type": "stream",
     "text": [
      "Epoch: 2.48, Train Loss: 0.00, Val Loss: 4.18, Train BLEU: 0.00, Val BLEU: 13.14, Minutes Elapsed: 86.57\n",
      "Sampling from val predictions...\n",
      "Source: anh ta đã làm điều đặt biệt này lúc ban_đầu\n",
      "Reference: he did this especially at the beginning by <UNK>\n",
      "Model: <SOS> he did this this of , , of ,\n",
      "\n",
      "Source: nó là nhựa xốp , như tôi đã nói ,\n",
      "Reference: it &apos;s a porous asphalt , like i said\n",
      "Model: <SOS> it &apos;s a , , as as i said\n",
      "\n",
      "Source: rồi bạn cần một cái máy , như bạn thấy\n",
      "Reference: then you need a machine , like you see\n",
      "Model: <SOS> and you need a little , , you you\n",
      "\n"
     ]
    },
    {
     "name": "stderr",
     "output_type": "stream",
     "text": [
      "WARNING:root:That's 100 lines that end in a tokenized period ('.')\n",
      "WARNING:root:It looks like you forgot to detokenize your test data, which may hurt your score.\n",
      "WARNING:root:If you insist your data is detokenized, or don't care, you can suppress this message with '--force'.\n"
     ]
    },
    {
     "name": "stdout",
     "output_type": "stream",
     "text": [
      "Epoch: 2.72, Train Loss: 0.00, Val Loss: 4.13, Train BLEU: 0.00, Val BLEU: 13.75, Minutes Elapsed: 94.98\n",
      "Sampling from val predictions...\n",
      "Source: và tôi ở đây ngày hôm_nay . <EOS> <PAD> <PAD>\n",
      "Reference: and here i am today . <EOS> <PAD> <PAD>\n",
      "Model: <SOS> and i &apos;m here here today <EOS> . .\n",
      "\n",
      "Source: vậy điều gì đã xảy_ra ? <EOS> <PAD> <PAD> <PAD>\n",
      "Reference: so what happened ? <EOS> <PAD> <PAD> <PAD> <PAD>\n",
      "Model: <SOS> so what happened happened <EOS> <EOS> ? <EOS> <EOS>\n",
      "\n",
      "Source: chúng_tôi đã gặp_may với việc lau ảnh bằng tay .\n",
      "Reference: now , we were lucky with our <UNK> .\n",
      "Model: <SOS> we &apos;ve we &apos;ve been with the the .\n",
      "\n"
     ]
    },
    {
     "name": "stderr",
     "output_type": "stream",
     "text": [
      "WARNING:root:That's 100 lines that end in a tokenized period ('.')\n",
      "WARNING:root:It looks like you forgot to detokenize your test data, which may hurt your score.\n",
      "WARNING:root:If you insist your data is detokenized, or don't care, you can suppress this message with '--force'.\n"
     ]
    },
    {
     "name": "stdout",
     "output_type": "stream",
     "text": [
      "Epoch: 2.96, Train Loss: 0.00, Val Loss: 4.11, Train BLEU: 0.00, Val BLEU: 13.72, Minutes Elapsed: 103.39\n",
      "Sampling from val predictions...\n",
      "Source: như ahmed . đó không phải là tên thật của_ông\n",
      "Reference: like ahmed . that &apos;s not his real name\n",
      "Model: <SOS> it &apos;s . it &apos;s not the name .\n",
      "\n",
      "Source: một slide như thế này , không_những nhàm_chán mà_còn phụ_thuộc\n",
      "Reference: a slide like this is not only boring ,\n",
      "Model: <SOS> a a like , like like like like ,\n",
      "\n",
      "Source: tom <UNK> : vậy max , bằng cách lấy tất_cả\n",
      "Reference: so max , by taking all these samples of\n",
      "Model: <SOS> tom perry : , , , , , ,\n",
      "\n"
     ]
    },
    {
     "name": "stderr",
     "output_type": "stream",
     "text": [
      "WARNING:root:That's 100 lines that end in a tokenized period ('.')\n",
      "WARNING:root:It looks like you forgot to detokenize your test data, which may hurt your score.\n",
      "WARNING:root:If you insist your data is detokenized, or don't care, you can suppress this message with '--force'.\n"
     ]
    },
    {
     "name": "stdout",
     "output_type": "stream",
     "text": [
      "Epoch: 3.00, Train Loss: 0.00, Val Loss: 4.15, Train BLEU: 0.00, Val BLEU: 13.04, Minutes Elapsed: 104.85\n",
      "Sampling from val predictions...\n",
      "Source: cuộc hành_trình bằng xe_buýt kéo_dài khoảng 1 tuần , và\n",
      "Reference: the journey by bus took one week , and\n",
      "Model: <SOS> the the of the is a of of a\n",
      "\n",
      "Source: tôi nhận ra rằng vấn_đề chính là giải_pháp . <EOS>\n",
      "Reference: so i figured that the problem is the solution\n",
      "Model: <SOS> i i realized that the is is the the\n",
      "\n",
      "Source: hôm_nay tôi 22 tuổi . <EOS> <PAD> <PAD> <PAD> <PAD>\n",
      "Reference: today i am 22 . <EOS> <PAD> <PAD> <PAD>\n",
      "Model: <SOS> i &apos;s i today today . . . <EOS>\n",
      "\n"
     ]
    },
    {
     "name": "stderr",
     "output_type": "stream",
     "text": [
      "WARNING:root:That's 100 lines that end in a tokenized period ('.')\n",
      "WARNING:root:It looks like you forgot to detokenize your test data, which may hurt your score.\n",
      "WARNING:root:If you insist your data is detokenized, or don't care, you can suppress this message with '--force'.\n"
     ]
    },
    {
     "name": "stdout",
     "output_type": "stream",
     "text": [
      "Epoch: 3.24, Train Loss: 0.00, Val Loss: 4.11, Train BLEU: 0.00, Val BLEU: 13.80, Minutes Elapsed: 113.19\n",
      "Sampling from val predictions...\n",
      "Source: chúng_tôi đang nói với họ về việc quý_trọng những con\n",
      "Reference: we &apos;re talking to them about appreciating vultures ,\n",
      "Model: <SOS> we &apos;re talking to talk about about about .\n",
      "\n",
      "Source: khi đó tôi 22 tuổi , vừa tốt_nghiệp trường cao_đẳng\n",
      "Reference: i was 22 . i had just graduated from\n",
      "Model: <SOS> i i 22 22 , my my 22 ,\n",
      "\n",
      "Source: tôi muốn họ lấy chúng , nhưng cùng lúc đó\n",
      "Reference: i want them to take it , but at\n",
      "Model: <SOS> i wanted them them them them , but but\n",
      "\n"
     ]
    },
    {
     "name": "stderr",
     "output_type": "stream",
     "text": [
      "WARNING:root:That's 100 lines that end in a tokenized period ('.')\n",
      "WARNING:root:It looks like you forgot to detokenize your test data, which may hurt your score.\n",
      "WARNING:root:If you insist your data is detokenized, or don't care, you can suppress this message with '--force'.\n"
     ]
    },
    {
     "name": "stdout",
     "output_type": "stream",
     "text": [
      "Epoch: 3.48, Train Loss: 0.00, Val Loss: 4.06, Train BLEU: 0.00, Val BLEU: 13.84, Minutes Elapsed: 121.53\n",
      "Sampling from val predictions...\n",
      "Source: trong một năm , tôi có 27 dự_án liên_tiếp và\n",
      "Reference: in a year , i had 27 projects going\n",
      "Model: <SOS> in a , , i have a percent and\n",
      "\n",
      "Source: một ngôi trường thật_sự . <EOS> <PAD> <PAD> <PAD> <PAD>\n",
      "Reference: a real school . <EOS> <PAD> <PAD> <PAD> <PAD>\n",
      "Model: <SOS> one &apos;s is . . . . <EOS> <EOS>\n",
      "\n",
      "Source: vì_vậy với sự giúp_đỡ của những người bạn cũ và\n",
      "Reference: so with help from old and new friends ,\n",
      "Model: <SOS> so with &apos;s of people and and and and\n",
      "\n"
     ]
    },
    {
     "name": "stderr",
     "output_type": "stream",
     "text": [
      "WARNING:root:That's 100 lines that end in a tokenized period ('.')\n",
      "WARNING:root:It looks like you forgot to detokenize your test data, which may hurt your score.\n",
      "WARNING:root:If you insist your data is detokenized, or don't care, you can suppress this message with '--force'.\n"
     ]
    },
    {
     "name": "stdout",
     "output_type": "stream",
     "text": [
      "Epoch: 3.72, Train Loss: 0.00, Val Loss: 4.04, Train BLEU: 0.00, Val BLEU: 14.70, Minutes Elapsed: 129.85\n",
      "Sampling from val predictions...\n",
      "Source: trường penn state yêu_cầu tôi , một giáo_viên dạy giao_tiếp\n",
      "Reference: penn state asked me , a communications teacher ,\n",
      "Model: <SOS> my economist , , , a a of ,\n",
      "\n",
      "Source: lí_do là chúng đang bị đầu_độc , chúng bị đầu_độc\n",
      "Reference: the reason is that they &apos;re getting poisoned ,\n",
      "Model: <SOS> the reason is they they &apos;re losing , ,\n",
      "\n",
      "Source: chúng_tôi chụp_ảnh liên_tục . <EOS> <PAD> <PAD> <PAD> <PAD> <PAD>\n",
      "Reference: we take photos constantly . <EOS> <PAD> <PAD> <PAD>\n",
      "Model: <SOS> we &apos;re to . <EOS> <EOS> <EOS> . <EOS>\n",
      "\n"
     ]
    },
    {
     "name": "stderr",
     "output_type": "stream",
     "text": [
      "WARNING:root:That's 100 lines that end in a tokenized period ('.')\n",
      "WARNING:root:It looks like you forgot to detokenize your test data, which may hurt your score.\n",
      "WARNING:root:If you insist your data is detokenized, or don't care, you can suppress this message with '--force'.\n"
     ]
    },
    {
     "name": "stdout",
     "output_type": "stream",
     "text": [
      "Epoch: 3.96, Train Loss: 0.00, Val Loss: 4.04, Train BLEU: 0.00, Val BLEU: 14.18, Minutes Elapsed: 138.19\n",
      "Sampling from val predictions...\n",
      "Source: cảm_ơn quý vị . <EOS> <PAD> <PAD> <PAD> <PAD> <PAD>\n",
      "Reference: thank you . <EOS> <PAD> <PAD> <PAD> <PAD> <PAD>\n",
      "Model: <SOS> thank you . <EOS> you . <EOS> <EOS> <EOS>\n",
      "\n",
      "Source: tom <UNK> : vậy max , bằng cách lấy tất_cả\n",
      "Reference: so max , by taking all these samples of\n",
      "Model: <SOS> tom <UNK> : , , , , , ,\n",
      "\n",
      "Source: tôi đã sai_lầm khi nghĩ rằng tôi là trường_hợp duy_nhất\n",
      "Reference: i was mistaken in thinking that i was unique\n",
      "Model: <SOS> i i that that i i i was a\n",
      "\n"
     ]
    },
    {
     "name": "stderr",
     "output_type": "stream",
     "text": [
      "WARNING:root:That's 100 lines that end in a tokenized period ('.')\n",
      "WARNING:root:It looks like you forgot to detokenize your test data, which may hurt your score.\n",
      "WARNING:root:If you insist your data is detokenized, or don't care, you can suppress this message with '--force'.\n"
     ]
    },
    {
     "name": "stdout",
     "output_type": "stream",
     "text": [
      "Epoch: 4.00, Train Loss: 0.00, Val Loss: 4.09, Train BLEU: 0.00, Val BLEU: 13.99, Minutes Elapsed: 139.63\n",
      "Sampling from val predictions...\n",
      "Source: vài ngày sau đó , khi đang lái_xe về nhà\n",
      "Reference: and then a few days later , driving home\n",
      "Model: <SOS> a few few few later later , the was\n",
      "\n",
      "Source: trồng một cây sẽ cho bạn 1.000 , 10.000 hạt_giống\n",
      "Reference: growing one plant will give you 1,000 , 10,000\n",
      "Model: <SOS> the a a for for for years years and\n",
      "\n",
      "Source: trở lại câu_hỏi của tôi : tại_sao tôi ở lại\n",
      "Reference: back to my question : why did i stay\n",
      "Model: <SOS> my my my my question : i i in\n",
      "\n"
     ]
    },
    {
     "name": "stderr",
     "output_type": "stream",
     "text": [
      "WARNING:root:That's 100 lines that end in a tokenized period ('.')\n",
      "WARNING:root:It looks like you forgot to detokenize your test data, which may hurt your score.\n",
      "WARNING:root:If you insist your data is detokenized, or don't care, you can suppress this message with '--force'.\n"
     ]
    },
    {
     "name": "stdout",
     "output_type": "stream",
     "text": [
      "Epoch: 4.24, Train Loss: 0.00, Val Loss: 4.06, Train BLEU: 0.00, Val BLEU: 14.03, Minutes Elapsed: 147.88\n",
      "Sampling from val predictions...\n",
      "Source: những phụ_nữ lớn_tuổi đôi_khi chưa_từng nhìn_thấy máy scan , nhưng\n",
      "Reference: the older ladies sometimes hadn &apos;t seen a scanner\n",
      "Model: <SOS> the women that , , , , , ,\n",
      "\n",
      "Source: nhưng sư_tử rất thông_minh . <EOS> <PAD> <PAD> <PAD> <PAD>\n",
      "Reference: but lions are very clever . <EOS> <PAD> <PAD>\n",
      "Model: <SOS> but that &apos;s very . . <EOS> <EOS> .\n",
      "\n",
      "Source: các chiến_binh masai người bảo_vệ cộng_đồng chúng_tôi và gia_súc ,\n",
      "Reference: the <UNK> are the warriors who protect our community\n",
      "Model: <SOS> the <UNK> between who people , the to and\n",
      "\n"
     ]
    },
    {
     "name": "stderr",
     "output_type": "stream",
     "text": [
      "WARNING:root:That's 100 lines that end in a tokenized period ('.')\n",
      "WARNING:root:It looks like you forgot to detokenize your test data, which may hurt your score.\n",
      "WARNING:root:If you insist your data is detokenized, or don't care, you can suppress this message with '--force'.\n"
     ]
    },
    {
     "name": "stdout",
     "output_type": "stream",
     "text": [
      "Epoch: 4.48, Train Loss: 0.00, Val Loss: 4.02, Train BLEU: 0.00, Val BLEU: 14.41, Minutes Elapsed: 156.16\n",
      "Sampling from val predictions...\n",
      "Source: sau khi hỏi xong , một trong hai cảnh_sát nói\n",
      "Reference: after they finished questioning me , one official said\n",
      "Model: <SOS> after , , , one one one of the\n",
      "\n",
      "Source: tôi khám_phá ra rằng sư_tử sợ ánh_sáng chuyển_động . <EOS>\n",
      "Reference: and i discovered that lions are afraid of a\n",
      "Model: <SOS> i discovered was that that the the . .\n",
      "\n",
      "Source: tương_đương với 50.000 đô - la mỹ ngày_nay . <EOS>\n",
      "Reference: that equates to about $ 50,000 in today &apos;s\n",
      "Model: <SOS> it &apos;s like than or or or . .\n",
      "\n"
     ]
    },
    {
     "name": "stderr",
     "output_type": "stream",
     "text": [
      "WARNING:root:That's 100 lines that end in a tokenized period ('.')\n",
      "WARNING:root:It looks like you forgot to detokenize your test data, which may hurt your score.\n",
      "WARNING:root:If you insist your data is detokenized, or don't care, you can suppress this message with '--force'.\n"
     ]
    },
    {
     "name": "stdout",
     "output_type": "stream",
     "text": [
      "Epoch: 4.72, Train Loss: 0.00, Val Loss: 4.02, Train BLEU: 0.00, Val BLEU: 15.69, Minutes Elapsed: 164.44\n",
      "Sampling from val predictions...\n",
      "Source: những nhà_hàng phân buồng , như được biết đến trong\n",
      "Reference: cabin restaurants , as they &apos;re known in the\n",
      "Model: <SOS> the , , as know in in in in\n",
      "\n",
      "Source: một sự ước_lượng dè_dặt cho chúng_tôi biết có hơn 27\n",
      "Reference: a conservative estimate tells us there are more than\n",
      "Model: <SOS> the &apos;s of us us that more than than\n",
      "\n",
      "Source: những việc các bạn làm là đun nóng thép ,\n",
      "Reference: then what you do is you heat up the\n",
      "Model: <SOS> what you do do is is hot , you\n",
      "\n"
     ]
    },
    {
     "name": "stderr",
     "output_type": "stream",
     "text": [
      "WARNING:root:That's 100 lines that end in a tokenized period ('.')\n",
      "WARNING:root:It looks like you forgot to detokenize your test data, which may hurt your score.\n",
      "WARNING:root:If you insist your data is detokenized, or don't care, you can suppress this message with '--force'.\n"
     ]
    },
    {
     "name": "stdout",
     "output_type": "stream",
     "text": [
      "Epoch: 4.96, Train Loss: 0.00, Val Loss: 4.03, Train BLEU: 0.00, Val BLEU: 14.45, Minutes Elapsed: 172.77\n",
      "Sampling from val predictions...\n",
      "Source: có thể hình_dung , thị_trấn đã bị tàn_phá . <EOS>\n",
      "Reference: as you can imagine , the town had been\n",
      "Model: <SOS> you can , , , , is is .\n",
      "\n",
      "Source: cậu_bé khiếp_đảm vì sợ rơi xuống_nước . <EOS> <PAD> <PAD>\n",
      "Reference: he was petrified he would be knocked in the\n",
      "Model: <SOS> he was the to the . . . <EOS>\n",
      "\n",
      "Source: tôi kết_hôn với người chồng thứ_hai đã gần 20 năm\n",
      "Reference: i &apos;ve been married for almost 20 years to\n",
      "Model: <SOS> i i the the the the young who who\n",
      "\n"
     ]
    },
    {
     "name": "stderr",
     "output_type": "stream",
     "text": [
      "WARNING:root:That's 100 lines that end in a tokenized period ('.')\n",
      "WARNING:root:It looks like you forgot to detokenize your test data, which may hurt your score.\n",
      "WARNING:root:If you insist your data is detokenized, or don't care, you can suppress this message with '--force'.\n"
     ]
    },
    {
     "name": "stdout",
     "output_type": "stream",
     "text": [
      "Epoch: 5.00, Train Loss: 0.00, Val Loss: 4.09, Train BLEU: 0.00, Val BLEU: 14.04, Minutes Elapsed: 174.20\n",
      "Sampling from val predictions...\n",
      "Source: lò vi_sóng cũng có hệ_thống hoạt_động tương_tự . <EOS> <PAD>\n",
      "Reference: so a microwave is a similar system . <EOS>\n",
      "Model: <SOS> the is is is is system system system system\n",
      "\n",
      "Source: rất nhiều người bị lừa bởi những lời_hứa <UNK> về\n",
      "Reference: many have been tricked by false promises of a\n",
      "Model: <SOS> many lot people people by by of are the\n",
      "\n",
      "Source: bạn không có cơ_hội phạm sai_lầm . <EOS> <PAD> <PAD>\n",
      "Reference: you don &apos;t get a chance to mess it\n",
      "Model: <SOS> you don &apos;t have a chance . <EOS> .\n",
      "\n",
      "Model training completed in 174 minutes with 4.02 best validation loss and 15.69 best validation BLEU.\n",
      "Training with dropout = 0.5\n",
      "Epoch: 0.00, Train Loss: 0.00, Val Loss: 10.24, Train BLEU: 0.00, Val BLEU: 0.07, Minutes Elapsed: 0.09\n",
      "Sampling from val predictions...\n",
      "Source: chính_quyền bắc triều_tiên đã phát_hiện ra số tiền mà tôi\n",
      "Reference: the north korean authorities <UNK> some money that i\n",
      "Model: <SOS> and of the the the the the the the\n",
      "\n",
      "Source: tôi có_con chó black lab và tôi có chiếc <UNK>\n",
      "Reference: i have that black lab , and i have\n",
      "Model: <SOS> of of of the the the the the the\n",
      "\n",
      "Source: anh ta đã thật_sự rất căng_thẳng vì đám_cưới và việc\n",
      "Reference: he had just been really stressed out by the\n",
      "Model: <SOS> and the the the the the the the the\n",
      "\n"
     ]
    },
    {
     "name": "stderr",
     "output_type": "stream",
     "text": [
      "WARNING:root:That's 100 lines that end in a tokenized period ('.')\n",
      "WARNING:root:It looks like you forgot to detokenize your test data, which may hurt your score.\n",
      "WARNING:root:If you insist your data is detokenized, or don't care, you can suppress this message with '--force'.\n"
     ]
    },
    {
     "name": "stdout",
     "output_type": "stream",
     "text": [
      "Epoch: 0.24, Train Loss: 0.00, Val Loss: 5.94, Train BLEU: 0.00, Val BLEU: 2.66, Minutes Elapsed: 8.33\n",
      "Sampling from val predictions...\n",
      "Source: chính_phủ ư ? quên đi ! <EOS> <PAD> <PAD> <PAD>\n",
      "Reference: government ? forget about it ! <EOS> <PAD> <PAD>\n",
      "Model: <SOS> so &apos;s . . . . . . <EOS>\n",
      "\n",
      "Source: đây là những ý_tưởng cần_thiết mà một đất_nước đã bị\n",
      "Reference: these are the ideals that a war-torn libya needs\n",
      "Model: <SOS> it &apos;s a a a a a a a\n",
      "\n",
      "Source: đó là đức_tin của tôi , khi tôi nói với\n",
      "Reference: it &apos;s my gospel , when i &apos;m telling\n",
      "Model: <SOS> so i , , , , , , ,\n",
      "\n"
     ]
    },
    {
     "name": "stderr",
     "output_type": "stream",
     "text": [
      "WARNING:root:That's 100 lines that end in a tokenized period ('.')\n",
      "WARNING:root:It looks like you forgot to detokenize your test data, which may hurt your score.\n",
      "WARNING:root:If you insist your data is detokenized, or don't care, you can suppress this message with '--force'.\n"
     ]
    },
    {
     "name": "stdout",
     "output_type": "stream",
     "text": [
      "Epoch: 0.48, Train Loss: 0.00, Val Loss: 5.40, Train BLEU: 0.00, Val BLEU: 4.36, Minutes Elapsed: 16.59\n",
      "Sampling from val predictions...\n",
      "Source: tôi có bằng cử_nhân tiếng anh từ_trường cao_đẳng harvard ,\n",
      "Reference: i have a <UNK> in english from harvard college\n",
      "Model: <SOS> i &apos;m &apos;t the the the , , ,\n",
      "\n",
      "Source: ví_dụ , tỉ_lệ béo_phì ở vùng tôi ở cao gấp\n",
      "Reference: for instance , the obesity rate in my neighborhood\n",
      "Model: <SOS> in , , , , , , , ,\n",
      "\n",
      "Source: đây là một trong những kế_hoạch của tôi . đây\n",
      "Reference: now this is one of my plans . this\n",
      "Model: <SOS> this is a of of of . . .\n",
      "\n"
     ]
    },
    {
     "name": "stderr",
     "output_type": "stream",
     "text": [
      "WARNING:root:That's 100 lines that end in a tokenized period ('.')\n",
      "WARNING:root:It looks like you forgot to detokenize your test data, which may hurt your score.\n",
      "WARNING:root:If you insist your data is detokenized, or don't care, you can suppress this message with '--force'.\n"
     ]
    },
    {
     "name": "stdout",
     "output_type": "stream",
     "text": [
      "Epoch: 0.72, Train Loss: 0.00, Val Loss: 5.06, Train BLEU: 0.00, Val BLEU: 7.37, Minutes Elapsed: 24.90\n",
      "Sampling from val predictions...\n",
      "Source: nhưng thay_vì hỏi sao họ lại chẳng trồng bất_cứ thứ\n",
      "Reference: but instead of asking them how come they were\n",
      "Model: <SOS> but the the that that they they they the\n",
      "\n",
      "Source: hiện_tại , tôi sống ở new orleans , và tôi\n",
      "Reference: now , i live in new orleans , and\n",
      "Model: <SOS> so , i i a in , , and\n",
      "\n",
      "Source: lòng tốt từ người đàn_ông xa_lạ trở_thành biểu_tượng hy_vọng mới\n",
      "Reference: the kind stranger symbolized new hope for me and\n",
      "Model: <SOS> it &apos;s of from the of of the of\n",
      "\n"
     ]
    },
    {
     "name": "stderr",
     "output_type": "stream",
     "text": [
      "WARNING:root:That's 100 lines that end in a tokenized period ('.')\n",
      "WARNING:root:It looks like you forgot to detokenize your test data, which may hurt your score.\n",
      "WARNING:root:If you insist your data is detokenized, or don't care, you can suppress this message with '--force'.\n"
     ]
    },
    {
     "name": "stdout",
     "output_type": "stream",
     "text": [
      "Epoch: 0.96, Train Loss: 0.00, Val Loss: 4.83, Train BLEU: 0.00, Val BLEU: 7.86, Minutes Elapsed: 33.22\n",
      "Sampling from val predictions...\n",
      "Source: ở đây chúng_ta có_một đoạn phim của các giây thanh_quản\n",
      "Reference: so here we have a video of the vibrating\n",
      "Model: <SOS> here we have a a the of the of\n",
      "\n",
      "Source: bạn biết không , bọn taliban đến xâm_lấn afghanistan từ\n",
      "Reference: you see , i was six when the taliban\n",
      "Model: <SOS> you know , , &apos;s a in from from\n",
      "\n",
      "Source: xã_hội của chúng_tôi , thành_hình bởi các tư_duy cách_mạng ,\n",
      "Reference: our society , shaped by a revolutionary mindset ,\n",
      "Model: <SOS> our our , , , , , , ,\n",
      "\n"
     ]
    },
    {
     "name": "stderr",
     "output_type": "stream",
     "text": [
      "WARNING:root:That's 100 lines that end in a tokenized period ('.')\n",
      "WARNING:root:It looks like you forgot to detokenize your test data, which may hurt your score.\n",
      "WARNING:root:If you insist your data is detokenized, or don't care, you can suppress this message with '--force'.\n"
     ]
    },
    {
     "name": "stdout",
     "output_type": "stream",
     "text": [
      "Epoch: 1.00, Train Loss: 0.00, Val Loss: 4.83, Train BLEU: 0.00, Val BLEU: 8.15, Minutes Elapsed: 34.68\n",
      "Sampling from val predictions...\n",
      "Source: chúng_ta thấy đều cùng triệu_chứng . <EOS> <PAD> <PAD> <PAD>\n",
      "Reference: we see all the same symptoms . <EOS> <PAD>\n",
      "Model: <SOS> we &apos;re all the . . . <EOS> .\n",
      "\n",
      "Source: thật_sự như bạn thấy ở đây vật_liệu này có dấu_hiệu\n",
      "Reference: here you see actually how the damage appears in\n",
      "Model: <SOS> so , you see here here this is a\n",
      "\n",
      "Source: có_thể ta sẽ sản sinh_ra george washington carver tiếp_theo .\n",
      "Reference: we might produce the next george washington <UNK> .\n",
      "Model: <SOS> so we going the the of of the the\n",
      "\n"
     ]
    },
    {
     "name": "stderr",
     "output_type": "stream",
     "text": [
      "WARNING:root:That's 100 lines that end in a tokenized period ('.')\n",
      "WARNING:root:It looks like you forgot to detokenize your test data, which may hurt your score.\n",
      "WARNING:root:If you insist your data is detokenized, or don't care, you can suppress this message with '--force'.\n"
     ]
    },
    {
     "name": "stdout",
     "output_type": "stream",
     "text": [
      "Epoch: 1.24, Train Loss: 0.00, Val Loss: 4.69, Train BLEU: 0.00, Val BLEU: 9.48, Minutes Elapsed: 42.98\n",
      "Sampling from val predictions...\n",
      "Source: đúng vào lúc đó , có một người đàn_ông đã\n",
      "Reference: at that moment , i heard one man &apos;s\n",
      "Model: <SOS> and , , there there &apos;s a a who\n",
      "\n",
      "Source: tôi đã từng ghét sư_tử , nhưng bây_giờ bởi_vì phát_minh\n",
      "Reference: i used to hate lions , but now because\n",
      "Model: <SOS> i i the , , but but i the\n",
      "\n",
      "Source: mỗi khi chúng_ta sử_dụng điện_thoại_di_động của mình ? <EOS> <PAD>\n",
      "Reference: every time i use my mobile phone ? <EOS>\n",
      "Model: <SOS> so we we we the ? ? <EOS> <EOS>\n",
      "\n"
     ]
    },
    {
     "name": "stderr",
     "output_type": "stream",
     "text": [
      "WARNING:root:That's 100 lines that end in a tokenized period ('.')\n",
      "WARNING:root:It looks like you forgot to detokenize your test data, which may hurt your score.\n",
      "WARNING:root:If you insist your data is detokenized, or don't care, you can suppress this message with '--force'.\n"
     ]
    },
    {
     "name": "stdout",
     "output_type": "stream",
     "text": [
      "Epoch: 1.48, Train Loss: 0.00, Val Loss: 4.56, Train BLEU: 0.00, Val BLEU: 10.26, Minutes Elapsed: 51.33\n",
      "Sampling from val predictions...\n",
      "Source: con_bé mô_tả cho tôi cảm_giác của nó hồi 5 tuổi\n",
      "Reference: and she describes to me the feeling she felt\n",
      "Model: <SOS> my the my my my my the five five\n",
      "\n",
      "Source: không cần phải đi đến phòng_khám để kiểm_tra định_kì .\n",
      "Reference: no need to go to the clinic for a\n",
      "Model: <SOS> not &apos;s not to to to to to to\n",
      "\n",
      "Source: <UNK> sống và ngự_trị trong thế_giới của riêng mình ,\n",
      "Reference: <UNK> lived and reigned in his own world ,\n",
      "Model: <SOS> and and and and the the of , ,\n",
      "\n"
     ]
    },
    {
     "name": "stderr",
     "output_type": "stream",
     "text": [
      "WARNING:root:That's 100 lines that end in a tokenized period ('.')\n",
      "WARNING:root:It looks like you forgot to detokenize your test data, which may hurt your score.\n",
      "WARNING:root:If you insist your data is detokenized, or don't care, you can suppress this message with '--force'.\n"
     ]
    },
    {
     "name": "stdout",
     "output_type": "stream",
     "text": [
      "Epoch: 1.72, Train Loss: 0.00, Val Loss: 4.46, Train BLEU: 0.00, Val BLEU: 11.12, Minutes Elapsed: 59.70\n",
      "Sampling from val predictions...\n",
      "Source: tôi nghĩ , trời ạ , tôi cảm_thấy rất tệ\n",
      "Reference: so i &apos;m like , man , it made\n",
      "Model: <SOS> i think think , , , , i i\n",
      "\n",
      "Source: cảm_ơn <EOS> <PAD> <PAD> <PAD> <PAD> <PAD> <PAD> <PAD> <PAD>\n",
      "Reference: thanks . <EOS> <PAD> <PAD> <PAD> <PAD> <PAD> <PAD>\n",
      "Model: <SOS> thank you . <EOS> <EOS> . <EOS> . <EOS>\n",
      "\n",
      "Source: tôi đến đây để kể cho bạn về tình_yêu điên_rồ\n",
      "Reference: i &apos;m here to tell you the story of\n",
      "Model: <SOS> i i to to tell you the about of\n",
      "\n"
     ]
    },
    {
     "name": "stderr",
     "output_type": "stream",
     "text": [
      "WARNING:root:That's 100 lines that end in a tokenized period ('.')\n",
      "WARNING:root:It looks like you forgot to detokenize your test data, which may hurt your score.\n",
      "WARNING:root:If you insist your data is detokenized, or don't care, you can suppress this message with '--force'.\n"
     ]
    },
    {
     "name": "stdout",
     "output_type": "stream",
     "text": [
      "Epoch: 1.96, Train Loss: 0.00, Val Loss: 4.38, Train BLEU: 0.00, Val BLEU: 11.67, Minutes Elapsed: 68.13\n",
      "Sampling from val predictions...\n",
      "Source: tôi kết_hôn với người chồng thứ_hai đã gần 20 năm\n",
      "Reference: i &apos;ve been married for almost 20 years to\n",
      "Model: <SOS> i &apos;ve to people people people who that ,\n",
      "\n",
      "Source: khi em hát những bài hát từ thời thơ_ấu của\n",
      "Reference: when he sings songs from our childhood , attempting\n",
      "Model: <SOS> when you have the the the from , the\n",
      "\n",
      "Source: cám_ơn . <EOS> <PAD> <PAD> <PAD> <PAD> <PAD> <PAD> <PAD>\n",
      "Reference: thank you . <EOS> <PAD> <PAD> <PAD> <PAD> <PAD>\n",
      "Model: <SOS> thank you . <EOS> . <EOS> . <EOS> .\n",
      "\n"
     ]
    },
    {
     "name": "stderr",
     "output_type": "stream",
     "text": [
      "WARNING:root:That's 100 lines that end in a tokenized period ('.')\n",
      "WARNING:root:It looks like you forgot to detokenize your test data, which may hurt your score.\n",
      "WARNING:root:If you insist your data is detokenized, or don't care, you can suppress this message with '--force'.\n"
     ]
    },
    {
     "name": "stdout",
     "output_type": "stream",
     "text": [
      "Epoch: 2.00, Train Loss: 0.00, Val Loss: 4.41, Train BLEU: 0.00, Val BLEU: 11.35, Minutes Elapsed: 69.59\n",
      "Sampling from val predictions...\n",
      "Source: tôi đã dàng hết sự_nghiệp làm_việc cho những công_ty trong\n",
      "Reference: i &apos;ve spent most of my career working for\n",
      "Model: <SOS> i &apos;ve been been with of of for in\n",
      "\n",
      "Source: vậy bạn làm_gì - - bạn im miệng . <EOS>\n",
      "Reference: so what you do -- you shut up .\n",
      "Model: <SOS> so you do you do you you . .\n",
      "\n",
      "Source: chỉ_thị này cho_biết mỗi công_ty viễn_thông ở châu âu ,\n",
      "Reference: this directive says that each phone company in europe\n",
      "Model: <SOS> this this is the the the in in the\n",
      "\n"
     ]
    },
    {
     "name": "stderr",
     "output_type": "stream",
     "text": [
      "WARNING:root:That's 100 lines that end in a tokenized period ('.')\n",
      "WARNING:root:It looks like you forgot to detokenize your test data, which may hurt your score.\n",
      "WARNING:root:If you insist your data is detokenized, or don't care, you can suppress this message with '--force'.\n"
     ]
    },
    {
     "name": "stdout",
     "output_type": "stream",
     "text": [
      "Epoch: 2.24, Train Loss: 0.00, Val Loss: 4.34, Train BLEU: 0.00, Val BLEU: 12.01, Minutes Elapsed: 77.94\n",
      "Sampling from val predictions...\n",
      "Source: họ còn lâu mới bị tuyệt_chủng . <EOS> <PAD> <PAD>\n",
      "Reference: they are far from being extinct . <EOS> <PAD>\n",
      "Model: <SOS> they &apos;re all . . . . <EOS> <EOS>\n",
      "\n",
      "Source: cũng giống như một hoạ_sĩ , người tô_điểm cho các\n",
      "Reference: just like a graffiti artist , where they <UNK>\n",
      "Model: <SOS> it like like like , , the a the\n",
      "\n",
      "Source: trong nhiều tuần , các tình_nguyện viên và người dân\n",
      "Reference: for weeks , all the volunteers and locals alike\n",
      "Model: <SOS> in many , the , and and and and\n",
      "\n"
     ]
    },
    {
     "name": "stderr",
     "output_type": "stream",
     "text": [
      "WARNING:root:That's 100 lines that end in a tokenized period ('.')\n",
      "WARNING:root:It looks like you forgot to detokenize your test data, which may hurt your score.\n",
      "WARNING:root:If you insist your data is detokenized, or don't care, you can suppress this message with '--force'.\n"
     ]
    },
    {
     "name": "stdout",
     "output_type": "stream",
     "text": [
      "Epoch: 2.48, Train Loss: 0.00, Val Loss: 4.27, Train BLEU: 0.00, Val BLEU: 12.43, Minutes Elapsed: 86.32\n",
      "Sampling from val predictions...\n",
      "Source: kofi là hiện_thân của khả_năng <EOS> <PAD> <PAD> <PAD> <PAD>\n",
      "Reference: kofi is the embodiment of possibility . <EOS> <PAD>\n",
      "Model: <SOS> joseph was a of of <EOS> . <EOS> <EOS>\n",
      "\n",
      "Source: \" trước_khi tôi chết , tôi muốn trồng một cái\n",
      "Reference: &quot; before i die , i want to plant\n",
      "Model: <SOS> &quot; i i i , i want to be\n",
      "\n",
      "Source: chúng_tôi là một nhóm lấy chia_sẻ làm thù_lao , gồm\n",
      "Reference: what we do , we &apos;re a <UNK> kind\n",
      "Model: <SOS> we &apos;re a a little a a to to\n",
      "\n"
     ]
    },
    {
     "name": "stderr",
     "output_type": "stream",
     "text": [
      "WARNING:root:That's 100 lines that end in a tokenized period ('.')\n",
      "WARNING:root:It looks like you forgot to detokenize your test data, which may hurt your score.\n",
      "WARNING:root:If you insist your data is detokenized, or don't care, you can suppress this message with '--force'.\n"
     ]
    },
    {
     "name": "stdout",
     "output_type": "stream",
     "text": [
      "Epoch: 2.72, Train Loss: 0.00, Val Loss: 4.22, Train BLEU: 0.00, Val BLEU: 13.04, Minutes Elapsed: 94.65\n",
      "Sampling from val predictions...\n",
      "Source: bố tôi lúc ấy đang nghe tin_tức bbc trên chiếc\n",
      "Reference: my father was listening to bbc news on his\n",
      "Model: <SOS> i i was she about the in the the\n",
      "\n",
      "Source: những kỹ_sư tôi làm_việc cùng dạy tôi phải_biết <UNK> hoá\n",
      "Reference: and because the engineers that i &apos;ve worked with\n",
      "Model: <SOS> my i i i i i i with my\n",
      "\n",
      "Source: tốc_độ nhanh , chỉ mất khoảng 30 giây tối_đa .\n",
      "Reference: they &apos;re high-speed , take about 30 seconds at\n",
      "Model: <SOS> in , , about , 30 30 30 .\n",
      "\n"
     ]
    },
    {
     "name": "stderr",
     "output_type": "stream",
     "text": [
      "WARNING:root:That's 100 lines that end in a tokenized period ('.')\n",
      "WARNING:root:It looks like you forgot to detokenize your test data, which may hurt your score.\n",
      "WARNING:root:If you insist your data is detokenized, or don't care, you can suppress this message with '--force'.\n"
     ]
    },
    {
     "name": "stdout",
     "output_type": "stream",
     "text": [
      "Epoch: 2.96, Train Loss: 0.00, Val Loss: 4.19, Train BLEU: 0.00, Val BLEU: 13.05, Minutes Elapsed: 102.99\n",
      "Sampling from val predictions...\n",
      "Source: rồi sau đó có người than_phiền . <EOS> <PAD> <PAD>\n",
      "Reference: and then somebody complained . <EOS> <PAD> <PAD> <PAD>\n",
      "Model: <SOS> then then &apos;s got . <EOS> <EOS> <EOS> .\n",
      "\n",
      "Source: tôi kết_hôn với người chồng thứ_hai đã gần 20 năm\n",
      "Reference: i &apos;ve been married for almost 20 years to\n",
      "Model: <SOS> i i to a people the , that ,\n",
      "\n",
      "Source: phía sau tôi là đàn bò của bố tôi ,\n",
      "Reference: those are my dad &apos;s cows at the back\n",
      "Model: <SOS> and i i my of my , i ,\n",
      "\n"
     ]
    },
    {
     "name": "stderr",
     "output_type": "stream",
     "text": [
      "WARNING:root:That's 100 lines that end in a tokenized period ('.')\n",
      "WARNING:root:It looks like you forgot to detokenize your test data, which may hurt your score.\n",
      "WARNING:root:If you insist your data is detokenized, or don't care, you can suppress this message with '--force'.\n"
     ]
    },
    {
     "name": "stdout",
     "output_type": "stream",
     "text": [
      "Epoch: 3.00, Train Loss: 0.00, Val Loss: 4.23, Train BLEU: 0.00, Val BLEU: 12.34, Minutes Elapsed: 104.43\n",
      "Sampling from val predictions...\n",
      "Source: nhưng đừng bao_giờ biến thành một dạng người cách_mạng kiểu\n",
      "Reference: but don &apos;t you ever turn into a <UNK>\n",
      "Model: <SOS> but never never look a a a a of\n",
      "\n",
      "Source: rất nhiều . ngày_nay , phần_lớn chúng_ta đều có một\n",
      "Reference: that &apos;s a lot . almost everybody today has\n",
      "Model: <SOS> very lot , lot of today , we there\n",
      "\n",
      "Source: vì_vậy tôi muốn chia_sẻ ý_tưởng nắm vai_trò chủ_động trong việc\n",
      "Reference: so i want to share the idea of taking\n",
      "Model: <SOS> so i want to share with idea with the\n",
      "\n"
     ]
    },
    {
     "name": "stderr",
     "output_type": "stream",
     "text": [
      "WARNING:root:That's 100 lines that end in a tokenized period ('.')\n",
      "WARNING:root:It looks like you forgot to detokenize your test data, which may hurt your score.\n",
      "WARNING:root:If you insist your data is detokenized, or don't care, you can suppress this message with '--force'.\n"
     ]
    },
    {
     "name": "stdout",
     "output_type": "stream",
     "text": [
      "Epoch: 3.24, Train Loss: 0.00, Val Loss: 4.18, Train BLEU: 0.00, Val BLEU: 13.12, Minutes Elapsed: 112.71\n",
      "Sampling from val predictions...\n",
      "Source: có một vài lần , ngôi trường đột_nhiên đóng_cửa khoảng\n",
      "Reference: from time to time , the school would suddenly\n",
      "Model: <SOS> there &apos;s few , , , the of the\n",
      "\n",
      "Source: khi tôi gặp , anh ta đã làm việc 14\n",
      "Reference: when i met him , he had been working\n",
      "Model: <SOS> when i was , , he was made 14\n",
      "\n",
      "Source: bây_giờ tôi muốn giới_thiệu các bạn với những người em_trai\n",
      "Reference: now i &apos;d like to introduce you to my\n",
      "Model: <SOS> now i i like to introduce you to to\n",
      "\n"
     ]
    },
    {
     "name": "stderr",
     "output_type": "stream",
     "text": [
      "WARNING:root:That's 100 lines that end in a tokenized period ('.')\n",
      "WARNING:root:It looks like you forgot to detokenize your test data, which may hurt your score.\n",
      "WARNING:root:If you insist your data is detokenized, or don't care, you can suppress this message with '--force'.\n"
     ]
    },
    {
     "name": "stdout",
     "output_type": "stream",
     "text": [
      "Epoch: 3.48, Train Loss: 0.00, Val Loss: 4.14, Train BLEU: 0.00, Val BLEU: 13.37, Minutes Elapsed: 121.05\n",
      "Sampling from val predictions...\n",
      "Source: ổ_gà , đương_nhiên , có_thể trở_thành một vấn_đề , nhưng\n",
      "Reference: potholes , of course , that can become a\n",
      "Model: <SOS> now , obviously course , maybe a a a\n",
      "\n",
      "Source: với tôi , đó là câu_hỏi buồn và đau_đớn nhất\n",
      "Reference: to me , this is the saddest and most\n",
      "Model: <SOS> for me , that is the question question and\n",
      "\n",
      "Source: chúng_tôi chụp_ảnh liên_tục . <EOS> <PAD> <PAD> <PAD> <PAD> <PAD>\n",
      "Reference: we take photos constantly . <EOS> <PAD> <PAD> <PAD>\n",
      "Model: <SOS> we &apos;re the . <EOS> <EOS> <EOS> <EOS> .\n",
      "\n"
     ]
    },
    {
     "name": "stderr",
     "output_type": "stream",
     "text": [
      "WARNING:root:That's 100 lines that end in a tokenized period ('.')\n",
      "WARNING:root:It looks like you forgot to detokenize your test data, which may hurt your score.\n",
      "WARNING:root:If you insist your data is detokenized, or don't care, you can suppress this message with '--force'.\n"
     ]
    },
    {
     "name": "stdout",
     "output_type": "stream",
     "text": [
      "Epoch: 3.72, Train Loss: 0.00, Val Loss: 4.11, Train BLEU: 0.00, Val BLEU: 13.88, Minutes Elapsed: 129.41\n",
      "Sampling from val predictions...\n",
      "Source: họ không có gì để so_sánh . <EOS> <PAD> <PAD>\n",
      "Reference: they have nothing to compare it to . <EOS>\n",
      "Model: <SOS> they don no have to . <EOS> <EOS> .\n",
      "\n",
      "Source: các bóng <UNK> tắt và đánh_lừa sư_tử làm_cho chúng nghĩ\n",
      "Reference: the lights flash and trick the lions into thinking\n",
      "Model: <SOS> the and and and and and and and think\n",
      "\n",
      "Source: tôi luôn sống trong một nỗi sợ thường_trực rằng danh_tính\n",
      "Reference: so i was living in constant fear that my\n",
      "Model: <SOS> i &apos;m &apos;m in in a a a the\n",
      "\n"
     ]
    },
    {
     "name": "stderr",
     "output_type": "stream",
     "text": [
      "WARNING:root:That's 100 lines that end in a tokenized period ('.')\n",
      "WARNING:root:It looks like you forgot to detokenize your test data, which may hurt your score.\n",
      "WARNING:root:If you insist your data is detokenized, or don't care, you can suppress this message with '--force'.\n"
     ]
    },
    {
     "name": "stdout",
     "output_type": "stream",
     "text": [
      "Epoch: 3.96, Train Loss: 0.00, Val Loss: 4.10, Train BLEU: 0.00, Val BLEU: 13.81, Minutes Elapsed: 137.81\n",
      "Sampling from val predictions...\n",
      "Source: không bao_giờ có từ \" tôi , và từ \"\n",
      "Reference: never the word &quot; i , &quot; and the\n",
      "Model: <SOS> there &apos;s ever word &quot; , , i ,\n",
      "\n",
      "Source: họ sẽ bị <UNK> trong phân ngựa . <EOS> <PAD>\n",
      "Reference: they were already drowning in manure . <EOS> <PAD>\n",
      "Model: <SOS> they will be in in <EOS> . <EOS> <EOS>\n",
      "\n",
      "Source: nhưng sư_tử rất thông_minh . <EOS> <PAD> <PAD> <PAD> <PAD>\n",
      "Reference: but lions are very clever . <EOS> <PAD> <PAD>\n",
      "Model: <SOS> but there &apos;s . . . <EOS> . <EOS>\n",
      "\n"
     ]
    },
    {
     "name": "stderr",
     "output_type": "stream",
     "text": [
      "WARNING:root:That's 100 lines that end in a tokenized period ('.')\n",
      "WARNING:root:It looks like you forgot to detokenize your test data, which may hurt your score.\n",
      "WARNING:root:If you insist your data is detokenized, or don't care, you can suppress this message with '--force'.\n"
     ]
    },
    {
     "name": "stdout",
     "output_type": "stream",
     "text": [
      "Epoch: 4.00, Train Loss: 0.00, Val Loss: 4.14, Train BLEU: 0.00, Val BLEU: 13.29, Minutes Elapsed: 139.26\n",
      "Sampling from val predictions...\n",
      "Source: tôi tham_gia vào các lực_lượng trong và ngoài libya để\n",
      "Reference: i joined forces with many other <UNK> inside and\n",
      "Model: <SOS> i was in the the and and countries the\n",
      "\n",
      "Source: ông ấy không bắt_đầu một_mình . <EOS> <PAD> <PAD> <PAD>\n",
      "Reference: he wasn &apos;t alone when he started . <EOS>\n",
      "Model: <SOS> he wasn &apos;t to to . . . <EOS>\n",
      "\n",
      "Source: xin chào . tôi là cameron russell , và trong\n",
      "Reference: hi . my name is cameron russell , and\n",
      "Model: <SOS> hi . i &apos;m is , , and and\n",
      "\n"
     ]
    },
    {
     "name": "stderr",
     "output_type": "stream",
     "text": [
      "WARNING:root:That's 100 lines that end in a tokenized period ('.')\n",
      "WARNING:root:It looks like you forgot to detokenize your test data, which may hurt your score.\n",
      "WARNING:root:If you insist your data is detokenized, or don't care, you can suppress this message with '--force'.\n"
     ]
    },
    {
     "name": "stdout",
     "output_type": "stream",
     "text": [
      "Epoch: 4.24, Train Loss: 0.00, Val Loss: 4.10, Train BLEU: 0.00, Val BLEU: 13.62, Minutes Elapsed: 147.58\n",
      "Sampling from val predictions...\n",
      "Source: vỗ_tay cám_ơn <EOS> <PAD> <PAD> <PAD> <PAD> <PAD> <PAD> <PAD>\n",
      "Reference: thank you . <EOS> <PAD> <PAD> <PAD> <PAD> <PAD>\n",
      "Model: <SOS> <EOS> . . <EOS> . <EOS> . <EOS> .\n",
      "\n",
      "Source: từ khi còn nhỏ , tôi đã từng làm_việc ở\n",
      "Reference: since i was a small boy , i used\n",
      "Model: <SOS> since i i , little , , i used\n",
      "\n",
      "Source: làm_vườn là công_việc có tính trị_liệu nhất và thách_thức nhất\n",
      "Reference: gardening is the most therapeutic and <UNK> act you\n",
      "Model: <SOS> the is the the of the and the the\n",
      "\n"
     ]
    },
    {
     "name": "stderr",
     "output_type": "stream",
     "text": [
      "WARNING:root:That's 100 lines that end in a tokenized period ('.')\n",
      "WARNING:root:It looks like you forgot to detokenize your test data, which may hurt your score.\n",
      "WARNING:root:If you insist your data is detokenized, or don't care, you can suppress this message with '--force'.\n"
     ]
    },
    {
     "name": "stdout",
     "output_type": "stream",
     "text": [
      "Epoch: 4.48, Train Loss: 0.00, Val Loss: 4.07, Train BLEU: 0.00, Val BLEU: 14.03, Minutes Elapsed: 155.90\n",
      "Sampling from val predictions...\n",
      "Source: rất nhiều người bắc triều_tiên đang bị chia_cắt với gia_đình\n",
      "Reference: many north koreans are separated from their families ,\n",
      "Model: <SOS> many lot people people are on on , .\n",
      "\n",
      "Source: vì_thế chúng_ta được dạy rằng \" sự khoan_dung của ta\n",
      "Reference: thus we are told that &quot; my mercy takes\n",
      "Model: <SOS> so we we taught , &quot; &quot; our ,\n",
      "\n",
      "Source: bởi_vì hoà_bình như thuật giả kim , nó cần đến\n",
      "Reference: for peace has an alchemy , and this alchemy\n",
      "Model: <SOS> because it as like , , it it &apos;s\n",
      "\n"
     ]
    },
    {
     "name": "stderr",
     "output_type": "stream",
     "text": [
      "WARNING:root:That's 100 lines that end in a tokenized period ('.')\n",
      "WARNING:root:It looks like you forgot to detokenize your test data, which may hurt your score.\n",
      "WARNING:root:If you insist your data is detokenized, or don't care, you can suppress this message with '--force'.\n"
     ]
    },
    {
     "name": "stdout",
     "output_type": "stream",
     "text": [
      "Epoch: 4.72, Train Loss: 0.00, Val Loss: 4.06, Train BLEU: 0.00, Val BLEU: 14.47, Minutes Elapsed: 164.32\n",
      "Sampling from val predictions...\n",
      "Source: những tấm hình không phải là về bản_thân <UNK> .\n",
      "Reference: these images are not of issues . they are\n",
      "Model: <SOS> the are are not a of of <EOS> .\n",
      "\n",
      "Source: cho đến nay , tôi đã giúp lắp_đặt cho 7\n",
      "Reference: since now , i &apos;ve set up seven homes\n",
      "Model: <SOS> so , , i &apos;ve to to seven seven\n",
      "\n",
      "Source: khi người cảnh_sát trung_quốc đến gần họ , tôi đã\n",
      "Reference: as the chinese officer approached my family , i\n",
      "Model: <SOS> when the <UNK> of came to , , i\n",
      "\n"
     ]
    },
    {
     "name": "stderr",
     "output_type": "stream",
     "text": [
      "WARNING:root:That's 100 lines that end in a tokenized period ('.')\n",
      "WARNING:root:It looks like you forgot to detokenize your test data, which may hurt your score.\n",
      "WARNING:root:If you insist your data is detokenized, or don't care, you can suppress this message with '--force'.\n"
     ]
    },
    {
     "name": "stdout",
     "output_type": "stream",
     "text": [
      "Epoch: 4.96, Train Loss: 0.00, Val Loss: 4.06, Train BLEU: 0.00, Val BLEU: 14.16, Minutes Elapsed: 172.71\n",
      "Sampling from val predictions...\n",
      "Source: thật xúc_động và háo_hức . trước đó , tôi từng\n",
      "Reference: now , it was emotional and it was inspiring\n",
      "Model: <SOS> it &apos;s and &apos;s so . that , that\n",
      "\n",
      "Source: vâng , nhảy_múa là một trong những hoạt_động mà con\n",
      "Reference: so , dancing is one of the most human\n",
      "Model: <SOS> well , , is one one the things that\n",
      "\n",
      "Source: tuy_nhiên , sau khi chúng_tôi qua được biên_giới , gia_đình\n",
      "Reference: but even after we got past the border ,\n",
      "Model: <SOS> however , after we , the , , ,\n",
      "\n"
     ]
    },
    {
     "name": "stderr",
     "output_type": "stream",
     "text": [
      "WARNING:root:That's 100 lines that end in a tokenized period ('.')\n",
      "WARNING:root:It looks like you forgot to detokenize your test data, which may hurt your score.\n",
      "WARNING:root:If you insist your data is detokenized, or don't care, you can suppress this message with '--force'.\n"
     ]
    },
    {
     "name": "stdout",
     "output_type": "stream",
     "text": [
      "Epoch: 5.00, Train Loss: 0.00, Val Loss: 4.11, Train BLEU: 0.00, Val BLEU: 13.52, Minutes Elapsed: 174.15\n",
      "Sampling from val predictions...\n",
      "Source: tôi muốn đưa nô_lệ ra ánh_sáng . <EOS> <PAD> <PAD>\n",
      "Reference: i want to shine a light on slavery .\n",
      "Model: <SOS> i wanted to take a the . <EOS> .\n",
      "\n",
      "Source: hàng chục ngàn người bị bắt_làm nô_lệ trong nông_nghiệp ,\n",
      "Reference: tens of hundreds of people are enslaved in agriculture\n",
      "Model: <SOS> millions of people people people who been by the\n",
      "\n",
      "Source: câu_hỏi kế_tiếp mà tôi được nhiều người hỏi là :\n",
      "Reference: okay , so the next question people always ask\n",
      "Model: <SOS> the the the question question thing i i asked\n",
      "\n",
      "Model training completed in 174 minutes with 4.06 best validation loss and 14.47 best validation BLEU.\n"
     ]
    }
   ],
   "source": [
    "for candidate in [0, 0.2, 0.5]: \n",
    "    \n",
    "    print(\"Training with dropout = {}\".format(candidate))\n",
    "    \n",
    "    # overwrite relevant key-value in params \n",
    "    params['enc_dropout'] = candidate \n",
    "    params['dec_dropout'] = candidate\n",
    "    params['model_name'] = '{}-rnn-{}-attn-{}-dropout'.format(SRC_LANG, ATTENTION_TYPE, candidate)\n",
    "    \n",
    "    # instantiate model \n",
    "    encoder = EncoderRNN(rnn_cell_type=RNN_CELL_TYPE, enc_hidden_dim=ENC_HIDDEN_DIM, num_layers=NUM_LAYERS, \n",
    "                         src_max_sentence_len=SRC_MAX_SENTENCE_LEN, enc_dropout=candidate, \n",
    "                         pretrained_word2vec=get_pretrained_emb(vocab[SRC_LANG]['word2vec'], vocab[SRC_LANG]['token2id']))\n",
    "    decoder = DecoderAttnRNN(rnn_cell_type=RNN_CELL_TYPE, dec_hidden_dim=DEC_HIDDEN_DIM, enc_hidden_dim=ENC_HIDDEN_DIM, \n",
    "                             num_layers=NUM_LAYERS, targ_vocab_size=TARG_VOCAB_SIZE, \n",
    "                             src_max_sentence_len=SRC_MAX_SENTENCE_LEN, targ_max_sentence_len=TARG_MAX_SENTENCE_LEN, \n",
    "                             dec_dropout=candidate, attention_type=ATTENTION_TYPE,\n",
    "                             pretrained_word2vec=get_pretrained_emb(vocab[TARG_LANG]['word2vec'], \n",
    "                                                                    vocab[TARG_LANG]['token2id']))\n",
    "    model = EncoderDecoderAttn(encoder, decoder, vocab[TARG_LANG]['token2id']).to(device) \n",
    "    \n",
    "    # train and eval \n",
    "    model, results = train_and_eval(\n",
    "        model=model, loaders_full=loaders_full, loaders_minibatch=loaders_minibatch, loaders_minitrain=loaders_minitrain, \n",
    "        params=params, vocab=vocab, print_intermediate=500, save_checkpoint=True, save_to_log=True, \n",
    "        lazy_eval=True, print_attn=False, inspect_samples=3)"
   ]
  },
  {
   "cell_type": "code",
   "execution_count": 5,
   "metadata": {},
   "outputs": [],
   "source": [
    "experiment_results = summarize_results(load_experiment_log(experiment_name=EXPERIMENT_NAME)[:3])"
   ]
  },
  {
   "cell_type": "code",
   "execution_count": 6,
   "metadata": {},
   "outputs": [
    {
     "data": {
      "text/html": [
       "<div>\n",
       "<style scoped>\n",
       "    .dataframe tbody tr th:only-of-type {\n",
       "        vertical-align: middle;\n",
       "    }\n",
       "\n",
       "    .dataframe tbody tr th {\n",
       "        vertical-align: top;\n",
       "    }\n",
       "\n",
       "    .dataframe thead th {\n",
       "        text-align: right;\n",
       "    }\n",
       "</style>\n",
       "<table border=\"1\" class=\"dataframe\">\n",
       "  <thead>\n",
       "    <tr style=\"text-align: right;\">\n",
       "      <th></th>\n",
       "      <th>experiment_name</th>\n",
       "      <th>model_name</th>\n",
       "      <th>enc_dropout</th>\n",
       "      <th>dec_dropout</th>\n",
       "      <th>best_val_loss</th>\n",
       "      <th>best_val_bleu</th>\n",
       "      <th>total_params</th>\n",
       "      <th>trainable_params</th>\n",
       "      <th>runtime</th>\n",
       "    </tr>\n",
       "  </thead>\n",
       "  <tbody>\n",
       "    <tr>\n",
       "      <th>0</th>\n",
       "      <td>hyperparameter_tuning_dropout</td>\n",
       "      <td>vi-rnn-additive-attn-0.5-dropout</td>\n",
       "      <td>0.5</td>\n",
       "      <td>0.5</td>\n",
       "      <td>4.057284</td>\n",
       "      <td>14.469774</td>\n",
       "      <td>71591344</td>\n",
       "      <td>53591344</td>\n",
       "      <td>174.153561</td>\n",
       "    </tr>\n",
       "    <tr>\n",
       "      <th>1</th>\n",
       "      <td>hyperparameter_tuning_dropout</td>\n",
       "      <td>vi-rnn-additive-attn-0.2-dropout</td>\n",
       "      <td>0.2</td>\n",
       "      <td>0.2</td>\n",
       "      <td>4.016226</td>\n",
       "      <td>15.693968</td>\n",
       "      <td>71591344</td>\n",
       "      <td>53591344</td>\n",
       "      <td>174.202912</td>\n",
       "    </tr>\n",
       "    <tr>\n",
       "      <th>2</th>\n",
       "      <td>hyperparameter_tuning_dropout</td>\n",
       "      <td>vi-rnn-additive-attn-0-dropout</td>\n",
       "      <td>0.0</td>\n",
       "      <td>0.0</td>\n",
       "      <td>4.046271</td>\n",
       "      <td>16.064697</td>\n",
       "      <td>71591344</td>\n",
       "      <td>53591344</td>\n",
       "      <td>173.459609</td>\n",
       "    </tr>\n",
       "  </tbody>\n",
       "</table>\n",
       "</div>"
      ],
      "text/plain": [
       "                 experiment_name                        model_name  \\\n",
       "0  hyperparameter_tuning_dropout  vi-rnn-additive-attn-0.5-dropout   \n",
       "1  hyperparameter_tuning_dropout  vi-rnn-additive-attn-0.2-dropout   \n",
       "2  hyperparameter_tuning_dropout    vi-rnn-additive-attn-0-dropout   \n",
       "\n",
       "   enc_dropout  dec_dropout  best_val_loss  best_val_bleu  total_params  \\\n",
       "0          0.5          0.5       4.057284      14.469774      71591344   \n",
       "1          0.2          0.2       4.016226      15.693968      71591344   \n",
       "2          0.0          0.0       4.046271      16.064697      71591344   \n",
       "\n",
       "   trainable_params     runtime  \n",
       "0          53591344  174.153561  \n",
       "1          53591344  174.202912  \n",
       "2          53591344  173.459609  "
      ]
     },
     "execution_count": 6,
     "metadata": {},
     "output_type": "execute_result"
    }
   ],
   "source": [
    "experiment_results[['experiment_name', 'model_name', 'enc_dropout', 'dec_dropout', 'best_val_loss', 'best_val_bleu', \n",
    "                    'total_params', 'trainable_params', 'runtime']]"
   ]
  },
  {
   "cell_type": "code",
   "execution_count": 8,
   "metadata": {},
   "outputs": [
    {
     "data": {
      "image/png": "[encoded data removed]",
      "text/plain": [
       "<Figure size 1008x360 with 2 Axes>"
      ]
     },
     "metadata": {},
     "output_type": "display_data"
    }
   ],
   "source": [
    "plot_multiple_learning_curves(experiment_results, 'enc_dropout', 'Dropout')"
   ]
  }
 ],
 "metadata": {
  "kernelspec": {
   "display_name": "Python 3",
   "language": "python",
   "name": "python3"
  },
  "language_info": {
   "codemirror_mode": {
    "name": "ipython",
    "version": 3
   },
   "file_extension": ".py",
   "mimetype": "text/x-python",
   "name": "python",
   "nbconvert_exporter": "python",
   "pygments_lexer": "ipython3",
   "version": "3.5.3"
  }
 },
 "nbformat": 4,
 "nbformat_minor": 2
}
