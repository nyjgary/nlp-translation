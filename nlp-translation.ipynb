{
 "cells": [
  {
   "cell_type": "code",
   "execution_count": 25,
   "metadata": {},
   "outputs": [],
   "source": [
    "import numpy as np \n",
    "import pandas as pd \n",
    "import matplotlib.pyplot as plt \n",
    "import torch\n",
    "import torch.nn as nn \n",
    "import torch.nn.functional as F\n",
    "from torch.utils.data import Dataset\n",
    "from torch.utils.data import DataLoader\n",
    "from io import open\n",
    "from collections import Counter\n",
    "from functools import partial\n",
    "import unicodedata\n",
    "import re\n",
    "%matplotlib inline"
   ]
  },
  {
   "cell_type": "markdown",
   "metadata": {},
   "source": [
    "# Process Data"
   ]
  },
  {
   "cell_type": "code",
   "execution_count": 2,
   "metadata": {},
   "outputs": [],
   "source": [
    "BATCH_SIZE = 32\n",
    "RESERVED_TOKENS = {'<SOS>': 0, '<EOS>': 1, '<PAD>': 2, '<UNK>': 3}"
   ]
  },
  {
   "cell_type": "code",
   "execution_count": 48,
   "metadata": {},
   "outputs": [],
   "source": [
    "def text2tokens(raw_text_fp): \n",
    "    \"\"\" Takes filepath to raw text and outputs a list of lists, each representing a sentence of words (tokens) \"\"\"\n",
    "    with open(raw_text_fp) as f:\n",
    "        tokens_data = [line.lower().split() for line in f.readlines()]       \n",
    "        tokens_data = [datum + ['<EOS>'] for datum in tokens_data]\n",
    "    return tokens_data \n",
    "\n",
    "def build_vocab(token_lists, max_vocab_size=10000): \n",
    "    \"\"\" Takes lists of tokens (representing sentences of words) and max_vocab_size and returns: \n",
    "        - id2token: list of tokens, where id2token[i] returns token that corresponds to i-th token \n",
    "        - token2id: dictionary where keys represent tokens and corresponding values represent their indices\n",
    "    \"\"\"\n",
    "    all_tokens = [token for sublist in token_lists for token in sublist]\n",
    "    token_counter = Counter(all_tokens)\n",
    "    vocab, count = zip(*token_counter.most_common(max_vocab_size))\n",
    "    id2token = list(vocab)\n",
    "    token2id = dict(zip(vocab, range(len(RESERVED_TOKENS), len(RESERVED_TOKENS)+len(vocab))))\n",
    "    id2token = list(RESERVED_TOKENS.keys()) + id2token \n",
    "    for t in RESERVED_TOKENS: \n",
    "        token2id[t] = RESERVED_TOKENS[t]\n",
    "    return token2id, id2token \n",
    "\n",
    "def tokens2indices(tokens_data, token2id): \n",
    "    \"\"\" Takes tokenized data and token2id dictionary and returns indexed data \"\"\"\n",
    "    indices_data = [] \n",
    "    for datum in tokens_data: \n",
    "        indices_datum = [token2id[token] if token in token2id else RESERVED_TOKENS['<UNK>'] for token in datum ]\n",
    "        indices_data.append(indices_datum)    \n",
    "    return indices_data\n",
    "\n",
    "def get_filepath(split, in_lang, out_lang, order): \n",
    "    \"\"\" Locates data filepath given data split type (train/dev/test), translation pairs (in_lang -> out_lang), \n",
    "        and the order (i.e. whether the file is input or output lang) \n",
    "    \"\"\"\n",
    "    folder_name = \"data/iwslt-{}-{}/\".format(in_lang, out_lang)\n",
    "    if order == 'input': \n",
    "        file_name = \"{}.tok.{}\".format(split, in_lang)\n",
    "    elif order == 'output': \n",
    "        file_name = \"{}.tok.{}\".format(split, out_lang)\n",
    "    return folder_name + file_name \n",
    "\n",
    "def get_filepaths(in_lang, out_lang): \n",
    "    \"\"\" Takes language names to be translated from and to (in_lang and out_lang respectively) as inputs, \n",
    "        returns a nested dictionary containing the filepaths for input/output data for train/dev/test sets  \n",
    "    \"\"\"\n",
    "    fps = {} \n",
    "    for split in ['train', 'dev', 'test']: \n",
    "        fps[split] = {} \n",
    "        for order in ['input', 'output']: \n",
    "            fps[split][order] = {} \n",
    "            fps[split][order]['filepath'] = get_filepath(split, in_lang, out_lang, order)\n",
    "    return fps \n",
    "    \n",
    "def process_data(in_lang, out_lang, in_max_vocab_size=10000, out_max_vocab_size=10000): \n",
    "    \"\"\" Takes language names to be translated from and to (in_lang and out_lang respectively) as inputs \n",
    "        and returns as a nested dictionary containing: \n",
    "        - train_indices, val_indices, test_indices (as lists of input-output tuples)\n",
    "        - train_tokens, val_tokens, test_tokens (as lists of input-output tuples)\n",
    "        - input language's token2id and id2token \n",
    "        - output language's token2id and id2token\n",
    "    \"\"\"\n",
    "    \n",
    "    # get filepaths \n",
    "    data = get_filepaths(in_lang, out_lang)\n",
    "    data['train']['input']['max_vocab_size'] = in_max_vocab_size\n",
    "    data['train']['output']['max_vocab_size'] = out_max_vocab_size    \n",
    "    \n",
    "    # loop through each file, read in text, convert to tokens, then to indices \n",
    "    for split in ['train', 'dev', 'test']: \n",
    "        for order in ['input', 'output']: \n",
    "            \n",
    "            # read in tokens \n",
    "            data[split][order]['tokens'] = text2tokens(data[split][order]['filepath'])\n",
    "            \n",
    "            # build vocab from training data\n",
    "            if split == 'train': \n",
    "                data['train'][order]['token2id'], data['train'][order]['id2token'] = build_vocab(\n",
    "                    data['train'][order]['tokens'], data['train'][order]['max_vocab_size']) \n",
    "                \n",
    "            # convert tokens to indices \n",
    "            data[split][order]['indices'] = tokens2indices(\n",
    "                data[split][order]['tokens'], data['train'][order]['token2id'])\n",
    "            \n",
    "    return data"
   ]
  },
  {
   "cell_type": "code",
   "execution_count": 49,
   "metadata": {},
   "outputs": [],
   "source": [
    "data = process_data('zh', 'en', in_max_vocab_size=10000, out_max_vocab_size=10000)"
   ]
  },
  {
   "cell_type": "code",
   "execution_count": 50,
   "metadata": {},
   "outputs": [
    {
     "data": {
      "text/plain": [
       "['深海', '海中', '的', '生命', '大卫', '盖罗', '<EOS>']"
      ]
     },
     "execution_count": 50,
     "metadata": {},
     "output_type": "execute_result"
    }
   ],
   "source": [
    "data['train']['input']['tokens'][0]"
   ]
  },
  {
   "cell_type": "code",
   "execution_count": 51,
   "metadata": {},
   "outputs": [
    {
     "data": {
      "text/plain": [
       "<matplotlib.axes._subplots.AxesSubplot at 0x19588ee10>"
      ]
     },
     "execution_count": 51,
     "metadata": {},
     "output_type": "execute_result"
    },
    {
     "data": {
      "image/png": "[encoded data removed]",
      "text/plain": [
       "<Figure size 432x288 with 1 Axes>"
      ]
     },
     "metadata": {
      "needs_background": "light"
     },
     "output_type": "display_data"
    }
   ],
   "source": [
    "pd.Series(np.array([len(l) for l in data['train']['input']['indices']])).hist(bins=100)"
   ]
  },
  {
   "cell_type": "code",
   "execution_count": 52,
   "metadata": {},
   "outputs": [
    {
     "data": {
      "text/plain": [
       "<matplotlib.axes._subplots.AxesSubplot at 0x163869080>"
      ]
     },
     "execution_count": 52,
     "metadata": {},
     "output_type": "execute_result"
    },
    {
     "data": {
      "image/png": "[encoded data removed]",
      "text/plain": [
       "<Figure size 432x288 with 1 Axes>"
      ]
     },
     "metadata": {
      "needs_background": "light"
     },
     "output_type": "display_data"
    }
   ],
   "source": [
    "pd.Series(np.array([len(l) for l in data['train']['output']['indices']])).hist(bins=100)"
   ]
  },
  {
   "cell_type": "code",
   "execution_count": 53,
   "metadata": {},
   "outputs": [],
   "source": [
    "class TranslationDataset(Dataset): \n",
    "    \"\"\" \n",
    "    Class that represents a train/validation/test/dataset that's readable for Pytorch. \n",
    "    Note that this class inherits torch.utils.data.Dataset\n",
    "    \"\"\"\n",
    "    def __init__(self, input_list, output_list, max_sentence_len_in, max_sentence_len_out):\n",
    "        \"\"\" \n",
    "        Initialize dataset by passing in a list of input indices and a list of output indices \n",
    "        \"\"\"\n",
    "        self.input_list = input_list\n",
    "        self.output_list = output_list\n",
    "        self.max_sentence_len_in = max_sentence_len_in\n",
    "        self.max_sentence_len_out = max_sentence_len_out\n",
    "        assert (len(self.input_list) == len(self.output_list))\n",
    "        \n",
    "    def __len__(self): \n",
    "        return len(self.input_list)\n",
    "    \n",
    "    def __getitem__(self, key): \n",
    "        \"\"\" \n",
    "        Triggered when dataset[i] is called, outputs lists of input and output indices, as well as their \n",
    "        respective lengths\n",
    "        \"\"\"\n",
    "        in_idx = self.input_list[key][:self.max_sentence_len_in]\n",
    "        in_len = len(in_idx)\n",
    "        out_idx = self.output_list[key][:self.max_sentence_len_out]\n",
    "        out_len = len(out_idx)\n",
    "        return [in_idx, out_idx, in_len, out_len]\n",
    "    \n",
    "def collate_func(max_sentence_len_in, max_sentence_len_out, batch): \n",
    "    \"\"\" Customized function for DataLoader that dynamically pads the batch so that all data have the same length\"\"\"\n",
    "    \n",
    "    in_idxs = [] \n",
    "    out_idxs = [] \n",
    "    in_lens = [] \n",
    "    out_lens = [] \n",
    "    \n",
    "    for datum in batch: \n",
    "        # append original lengths of sequences \n",
    "        in_lens.append(datum[2]) \n",
    "        out_lens.append(datum[3])\n",
    "        \n",
    "        # pad sequences before appending \n",
    "        in_idx_padded = np.pad(array=np.array(datum[0]), pad_width = ((0, max_sentence_len_in - datum[2])), \n",
    "                               mode='constant', constant_values= 0)\n",
    "        out_idx_padded = np.pad(array=np.array(datum[1]), pad_width = ((0, max_sentence_len_out - datum[3])), \n",
    "                                mode='constant', constant_values= 0)\n",
    "        in_idxs.append(in_idx_padded)\n",
    "        out_idxs.append(out_idx_padded)\n",
    "    \n",
    "    return [torch.from_numpy(np.array(in_idxs)), torch.from_numpy(np.array(out_idxs)), \n",
    "            torch.LongTensor(in_lens), torch.LongTensor(out_lens)]\n",
    "\n",
    "def create_dataloaders(processed_data, max_sentence_len_in, max_sentence_len_out): \n",
    "    \"\"\" Takes processed_data as dictionary output from process_data func, maximum sentence lengths, \n",
    "        and outputs train_loader, dev_loader, and test_loaders \n",
    "    \"\"\"\n",
    "    loaders = {} \n",
    "    for split in ['train', 'dev', 'test']: \n",
    "        dataset = TranslationDataset(data[split]['input']['indices'], data[split]['output']['indices'], \n",
    "                                     max_sentence_len_in, max_sentence_len_out)\n",
    "        loaders[split] = DataLoader(dataset, batch_size=BATCH_SIZE, shuffle=False, \n",
    "                                    collate_fn=partial(collate_func, max_sentence_len_in, max_sentence_len_out))\n",
    "    return loaders['train'], loaders['dev'], loaders['test']"
   ]
  },
  {
   "cell_type": "code",
   "execution_count": 54,
   "metadata": {},
   "outputs": [],
   "source": [
    "MAX_SENTENCE_LEN_IN = 20 \n",
    "MAX_SENTENCE_LEN_OUT = 20\n",
    "data = process_data('zh', 'en', in_max_vocab_size=10000, out_max_vocab_size=10000)\n",
    "train_loader, dev_loader, test_loader = create_dataloaders(data, MAX_SENTENCE_LEN_IN, MAX_SENTENCE_LEN_OUT)"
   ]
  },
  {
   "cell_type": "code",
   "execution_count": 58,
   "metadata": {},
   "outputs": [
    {
     "name": "stdout",
     "output_type": "stream",
     "text": [
      "0\n",
      "torch.Size([32, 20])\n",
      "tensor([[3811, 3500,    4,  206, 1762,    3,    1,    0,    0,    0,    0,    0,\n",
      "            0,    0,    0,    0,    0,    0,    0,    0],\n",
      "        [1762,    3,  125, 2375,    3, 4962,    4, 2103,   40,    8, 1696,   10,\n",
      "          296,  119, 2033,  119,    3,  199,   24, 4378],\n",
      "        [1762,    3, 1190,    7, 2315,    3,    6,    7, 1762,    3,    1,    0,\n",
      "            0,    0,    0,    0,    0,    0,    0,    0],\n",
      "        [   8,   53,   85,   68, 2103, 2008,  836,   68, 3811, 3439,    4,  147,\n",
      "            1,    0,    0,    0,    0,    0,    0,    0],\n",
      "        [   8,   12,   16, 2592, 2270,    4,    3,    3,    3, 3523,    4, 2103,\n",
      "         5333,  984,  196, 1947,  474,    1,    0,    0],\n",
      "        [   3,    3,    3,    3, 3523, 1346,    7,  625,   10, 2592,    3, 5019,\n",
      "           37,  143,  211,   17,   72,   56,  145,    3],\n",
      "        [ 287,  487,    8,  231,  394,   40,  612,    3, 1993,    3, 2995,    1,\n",
      "            0,    0,    0,    0,    0,    0,    0,    0],\n",
      "        [ 117,  900,  612, 1734,   10,  296,    3, 1763,    4, 3846,    1,    0,\n",
      "            0,    0,    0,    0,    0,    0,    0,    0],\n",
      "        [ 296,    4,  610,  624,  135,   23,    7, 3480,    1,    0,    0,    0,\n",
      "            0,    0,    0,    0,    0,    0,    0,    0],\n",
      "        [ 612,    4,  926, 3501,    7,    3,  868,    1,    0,    0,    0,    0,\n",
      "            0,    0,    0,    0,    0,    0,    0,    0],\n",
      "        [  57,   11,  684,    9, 4553,   38,  546,   57,   11,   73,  612,   79,\n",
      "            4,  951,   57,   11,  649,  204, 1501, 6379],\n",
      "        [ 246, 4154,  296,   38, 8623,    4, 4114,   23,    9,  612,   79,    1,\n",
      "            0,    0,    0,    0,    0,    0,    0,    0],\n",
      "        [ 610,  624,  135,    4,  253,   24,   23,  115,    9,  612,   79,    1,\n",
      "            0,    0,    0,    0,    0,    0,    0,    0],\n",
      "        [ 427,  490,  390, 3064,   15, 4285,    3,   24,   23,  107,  671,  612,\n",
      "           79,    9,  612,    4,  119, 2883,    1,    0],\n",
      "        [ 612,   79,  193,    4, 1310, 2093,   15, 2490,   52,  186, 3013,    3,\n",
      "           83,  347,    1,    0,    0,    0,    0,    0],\n",
      "        [ 740,  331,  787,   23,   39,   46,  749,    3,   54,   82,   25, 1011,\n",
      "            4,    3,   17,  980,    3,    8,   72,   46],\n",
      "        [  37,    6,   50,  132,   11,    4,    7,   57,   11,  684,    9,    3,\n",
      "           92,   11,  700,    4,    7,   13,  208, 2279],\n",
      "        [   8, 9619,   65, 1159,    4, 2405,  416, 4903,  985,  173, 2279,    4,\n",
      "           61,    1,    0,    0,    0,    0,    0,    0],\n",
      "        [   8,   85,    4,    7, 3811, 2375,    3,    3, 1346,   15, 1665, 2964,\n",
      "         1665, 2964,    7, 2315,    3,   15,    3,  728],\n",
      "        [   3, 4472,    3,    3, 1317,   27,   97,  212,    4,  705,    3,   56,\n",
      "          189,  157,    4,  101,  314,  189,  241,  157],\n",
      "        [  15,    8,  396,    4,   77,  970,    8,  241,   10,  157,    4, 2128,\n",
      "            8,  305,   73,   10, 1375,   89,  210,    4],\n",
      "        [  12,    7,  592, 4379,    1,    0,    0,    0,    0,    0,    0,    0,\n",
      "            0,    0,    0,    0,    0,    0,    0,    0],\n",
      "        [   7,    6,  119,  197,    4,   32,   17,  893,   23, 8992,    1,    0,\n",
      "            0,    0,    0,    0,    0,    0,    0,    0],\n",
      "        [1891,   17,    7,  612, 3745, 8623,    4,  193,    1,    0,    0,    0,\n",
      "            0,    0,    0,    0,    0,    0,    0,    0],\n",
      "        [  17,   22, 7463,    3, 2946, 1001,  466,    1,    0,    0,    0,    0,\n",
      "            0,    0,    0,    0,    0,    0,    0,    0],\n",
      "        [  73,   25,    9, 3625,    4,   88,   10,  122,    1,    0,    0,    0,\n",
      "            0,    0,    0,    0,    0,    0,    0,    0],\n",
      "        [   6, 1389,  197,   25,   88,    1,    0,    0,    0,    0,    0,    0,\n",
      "            0,    0,    0,    0,    0,    0,    0,    0],\n",
      "        [4115,   25,   23,    7,    3,   66,    3,    3, 2735,    3,    4,    3,\n",
      "            1,    0,    0,    0,    0,    0,    0,    0],\n",
      "        [ 120,   25, 8822,   80, 2187,    3,    4,    3,    1,    0,    0,    0,\n",
      "            0,    0,    0,    0,    0,    0,    0,    0],\n",
      "        [  12,    7,   87, 4509,    3,  253,    1,    0,    0,    0,    0,    0,\n",
      "            0,    0,    0,    0,    0,    0,    0,    0],\n",
      "        [ 246,   66,   23,    7,  248, 3256,    4,  253, 1026, 2316, 2584,  154,\n",
      "           18,  597,   10,   47,  179,    4,   13,  193],\n",
      "        [ 120, 1684,    4,   19,    7, 2715, 2391,   17, 2376, 3356, 2159, 2018,\n",
      "         1490,   17,  120,   68,  943,    1,    0,    0]])\n",
      "tensor([ 7, 20, 11, 13, 18, 20, 12, 11,  9,  8, 20, 12, 12, 19, 15, 20, 20, 14,\n",
      "        20, 20, 20,  5, 11,  9,  8,  9,  6, 13,  9,  7, 20, 18])\n"
     ]
    }
   ],
   "source": [
    "for i, (in_idxs, out_idxs, in_lens, out_lens) in enumerate(train_loader):\n",
    "    print(i)\n",
    "    print(in_idxs.size())\n",
    "    print(in_idxs)\n",
    "    print(in_lens)\n",
    "    break "
   ]
  }
 ],
 "metadata": {
  "kernelspec": {
   "display_name": "Python 3",
   "language": "python",
   "name": "python3"
  },
  "language_info": {
   "codemirror_mode": {
    "name": "ipython",
    "version": 3
   },
   "file_extension": ".py",
   "mimetype": "text/x-python",
   "name": "python",
   "nbconvert_exporter": "python",
   "pygments_lexer": "ipython3",
   "version": "3.6.6"
  }
 },
 "nbformat": 4,
 "nbformat_minor": 2
}
