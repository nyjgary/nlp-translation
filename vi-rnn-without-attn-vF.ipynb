{
 "cells": [
  {
   "cell_type": "code",
   "execution_count": 1,
   "metadata": {},
   "outputs": [],
   "source": [
    "import numpy as np \n",
    "import pandas as pd \n",
    "import torch\n",
    "from data_processing import generate_vocab, process_data, create_dataloaders\n",
    "from model import get_pretrained_emb, EncoderRNN, DecoderRNN, DecoderAttnRNN, EncoderDecoder, EncoderDecoderAttn\n",
    "from train_eval import evaluate, train_and_eval, summarize_results, plot_single_learning_curve, load_experiment_log\n",
    "import pickle as pkl \n",
    "from datetime import datetime\n",
    "device = torch.device(\"cuda\" if torch.cuda.is_available() else \"cpu\")"
   ]
  },
  {
   "cell_type": "code",
   "execution_count": 2,
   "metadata": {},
   "outputs": [],
   "source": [
    "# params required for generating data loaders \n",
    "\n",
    "SRC_LANG = 'vi'\n",
    "TARG_LANG = 'en'\n",
    "\n",
    "SRC_MAX_SENTENCE_LEN = 10\n",
    "TARG_MAX_SENTENCE_LEN = 10\n",
    "SRC_VOCAB_SIZE = 30000 \n",
    "TARG_VOCAB_SIZE = 30000 \n",
    "\n",
    "BATCH_SIZE = 64 "
   ]
  },
  {
   "cell_type": "code",
   "execution_count": 3,
   "metadata": {},
   "outputs": [],
   "source": [
    "# takes a long time to process, save to pickle for reimport in future \n",
    "# vocab = generate_vocab(SRC_LANG, TARG_LANG, SRC_VOCAB_SIZE, TARG_VOCAB_SIZE)\n",
    "# vocab_filename = \"{}-{}-vocab.p\".format(SRC_LANG, TARG_LANG)\n",
    "# pkl.dump(vocab, open(vocab_filename, \"wb\"))"
   ]
  },
  {
   "cell_type": "code",
   "execution_count": 4,
   "metadata": {},
   "outputs": [],
   "source": [
    "# reload from pickle \n",
    "vocab_filename = \"{}-{}-vocab.p\".format(SRC_LANG, TARG_LANG)\n",
    "vocab = pkl.load(open(vocab_filename, \"rb\"))\n",
    "data = process_data(SRC_LANG, TARG_LANG, SRC_MAX_SENTENCE_LEN, TARG_MAX_SENTENCE_LEN, vocab, filter_long=False)\n",
    "data_minibatch = process_data(SRC_LANG, TARG_LANG, SRC_MAX_SENTENCE_LEN, TARG_MAX_SENTENCE_LEN, vocab, sample_limit=BATCH_SIZE, filter_long=False) \n",
    "data_minitrain = process_data(SRC_LANG, TARG_LANG, SRC_MAX_SENTENCE_LEN, TARG_MAX_SENTENCE_LEN, vocab, sample_limit=1000, filter_long=False)"
   ]
  },
  {
   "cell_type": "code",
   "execution_count": 5,
   "metadata": {},
   "outputs": [],
   "source": [
    "# create dataloaders \n",
    "loaders_full = create_dataloaders(data, SRC_MAX_SENTENCE_LEN, TARG_MAX_SENTENCE_LEN, BATCH_SIZE)\n",
    "loaders_minibatch = create_dataloaders(data_minibatch, SRC_MAX_SENTENCE_LEN, TARG_MAX_SENTENCE_LEN, BATCH_SIZE)\n",
    "loaders_minitrain = create_dataloaders(data_minitrain, SRC_MAX_SENTENCE_LEN, TARG_MAX_SENTENCE_LEN, BATCH_SIZE)"
   ]
  },
  {
   "cell_type": "code",
   "execution_count": 6,
   "metadata": {},
   "outputs": [],
   "source": [
    "# model architecture params \n",
    "NETWORK_TYPE = 'rnn'\n",
    "RNN_CELL_TYPE = 'gru'\n",
    "NUM_LAYERS = 2 \n",
    "ENC_HIDDEN_DIM = 512\n",
    "DEC_HIDDEN_DIM = 2 * ENC_HIDDEN_DIM \n",
    "TEACHER_FORCING_RATIO = 1\n",
    "CLIP_GRAD_MAX_NORM = 1\n",
    "ENC_DROPOUT = 0 \n",
    "DEC_DROPOUT = 0  \n",
    "ATTENTION_TYPE = 'without'\n",
    "\n",
    "# training params  \n",
    "NUM_EPOCHS = 10 \n",
    "LR = 0.00015 \n",
    "OPTIMIZER = 'Adam'\n",
    "LAZY_TRAIN = False\n",
    "\n",
    "# name the model and experiment \n",
    "if NETWORK_TYPE == 'rnn': \n",
    "    EXPERIMENT_NAME = '{}-rnn-{}-attn'.format(SRC_LANG, ATTENTION_TYPE)\n",
    "elif NETWORK_TYPE == 'cnn': \n",
    "    EXPERIMENT_NAME = '{}-cnn'.format(SRC_LANG)\n",
    "MODEL_NAME = '{}-{}'.format(EXPERIMENT_NAME, datetime.now().strftime('%Y-%m-%d %H:%M:%S'))"
   ]
  },
  {
   "cell_type": "code",
   "execution_count": 7,
   "metadata": {},
   "outputs": [],
   "source": [
    "# store as dict to save to results later \n",
    "params = {'experiment_name': EXPERIMENT_NAME,'model_name': MODEL_NAME, 'src_lang': SRC_LANG, 'targ_lang': TARG_LANG, \n",
    "          'rnn_cell_type': RNN_CELL_TYPE, 'src_max_sentence_len': SRC_MAX_SENTENCE_LEN, \n",
    "          'targ_max_sentence_len': TARG_MAX_SENTENCE_LEN, 'src_vocab_size': SRC_VOCAB_SIZE, \n",
    "          'targ_vocab_size': TARG_VOCAB_SIZE, 'num_layers': NUM_LAYERS, 'enc_hidden_dim': ENC_HIDDEN_DIM, \n",
    "          'dec_hidden_dim': DEC_HIDDEN_DIM, 'teacher_forcing_ratio': TEACHER_FORCING_RATIO, \n",
    "          'clip_grad_max_norm': CLIP_GRAD_MAX_NORM, 'enc_dropout': ENC_DROPOUT, 'dec_dropout': DEC_DROPOUT, \n",
    "          'attention_type': ATTENTION_TYPE, 'batch_size': BATCH_SIZE, 'num_epochs': NUM_EPOCHS, \n",
    "          'learning_rate': LR, 'optimizer': OPTIMIZER, 'lazy_train': LAZY_TRAIN} "
   ]
  },
  {
   "cell_type": "code",
   "execution_count": 8,
   "metadata": {},
   "outputs": [],
   "source": [
    "# define model \n",
    "\n",
    "encoder = EncoderRNN(rnn_cell_type=RNN_CELL_TYPE, enc_hidden_dim=ENC_HIDDEN_DIM, num_layers=NUM_LAYERS, \n",
    "                     src_max_sentence_len=SRC_MAX_SENTENCE_LEN, enc_dropout=ENC_DROPOUT, \n",
    "                     pretrained_word2vec=get_pretrained_emb(vocab[SRC_LANG]['word2vec'], vocab[SRC_LANG]['token2id']))\n",
    "\n",
    "if ATTENTION_TYPE == 'without': \n",
    "    # without attention \n",
    "    decoder = DecoderRNN(dec_hidden_dim=DEC_HIDDEN_DIM, enc_hidden_dim=ENC_HIDDEN_DIM, num_layers=NUM_LAYERS,\n",
    "                         targ_vocab_size=TARG_VOCAB_SIZE, targ_max_sentence_len=TARG_MAX_SENTENCE_LEN, \n",
    "                         pretrained_word2vec=get_pretrained_emb(vocab[TARG_LANG]['word2vec'], \n",
    "                                                                vocab[TARG_LANG]['token2id']))\n",
    "    model = EncoderDecoder(encoder, decoder, vocab[TARG_LANG]['token2id']).to(device)\n",
    "    \n",
    "else: \n",
    "    # with attention \n",
    "    decoder = DecoderAttnRNN(rnn_cell_type=RNN_CELL_TYPE, dec_hidden_dim=DEC_HIDDEN_DIM, enc_hidden_dim=ENC_HIDDEN_DIM, \n",
    "                             num_layers=NUM_LAYERS, targ_vocab_size=TARG_VOCAB_SIZE, \n",
    "                             src_max_sentence_len=SRC_MAX_SENTENCE_LEN, targ_max_sentence_len=TARG_MAX_SENTENCE_LEN, \n",
    "                             dec_dropout=DEC_DROPOUT, attention_type=ATTENTION_TYPE,\n",
    "                             pretrained_word2vec=get_pretrained_emb(vocab[TARG_LANG]['word2vec'], \n",
    "                                                                    vocab[TARG_LANG]['token2id']))\n",
    "    model = EncoderDecoderAttn(encoder, decoder, vocab[TARG_LANG]['token2id']).to(device) "
   ]
  },
  {
   "cell_type": "code",
   "execution_count": 9,
   "metadata": {
    "scrolled": false
   },
   "outputs": [
    {
     "name": "stderr",
     "output_type": "stream",
     "text": [
      "WARNING:root:That's 100 lines that end in a tokenized period ('.')\n",
      "WARNING:root:It looks like you forgot to detokenize your test data, which may hurt your score.\n",
      "WARNING:root:If you insist your data is detokenized, or don't care, you can suppress this message with '--force'.\n"
     ]
    },
    {
     "name": "stdout",
     "output_type": "stream",
     "text": [
      "Epoch: 0.00, Train Loss: 0.00, Val Loss: 10.26, Train BLEU: 0.00, Val BLEU: 0.02, Minutes Elapsed: 0.09\n",
      "Sampling from val predictions...\n",
      "Source: chiếc kimono trong bức ảnh này gần_như phải được vẽ\n",
      "Reference: the <UNK> in this shot pretty much had to\n",
      "Model: <SOS> co-workers of of of of of to to to\n",
      "\n",
      "Source: chúng_tôi đã giúp khởi_động 40,000 công_việc làm_ăn . <EOS> <PAD>\n",
      "Reference: we have helped to start 40,000 businesses . <EOS>\n",
      "Model: <SOS> drought . . . . . . . .\n",
      "\n",
      "Source: tôi đã nói chúng_tôi phát_minh ra một cái máy công_nghiệp\n",
      "Reference: so i said we have such an industrial machine\n",
      "Model: <SOS> of of of of of to to to to\n",
      "\n"
     ]
    },
    {
     "name": "stderr",
     "output_type": "stream",
     "text": [
      "WARNING:root:That's 100 lines that end in a tokenized period ('.')\n",
      "WARNING:root:It looks like you forgot to detokenize your test data, which may hurt your score.\n",
      "WARNING:root:If you insist your data is detokenized, or don't care, you can suppress this message with '--force'.\n"
     ]
    },
    {
     "name": "stdout",
     "output_type": "stream",
     "text": [
      "Epoch: 0.24, Train Loss: 0.00, Val Loss: 6.06, Train BLEU: 0.00, Val BLEU: 0.75, Minutes Elapsed: 9.47\n",
      "Sampling from val predictions...\n",
      "Source: gấp_đôi số người bị đưa khỏi châu phi trong suốt\n",
      "Reference: that &apos;s double the amount of people taken from\n",
      "Model: <SOS> so , , , , , , , ,\n",
      "\n",
      "Source: vì_vậy tôi giúp thành_lập sola , ngôi trường đầu_tiên và\n",
      "Reference: that &apos;s why i <UNK> <UNK> , the first\n",
      "Model: <SOS> so i , , , , , , ,\n",
      "\n",
      "Source: đó chỉ là những gì tôi cảm_nhận khi trao_đổi với\n",
      "Reference: that &apos;s just how i felt as i had\n",
      "Model: <SOS> so i , , , , , , .\n",
      "\n"
     ]
    },
    {
     "name": "stderr",
     "output_type": "stream",
     "text": [
      "WARNING:root:That's 100 lines that end in a tokenized period ('.')\n",
      "WARNING:root:It looks like you forgot to detokenize your test data, which may hurt your score.\n",
      "WARNING:root:If you insist your data is detokenized, or don't care, you can suppress this message with '--force'.\n"
     ]
    },
    {
     "name": "stdout",
     "output_type": "stream",
     "text": [
      "Epoch: 0.48, Train Loss: 0.00, Val Loss: 5.76, Train BLEU: 0.00, Val BLEU: 2.49, Minutes Elapsed: 21.10\n",
      "Sampling from val predictions...\n",
      "Source: thực_tế , nhiều khả_năng người cơ_bắp này cuối_cùng sẽ giống\n",
      "Reference: in fact , it &apos;s very likely that this\n",
      "Model: <SOS> but , , , , , , , ,\n",
      "\n",
      "Source: chính_xác . <EOS> <PAD> <PAD> <PAD> <PAD> <PAD> <PAD> <PAD>\n",
      "Reference: absolutely . <EOS> <PAD> <PAD> <PAD> <PAD> <PAD> <PAD>\n",
      "Model: <SOS> thank . . <EOS> <EOS> <EOS> <EOS> <EOS> <EOS>\n",
      "\n",
      "Source: cho đến tháng ba , 2011 , tôi làm thợ\n",
      "Reference: before march , 2011 , i was a photographic\n",
      "Model: <SOS> but , , , , , , , ,\n",
      "\n"
     ]
    },
    {
     "name": "stderr",
     "output_type": "stream",
     "text": [
      "WARNING:root:That's 100 lines that end in a tokenized period ('.')\n",
      "WARNING:root:It looks like you forgot to detokenize your test data, which may hurt your score.\n",
      "WARNING:root:If you insist your data is detokenized, or don't care, you can suppress this message with '--force'.\n"
     ]
    },
    {
     "name": "stdout",
     "output_type": "stream",
     "text": [
      "Epoch: 0.72, Train Loss: 0.00, Val Loss: 5.45, Train BLEU: 0.00, Val BLEU: 4.74, Minutes Elapsed: 32.78\n",
      "Sampling from val predictions...\n",
      "Source: lần đầu đến đó , tôi đi xem qua 1\n",
      "Reference: when we first arrived , i went to have\n",
      "Model: <SOS> so , , , , i i a a\n",
      "\n",
      "Source: liệu họ có_thể lưu lại toàn_bộ thông_tin của chúng_ta không\n",
      "Reference: can they really store all this information about us\n",
      "Model: <SOS> so we we the the the the the the\n",
      "\n",
      "Source: người phụ_nữ mang cho chúng_tôi những tấm ảnh này đã\n",
      "Reference: the lady who brought us these photos was lucky\n",
      "Model: <SOS> the the of of the the the the the\n",
      "\n"
     ]
    },
    {
     "name": "stderr",
     "output_type": "stream",
     "text": [
      "WARNING:root:That's 100 lines that end in a tokenized period ('.')\n",
      "WARNING:root:It looks like you forgot to detokenize your test data, which may hurt your score.\n",
      "WARNING:root:If you insist your data is detokenized, or don't care, you can suppress this message with '--force'.\n"
     ]
    },
    {
     "name": "stdout",
     "output_type": "stream",
     "text": [
      "Epoch: 0.96, Train Loss: 0.00, Val Loss: 5.22, Train BLEU: 0.00, Val BLEU: 5.50, Minutes Elapsed: 44.89\n",
      "Sampling from val predictions...\n",
      "Source: ở nam_trung los angeles , mọi người đang chết vì\n",
      "Reference: people are dying from curable diseases in south central\n",
      "Model: <SOS> in in in in in , the the ,\n",
      "\n",
      "Source: đối_với cô , sau hết mọi sự , những bức\n",
      "Reference: for her , despite all of this , those\n",
      "Model: <SOS> so , , , , , , , ,\n",
      "\n",
      "Source: bởi_lẽ ngày_nay , các cơ_quan_chức_năng và công_ty muốn lưu lại\n",
      "Reference: because today , state agencies and companies want to\n",
      "Model: <SOS> in , , the , , the , the\n",
      "\n"
     ]
    },
    {
     "name": "stderr",
     "output_type": "stream",
     "text": [
      "WARNING:root:That's 100 lines that end in a tokenized period ('.')\n",
      "WARNING:root:It looks like you forgot to detokenize your test data, which may hurt your score.\n",
      "WARNING:root:If you insist your data is detokenized, or don't care, you can suppress this message with '--force'.\n"
     ]
    },
    {
     "name": "stdout",
     "output_type": "stream",
     "text": [
      "Epoch: 1.00, Train Loss: 0.00, Val Loss: 5.23, Train BLEU: 0.00, Val BLEU: 5.74, Minutes Elapsed: 46.91\n",
      "Sampling from val predictions...\n",
      "Source: người_làm ở đây thường phải chịu lạm dụng tình_dục thê_thảm\n",
      "Reference: the workers here often endure tragic sexual abuse at\n",
      "Model: <SOS> in , of the the the the the the\n",
      "\n",
      "Source: có_thể sự thiếu_sót không chỉ là về mặt bình_quyền của\n",
      "Reference: maybe what was missing was not the women only\n",
      "Model: <SOS> so , it is that is that is of\n",
      "\n",
      "Source: có một câu_chuyện rất vui mà tôi đọc được trên\n",
      "Reference: there &apos;s a lovely story that i read in\n",
      "Model: <SOS> this &apos;s a a of that i i to\n",
      "\n"
     ]
    },
    {
     "name": "stderr",
     "output_type": "stream",
     "text": [
      "WARNING:root:That's 100 lines that end in a tokenized period ('.')\n",
      "WARNING:root:It looks like you forgot to detokenize your test data, which may hurt your score.\n",
      "WARNING:root:If you insist your data is detokenized, or don't care, you can suppress this message with '--force'.\n"
     ]
    },
    {
     "name": "stdout",
     "output_type": "stream",
     "text": [
      "Epoch: 1.24, Train Loss: 0.00, Val Loss: 5.11, Train BLEU: 0.00, Val BLEU: 6.65, Minutes Elapsed: 58.39\n",
      "Sampling from val predictions...\n",
      "Source: tuy_nhiên , gaddafi đã để lại một gánh_nặng , một\n",
      "Reference: however , gaddafi left behind a heavy burden ,\n",
      "Model: <SOS> so , , was a a a , ,\n",
      "\n",
      "Source: khi tôi gặp , anh ta đã làm việc 14\n",
      "Reference: when i met him , he had been working\n",
      "Model: <SOS> when i was , , i i was to\n",
      "\n",
      "Source: chúng_tôi có_thể thực_hiện tuyển_dụng nhân_sự hàng_loạt với chi_phí thấp để\n",
      "Reference: we can perform low-cost mass recruitment for clinical trials\n",
      "Model: <SOS> we can to to to the the the to\n",
      "\n"
     ]
    },
    {
     "name": "stderr",
     "output_type": "stream",
     "text": [
      "WARNING:root:That's 100 lines that end in a tokenized period ('.')\n",
      "WARNING:root:It looks like you forgot to detokenize your test data, which may hurt your score.\n",
      "WARNING:root:If you insist your data is detokenized, or don't care, you can suppress this message with '--force'.\n"
     ]
    },
    {
     "name": "stdout",
     "output_type": "stream",
     "text": [
      "Epoch: 1.48, Train Loss: 0.00, Val Loss: 4.99, Train BLEU: 0.00, Val BLEU: 6.85, Minutes Elapsed: 69.85\n",
      "Sampling from val predictions...\n",
      "Source: tôi thấy những người trẻ_tuổi muốn được làm_việc , nhưng\n",
      "Reference: i see young people and they want to work\n",
      "Model: <SOS> i want to the , , , , ,\n",
      "\n",
      "Source: tôi là một đứa trẻ của năm 1984 , và\n",
      "Reference: i &apos;m a child of 1984 , and i\n",
      "Model: <SOS> i was a a of the , of ,\n",
      "\n",
      "Source: câu_hỏi tiếp_theo mà người_ta luôn hỏi tôi : \" có_phải\n",
      "Reference: the next question people always ask me is ,\n",
      "Model: <SOS> the the thing , &quot; , &quot; &quot; &quot;\n",
      "\n"
     ]
    },
    {
     "name": "stderr",
     "output_type": "stream",
     "text": [
      "WARNING:root:That's 100 lines that end in a tokenized period ('.')\n",
      "WARNING:root:It looks like you forgot to detokenize your test data, which may hurt your score.\n",
      "WARNING:root:If you insist your data is detokenized, or don't care, you can suppress this message with '--force'.\n"
     ]
    },
    {
     "name": "stdout",
     "output_type": "stream",
     "text": [
      "Epoch: 1.72, Train Loss: 0.00, Val Loss: 4.89, Train BLEU: 0.00, Val BLEU: 7.69, Minutes Elapsed: 81.44\n",
      "Sampling from val predictions...\n",
      "Source: họ không có gì để so_sánh . <EOS> <PAD> <PAD>\n",
      "Reference: they have nothing to compare it to . <EOS>\n",
      "Model: <SOS> they don not . . . . <EOS> .\n",
      "\n",
      "Source: động_cơ đốt trong không bền_vững . <EOS> <PAD> <PAD> <PAD>\n",
      "Reference: the internal combustion engine is not sustainable . <EOS>\n",
      "Model: <SOS> the is is is not . . . <EOS>\n",
      "\n",
      "Source: rồi họ giao cho chúng_tôi một đoạn đường <UNK> ,\n",
      "Reference: so they donated to us a piece of highway\n",
      "Model: <SOS> so they &apos;ve a a a a of ,\n",
      "\n"
     ]
    },
    {
     "name": "stderr",
     "output_type": "stream",
     "text": [
      "WARNING:root:That's 100 lines that end in a tokenized period ('.')\n",
      "WARNING:root:It looks like you forgot to detokenize your test data, which may hurt your score.\n",
      "WARNING:root:If you insist your data is detokenized, or don't care, you can suppress this message with '--force'.\n"
     ]
    },
    {
     "name": "stdout",
     "output_type": "stream",
     "text": [
      "Epoch: 1.96, Train Loss: 0.00, Val Loss: 4.81, Train BLEU: 0.00, Val BLEU: 7.96, Minutes Elapsed: 93.70\n",
      "Sampling from val predictions...\n",
      "Source: chín mươi chín . vâng , một tiến_bộ <UNK> .\n",
      "Reference: ninety-nine . well , that &apos;s an improvement .\n",
      "Model: <SOS> he &apos;s &apos;s , . &apos;s a . .\n",
      "\n",
      "Source: tôi đã có một_chút sợ_hãi . <EOS> <PAD> <PAD> <PAD>\n",
      "Reference: that &apos;s a little bit scary . <EOS> <PAD>\n",
      "Model: <SOS> i i i . . <EOS> <EOS> <EOS> <EOS>\n",
      "\n",
      "Source: câu_hỏi đầu_tiên là : gì cơ ? <EOS> <PAD> <PAD>\n",
      "Reference: first question to answer for us : so what\n",
      "Model: <SOS> so what is is ? <EOS> ? <EOS> ?\n",
      "\n"
     ]
    },
    {
     "name": "stderr",
     "output_type": "stream",
     "text": [
      "WARNING:root:That's 100 lines that end in a tokenized period ('.')\n",
      "WARNING:root:It looks like you forgot to detokenize your test data, which may hurt your score.\n",
      "WARNING:root:If you insist your data is detokenized, or don't care, you can suppress this message with '--force'.\n"
     ]
    },
    {
     "name": "stdout",
     "output_type": "stream",
     "text": [
      "Epoch: 2.00, Train Loss: 0.00, Val Loss: 4.83, Train BLEU: 0.00, Val BLEU: 8.00, Minutes Elapsed: 95.69\n",
      "Sampling from val predictions...\n",
      "Source: tuy_nhiên , sau khi chúng_tôi qua được biên_giới , gia_đình\n",
      "Reference: but even after we got past the border ,\n",
      "Model: <SOS> however , when when , the the the ,\n",
      "\n",
      "Source: vậy chúng_tôi đã làm được gì ? chúng_tôi đang tiến_hành\n",
      "Reference: so what &apos;s being done ? well , we\n",
      "Model: <SOS> so what do we we we we do we\n",
      "\n",
      "Source: đây là sông áp lục nó là biên_giới tự_nhiên giữa\n",
      "Reference: this is the <UNK> river , which serves as\n",
      "Model: <SOS> this is the that of that it &apos;s &apos;s\n",
      "\n"
     ]
    },
    {
     "name": "stderr",
     "output_type": "stream",
     "text": [
      "WARNING:root:That's 100 lines that end in a tokenized period ('.')\n",
      "WARNING:root:It looks like you forgot to detokenize your test data, which may hurt your score.\n",
      "WARNING:root:If you insist your data is detokenized, or don't care, you can suppress this message with '--force'.\n"
     ]
    },
    {
     "name": "stdout",
     "output_type": "stream",
     "text": [
      "Epoch: 2.24, Train Loss: 0.00, Val Loss: 4.77, Train BLEU: 0.00, Val BLEU: 9.04, Minutes Elapsed: 107.75\n",
      "Sampling from val predictions...\n",
      "Source: giải_pháp cho vấn_đề là làm những con đường từ nhựa_đường\n",
      "Reference: the solution for that is to make roads out\n",
      "Model: <SOS> the the thing that is is to to to\n",
      "\n",
      "Source: tôi sử_dụng mảnh vườn , đất trồng như một tấm\n",
      "Reference: i use the garden , the soil , like\n",
      "Model: <SOS> i i , , , , , , ,\n",
      "\n",
      "Source: xin chào . tôi là cameron russell , và trong\n",
      "Reference: hi . my name is cameron russell , and\n",
      "Model: <SOS> &quot; . i i , i , and and\n",
      "\n"
     ]
    },
    {
     "name": "stderr",
     "output_type": "stream",
     "text": [
      "WARNING:root:That's 100 lines that end in a tokenized period ('.')\n",
      "WARNING:root:It looks like you forgot to detokenize your test data, which may hurt your score.\n",
      "WARNING:root:If you insist your data is detokenized, or don't care, you can suppress this message with '--force'.\n"
     ]
    },
    {
     "name": "stdout",
     "output_type": "stream",
     "text": [
      "Epoch: 2.48, Train Loss: 0.00, Val Loss: 4.70, Train BLEU: 0.00, Val BLEU: 8.71, Minutes Elapsed: 119.17\n",
      "Sampling from val predictions...\n",
      "Source: tôi muốn nói_chuyện với các bạn về một nhóm động_vật\n",
      "Reference: i would like to talk to you about a\n",
      "Model: <SOS> i want to to you a a a a\n",
      "\n",
      "Source: bởi_lẽ ngày_nay , các cơ_quan_chức_năng và công_ty muốn lưu lại\n",
      "Reference: because today , state agencies and companies want to\n",
      "Model: <SOS> in , , and the and and and and\n",
      "\n",
      "Source: tôi luôn là người chụp ảnh . <EOS> <PAD> <PAD>\n",
      "Reference: i &apos;m always the one taking the picture .\n",
      "Model: <SOS> i was the to . . . . .\n",
      "\n"
     ]
    },
    {
     "name": "stderr",
     "output_type": "stream",
     "text": [
      "WARNING:root:That's 100 lines that end in a tokenized period ('.')\n",
      "WARNING:root:It looks like you forgot to detokenize your test data, which may hurt your score.\n",
      "WARNING:root:If you insist your data is detokenized, or don't care, you can suppress this message with '--force'.\n"
     ]
    },
    {
     "name": "stdout",
     "output_type": "stream",
     "text": [
      "Epoch: 2.72, Train Loss: 0.00, Val Loss: 4.64, Train BLEU: 0.00, Val BLEU: 9.44, Minutes Elapsed: 130.75\n",
      "Sampling from val predictions...\n",
      "Source: câu_hỏi đầu_tiên là : gì cơ ? <EOS> <PAD> <PAD>\n",
      "Reference: first question to answer for us : so what\n",
      "Model: <SOS> so the is the ? ? ? <EOS> ?\n",
      "\n",
      "Source: anh ta ngồi cạnh tôi trong đường_hầm thành_phố new york\n",
      "Reference: he sat next to me on the new york\n",
      "Model: <SOS> he he me me the the the york of\n",
      "\n",
      "Source: họ sở_hữu 42 kilomet vuông đất bỏ_hoang . <EOS> <PAD>\n",
      "Reference: they own 26 square miles of vacant lots .\n",
      "Model: <SOS> they need to million . <EOS> <EOS> . <EOS>\n",
      "\n"
     ]
    },
    {
     "name": "stderr",
     "output_type": "stream",
     "text": [
      "WARNING:root:That's 100 lines that end in a tokenized period ('.')\n",
      "WARNING:root:It looks like you forgot to detokenize your test data, which may hurt your score.\n",
      "WARNING:root:If you insist your data is detokenized, or don't care, you can suppress this message with '--force'.\n"
     ]
    },
    {
     "name": "stdout",
     "output_type": "stream",
     "text": [
      "Epoch: 2.96, Train Loss: 0.00, Val Loss: 4.59, Train BLEU: 0.00, Val BLEU: 9.56, Minutes Elapsed: 142.31\n",
      "Sampling from val predictions...\n",
      "Source: mà tôi đến đây để thú_nhận rằng chúng_tôi - toàn_bộ\n",
      "Reference: i &apos;m rather here today to confess that we\n",
      "Model: <SOS> so i to to to we we that we\n",
      "\n",
      "Source: hai điều quan_trọng nhất chúng_ta có là thời_gian và mối\n",
      "Reference: two of the most valuable things we have are\n",
      "Model: <SOS> the of the things that we we we is\n",
      "\n",
      "Source: nạn nô_lệ hiện_hữu gần_như mọi nơi trên thế_giới , dù\n",
      "Reference: slavery exists everywhere , nearly , in the world\n",
      "Model: <SOS> it &apos;s a a the , , the ,\n",
      "\n"
     ]
    },
    {
     "name": "stderr",
     "output_type": "stream",
     "text": [
      "WARNING:root:That's 100 lines that end in a tokenized period ('.')\n",
      "WARNING:root:It looks like you forgot to detokenize your test data, which may hurt your score.\n",
      "WARNING:root:If you insist your data is detokenized, or don't care, you can suppress this message with '--force'.\n"
     ]
    },
    {
     "name": "stdout",
     "output_type": "stream",
     "text": [
      "Epoch: 3.00, Train Loss: 0.00, Val Loss: 4.64, Train BLEU: 0.00, Val BLEU: 9.21, Minutes Elapsed: 144.29\n",
      "Sampling from val predictions...\n",
      "Source: nếu bạn có được quyền truy_cập những thông_tin này ,\n",
      "Reference: if you have access to this information , you\n",
      "Model: <SOS> if you have a to the the of the\n",
      "\n",
      "Source: thực_sự sợ . sợ những sinh_viên <UNK> , những quyển\n",
      "Reference: really scared . scared of these students with their\n",
      "Model: <SOS> it , . . are the , , the\n",
      "\n",
      "Source: hôm_nay tôi dùng một lò vi_sóng vì tôi không_thể đem\n",
      "Reference: today i use a microwave because i cannot take\n",
      "Model: <SOS> today i i a a of , i that\n",
      "\n"
     ]
    },
    {
     "name": "stderr",
     "output_type": "stream",
     "text": [
      "WARNING:root:That's 100 lines that end in a tokenized period ('.')\n",
      "WARNING:root:It looks like you forgot to detokenize your test data, which may hurt your score.\n",
      "WARNING:root:If you insist your data is detokenized, or don't care, you can suppress this message with '--force'.\n"
     ]
    },
    {
     "name": "stdout",
     "output_type": "stream",
     "text": [
      "Epoch: 3.24, Train Loss: 0.00, Val Loss: 4.59, Train BLEU: 0.00, Val BLEU: 10.40, Minutes Elapsed: 156.62\n",
      "Sampling from val predictions...\n",
      "Source: tôi sẽ huỷ đơn_kiện , và họ sẽ cung_cấp cho\n",
      "Reference: i &apos;ll put down the lawsuit and they will\n",
      "Model: <SOS> i &apos;m going them , and , and they\n",
      "\n",
      "Source: tôi đang đập_tan sự im_lặng hôm_nay . <EOS> <PAD> <PAD>\n",
      "Reference: i &apos;m still breaking the silence today . <EOS>\n",
      "Model: <SOS> i &apos;m the to the . . <EOS> <EOS>\n",
      "\n",
      "Source: việc ổn_định cuộc_sống ở đây khó_khăn hơn nhiều so với\n",
      "Reference: settling down in south korea was a lot more\n",
      "Model: <SOS> the the is the , , the lot of\n",
      "\n"
     ]
    },
    {
     "name": "stderr",
     "output_type": "stream",
     "text": [
      "WARNING:root:It looks like you forgot to detokenize your test data, which may hurt your score.\n",
      "WARNING:root:If you insist your data is detokenized, or don't care, you can suppress this message with '--force'.\n"
     ]
    },
    {
     "name": "stdout",
     "output_type": "stream",
     "text": [
      "Epoch: 3.48, Train Loss: 0.00, Val Loss: 4.54, Train BLEU: 0.00, Val BLEU: 10.25, Minutes Elapsed: 168.07\n",
      "Sampling from val predictions...\n",
      "Source: và chiếc hộp đồng_hồ đo làm_cho <UNK> tắt . <EOS>\n",
      "Reference: and the indicator box makes the lights flash .\n",
      "Model: <SOS> and the <UNK> is can to to . <EOS>\n",
      "\n",
      "Source: đây là vật mẫu được lấy ra . <EOS> <PAD>\n",
      "Reference: so this is the specimen coming out now .\n",
      "Model: <SOS> this is is the . . . . <EOS>\n",
      "\n",
      "Source: tâm_hồn tôi luôn_luôn được xoa_dịu bởi những cây sồi còn\n",
      "Reference: my soul is always <UNK> by the giant live\n",
      "Model: <SOS> my i was was the the the , of\n",
      "\n"
     ]
    },
    {
     "name": "stderr",
     "output_type": "stream",
     "text": [
      "WARNING:root:That's 100 lines that end in a tokenized period ('.')\n",
      "WARNING:root:It looks like you forgot to detokenize your test data, which may hurt your score.\n",
      "WARNING:root:If you insist your data is detokenized, or don't care, you can suppress this message with '--force'.\n"
     ]
    },
    {
     "name": "stdout",
     "output_type": "stream",
     "text": [
      "Epoch: 3.72, Train Loss: 0.00, Val Loss: 4.50, Train BLEU: 0.00, Val BLEU: 10.46, Minutes Elapsed: 180.07\n",
      "Sampling from val predictions...\n",
      "Source: tất_cả những điều đó hoàn_toàn có_thể chỉ với chiếc điện_thoại_di_động\n",
      "Reference: all this is possible with your mobile phone .\n",
      "Model: <SOS> all of these is to be to . .\n",
      "\n",
      "Source: ông ấy không_những khoe về bằng cao_đẳng của tôi ,\n",
      "Reference: he not only <UNK> about my college degree ,\n",
      "Model: <SOS> he &apos;s not from of , , , and\n",
      "\n",
      "Source: đây là nơi người dân bàn_giao chúng , và hôm\n",
      "Reference: this is where people were handing them in ,\n",
      "Model: <SOS> this is the people people , , , and\n",
      "\n"
     ]
    },
    {
     "name": "stderr",
     "output_type": "stream",
     "text": [
      "WARNING:root:That's 100 lines that end in a tokenized period ('.')\n",
      "WARNING:root:It looks like you forgot to detokenize your test data, which may hurt your score.\n",
      "WARNING:root:If you insist your data is detokenized, or don't care, you can suppress this message with '--force'.\n"
     ]
    },
    {
     "name": "stdout",
     "output_type": "stream",
     "text": [
      "Epoch: 3.96, Train Loss: 0.00, Val Loss: 4.47, Train BLEU: 0.00, Val BLEU: 10.54, Minutes Elapsed: 192.05\n",
      "Sampling from val predictions...\n",
      "Source: và đó là cách mà ánh_sáng chiếu về phía sư_tử\n",
      "Reference: and that &apos;s how it looks to lions when\n",
      "Model: <SOS> and that &apos;s the the &apos;s the the the\n",
      "\n",
      "Source: tại sao tôi đã không bước_đi ? tôi có_thể bỏ_đi\n",
      "Reference: why didn &apos;t i walk out ? i could\n",
      "Model: <SOS> why i i do i ? ? i i\n",
      "\n",
      "Source: nhưng_mà , tôi hãnh_diện đứng đây là một sinh_viên tốt_nghiệp\n",
      "Reference: instead , i stand here a proud graduate of\n",
      "Model: <SOS> but i , i , that a of is\n",
      "\n"
     ]
    },
    {
     "name": "stderr",
     "output_type": "stream",
     "text": [
      "WARNING:root:That's 100 lines that end in a tokenized period ('.')\n",
      "WARNING:root:It looks like you forgot to detokenize your test data, which may hurt your score.\n",
      "WARNING:root:If you insist your data is detokenized, or don't care, you can suppress this message with '--force'.\n"
     ]
    },
    {
     "name": "stdout",
     "output_type": "stream",
     "text": [
      "Epoch: 4.00, Train Loss: 0.00, Val Loss: 4.52, Train BLEU: 0.00, Val BLEU: 10.19, Minutes Elapsed: 194.06\n",
      "Sampling from val predictions...\n",
      "Source: xong rồi . <EOS> <PAD> <PAD> <PAD> <PAD> <PAD> <PAD>\n",
      "Reference: all right . <EOS> <PAD> <PAD> <PAD> <PAD> <PAD>\n",
      "Model: <SOS> so you . <EOS> you . . . .\n",
      "\n",
      "Source: đứa trẻ này 8 tuổi . <EOS> <PAD> <PAD> <PAD>\n",
      "Reference: this young child is eight years old . <EOS>\n",
      "Model: <SOS> the &apos;s is eight eight . . <EOS> <EOS>\n",
      "\n",
      "Source: nhưng những cuộc trao_đổi hiệu_quả không_thể diễn ra nếu các\n",
      "Reference: but these great conversations can &apos;t occur if our\n",
      "Model: <SOS> but the the the that the the if if\n",
      "\n"
     ]
    },
    {
     "name": "stderr",
     "output_type": "stream",
     "text": [
      "WARNING:root:That's 100 lines that end in a tokenized period ('.')\n",
      "WARNING:root:It looks like you forgot to detokenize your test data, which may hurt your score.\n",
      "WARNING:root:If you insist your data is detokenized, or don't care, you can suppress this message with '--force'.\n"
     ]
    },
    {
     "name": "stdout",
     "output_type": "stream",
     "text": [
      "Epoch: 4.24, Train Loss: 0.00, Val Loss: 4.48, Train BLEU: 0.00, Val BLEU: 11.35, Minutes Elapsed: 206.51\n",
      "Sampling from val predictions...\n",
      "Source: và những điều đó là sự_thật , nhưng đó chỉ\n",
      "Reference: and those things are true , but they &apos;re\n",
      "Model: <SOS> and the &apos;s is , , but it &apos;s\n",
      "\n",
      "Source: vậy_nên nhiều năm trước , tôi có ý_tưởng thế_này :\n",
      "Reference: so years and years ago , i had this\n",
      "Model: <SOS> so of few , , i i had this\n",
      "\n",
      "Source: sau đó , tổ_chức tình_nguyện tôi tham_gia all <UNK> <UNK>\n",
      "Reference: soon after , an organization i volunteer with ,\n",
      "Model: <SOS> so , i , i , i to <UNK>\n",
      "\n"
     ]
    },
    {
     "name": "stderr",
     "output_type": "stream",
     "text": [
      "WARNING:root:That's 100 lines that end in a tokenized period ('.')\n",
      "WARNING:root:It looks like you forgot to detokenize your test data, which may hurt your score.\n",
      "WARNING:root:If you insist your data is detokenized, or don't care, you can suppress this message with '--force'.\n"
     ]
    },
    {
     "name": "stdout",
     "output_type": "stream",
     "text": [
      "Epoch: 4.48, Train Loss: 0.00, Val Loss: 4.45, Train BLEU: 0.00, Val BLEU: 10.88, Minutes Elapsed: 218.58\n",
      "Sampling from val predictions...\n",
      "Source: nhưng sau đó tôi đã nói , tôi muốn công_khai\n",
      "Reference: but then i said , i want to go\n",
      "Model: <SOS> but then i was to i want to be\n",
      "\n",
      "Source: vào năm 2009 , tôi mất đi một người tôi\n",
      "Reference: in 2009 , i lost someone i loved very\n",
      "Model: <SOS> in 2009 , , was a a a a\n",
      "\n",
      "Source: chúng_tôi là những sinh_vật xanh_xao , <EOS> <PAD> <PAD> <PAD>\n",
      "Reference: we &apos;re pale , gray creatures . <EOS> <PAD>\n",
      "Model: <SOS> we are the creatures . . <EOS> <EOS> .\n",
      "\n"
     ]
    },
    {
     "name": "stderr",
     "output_type": "stream",
     "text": [
      "WARNING:root:That's 100 lines that end in a tokenized period ('.')\n",
      "WARNING:root:It looks like you forgot to detokenize your test data, which may hurt your score.\n",
      "WARNING:root:If you insist your data is detokenized, or don't care, you can suppress this message with '--force'.\n"
     ]
    },
    {
     "name": "stdout",
     "output_type": "stream",
     "text": [
      "Epoch: 4.72, Train Loss: 0.00, Val Loss: 4.42, Train BLEU: 0.00, Val BLEU: 11.19, Minutes Elapsed: 230.25\n",
      "Sampling from val predictions...\n",
      "Source: tất_cả những thông_tin này đều được lưu_trữ ít_nhất trong sáu\n",
      "Reference: all this information is stored for at least six\n",
      "Model: <SOS> all these these are the the the in culture\n",
      "\n",
      "Source: vì_thế chúng_tôi có_thể nhận sự trợ_giúp từ cộng_đồng quốc_tế cho\n",
      "Reference: so we can benefit from the international community for\n",
      "Model: <SOS> so we can use from from from of from\n",
      "\n",
      "Source: điều thú_vị về sự bền_vững , đó là bạn phải\n",
      "Reference: the funny thing about sustainability , you have to\n",
      "Model: <SOS> the &apos;s of about is , you you have\n",
      "\n"
     ]
    },
    {
     "name": "stderr",
     "output_type": "stream",
     "text": [
      "WARNING:root:That's 100 lines that end in a tokenized period ('.')\n",
      "WARNING:root:It looks like you forgot to detokenize your test data, which may hurt your score.\n",
      "WARNING:root:If you insist your data is detokenized, or don't care, you can suppress this message with '--force'.\n"
     ]
    },
    {
     "name": "stdout",
     "output_type": "stream",
     "text": [
      "Epoch: 4.96, Train Loss: 0.00, Val Loss: 4.41, Train BLEU: 0.00, Val BLEU: 11.38, Minutes Elapsed: 242.26\n",
      "Sampling from val predictions...\n",
      "Source: và chúng_tôi giúp họ tiến_hành tìm_kiếm sự hiểu_biết , vì\n",
      "Reference: and then we help them to go and find\n",
      "Model: <SOS> and we asked asked them to because , ,\n",
      "\n",
      "Source: vậy_nên nhiều năm trước , tôi có ý_tưởng thế_này :\n",
      "Reference: so years and years ago , i had this\n",
      "Model: <SOS> a a years years , i i &apos;ve that\n",
      "\n",
      "Source: thuỷ_ngân được dùng trong quá_trình chiết_xuất . <EOS> <PAD> <PAD>\n",
      "Reference: mercury is used in the extraction process . <EOS>\n",
      "Model: <SOS> the is is in the . . . <EOS>\n",
      "\n"
     ]
    },
    {
     "name": "stderr",
     "output_type": "stream",
     "text": [
      "WARNING:root:That's 100 lines that end in a tokenized period ('.')\n",
      "WARNING:root:It looks like you forgot to detokenize your test data, which may hurt your score.\n",
      "WARNING:root:If you insist your data is detokenized, or don't care, you can suppress this message with '--force'.\n"
     ]
    },
    {
     "name": "stdout",
     "output_type": "stream",
     "text": [
      "Epoch: 5.00, Train Loss: 0.00, Val Loss: 4.45, Train BLEU: 0.00, Val BLEU: 10.86, Minutes Elapsed: 244.28\n",
      "Sampling from val predictions...\n",
      "Source: tôi kể với mọi người : cánh sát , những\n",
      "Reference: i told everyone : the police , my neighbors\n",
      "Model: <SOS> i i a : : , of the the\n",
      "\n",
      "Source: điều mà bạn nên làm là đấu_tranh cho sự tự_chủ\n",
      "Reference: but you have to fight for your <UNK> today\n",
      "Model: <SOS> what what you that is is a very .\n",
      "\n",
      "Source: tôi phải dựa vào tổ_chức giải_phóng nô_lệ để hoạt_động trong\n",
      "Reference: i &apos;d have to rely on free the slaves\n",
      "Model: <SOS> i &apos;ve to to to the to to to\n",
      "\n"
     ]
    },
    {
     "name": "stderr",
     "output_type": "stream",
     "text": [
      "WARNING:root:That's 100 lines that end in a tokenized period ('.')\n",
      "WARNING:root:It looks like you forgot to detokenize your test data, which may hurt your score.\n",
      "WARNING:root:If you insist your data is detokenized, or don't care, you can suppress this message with '--force'.\n"
     ]
    },
    {
     "name": "stdout",
     "output_type": "stream",
     "text": [
      "Epoch: 5.24, Train Loss: 0.00, Val Loss: 4.42, Train BLEU: 0.00, Val BLEU: 11.67, Minutes Elapsed: 256.16\n",
      "Sampling from val predictions...\n",
      "Source: 5 năm trước , tôi đã trải qua 1 chuyện\n",
      "Reference: five years ago , i experienced a bit of\n",
      "Model: <SOS> five years ago , i was a a in\n",
      "\n",
      "Source: nhưng vẫn hi_vọng ngày nào đó có_thể rời_khỏi căn_nhà này\n",
      "Reference: &quot; we hope still , though , that we\n",
      "Model: <SOS> but the , this this this this this can\n",
      "\n",
      "Source: đây không_phải nói người mẹ không quan_trọng trong thành_công_của chúng_ta\n",
      "Reference: it &apos;s not to say that our mothers aren\n",
      "Model: <SOS> this is not saying that that the never is\n",
      "\n"
     ]
    },
    {
     "name": "stderr",
     "output_type": "stream",
     "text": [
      "WARNING:root:That's 100 lines that end in a tokenized period ('.')\n",
      "WARNING:root:It looks like you forgot to detokenize your test data, which may hurt your score.\n",
      "WARNING:root:If you insist your data is detokenized, or don't care, you can suppress this message with '--force'.\n"
     ]
    },
    {
     "name": "stdout",
     "output_type": "stream",
     "text": [
      "Epoch: 5.48, Train Loss: 0.00, Val Loss: 4.40, Train BLEU: 0.00, Val BLEU: 11.36, Minutes Elapsed: 268.13\n",
      "Sampling from val predictions...\n",
      "Source: tôi sống ở new_york , và năm vừa_rồi , trong\n",
      "Reference: i live in new york , and last year\n",
      "Model: <SOS> i was in in , , , the ,\n",
      "\n",
      "Source: bố tôi lúc ấy đang nghe tin_tức bbc trên chiếc\n",
      "Reference: my father was listening to bbc news on his\n",
      "Model: <SOS> my was was was to the in , the\n",
      "\n",
      "Source: bạn biết đấy , động_tác trao máy_ảnh của mình cho\n",
      "Reference: you know , it &apos;s remarkable how universal the\n",
      "Model: <SOS> you know , the &apos;s the to for our\n",
      "\n"
     ]
    },
    {
     "name": "stderr",
     "output_type": "stream",
     "text": [
      "WARNING:root:That's 100 lines that end in a tokenized period ('.')\n",
      "WARNING:root:It looks like you forgot to detokenize your test data, which may hurt your score.\n",
      "WARNING:root:If you insist your data is detokenized, or don't care, you can suppress this message with '--force'.\n"
     ]
    },
    {
     "name": "stdout",
     "output_type": "stream",
     "text": [
      "Epoch: 5.72, Train Loss: 0.00, Val Loss: 4.39, Train BLEU: 0.00, Val BLEU: 11.85, Minutes Elapsed: 279.84\n",
      "Sampling from val predictions...\n",
      "Source: tôi đã bị sốc . <EOS> <PAD> <PAD> <PAD> <PAD>\n",
      "Reference: i was so shocked . <EOS> <PAD> <PAD> <PAD>\n",
      "Model: <SOS> i was . . . <EOS> . . .\n",
      "\n",
      "Source: và mảnh vườn , nó rất đẹp . <EOS> <PAD>\n",
      "Reference: and the garden , it was beautiful . <EOS>\n",
      "Model: <SOS> and the , , it &apos;s very . <EOS>\n",
      "\n",
      "Source: khi lượng đậu_xanh có_giá 1 đô_la sẽ cho bạn lượng\n",
      "Reference: when one dollar &apos;s worth of green beans will\n",
      "Model: <SOS> when you get a a to a dollars you\n",
      "\n"
     ]
    },
    {
     "name": "stderr",
     "output_type": "stream",
     "text": [
      "WARNING:root:That's 100 lines that end in a tokenized period ('.')\n",
      "WARNING:root:It looks like you forgot to detokenize your test data, which may hurt your score.\n",
      "WARNING:root:If you insist your data is detokenized, or don't care, you can suppress this message with '--force'.\n"
     ]
    },
    {
     "name": "stdout",
     "output_type": "stream",
     "text": [
      "Epoch: 5.96, Train Loss: 0.00, Val Loss: 4.38, Train BLEU: 0.00, Val BLEU: 11.82, Minutes Elapsed: 291.69\n",
      "Sampling from val predictions...\n",
      "Source: một trát hầu_toà vì trồng cây trên mảnh đất mà\n",
      "Reference: a warrant for planting food on a piece of\n",
      "Model: <SOS> a was , because , , in , of\n",
      "\n",
      "Source: cái mà chúng_ta phải nhìn đến đó là chúng_ta làm\n",
      "Reference: what we have to look at is at how\n",
      "Model: <SOS> what we have to look that we we we\n",
      "\n",
      "Source: tại_sao người phụ_nữ lại nên ở_lại với người đã đánh\n",
      "Reference: why would anyone stay with a man who beats\n",
      "Model: <SOS> why do people people to the and and ,\n",
      "\n"
     ]
    },
    {
     "name": "stderr",
     "output_type": "stream",
     "text": [
      "WARNING:root:That's 100 lines that end in a tokenized period ('.')\n",
      "WARNING:root:It looks like you forgot to detokenize your test data, which may hurt your score.\n",
      "WARNING:root:If you insist your data is detokenized, or don't care, you can suppress this message with '--force'.\n"
     ]
    },
    {
     "name": "stdout",
     "output_type": "stream",
     "text": [
      "Epoch: 6.00, Train Loss: 0.00, Val Loss: 4.43, Train BLEU: 0.00, Val BLEU: 11.46, Minutes Elapsed: 293.73\n",
      "Sampling from val predictions...\n",
      "Source: với_lại , bạn còn thu được dâu nữa . <EOS>\n",
      "Reference: plus you get strawberries . <EOS> <PAD> <PAD> <PAD>\n",
      "Model: <SOS> well , you see of . &apos;s is have\n",
      "\n",
      "Source: công_viên quốc_gia nairobi không được rào_chắn trên diện rộng ở\n",
      "Reference: nairobi national park is not <UNK> in the south\n",
      "Model: <SOS> the the in are been in in in in\n",
      "\n",
      "Source: chúng_tôi là một nhóm lấy chia_sẻ làm thù_lao , gồm\n",
      "Reference: what we do , we &apos;re a <UNK> kind\n",
      "Model: <SOS> we are we a a is a to for\n",
      "\n"
     ]
    },
    {
     "name": "stderr",
     "output_type": "stream",
     "text": [
      "WARNING:root:That's 100 lines that end in a tokenized period ('.')\n",
      "WARNING:root:It looks like you forgot to detokenize your test data, which may hurt your score.\n",
      "WARNING:root:If you insist your data is detokenized, or don't care, you can suppress this message with '--force'.\n"
     ]
    },
    {
     "name": "stdout",
     "output_type": "stream",
     "text": [
      "Epoch: 6.24, Train Loss: 0.00, Val Loss: 4.39, Train BLEU: 0.00, Val BLEU: 12.30, Minutes Elapsed: 305.65\n",
      "Sampling from val predictions...\n",
      "Source: hi_vọng là nó ít kì_cục hơn tấm hình ở giữa\n",
      "Reference: hopefully less awkward than that one in the middle\n",
      "Model: <SOS> it is it is to the the the in\n",
      "\n",
      "Source: anh ta đã thật_sự rất căng_thẳng vì đám_cưới và việc\n",
      "Reference: he had just been really stressed out by the\n",
      "Model: <SOS> he was very very very very because because because\n",
      "\n",
      "Source: mà là \" tôi sẽ bị bắt bao_nhiêu lần và\n",
      "Reference: but &quot; how many times will i get stopped\n",
      "Model: <SOS> it &apos;s said &apos;m i i i and and\n",
      "\n"
     ]
    },
    {
     "name": "stderr",
     "output_type": "stream",
     "text": [
      "WARNING:root:That's 100 lines that end in a tokenized period ('.')\n",
      "WARNING:root:It looks like you forgot to detokenize your test data, which may hurt your score.\n",
      "WARNING:root:If you insist your data is detokenized, or don't care, you can suppress this message with '--force'.\n"
     ]
    },
    {
     "name": "stdout",
     "output_type": "stream",
     "text": [
      "Epoch: 6.48, Train Loss: 0.00, Val Loss: 4.38, Train BLEU: 0.00, Val BLEU: 11.65, Minutes Elapsed: 317.25\n",
      "Sampling from val predictions...\n",
      "Source: tốc_độ nhanh , chỉ mất khoảng 30 giây tối_đa .\n",
      "Reference: they &apos;re high-speed , take about 30 seconds at\n",
      "Model: <SOS> well , , about of percent 30 percent .\n",
      "\n",
      "Source: với tôi , đó là câu_hỏi buồn và đau_đớn nhất\n",
      "Reference: to me , this is the saddest and most\n",
      "Model: <SOS> for me , this is what the and and\n",
      "\n",
      "Source: tôi đã gặp <UNK> trong một đêm tháng_một , mưa\n",
      "Reference: i met <UNK> on a cold , rainy january\n",
      "Model: <SOS> i was been a a , , , a\n",
      "\n"
     ]
    },
    {
     "name": "stderr",
     "output_type": "stream",
     "text": [
      "WARNING:root:That's 100 lines that end in a tokenized period ('.')\n",
      "WARNING:root:It looks like you forgot to detokenize your test data, which may hurt your score.\n",
      "WARNING:root:If you insist your data is detokenized, or don't care, you can suppress this message with '--force'.\n"
     ]
    },
    {
     "name": "stdout",
     "output_type": "stream",
     "text": [
      "Epoch: 6.72, Train Loss: 0.00, Val Loss: 4.37, Train BLEU: 0.00, Val BLEU: 12.20, Minutes Elapsed: 329.07\n",
      "Sampling from val predictions...\n",
      "Source: những gì chúng_tôi có_thể làm là dùng miếng bùi_nhùi bằng\n",
      "Reference: so what we can do is use steel wool\n",
      "Model: <SOS> what we we do do is the the the\n",
      "\n",
      "Source: cuối_cùng , sau một cuộc hành_trình dài tôi và gia_đình\n",
      "Reference: eventually , after our long journey , my family\n",
      "Model: <SOS> after , a a my and and my my\n",
      "\n",
      "Source: tôi đã làm đủ mọi cách để đưa gia_đình mình\n",
      "Reference: i did everything to get my family to freedom\n",
      "Model: <SOS> i did this to i the to to the\n",
      "\n"
     ]
    },
    {
     "name": "stderr",
     "output_type": "stream",
     "text": [
      "WARNING:root:That's 100 lines that end in a tokenized period ('.')\n",
      "WARNING:root:It looks like you forgot to detokenize your test data, which may hurt your score.\n",
      "WARNING:root:If you insist your data is detokenized, or don't care, you can suppress this message with '--force'.\n"
     ]
    },
    {
     "name": "stdout",
     "output_type": "stream",
     "text": [
      "Epoch: 6.96, Train Loss: 0.00, Val Loss: 4.38, Train BLEU: 0.00, Val BLEU: 11.57, Minutes Elapsed: 340.85\n",
      "Sampling from val predictions...\n",
      "Source: thay vào đó , slide ví_dụ này của <UNK> brown\n",
      "Reference: instead , this example slide by <UNK> brown is\n",
      "Model: <SOS> instead , , example , the the , <UNK>\n",
      "\n",
      "Source: và đó là một cuộc cách_mạng vĩ_đại . <EOS> <PAD>\n",
      "Reference: and there it was , a great revolution .\n",
      "Model: <SOS> and that &apos;s a a . . . .\n",
      "\n",
      "Source: có một câu_chuyện rất vui mà tôi đọc được trên\n",
      "Reference: there &apos;s a lovely story that i read in\n",
      "Model: <SOS> there &apos;s a lot of of i me to\n",
      "\n"
     ]
    },
    {
     "name": "stderr",
     "output_type": "stream",
     "text": [
      "WARNING:root:That's 100 lines that end in a tokenized period ('.')\n",
      "WARNING:root:It looks like you forgot to detokenize your test data, which may hurt your score.\n",
      "WARNING:root:If you insist your data is detokenized, or don't care, you can suppress this message with '--force'.\n"
     ]
    },
    {
     "name": "stdout",
     "output_type": "stream",
     "text": [
      "Epoch: 7.00, Train Loss: 0.00, Val Loss: 4.42, Train BLEU: 0.00, Val BLEU: 11.68, Minutes Elapsed: 342.85\n",
      "Sampling from val predictions...\n",
      "Source: anh ta kể với tôi về hai thứ . <EOS>\n",
      "Reference: he told me two things . <EOS> <PAD> <PAD>\n",
      "Model: <SOS> he he me to two two <EOS> . .\n",
      "\n",
      "Source: khi mà những quả cà_chua bắt_đầu đạt , chín ,\n",
      "Reference: when the tomatoes were nice and ripe and red\n",
      "Model: <SOS> when when &apos;re of to the the the the\n",
      "\n",
      "Source: những loại kền_kền tân thế_giới được tìm_thấy chủ_yếu tại mỹ\n",
      "Reference: there are the new world vultures that are mainly\n",
      "Model: <SOS> the of a solutions of of the the the\n",
      "\n"
     ]
    },
    {
     "name": "stderr",
     "output_type": "stream",
     "text": [
      "WARNING:root:That's 100 lines that end in a tokenized period ('.')\n",
      "WARNING:root:It looks like you forgot to detokenize your test data, which may hurt your score.\n",
      "WARNING:root:If you insist your data is detokenized, or don't care, you can suppress this message with '--force'.\n"
     ]
    },
    {
     "name": "stdout",
     "output_type": "stream",
     "text": [
      "Epoch: 7.24, Train Loss: 0.00, Val Loss: 4.39, Train BLEU: 0.00, Val BLEU: 12.82, Minutes Elapsed: 354.22\n",
      "Sampling from val predictions...\n",
      "Source: nóng và bụi lan_toả khắp_nơi đến_nỗi camera của tôi bị\n",
      "Reference: so pervasive was the heat and the dust that\n",
      "Model: <SOS> her and and the and of my my of\n",
      "\n",
      "Source: thật xúc_động và háo_hức . trước đó , tôi từng\n",
      "Reference: now , it was emotional and it was inspiring\n",
      "Model: <SOS> and &apos;s it &apos;s so . i , i\n",
      "\n",
      "Source: tôi rất muốn từ_bỏ chuyện học , nhưng bố tôi\n",
      "Reference: i would want to quit , but my father\n",
      "Model: <SOS> i i to to tell a but i &apos;m\n",
      "\n"
     ]
    },
    {
     "name": "stderr",
     "output_type": "stream",
     "text": [
      "WARNING:root:That's 100 lines that end in a tokenized period ('.')\n",
      "WARNING:root:It looks like you forgot to detokenize your test data, which may hurt your score.\n",
      "WARNING:root:If you insist your data is detokenized, or don't care, you can suppress this message with '--force'.\n"
     ]
    },
    {
     "name": "stdout",
     "output_type": "stream",
     "text": [
      "Epoch: 7.48, Train Loss: 0.00, Val Loss: 4.40, Train BLEU: 0.00, Val BLEU: 11.80, Minutes Elapsed: 365.70\n",
      "Sampling from val predictions...\n",
      "Source: đó là những hình_ảnh được dựng lên , và nó\n",
      "Reference: they are constructions , and they are constructions by\n",
      "Model: <SOS> these are the systems , it &apos;s it ,\n",
      "\n",
      "Source: mỗi khi chúng_ta sử_dụng điện_thoại_di_động của mình ? <EOS> <PAD>\n",
      "Reference: every time i use my mobile phone ? <EOS>\n",
      "Model: <SOS> what are we we our ? ? <EOS> <EOS>\n",
      "\n",
      "Source: bạn biết đấy , động_tác trao máy_ảnh của mình cho\n",
      "Reference: you know , it &apos;s remarkable how universal the\n",
      "Model: <SOS> you know , the own the for for our\n",
      "\n"
     ]
    },
    {
     "name": "stderr",
     "output_type": "stream",
     "text": [
      "WARNING:root:That's 100 lines that end in a tokenized period ('.')\n",
      "WARNING:root:It looks like you forgot to detokenize your test data, which may hurt your score.\n",
      "WARNING:root:If you insist your data is detokenized, or don't care, you can suppress this message with '--force'.\n"
     ]
    },
    {
     "name": "stdout",
     "output_type": "stream",
     "text": [
      "Epoch: 7.72, Train Loss: 0.00, Val Loss: 4.38, Train BLEU: 0.00, Val BLEU: 12.44, Minutes Elapsed: 377.18\n",
      "Sampling from val predictions...\n",
      "Source: đừng bao_giờ mang đến một cộng_đồng với những ý_tưởng ,\n",
      "Reference: you never arrive in a community with any ideas\n",
      "Model: <SOS> don &apos;t to with a group , , ,\n",
      "\n",
      "Source: không phải ai cũng có cơ_hội để làm điều này\n",
      "Reference: not everybody gets to do that . <EOS> <PAD>\n",
      "Model: <SOS> no one to to to this to to is\n",
      "\n",
      "Source: chúng đã được <UNK> với nền văn_hoá ai cập cổ_đại\n",
      "Reference: they have been associated in ancient egyptian culture .\n",
      "Model: <SOS> they were been <UNK> by than of or ,\n",
      "\n"
     ]
    },
    {
     "name": "stderr",
     "output_type": "stream",
     "text": [
      "WARNING:root:That's 100 lines that end in a tokenized period ('.')\n",
      "WARNING:root:It looks like you forgot to detokenize your test data, which may hurt your score.\n",
      "WARNING:root:If you insist your data is detokenized, or don't care, you can suppress this message with '--force'.\n"
     ]
    },
    {
     "name": "stdout",
     "output_type": "stream",
     "text": [
      "Epoch: 7.96, Train Loss: 0.00, Val Loss: 4.40, Train BLEU: 0.00, Val BLEU: 11.51, Minutes Elapsed: 388.73\n",
      "Sampling from val predictions...\n",
      "Source: bảo_trợ , tôi đối xử với tất_cả mọi người từ\n",
      "Reference: patronizing , i treat everybody from another culture as\n",
      "Model: <SOS> and i , took to lot people people of\n",
      "\n",
      "Source: trong đó có viết : khi chị đọc được những\n",
      "Reference: it read , &quot; when you read this ,\n",
      "Model: <SOS> there here a when you have have to ,\n",
      "\n",
      "Source: vậy_nên nhiều năm trước , tôi có ý_tưởng thế_này :\n",
      "Reference: so years and years ago , i had this\n",
      "Model: <SOS> so years years years years , i &apos;ve that\n",
      "\n"
     ]
    },
    {
     "name": "stderr",
     "output_type": "stream",
     "text": [
      "WARNING:root:That's 100 lines that end in a tokenized period ('.')\n",
      "WARNING:root:It looks like you forgot to detokenize your test data, which may hurt your score.\n",
      "WARNING:root:If you insist your data is detokenized, or don't care, you can suppress this message with '--force'.\n"
     ]
    },
    {
     "name": "stdout",
     "output_type": "stream",
     "text": [
      "Epoch: 8.00, Train Loss: 0.00, Val Loss: 4.42, Train BLEU: 0.00, Val BLEU: 11.82, Minutes Elapsed: 390.84\n",
      "Sampling from val predictions...\n",
      "Source: tôi muốn đọc một email để kết_thúc bài nói_chuyện này\n",
      "Reference: i would like to conclude by reading an email\n",
      "Model: <SOS> i &apos;d to to a a a to to\n",
      "\n",
      "Source: đó có nghĩa_là nó có_thể tự thực_hiện được . <EOS>\n",
      "Reference: that means they can be <UNK> . <EOS> <PAD>\n",
      "Model: <SOS> it means that it it it . <EOS> <EOS>\n",
      "\n",
      "Source: chúng_tôi có_thể làm giảm khó_khăn hậu_cần cho bệnh_nhân . <EOS>\n",
      "Reference: we can reduce logistical difficulties with patients . <EOS>\n",
      "Model: <SOS> we can do the for . <EOS> . <EOS>\n",
      "\n"
     ]
    },
    {
     "name": "stderr",
     "output_type": "stream",
     "text": [
      "WARNING:root:That's 100 lines that end in a tokenized period ('.')\n",
      "WARNING:root:It looks like you forgot to detokenize your test data, which may hurt your score.\n",
      "WARNING:root:If you insist your data is detokenized, or don't care, you can suppress this message with '--force'.\n"
     ]
    },
    {
     "name": "stdout",
     "output_type": "stream",
     "text": [
      "Epoch: 8.24, Train Loss: 0.00, Val Loss: 4.41, Train BLEU: 0.00, Val BLEU: 12.61, Minutes Elapsed: 402.37\n",
      "Sampling from val predictions...\n",
      "Source: tôi lớn_lên ở đó . tôi nuôi dạy các con_trai\n",
      "Reference: i grew up there . i raised my sons\n",
      "Model: <SOS> i &apos;m there . i i was been with\n",
      "\n",
      "Source: cái chết là một cái gì đó chúng_ta thường không\n",
      "Reference: death is something that we &apos;re often discouraged to\n",
      "Model: <SOS> the is something something we don &apos;t going not\n",
      "\n",
      "Source: bước tiếp_theo trong kịch_bản bạo_lực này là đưa_vào sự đe_doạ\n",
      "Reference: the next step in the domestic violence pattern is\n",
      "Model: <SOS> the next step in this is is is that\n",
      "\n"
     ]
    },
    {
     "name": "stderr",
     "output_type": "stream",
     "text": [
      "WARNING:root:That's 100 lines that end in a tokenized period ('.')\n",
      "WARNING:root:It looks like you forgot to detokenize your test data, which may hurt your score.\n",
      "WARNING:root:If you insist your data is detokenized, or don't care, you can suppress this message with '--force'.\n"
     ]
    },
    {
     "name": "stdout",
     "output_type": "stream",
     "text": [
      "Epoch: 8.48, Train Loss: 0.00, Val Loss: 4.43, Train BLEU: 0.00, Val BLEU: 11.67, Minutes Elapsed: 414.60\n",
      "Sampling from val predictions...\n",
      "Source: những phụ_nữ lớn_tuổi đôi_khi chưa_từng nhìn_thấy máy scan , nhưng\n",
      "Reference: the older ladies sometimes hadn &apos;t seen a scanner\n",
      "Model: <SOS> the are of of on , , , the\n",
      "\n",
      "Source: cùng một nhóm phụ_nữ tuyệt_vời , tôi đồng sáng_lập <UNK>\n",
      "Reference: with an amazing group of women , i <UNK>\n",
      "Model: <SOS> with a woman , , i , i decided\n",
      "\n",
      "Source: bạn muốn đọc cuốn sách nào đó , hãy đọc\n",
      "Reference: you want to read the book , read &quot;\n",
      "Model: <SOS> you want to book about book , please &apos;s\n",
      "\n"
     ]
    },
    {
     "name": "stderr",
     "output_type": "stream",
     "text": [
      "WARNING:root:That's 100 lines that end in a tokenized period ('.')\n",
      "WARNING:root:It looks like you forgot to detokenize your test data, which may hurt your score.\n",
      "WARNING:root:If you insist your data is detokenized, or don't care, you can suppress this message with '--force'.\n"
     ]
    },
    {
     "name": "stdout",
     "output_type": "stream",
     "text": [
      "Epoch: 8.72, Train Loss: 0.00, Val Loss: 4.41, Train BLEU: 0.00, Val BLEU: 12.42, Minutes Elapsed: 426.37\n",
      "Sampling from val predictions...\n",
      "Source: một_số người thậm_chí không biết mình bị biến thành nô_lệ\n",
      "Reference: some don &apos;t even know they &apos;re enslaved ,\n",
      "Model: <SOS> some people don know know know the the ,\n",
      "\n",
      "Source: và mẹo ở đây là sử_dụng những câu đơn và\n",
      "Reference: and the trick here is to use a single\n",
      "Model: <SOS> and this this is this the the the and\n",
      "\n",
      "Source: tôi đã bắt_đầu như một sự thử_nghiệm tại <UNK> ,\n",
      "Reference: i started this as a <UNK> in <UNK> ,\n",
      "Model: <SOS> i started to with a <UNK> of <UNK> and\n",
      "\n"
     ]
    },
    {
     "name": "stderr",
     "output_type": "stream",
     "text": [
      "WARNING:root:That's 100 lines that end in a tokenized period ('.')\n",
      "WARNING:root:It looks like you forgot to detokenize your test data, which may hurt your score.\n",
      "WARNING:root:If you insist your data is detokenized, or don't care, you can suppress this message with '--force'.\n"
     ]
    },
    {
     "name": "stdout",
     "output_type": "stream",
     "text": [
      "Epoch: 8.96, Train Loss: 0.00, Val Loss: 4.44, Train BLEU: 0.00, Val BLEU: 11.48, Minutes Elapsed: 438.30\n",
      "Sampling from val predictions...\n",
      "Source: bạn có_thể trở_thành tổng_thống nước mỹ , hoặc người phát_minh\n",
      "Reference: you could be the president of the united states\n",
      "Model: <SOS> you can take a by in the , ,\n",
      "\n",
      "Source: các bóng <UNK> tắt và đánh_lừa sư_tử làm_cho chúng nghĩ\n",
      "Reference: the lights flash and trick the lions into thinking\n",
      "Model: <SOS> the and and and and and and and and\n",
      "\n",
      "Source: khi mà những quả cà_chua bắt_đầu đạt , chín ,\n",
      "Reference: when the tomatoes were nice and ripe and red\n",
      "Model: <SOS> when they get they to , , , ,\n",
      "\n"
     ]
    },
    {
     "name": "stderr",
     "output_type": "stream",
     "text": [
      "WARNING:root:That's 100 lines that end in a tokenized period ('.')\n",
      "WARNING:root:It looks like you forgot to detokenize your test data, which may hurt your score.\n",
      "WARNING:root:If you insist your data is detokenized, or don't care, you can suppress this message with '--force'.\n"
     ]
    },
    {
     "name": "stdout",
     "output_type": "stream",
     "text": [
      "Epoch: 9.00, Train Loss: 0.00, Val Loss: 4.45, Train BLEU: 0.00, Val BLEU: 12.04, Minutes Elapsed: 440.41\n",
      "Sampling from val predictions...\n",
      "Source: chúng_tôi đã không ưu_tiên quyền công_dân . <EOS> <PAD> <PAD>\n",
      "Reference: we did not prioritize right . <EOS> <PAD> <PAD>\n",
      "Model: <SOS> we have &apos;t have our our . <EOS> of\n",
      "\n",
      "Source: tôi không nói về những thứ miễn_phí , bởi miễn_phí\n",
      "Reference: i &apos;m not talking about no free shit ,\n",
      "Model: <SOS> i &apos;m not talking about the , , but\n",
      "\n",
      "Source: lần đầu_tiên , tôi đang lái_xe để tìm một bãi_biển\n",
      "Reference: the first time , i was driving to find\n",
      "Model: <SOS> and the thing i i was trying to a\n",
      "\n"
     ]
    },
    {
     "name": "stderr",
     "output_type": "stream",
     "text": [
      "WARNING:root:That's 100 lines that end in a tokenized period ('.')\n",
      "WARNING:root:It looks like you forgot to detokenize your test data, which may hurt your score.\n",
      "WARNING:root:If you insist your data is detokenized, or don't care, you can suppress this message with '--force'.\n"
     ]
    },
    {
     "name": "stdout",
     "output_type": "stream",
     "text": [
      "Epoch: 9.24, Train Loss: 0.00, Val Loss: 4.45, Train BLEU: 0.00, Val BLEU: 12.28, Minutes Elapsed: 451.62\n",
      "Sampling from val predictions...\n",
      "Source: tuy_nhiên , <UNK> triệu người trên toàn_cầu mắc bệnh ,\n",
      "Reference: however , there are <UNK> million people worldwide who\n",
      "Model: <SOS> however , the of millions people people the the\n",
      "\n",
      "Source: cám_ơn các bạn . <EOS> <PAD> <PAD> <PAD> <PAD> <PAD>\n",
      "Reference: thank you . <EOS> <PAD> <PAD> <PAD> <PAD> <PAD>\n",
      "Model: <SOS> thank you . <EOS> . . <EOS> . .\n",
      "\n",
      "Source: và những dự_án này đến từ những câu hỏi tôi\n",
      "Reference: and these projects came from questions i had ,\n",
      "Model: <SOS> and these these all these of pictures , &quot;\n",
      "\n"
     ]
    },
    {
     "name": "stderr",
     "output_type": "stream",
     "text": [
      "WARNING:root:That's 100 lines that end in a tokenized period ('.')\n",
      "WARNING:root:It looks like you forgot to detokenize your test data, which may hurt your score.\n",
      "WARNING:root:If you insist your data is detokenized, or don't care, you can suppress this message with '--force'.\n"
     ]
    },
    {
     "name": "stdout",
     "output_type": "stream",
     "text": [
      "Epoch: 9.48, Train Loss: 0.00, Val Loss: 4.48, Train BLEU: 0.00, Val BLEU: 11.76, Minutes Elapsed: 462.86\n",
      "Sampling from val predictions...\n",
      "Source: trước_tiên , bạn phải mang đến cho họ sự bảo_mật\n",
      "Reference: first , you have to offer them <UNK> .\n",
      "Model: <SOS> first of you have to to them water .\n",
      "\n",
      "Source: bạn cần phải đến bệnh_viện để làm điều đó .\n",
      "Reference: you have to go to the clinic to do\n",
      "Model: <SOS> you need to be the to it to do\n",
      "\n",
      "Source: điều mà tôi đã làm là trồng một rừng thực_phẩm\n",
      "Reference: so what i did , i planted a food\n",
      "Model: <SOS> what i i did is is was a a\n",
      "\n"
     ]
    },
    {
     "name": "stderr",
     "output_type": "stream",
     "text": [
      "WARNING:root:That's 100 lines that end in a tokenized period ('.')\n",
      "WARNING:root:It looks like you forgot to detokenize your test data, which may hurt your score.\n",
      "WARNING:root:If you insist your data is detokenized, or don't care, you can suppress this message with '--force'.\n"
     ]
    },
    {
     "name": "stdout",
     "output_type": "stream",
     "text": [
      "Epoch: 9.72, Train Loss: 0.00, Val Loss: 4.47, Train BLEU: 0.00, Val BLEU: 12.39, Minutes Elapsed: 474.14\n",
      "Sampling from val predictions...\n",
      "Source: đối_với một_số người , họ đã được kết_nối với một\n",
      "Reference: for some of them , it &apos;s given them\n",
      "Model: <SOS> for some , , , they had a <UNK>\n",
      "\n",
      "Source: tôi mới ba tuổi khi em tôi ra_đời và tôi\n",
      "Reference: i was just three years old when my brother\n",
      "Model: <SOS> i was three when when my my i i\n",
      "\n",
      "Source: nhựa_đường xốp là vật_liệu chúng_tôi hiện đang dùng để xây_dựng\n",
      "Reference: porous asphalt , a material that we use now\n",
      "Model: <SOS> the is a we we that we &apos;re to\n",
      "\n"
     ]
    },
    {
     "name": "stderr",
     "output_type": "stream",
     "text": [
      "WARNING:root:That's 100 lines that end in a tokenized period ('.')\n",
      "WARNING:root:It looks like you forgot to detokenize your test data, which may hurt your score.\n",
      "WARNING:root:If you insist your data is detokenized, or don't care, you can suppress this message with '--force'.\n"
     ]
    },
    {
     "name": "stdout",
     "output_type": "stream",
     "text": [
      "Epoch: 9.96, Train Loss: 0.00, Val Loss: 4.47, Train BLEU: 0.00, Val BLEU: 11.65, Minutes Elapsed: 486.06\n",
      "Sampling from val predictions...\n",
      "Source: và các bạn có bao_giờ tự_hỏi chính mình \" nếu\n",
      "Reference: and if you ever are wondering , &quot; if\n",
      "Model: <SOS> and you have have the the to if if\n",
      "\n",
      "Source: ông ấy trả_lời : \" nếu ngươi muốn thì giết\n",
      "Reference: &quot; kill me now , if you wish ,\n",
      "Model: <SOS> he said said , &quot; if you want to\n",
      "\n",
      "Source: gia_đình tôi tin_tưởng tôi . <EOS> <PAD> <PAD> <PAD> <PAD>\n",
      "Reference: my family believes in me . <EOS> <PAD> <PAD>\n",
      "Model: <SOS> i family was . me . <EOS> <EOS> .\n",
      "\n"
     ]
    },
    {
     "name": "stderr",
     "output_type": "stream",
     "text": [
      "WARNING:root:That's 100 lines that end in a tokenized period ('.')\n",
      "WARNING:root:It looks like you forgot to detokenize your test data, which may hurt your score.\n",
      "WARNING:root:If you insist your data is detokenized, or don't care, you can suppress this message with '--force'.\n"
     ]
    },
    {
     "name": "stdout",
     "output_type": "stream",
     "text": [
      "Epoch: 10.00, Train Loss: 0.00, Val Loss: 4.49, Train BLEU: 0.00, Val BLEU: 11.67, Minutes Elapsed: 488.00\n",
      "Sampling from val predictions...\n",
      "Source: việc ổn_định cuộc_sống ở đây khó_khăn hơn nhiều so với\n",
      "Reference: settling down in south korea was a lot more\n",
      "Model: <SOS> the &apos;s life more more more more more more\n",
      "\n",
      "Source: vì_thế tôi phải tìm_ra cách để giải_quyết vấn_đề này .\n",
      "Reference: so i had to find a way of solving\n",
      "Model: <SOS> so i i to to with with to this\n",
      "\n",
      "Source: nơi đây cũng là nơi mà trung_tâm di_tản đã thu_thập\n",
      "Reference: this happened to also be a place in the\n",
      "Model: <SOS> this this where been about where by where the\n",
      "\n",
      "Model training completed in 487 minutes with 4.37 best validation loss and 12.82 best validation BLEU.\n"
     ]
    }
   ],
   "source": [
    "model, results = train_and_eval(\n",
    "    model=model, loaders_full=loaders_full, loaders_minibatch=loaders_minibatch, loaders_minitrain=loaders_minitrain, \n",
    "    params=params, vocab=vocab, print_intermediate=500, save_checkpoint=True, save_to_log=True, \n",
    "    lazy_eval=True, print_attn=False, inspect_samples=3)"
   ]
  },
  {
   "cell_type": "code",
   "execution_count": 10,
   "metadata": {},
   "outputs": [],
   "source": [
    "experiment_results = load_experiment_log(experiment_name=EXPERIMENT_NAME)"
   ]
  },
  {
   "cell_type": "code",
   "execution_count": 11,
   "metadata": {},
   "outputs": [
    {
     "data": {
      "image/png": "[encoded data removed]",
      "text/plain": [
       "<Figure size 1008x360 with 2 Axes>"
      ]
     },
     "metadata": {},
     "output_type": "display_data"
    }
   ],
   "source": [
    "plot_single_learning_curve(experiment_results[0]['results'])"
   ]
  },
  {
   "cell_type": "code",
   "execution_count": 12,
   "metadata": {},
   "outputs": [
    {
     "data": {
      "text/html": [
       "<div>\n",
       "<style scoped>\n",
       "    .dataframe tbody tr th:only-of-type {\n",
       "        vertical-align: middle;\n",
       "    }\n",
       "\n",
       "    .dataframe tbody tr th {\n",
       "        vertical-align: top;\n",
       "    }\n",
       "\n",
       "    .dataframe thead th {\n",
       "        text-align: right;\n",
       "    }\n",
       "</style>\n",
       "<table border=\"1\" class=\"dataframe\">\n",
       "  <thead>\n",
       "    <tr style=\"text-align: right;\">\n",
       "      <th></th>\n",
       "      <th>model_name</th>\n",
       "      <th>best_val_loss</th>\n",
       "      <th>best_val_bleu</th>\n",
       "      <th>runtime</th>\n",
       "      <th>total_params</th>\n",
       "      <th>trainable_params</th>\n",
       "      <th>dt_created</th>\n",
       "    </tr>\n",
       "  </thead>\n",
       "  <tbody>\n",
       "    <tr>\n",
       "      <th>0</th>\n",
       "      <td>vi-rnn-without-attn-2018-12-13 05:22:29</td>\n",
       "      <td>4.373869</td>\n",
       "      <td>12.819495</td>\n",
       "      <td>487.996425</td>\n",
       "      <td>69492144</td>\n",
       "      <td>51492144</td>\n",
       "      <td>2018-12-13 13:30:37</td>\n",
       "    </tr>\n",
       "  </tbody>\n",
       "</table>\n",
       "</div>"
      ],
      "text/plain": [
       "                                model_name  best_val_loss  best_val_bleu  \\\n",
       "0  vi-rnn-without-attn-2018-12-13 05:22:29       4.373869      12.819495   \n",
       "\n",
       "      runtime  total_params  trainable_params           dt_created  \n",
       "0  487.996425      69492144          51492144  2018-12-13 13:30:37  "
      ]
     },
     "execution_count": 12,
     "metadata": {},
     "output_type": "execute_result"
    }
   ],
   "source": [
    "summarize_results(experiment_results)[['model_name', 'best_val_loss', 'best_val_bleu', 'runtime', \n",
    "                                       'total_params', 'trainable_params', 'dt_created']]"
   ]
  },
  {
   "cell_type": "code",
   "execution_count": 14,
   "metadata": {},
   "outputs": [],
   "source": [
    "# reload model \n",
    "MODEL_NAME_TO_RELOAD = 'vi-rnn-without-attn-2018-12-13 05:22:29'\n",
    "checkpoint = torch.load('model_checkpoints/{}.pth.tar'.format(MODEL_NAME_TO_RELOAD), map_location=device)\n",
    "model.load_state_dict(checkpoint)"
   ]
  },
  {
   "cell_type": "code",
   "execution_count": 15,
   "metadata": {},
   "outputs": [
    {
     "name": "stderr",
     "output_type": "stream",
     "text": [
      "WARNING:root:That's 100 lines that end in a tokenized period ('.')\n",
      "WARNING:root:It looks like you forgot to detokenize your test data, which may hurt your score.\n",
      "WARNING:root:If you insist your data is detokenized, or don't care, you can suppress this message with '--force'.\n"
     ]
    },
    {
     "name": "stdout",
     "output_type": "stream",
     "text": [
      "Validation BLEU: 12.82 | Validation Loss: 4.39\n"
     ]
    }
   ],
   "source": [
    "# check performance on validation set \n",
    "val_loss, val_bleu, val_hyp_idxs, val_ref_idxs, val_source_idxs, val_hyp_tokens, val_ref_tokens, val_source_tokens,\\\n",
    "val_attn = evaluate(model=model, loader=loaders_full['dev'], \n",
    "                    src_id2token=vocab[SRC_LANG]['id2token'], targ_id2token=vocab[TARG_LANG]['id2token'])\n",
    "print(\"Validation BLEU: {:.2f} | Validation Loss: {:.2f}\".format(val_bleu, val_loss))"
   ]
  },
  {
   "cell_type": "code",
   "execution_count": 16,
   "metadata": {},
   "outputs": [
    {
     "name": "stderr",
     "output_type": "stream",
     "text": [
      "WARNING:root:That's 100 lines that end in a tokenized period ('.')\n",
      "WARNING:root:It looks like you forgot to detokenize your test data, which may hurt your score.\n",
      "WARNING:root:If you insist your data is detokenized, or don't care, you can suppress this message with '--force'.\n"
     ]
    },
    {
     "name": "stdout",
     "output_type": "stream",
     "text": [
      "Test BLEU: 13.87 | Test Loss: 4.29\n"
     ]
    }
   ],
   "source": [
    "# evaluate on test set \n",
    "test_loss, test_bleu, test_hyp_idxs, test_ref_idxs, test_source_idxs, test_hyp_tokens, test_ref_tokens, test_source_tokens,\\\n",
    "test_attn = evaluate(model=model, loader=loaders_full['test'], \n",
    "                     src_id2token=vocab[SRC_LANG]['id2token'], targ_id2token=vocab[TARG_LANG]['id2token'])\n",
    "print(\"Test BLEU: {:.2f} | Test Loss: {:.2f}\".format(test_bleu, test_loss))"
   ]
  }
 ],
 "metadata": {
  "kernelspec": {
   "display_name": "Python 3",
   "language": "python",
   "name": "python3"
  },
  "language_info": {
   "codemirror_mode": {
    "name": "ipython",
    "version": 3
   },
   "file_extension": ".py",
   "mimetype": "text/x-python",
   "name": "python",
   "nbconvert_exporter": "python",
   "pygments_lexer": "ipython3",
   "version": "3.5.3"
  }
 },
 "nbformat": 4,
 "nbformat_minor": 2
}
